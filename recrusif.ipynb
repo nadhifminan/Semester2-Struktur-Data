{
 "cells": [
  {
   "cell_type": "code",
   "execution_count": 72,
   "id": "94540920",
   "metadata": {},
   "outputs": [
    {
     "name": "stdout",
     "output_type": "stream",
     "text": [
      "masukkan angka= 4\n",
      "24\n"
     ]
    }
   ],
   "source": [
    "def rekursifFaktorial(angka):\n",
    "    if angka==1:\n",
    "        return 1\n",
    "    else:\n",
    "        return angka*rekursif(angka-1)\n",
    "b=int(input('masukkan angka= '))\n",
    "print(rekursifFaktorial(b))"
   ]
  },
  {
   "cell_type": "code",
   "execution_count": 73,
   "id": "b0962886",
   "metadata": {},
   "outputs": [
    {
     "name": "stdout",
     "output_type": "stream",
     "text": [
      "256\n"
     ]
    }
   ],
   "source": [
    "def eksponen(a,b):\n",
    "    if b==0:\n",
    "        return 1\n",
    "    else:\n",
    "        return (a*eksponen(a,b-1))\n",
    "print(eksponen(2,8))"
   ]
  },
  {
   "cell_type": "code",
   "execution_count": null,
   "id": "3177f46f",
   "metadata": {},
   "outputs": [],
   "source": [
    "def palindrome2(word):\n",
    "    akhir=len(word)-1\n",
    "    cek=True\n",
    "    for i in range(len(word)//2):\n",
    "        if word[i]==word[akhir-i]:\n",
    "            cek=cek and True\n",
    "        else:\n",
    "            cek=cek and False\n",
    "    return cek\n",
    "palindrome2('kasur rusak')"
   ]
  },
  {
   "cell_type": "code",
   "execution_count": 79,
   "id": "a084e0d7",
   "metadata": {},
   "outputs": [
    {
     "data": {
      "text/plain": [
       "True"
      ]
     },
     "execution_count": 79,
     "metadata": {},
     "output_type": "execute_result"
    }
   ],
   "source": [
    "def palindrome1(kata):\n",
    "    if kata==0 or kata ==1:\n",
    "        return True\n",
    "    else:\n",
    "        return (kata[0]==kata[n-1] and palindrome1(kata[1:n-1]))\n",
    "#         return (kata[0]==kata[-1] and palindrome(kata[1:-1]))\n",
    "palindrome('kasur rusak')"
   ]
  },
  {
   "cell_type": "code",
   "execution_count": null,
   "id": "a6d5ce9c",
   "metadata": {},
   "outputs": [],
   "source": [
    "#video mengenai seleksi dan iterasi "
   ]
  },
  {
   "cell_type": "code",
   "execution_count": 32,
   "id": "165719ea",
   "metadata": {},
   "outputs": [
    {
     "ename": "NameError",
     "evalue": "name 'bil' is not defined",
     "output_type": "error",
     "traceback": [
      "\u001b[1;31m---------------------------------------------------------------------------\u001b[0m",
      "\u001b[1;31mNameError\u001b[0m                                 Traceback (most recent call last)",
      "Input \u001b[1;32mIn [32]\u001b[0m, in \u001b[0;36m<cell line: 8>\u001b[1;34m()\u001b[0m\n\u001b[0;32m      6\u001b[0m         angka\u001b[38;5;241m=\u001b[39mtemp\n\u001b[0;32m      7\u001b[0m     \u001b[38;5;28;01mreturn\u001b[39;00m temp\n\u001b[1;32m----> 8\u001b[0m \u001b[43mtambah\u001b[49m\u001b[43m(\u001b[49m\u001b[38;5;241;43m2\u001b[39;49m\u001b[43m,\u001b[49m\u001b[38;5;241;43m3\u001b[39;49m\u001b[43m)\u001b[49m\n",
      "Input \u001b[1;32mIn [32]\u001b[0m, in \u001b[0;36mtambah\u001b[1;34m(angka, sampai)\u001b[0m\n\u001b[0;32m      2\u001b[0m temp\u001b[38;5;241m=\u001b[39mangka\n\u001b[0;32m      4\u001b[0m \u001b[38;5;28;01mfor\u001b[39;00m i \u001b[38;5;129;01min\u001b[39;00m \u001b[38;5;28mrange\u001b[39m(angka):\n\u001b[1;32m----> 5\u001b[0m     temp\u001b[38;5;241m=\u001b[39m\u001b[43mbil\u001b[49m\u001b[38;5;241m+\u001b[39mangka\n\u001b[0;32m      6\u001b[0m     angka\u001b[38;5;241m=\u001b[39mtemp\n\u001b[0;32m      7\u001b[0m \u001b[38;5;28;01mreturn\u001b[39;00m temp\n",
      "\u001b[1;31mNameError\u001b[0m: name 'bil' is not defined"
     ]
    }
   ],
   "source": [
    "def tambah(angka,pangkat):\n",
    "    total=0\n",
    "    print(f'{angka}')\n",
    "    for i in range(pangkat):\n",
    "        "
   ]
  },
  {
   "cell_type": "code",
   "execution_count": 50,
   "id": "4a06013b",
   "metadata": {},
   "outputs": [
    {
     "data": {
      "text/plain": [
       "True"
      ]
     },
     "execution_count": 50,
     "metadata": {},
     "output_type": "execute_result"
    }
   ],
   "source": [
    "def palindrome(kata):\n",
    "    mulai=0\n",
    "    akhir=len(kata)-1\n",
    "    cek=True\n",
    "    while (mulai !=akhir and cek==True):\n",
    "        if kata[mulai]==kata[akhir]:\n",
    "            cek=True\n",
    "        else:\n",
    "            cek=False\n",
    "        mulai+=1\n",
    "        akhir-=1\n",
    "    return cek\n",
    "palindrome('kasur rusak')"
   ]
  },
  {
   "cell_type": "code",
   "execution_count": 59,
   "id": "ce55087e",
   "metadata": {},
   "outputs": [
    {
     "data": {
      "text/plain": [
       "False"
      ]
     },
     "execution_count": 59,
     "metadata": {},
     "output_type": "execute_result"
    }
   ],
   "source": [
    "def palindrome2(word):\n",
    "    akhir=len(word)-1\n",
    "    awal=0\n",
    "    for i in range(len(word)-1):\n",
    "        if word[awal]==word[akhir]:\n",
    "            cek=True\n",
    "            akhir-=1\n",
    "            awal+=1\n",
    "        else:\n",
    "            cek=False\n",
    "    return cek\n",
    "palindrome2('katam')"
   ]
  },
  {
   "cell_type": "code",
   "execution_count": 65,
   "id": "8af222b3",
   "metadata": {},
   "outputs": [
    {
     "name": "stdout",
     "output_type": "stream",
     "text": [
      "k=k True\n",
      "a=a True\n",
      "s=s True\n",
      "u=u True\n",
      "r=r True\n"
     ]
    },
    {
     "data": {
      "text/plain": [
       "True"
      ]
     },
     "execution_count": 65,
     "metadata": {},
     "output_type": "execute_result"
    }
   ],
   "source": [
    "def palindrome2(word):\n",
    "    akhir=len(word)-1\n",
    "    cek=True\n",
    "    for i in range(len(word)//2):\n",
    "        if word[i]==word[akhir-i]:\n",
    "            print(f'{word[i]}={word[akhir-i]} {True}')\n",
    "            cek=cek and True\n",
    "        else:\n",
    "            print(f'{word[i]}={word[akhir-i]} {False}')\n",
    "            cek=cek and False\n",
    "    return cek\n",
    "palindrome2('kasur rusak')"
   ]
  },
  {
   "cell_type": "code",
   "execution_count": 68,
   "id": "713b9487",
   "metadata": {},
   "outputs": [
    {
     "data": {
      "text/plain": [
       "20"
      ]
     },
     "execution_count": 68,
     "metadata": {},
     "output_type": "execute_result"
    }
   ],
   "source": [
    "def tambahLis(data):\n",
    "    hasil=0\n",
    "    for i in data:\n",
    "        hasil+=i\n",
    "    return hasil\n",
    "data=[2,4,6,8]\n",
    "tambahLis(data)"
   ]
  },
  {
   "cell_type": "code",
   "execution_count": 69,
   "id": "33717ae0",
   "metadata": {},
   "outputs": [
    {
     "name": "stdout",
     "output_type": "stream",
     "text": [
      "24\n"
     ]
    }
   ],
   "source": [
    "def factorialIteratif(bilangan):\n",
    "    if bilangan <=1:\n",
    "        return(1)\n",
    "    else:\n",
    "        temp=bilangan\n",
    "        hasil=1\n",
    "        while temp>1:\n",
    "            hasil=hasil*temp\n",
    "            temp=temp-1\n",
    "        return(hasil)\n",
    "print(factorialIteratif(4))"
   ]
  },
  {
   "cell_type": "code",
   "execution_count": 3,
   "id": "b35b936b",
   "metadata": {},
   "outputs": [
    {
     "name": "stdout",
     "output_type": "stream",
     "text": [
      "24\n"
     ]
    }
   ],
   "source": [
    "def factorialRekursif(bilangan):\n",
    "    if bilangan <=1:\n",
    "        return(1)\n",
    "    else:\n",
    "        return(bilangan * factorialRekursif(bilangan-1))\n",
    "data=factorialRekursif(4)\n",
    "print(data)"
   ]
  },
  {
   "cell_type": "code",
   "execution_count": 4,
   "id": "5730fc21",
   "metadata": {},
   "outputs": [
    {
     "name": "stdout",
     "output_type": "stream",
     "text": [
      "3\n"
     ]
    }
   ],
   "source": [
    "def triangularNumbers1(n):\n",
    "    total=0\n",
    "    temp=n\n",
    "    while temp>=1:\n",
    "        total+=temp\n",
    "        temp-=1\n",
    "    return(total)\n",
    "print(triangularNumbers1(2))"
   ]
  },
  {
   "cell_type": "code",
   "execution_count": 5,
   "id": "e530b979",
   "metadata": {},
   "outputs": [
    {
     "name": "stdout",
     "output_type": "stream",
     "text": [
      "36\n"
     ]
    }
   ],
   "source": [
    "def triangularNumbers2(n):\n",
    "    if n==1:\n",
    "        return(1)\n",
    "    else:\n",
    "        return (n + triangularNumbrs2(n-1))\n",
    "print(triangularNumbers1(8))"
   ]
  },
  {
   "cell_type": "code",
   "execution_count": 9,
   "id": "296cc4c1",
   "metadata": {},
   "outputs": [
    {
     "name": "stdout",
     "output_type": "stream",
     "text": [
      "<class 'int'> 4 <class 'int'> 0\n",
      "<class 'int'> 2 <class 'int'> 0\n",
      "<class 'int'> 1 <class 'int'> 0\n"
     ]
    },
    {
     "data": {
      "text/plain": [
       "'1000'"
      ]
     },
     "execution_count": 9,
     "metadata": {},
     "output_type": "execute_result"
    }
   ],
   "source": [
    "def konversiDesimal(bilangan,base):\n",
    "    charBilangan='0123456789ABCDEF'\n",
    "    if bilangan<base:\n",
    "        return(charBilangan[bilangan])\n",
    "    else:\n",
    "        temp=bilangan//base\n",
    "        ind=bilangan % base\n",
    "        print(type(temp),temp,type(ind),ind)\n",
    "        return(konversiDesimal(temp,base)+charBilangan[ind])\n",
    "konversiDesimal(8,2)"
   ]
  },
  {
   "cell_type": "code",
   "execution_count": 11,
   "id": "c621c9cb",
   "metadata": {},
   "outputs": [
    {
     "name": "stdout",
     "output_type": "stream",
     "text": [
      "Piringan - 1 dari- A ke- B\n",
      "Piringan - 2 dari- A ke- C\n",
      "Piringan - 1 dari- B ke- C\n",
      "Piringan - 3 dari- A ke- B\n",
      "Piringan - 1 dari- C ke- A\n",
      "Piringan - 2 dari- C ke- B\n",
      "Piringan - 1 dari- A ke- B\n",
      "Piringan - 4 dari- A ke- C\n",
      "Piringan - 1 dari- B ke- C\n",
      "Piringan - 2 dari- B ke- A\n",
      "Piringan - 1 dari- C ke- A\n",
      "Piringan - 3 dari- B ke- C\n",
      "Piringan - 1 dari- A ke- B\n",
      "Piringan - 2 dari- A ke- C\n",
      "Piringan - 1 dari- B ke- C\n"
     ]
    }
   ],
   "source": [
    "def towers(n,awal,bantuan,tujuan):\n",
    "    if n==1:\n",
    "        print(\"Piringan - 1 dari-\", awal,\"ke-\",tujuan)\n",
    "    else:\n",
    "        towers(n-1,awal,tujuan,bantuan)\n",
    "        print(\"Piringan -\",n, \"dari-\",awal,\"ke-\", tujuan)\n",
    "        towers(n-1,bantuan,awal,tujuan)\n",
    "towers(4,'A','B','C')"
   ]
  },
  {
   "cell_type": "code",
   "execution_count": 8,
   "id": "7afb3a31",
   "metadata": {},
   "outputs": [
    {
     "ename": "KeyboardInterrupt",
     "evalue": "",
     "output_type": "error",
     "traceback": [
      "\u001b[1;31m---------------------------------------------------------------------------\u001b[0m",
      "\u001b[1;31mKeyboardInterrupt\u001b[0m                         Traceback (most recent call last)",
      "Input \u001b[1;32mIn [8]\u001b[0m, in \u001b[0;36m<cell line: 11>\u001b[1;34m()\u001b[0m\n\u001b[0;32m      9\u001b[0m         draw_spiral(my_turtle, line_len \u001b[38;5;241m-\u001b[39m \u001b[38;5;241m5\u001b[39m)\n\u001b[0;32m     10\u001b[0m draw_spiral(my_turtle, \u001b[38;5;241m90\u001b[39m)\n\u001b[1;32m---> 11\u001b[0m \u001b[43mmy_win\u001b[49m\u001b[38;5;241;43m.\u001b[39;49m\u001b[43mexitonclick\u001b[49m\u001b[43m(\u001b[49m\u001b[43m)\u001b[49m\n",
      "File \u001b[1;32m~\\anaconda3\\lib\\turtle.py:3796\u001b[0m, in \u001b[0;36m_Screen.exitonclick\u001b[1;34m(self)\u001b[0m\n\u001b[0;32m   3794\u001b[0m     \u001b[38;5;28;01mreturn\u001b[39;00m\n\u001b[0;32m   3795\u001b[0m \u001b[38;5;28;01mtry\u001b[39;00m:\n\u001b[1;32m-> 3796\u001b[0m     \u001b[43mmainloop\u001b[49m\u001b[43m(\u001b[49m\u001b[43m)\u001b[49m\n\u001b[0;32m   3797\u001b[0m \u001b[38;5;28;01mexcept\u001b[39;00m \u001b[38;5;167;01mAttributeError\u001b[39;00m:\n\u001b[0;32m   3798\u001b[0m     exit(\u001b[38;5;241m0\u001b[39m)\n",
      "File \u001b[1;32m<string>:8\u001b[0m, in \u001b[0;36mmainloop\u001b[1;34m()\u001b[0m\n",
      "File \u001b[1;32m~\\anaconda3\\lib\\turtle.py:812\u001b[0m, in \u001b[0;36mTurtleScreenBase.mainloop\u001b[1;34m(self)\u001b[0m\n\u001b[0;32m    799\u001b[0m \u001b[38;5;28;01mdef\u001b[39;00m \u001b[38;5;21mmainloop\u001b[39m(\u001b[38;5;28mself\u001b[39m):\n\u001b[0;32m    800\u001b[0m     \u001b[38;5;124;03m\"\"\"Starts event loop - calling Tkinter's mainloop function.\u001b[39;00m\n\u001b[0;32m    801\u001b[0m \n\u001b[0;32m    802\u001b[0m \u001b[38;5;124;03m    No argument.\u001b[39;00m\n\u001b[1;32m   (...)\u001b[0m\n\u001b[0;32m    810\u001b[0m \n\u001b[0;32m    811\u001b[0m \u001b[38;5;124;03m    \"\"\"\u001b[39;00m\n\u001b[1;32m--> 812\u001b[0m     \u001b[38;5;28;43mself\u001b[39;49m\u001b[38;5;241;43m.\u001b[39;49m\u001b[43mcv\u001b[49m\u001b[38;5;241;43m.\u001b[39;49m\u001b[43mtk\u001b[49m\u001b[38;5;241;43m.\u001b[39;49m\u001b[43mmainloop\u001b[49m\u001b[43m(\u001b[49m\u001b[43m)\u001b[49m\n",
      "\u001b[1;31mKeyboardInterrupt\u001b[0m: "
     ]
    }
   ],
   "source": [
    "import turtle\n",
    "my_turtle = turtle.Turtle()\n",
    "my_win = turtle.Screen()\n",
    "\n",
    "def draw_spiral(my_turtle, line_len):\n",
    "    if line_len > 0:\n",
    "        my_turtle.forward(line_len)\n",
    "        my_turtle.right(90)\n",
    "        draw_spiral(my_turtle, line_len - 5)\n",
    "draw_spiral(my_turtle, 90)\n",
    "my_win.exitonclick()"
   ]
  },
  {
   "cell_type": "code",
   "execution_count": null,
   "id": "4da1bee8",
   "metadata": {},
   "outputs": [],
   "source": [
    "import turtle\n",
    "def tree(branch_len, t):\n",
    "    t.speed('slowest')\n",
    "    if branch_len > 5:\n",
    "        t.forward(branch_len)\n",
    "        t.right(20)\n",
    "        tree(branch_len - 15, t)\n",
    "        t.left(40)\n",
    "        tree(branch_len - 15, t)\n",
    "        t.right(20)\n",
    "        t.backward(branch_len)\n",
    "def main():\n",
    "    my_win = turtle.Screen()\n",
    "    t = turtle.Turtle()\n",
    "    \n",
    "    t.shape(\"turtle\")\n",
    "    t.left(90)\n",
    "    t.up()\n",
    "    t.backward(100)\n",
    "    t.down()\n",
    "    t.color(\"green\")\n",
    "    tree(60, t)\n",
    "    my_win.exitonclick()\n",
    "main()"
   ]
  },
  {
   "cell_type": "code",
   "execution_count": null,
   "id": "c350ca6c",
   "metadata": {},
   "outputs": [],
   "source": [
    "import turtle\n",
    "def draw_triangle(points, color, my_turtle):\n",
    "    my_turtle.speed('slowest')\n",
    "    my_turtle.fillcolor(color)\n",
    "    my_turtle.up()\n",
    "    my_turtle.goto(points[0][0],points[0][1])\n",
    "    my_turtle.down()\n",
    "    my_turtle.begin_fill()\n",
    "    my_turtle.goto(points[1][0], points[1][1])\n",
    "    my_turtle.goto(points[2][0], points[2][1])\n",
    "    my_turtle.goto(points[0][0], points[0][1])\n",
    "    my_turtle.end_fill()\n",
    "def get_mid(p1, p2):\n",
    "    return ((p1[0] + p2[0]) / 2, (p1[1] + p2[1]) / 2)\n",
    "def sierpinski(points, degree, my_turtle):\n",
    "    color_map = [\"blue\", \"red\" , \"green\", \"white\" , \"yellow\" ,\"violet\" , \"ora\n",
    "    draw_triangle(points, color_map[degree], my_turtle)\n",
    "    if degree > 0:\n",
    "        sierpinski([points[0],get_mid(points[0], points[1]), get_mid(points[0\n",
    "        sierpinski([points[1],get_mid(points[0], points[1]), get_mid(points[1\n",
    "        sierpinski([points[2],get_mid(points[2], points[1]), get_mid(points[0\n",
    "def main():\n",
    "    my_turtle = turtle.Turtle()\n",
    "    my_win = turtle.Screen()\n",
    "    my_points = [[-100, -50], [0, 100], [100, -50]]\n",
    "    sierpinski(my_points, 2, my_turtle)\n",
    "    my_win.exitonclick()\n",
    "main()"
   ]
  },
  {
   "cell_type": "code",
   "execution_count": null,
   "id": "3745016d",
   "metadata": {},
   "outputs": [],
   "source": []
  },
  {
   "cell_type": "code",
   "execution_count": null,
   "id": "fe75b3a6",
   "metadata": {},
   "outputs": [],
   "source": []
  },
  {
   "cell_type": "code",
   "execution_count": null,
   "id": "2e5c21a2",
   "metadata": {},
   "outputs": [],
   "source": []
  },
  {
   "cell_type": "code",
   "execution_count": null,
   "id": "a8cfe1f1",
   "metadata": {},
   "outputs": [],
   "source": []
  },
  {
   "cell_type": "code",
   "execution_count": null,
   "id": "3e852a46",
   "metadata": {},
   "outputs": [],
   "source": []
  },
  {
   "cell_type": "code",
   "execution_count": null,
   "id": "dc6d7003",
   "metadata": {},
   "outputs": [],
   "source": []
  },
  {
   "cell_type": "code",
   "execution_count": null,
   "id": "1c215158",
   "metadata": {},
   "outputs": [],
   "source": []
  },
  {
   "cell_type": "code",
   "execution_count": null,
   "id": "0933b1ba",
   "metadata": {},
   "outputs": [],
   "source": []
  },
  {
   "cell_type": "code",
   "execution_count": null,
   "id": "d2cd5b61",
   "metadata": {},
   "outputs": [],
   "source": []
  },
  {
   "cell_type": "code",
   "execution_count": null,
   "id": "7430b048",
   "metadata": {},
   "outputs": [],
   "source": []
  },
  {
   "cell_type": "code",
   "execution_count": null,
   "id": "65378d75",
   "metadata": {},
   "outputs": [],
   "source": []
  },
  {
   "cell_type": "code",
   "execution_count": null,
   "id": "860e6fed",
   "metadata": {},
   "outputs": [],
   "source": []
  },
  {
   "cell_type": "code",
   "execution_count": null,
   "id": "6ef99408",
   "metadata": {},
   "outputs": [],
   "source": []
  }
 ],
 "metadata": {
  "kernelspec": {
   "display_name": "Python 3 (ipykernel)",
   "language": "python",
   "name": "python3"
  },
  "language_info": {
   "codemirror_mode": {
    "name": "ipython",
    "version": 3
   },
   "file_extension": ".py",
   "mimetype": "text/x-python",
   "name": "python",
   "nbconvert_exporter": "python",
   "pygments_lexer": "ipython3",
   "version": "3.9.12"
  }
 },
 "nbformat": 4,
 "nbformat_minor": 5
}
