{
 "cells": [
  {
   "cell_type": "code",
   "execution_count": 17,
   "id": "94640ed0",
   "metadata": {},
   "outputs": [
    {
     "data": {
      "text/plain": [
       "5"
      ]
     },
     "execution_count": 17,
     "metadata": {},
     "output_type": "execute_result"
    }
   ],
   "source": [
    "a=[5]\n",
    "def jumlah(data):\n",
    "    if len(data)==1:\n",
    "        return data[-1]\n",
    "    else:\n",
    "        print(data[0],'+',jumlah(data[1:]))\n",
    "        return data[0]+jumlah(data[1:])\n",
    "jumlah(a)"
   ]
  },
  {
   "cell_type": "code",
   "execution_count": 6,
   "id": "a27e2011",
   "metadata": {},
   "outputs": [
    {
     "name": "stdout",
     "output_type": "stream",
     "text": [
      "24\n",
      "24\n",
      "16\n"
     ]
    }
   ],
   "source": [
    "def faktorial(angka):\n",
    "    data=1\n",
    "    for i in range(1,angka+1):\n",
    "        data*=i\n",
    "    return data\n",
    "print(faktorial(4))\n",
    "\n",
    "def recrusif(angka):\n",
    "    if angka==1:\n",
    "        return 1\n",
    "    else:\n",
    "        return angka*recrusif(angka-1)\n",
    "print(recrusif(4))\n",
    "\n",
    "def eksponen(a,c):\n",
    "    if c==0:\n",
    "        return 1\n",
    "    else:\n",
    "        return a*eksponen(a,c-1)\n",
    "print(eksponen(2,4))"
   ]
  },
  {
   "cell_type": "code",
   "execution_count": 2,
   "id": "94540920",
   "metadata": {},
   "outputs": [
    {
     "name": "stdout",
     "output_type": "stream",
     "text": [
      "masukkan angka= 5\n",
      "120\n"
     ]
    }
   ],
   "source": [
    "def rekursifFaktorial(angka):\n",
    "    if angka==1:\n",
    "        return 1\n",
    "    else:\n",
    "        return angka*rekursifFaktorial(angka-1)\n",
    "b=int(input('masukkan angka= '))\n",
    "print(rekursifFaktorial(b))"
   ]
  },
  {
   "cell_type": "code",
   "execution_count": 3,
   "id": "b0962886",
   "metadata": {},
   "outputs": [
    {
     "name": "stdout",
     "output_type": "stream",
     "text": [
      "8\n"
     ]
    }
   ],
   "source": [
    "def eksponen(a,b):\n",
    "    if b==0:\n",
    "        return 1\n",
    "    else:\n",
    "        return (a*eksponen(a,b-1))\n",
    "print(eksponen(2,3))"
   ]
  },
  {
   "cell_type": "code",
   "execution_count": 13,
   "id": "c09463bd",
   "metadata": {},
   "outputs": [
    {
     "name": "stdout",
     "output_type": "stream",
     "text": [
      "False\n"
     ]
    }
   ],
   "source": [
    "def polindrome(kata):\n",
    "    akhir=len(kata)-1\n",
    "    cek=True\n",
    "    for i in range(len(kata)//2):\n",
    "        if kata[i]==kata[akhir-i]:\n",
    "            cek=cek and True\n",
    "        else:\n",
    "            cek=cek and False\n",
    "    return cek\n",
    "print(polindrome('ali'))"
   ]
  },
  {
   "cell_type": "code",
   "execution_count": 9,
   "id": "3177f46f",
   "metadata": {},
   "outputs": [
    {
     "data": {
      "text/plain": [
       "True"
      ]
     },
     "execution_count": 9,
     "metadata": {},
     "output_type": "execute_result"
    }
   ],
   "source": [
    "def palindrome2(word):\n",
    "    akhir=len(word)-1\n",
    "    cek=True\n",
    "    for i in range(len(word)//2):\n",
    "        if word[i]==word[akhir-i]:\n",
    "            cek=cek and True\n",
    "        else:\n",
    "            cek=cek and False\n",
    "    return cek\n",
    "palindrome2('kasur rusak')"
   ]
  },
  {
   "cell_type": "code",
   "execution_count": 1,
   "id": "d25feb4d",
   "metadata": {},
   "outputs": [
    {
     "name": "stdout",
     "output_type": "stream",
     "text": [
      "[33, 121, 38, 25, 62, 58, 62, 80, 87, 38, 70, 44, 86, 92, 0, 145, 75, 140, 84, 87, 43, 49, 37, 10, 53, 50, 24, 64, 104, 127, 50, 116, 74, 23, 72, 142, 9, 13, 144, 142, 29, 4, 94, 23, 41, 40, 144, 23, 142, 94, 18, 128, 132, 67, 117, 0, 72, 54, 141, 150, 134, 41, 150, 121, 36, 113, 66, 129, 22, 106, 139, 112, 101, 98, 15, 147, 62, 110, 141, 83, 43, 11, 124, 40, 127, 10, 17, 47, 97, 134, 142, 27, 141, 35, 142, 63, 22, 5, 54, 95, 21, 37, 150, 9, 132, 20, 9, 136, 120, 59, 74, 61, 82, 136, 103, 101, 20, 135, 34, 103, 127, 57, 69, 1, 36, 22, 5, 21, 4, 108, 110, 146, 127, 140, 104, 53, 44, 68, 67, 73, 60, 35, 150, 32, 28, 45, 84, 83, 74, 116, 20, 118, 92, 92, 148, 67, 115, 140, 116, 10, 26, 38, 132, 93, 89, 141, 12, 131, 11, 113, 39, 134, 15, 41, 140, 49, 102, 104, 107, 38, 96, 17, 99, 141, 12, 22, 136, 87, 67, 27, 142, 46, 104, 141, 107, 64, 115, 136, 77, 146, 26, 34, 49, 133, 66, 83, 111, 13, 132, 56, 81, 73, 109, 91, 122, 4, 21, 111, 146, 66, 65, 145, 19, 84, 73, 79, 26, 131, 104, 32, 58, 4, 83, 37, 105, 84, 17, 105, 43, 54, 63, 144, 94, 19, 136, 1, 66, 7, 132, 15, 26, 29, 115, 39, 40, 69, 69, 45, 117, 24, 122, 90, 87, 41, 107, 47, 59, 105, 21, 136, 149, 143, 129, 78, 83, 39, 67, 37, 114, 150, 24, 131, 34, 46, 33, 56, 131, 17, 107, 41, 80, 119, 97, 117, 108, 23, 43, 21, 14, 36, 68, 49, 9, 118, 53, 83, 72, 133, 69, 26, 123, 59, 93, 64, 10, 103, 48, 124, 140, 20, 104, 4, 58, 92, 127, 127, 44, 135, 71, 13, 77, 33, 89, 5, 97, 59, 67, 3, 4, 57, 118, 4, 23, 132, 96, 85, 26, 145, 21, 19, 40, 12, 53, 99, 48, 5, 135, 39, 43, 0, 65, 117, 82, 11, 131, 60, 43, 80, 129, 14, 61, 147, 2, 44, 36, 19, 125, 45, 148, 85, 78, 19, 78, 57, 111, 11, 132, 44, 101, 75, 55, 108, 102, 31, 47, 17, 90, 85, 1, 78, 98, 138, 139, 47, 80, 58, 73, 0, 94, 103, 50, 111, 142, 47, 126, 94, 4, 60, 111, 121, 31, 18, 7, 96, 42, 28, 64, 91, 19, 2, 124, 39, 87, 60, 114, 105, 43, 72, 20, 106, 4, 103, 99, 104, 65, 35, 16, 89, 42, 22, 74, 91, 45, 43, 29, 124, 63, 14, 99, 66, 149, 136, 76, 79, 15, 114, 41, 19, 72, 98, 83, 19, 146, 88, 111, 61, 35, 59, 23, 54, 2, 97, 4, 30, 30, 148, 9, 107, 116, 61, 64, 17, 24, 29, 142, 63, 125, 121, 97, 105]\n",
      "500\n"
     ]
    }
   ],
   "source": [
    "import random as rdm\n",
    "data = []\n",
    "for i in range(500):\n",
    "    r1= rdm.randint(0,150)\n",
    "    data.append(r1)\n",
    "print((data))\n",
    "print(len(data))"
   ]
  },
  {
   "cell_type": "code",
   "execution_count": 29,
   "id": "a084e0d7",
   "metadata": {
    "scrolled": true
   },
   "outputs": [
    {
     "ename": "NameError",
     "evalue": "name 'palindrome' is not defined",
     "output_type": "error",
     "traceback": [
      "\u001b[1;31m---------------------------------------------------------------------------\u001b[0m",
      "\u001b[1;31mNameError\u001b[0m                                 Traceback (most recent call last)",
      "Input \u001b[1;32mIn [29]\u001b[0m, in \u001b[0;36m<cell line: 7>\u001b[1;34m()\u001b[0m\n\u001b[0;32m      5\u001b[0m         \u001b[38;5;28;01mreturn\u001b[39;00m (kata[\u001b[38;5;241m0\u001b[39m]\u001b[38;5;241m==\u001b[39mkata[n\u001b[38;5;241m-\u001b[39m\u001b[38;5;241m1\u001b[39m] \u001b[38;5;129;01mand\u001b[39;00m palindrome1(kata[\u001b[38;5;241m1\u001b[39m:n\u001b[38;5;241m-\u001b[39m\u001b[38;5;241m1\u001b[39m]))\n\u001b[0;32m      6\u001b[0m \u001b[38;5;66;03m#         return (kata[0]==kata[-1] and palindrome(kata[1:-1]))\u001b[39;00m\n\u001b[1;32m----> 7\u001b[0m \u001b[43mpalindrome\u001b[49m(\u001b[38;5;124m'\u001b[39m\u001b[38;5;124mkasur rusak\u001b[39m\u001b[38;5;124m'\u001b[39m)\n",
      "\u001b[1;31mNameError\u001b[0m: name 'palindrome' is not defined"
     ]
    }
   ],
   "source": [
    "def palindrome1(kata):\n",
    "    if kata==0 or kata ==1:\n",
    "        return True\n",
    "    else:\n",
    "        return (kata[0]==kata[n-1] and palindrome1(kata[1:n-1]))\n",
    "#         return (kata[0]==kata[-1] and palindrome(kata[1:-1]))\n",
    "palindrome('kasur rusak')"
   ]
  },
  {
   "cell_type": "code",
   "execution_count": 42,
   "id": "8be6fcc9",
   "metadata": {},
   "outputs": [
    {
     "name": "stdout",
     "output_type": "stream",
     "text": [
      "True\n",
      "True\n",
      "False\n"
     ]
    }
   ],
   "source": [
    "def is_palindrome_recursive(string):\n",
    "    # Base case: Jika panjang string kurang dari atau sama dengan 1, itu palindrome\n",
    "    if len(string) <= 1:\n",
    "        return True\n",
    "    if string[0] == string[-1]:\n",
    "        return is_palindrome_recursive(string[1:-1])\n",
    "    else:\n",
    "        return False\n",
    "\n",
    "# Contoh penggunaan\n",
    "print(is_palindrome_recursive(\"radar\"))  # True\n",
    "print(is_palindrome_recursive(\"level\"))  # True\n",
    "print(is_palindrome_recursive(\"python\"))  # False"
   ]
  },
  {
   "cell_type": "code",
   "execution_count": null,
   "id": "a6d5ce9c",
   "metadata": {},
   "outputs": [],
   "source": [
    "#video mengenai seleksi dan iterasi "
   ]
  },
  {
   "cell_type": "code",
   "execution_count": 50,
   "id": "4a06013b",
   "metadata": {},
   "outputs": [
    {
     "data": {
      "text/plain": [
       "True"
      ]
     },
     "execution_count": 50,
     "metadata": {},
     "output_type": "execute_result"
    }
   ],
   "source": [
    "def palindrome(kata):\n",
    "    mulai=0\n",
    "    akhir=len(kata)-1\n",
    "    cek=True\n",
    "    while (mulai !=akhir and cek==True):\n",
    "        if kata[mulai]==kata[akhir]:\n",
    "            cek=True\n",
    "        else:\n",
    "            cek=False\n",
    "        mulai+=1\n",
    "        akhir-=1\n",
    "    return cek\n",
    "palindrome('kasur rusak')"
   ]
  },
  {
   "cell_type": "code",
   "execution_count": 59,
   "id": "ce55087e",
   "metadata": {},
   "outputs": [
    {
     "data": {
      "text/plain": [
       "False"
      ]
     },
     "execution_count": 59,
     "metadata": {},
     "output_type": "execute_result"
    }
   ],
   "source": [
    "def palindrome2(word):\n",
    "    akhir=len(word)-1\n",
    "    awal=0\n",
    "    for i in range(len(word)-1):\n",
    "        if word[awal]==word[akhir]:\n",
    "            cek=True\n",
    "            akhir-=1\n",
    "            awal+=1\n",
    "        else:\n",
    "            cek=False\n",
    "    return cek\n",
    "palindrome2('katam')"
   ]
  },
  {
   "cell_type": "code",
   "execution_count": 36,
   "id": "a772fda4",
   "metadata": {},
   "outputs": [
    {
     "data": {
      "text/plain": [
       "True"
      ]
     },
     "execution_count": 36,
     "metadata": {},
     "output_type": "execute_result"
    }
   ],
   "source": [
    "def palin(word):\n",
    "    akhir=len(word)-1\n",
    "    cek=True\n",
    "    for i in range(len(word)):\n",
    "        if word[i]==word[akhir-i]:\n",
    "            cek=cek and True\n",
    "        else:\n",
    "            cek=cek and False\n",
    "    return cek\n",
    "palin('abaaba')"
   ]
  },
  {
   "cell_type": "code",
   "execution_count": null,
   "id": "b0439c11",
   "metadata": {},
   "outputs": [],
   "source": [
    "def "
   ]
  },
  {
   "cell_type": "code",
   "execution_count": 30,
   "id": "8af222b3",
   "metadata": {},
   "outputs": [
    {
     "name": "stdout",
     "output_type": "stream",
     "text": [
      "k=k True\n",
      "a=a True\n",
      "s=s True\n",
      "u=u True\n",
      "r=r True\n"
     ]
    },
    {
     "data": {
      "text/plain": [
       "True"
      ]
     },
     "execution_count": 30,
     "metadata": {},
     "output_type": "execute_result"
    }
   ],
   "source": [
    "def palindrome2(word):\n",
    "    akhir=len(word)-1\n",
    "    cek=True\n",
    "    for i in range(len(word)//2):\n",
    "        if word[i]==word[akhir-i]:\n",
    "            print(f'{word[i]}={word[akhir-i]} {True}')\n",
    "            cek=cek and True\n",
    "        else:\n",
    "            print(f'{word[i]}={word[akhir-i]} {False}')\n",
    "            cek=cek and False\n",
    "    return cek\n",
    "palindrome2('kasur rusak')"
   ]
  },
  {
   "cell_type": "code",
   "execution_count": 68,
   "id": "713b9487",
   "metadata": {},
   "outputs": [
    {
     "data": {
      "text/plain": [
       "20"
      ]
     },
     "execution_count": 68,
     "metadata": {},
     "output_type": "execute_result"
    }
   ],
   "source": [
    "def tambahLis(data):\n",
    "    hasil=0\n",
    "    for i in data:\n",
    "        hasil+=i\n",
    "    return hasil\n",
    "data=[2,4,6,8]\n",
    "tambahLis(data)"
   ]
  },
  {
   "cell_type": "code",
   "execution_count": 69,
   "id": "33717ae0",
   "metadata": {},
   "outputs": [
    {
     "name": "stdout",
     "output_type": "stream",
     "text": [
      "24\n"
     ]
    }
   ],
   "source": [
    "def factorialIteratif(bilangan):\n",
    "    if bilangan <=1:\n",
    "        return(1)\n",
    "    else:\n",
    "        temp=bilangan\n",
    "        hasil=1\n",
    "        while temp>1:\n",
    "            hasil=hasil*temp\n",
    "            temp=temp-1\n",
    "        return(hasil)\n",
    "print(factorialIteratif(4))"
   ]
  },
  {
   "cell_type": "code",
   "execution_count": 5,
   "id": "b35b936b",
   "metadata": {},
   "outputs": [
    {
     "name": "stdout",
     "output_type": "stream",
     "text": [
      "0\n"
     ]
    }
   ],
   "source": [
    "def factorialRekursif(bilangan):\n",
    "    if bilangan <=1:\n",
    "        return(1)\n",
    "    else:\n",
    "        return(bilangan * factorialRekursif(bilangan-1))\n",
    "data=factorialRekursif(4)\n",
    "print(data)"
   ]
  },
  {
   "cell_type": "code",
   "execution_count": 22,
   "id": "986cbe63",
   "metadata": {},
   "outputs": [
    {
     "data": {
      "text/plain": [
       "2"
      ]
     },
     "execution_count": 22,
     "metadata": {},
     "output_type": "execute_result"
    }
   ],
   "source": [
    "def rekrusifPraktikum(data,option):\n",
    "    if len(data)==1:\n",
    "        return data[0]\n",
    "    else:\n",
    "        value=rekrusifPraktikum(data[1:],option)\n",
    "        if option=='maks':\n",
    "            if data[0]>=value:\n",
    "                return data[0]\n",
    "            else:\n",
    "                return value\n",
    "        else:\n",
    "            if data[0]<=value:\n",
    "                return data[0]\n",
    "            else:\n",
    "                return value\n",
    "lis=[2,5,8,3,4,9]\n",
    "rekrusifPraktikum(lis,'maks')"
   ]
  },
  {
   "cell_type": "code",
   "execution_count": 41,
   "id": "e5b12f4e",
   "metadata": {},
   "outputs": [
    {
     "data": {
      "text/plain": [
       "15"
      ]
     },
     "execution_count": 41,
     "metadata": {},
     "output_type": "execute_result"
    }
   ],
   "source": [
    "def sumiter(data):\n",
    "    kali=0\n",
    "    for i in data:\n",
    "        kali+=i\n",
    "    return kali\n",
    "# def kaliRecrusif(data,ind=0,kali=0):\n",
    "#     kali+=data[ind]\n",
    "#     if ind < len(data)-1:\n",
    "#         return kaliRecrusif(ind+1,kali)\n",
    "#     else:\n",
    "#         return kali\n",
    "a=[3,4,1,7]\n",
    "sumiter(a)\n",
    "# kaliRecrusif(a)"
   ]
  },
  {
   "cell_type": "code",
   "execution_count": 4,
   "id": "5730fc21",
   "metadata": {},
   "outputs": [
    {
     "name": "stdout",
     "output_type": "stream",
     "text": [
      "3\n"
     ]
    }
   ],
   "source": [
    "def triangularNumbers1(n):\n",
    "    total=0\n",
    "    temp=n\n",
    "    while temp>=1:\n",
    "        total+=temp\n",
    "        temp-=1\n",
    "    return(total)\n",
    "print(triangularNumbers1(2))"
   ]
  },
  {
   "cell_type": "code",
   "execution_count": 17,
   "id": "653eb43d",
   "metadata": {},
   "outputs": [
    {
     "data": {
      "text/plain": [
       "10"
      ]
     },
     "execution_count": 17,
     "metadata": {},
     "output_type": "execute_result"
    }
   ],
   "source": [
    "def tambah2an(angka):\n",
    "    hasil=1\n",
    "    for i in range(angka,1,-1):\n",
    "        hasil+=i\n",
    "    return hasil\n",
    "tambah2an(4)"
   ]
  },
  {
   "cell_type": "code",
   "execution_count": 38,
   "id": "4a481fbb",
   "metadata": {},
   "outputs": [
    {
     "data": {
      "text/plain": [
       "6"
      ]
     },
     "execution_count": 38,
     "metadata": {},
     "output_type": "execute_result"
    }
   ],
   "source": [
    "def rekrusif(angka):\n",
    "    if angka==1:\n",
    "        return 1\n",
    "    else:\n",
    "        return angka+rekrusif(angka-1)\n",
    "rekrusif(3)"
   ]
  },
  {
   "cell_type": "code",
   "execution_count": 10,
   "id": "e530b979",
   "metadata": {},
   "outputs": [
    {
     "name": "stdout",
     "output_type": "stream",
     "text": [
      "6\n"
     ]
    }
   ],
   "source": [
    "def triangularNumbers2(n):\n",
    "    if n==1:\n",
    "        return(1)\n",
    "    else:\n",
    "        return (n + triangularNumbers2(n-1))\n",
    "print(triangularNumbers2(3))"
   ]
  },
  {
   "cell_type": "code",
   "execution_count": 8,
   "id": "1bcdbcb9",
   "metadata": {},
   "outputs": [
    {
     "name": "stdout",
     "output_type": "stream",
     "text": [
      "9\n",
      "hasil penjumlahan 8\n",
      "8\n",
      "hasil penjumlahan 15\n",
      "7\n",
      "hasil penjumlahan 21\n",
      "6\n",
      "hasil penjumlahan 26\n",
      "5\n",
      "hasil penjumlahan 30\n",
      "4\n",
      "hasil penjumlahan 33\n",
      "3\n",
      "hasil penjumlahan 35\n",
      "2\n",
      "hasil penjumlahan 36\n",
      "1\n",
      "hasil penjumlahan 36\n"
     ]
    },
    {
     "data": {
      "text/plain": [
       "36"
      ]
     },
     "execution_count": 8,
     "metadata": {},
     "output_type": "execute_result"
    }
   ],
   "source": [
    "def triangular(n):\n",
    "    hasil=0\n",
    "    for i in range(n+1,0,-1):\n",
    "        print(i)\n",
    "        hasil=hasil+(i-1)\n",
    "        print('hasil penjumlahan',hasil)\n",
    "    return hasil\n",
    "triangular(8)"
   ]
  },
  {
   "cell_type": "code",
   "execution_count": 10,
   "id": "296cc4c1",
   "metadata": {
    "scrolled": false
   },
   "outputs": [
    {
     "name": "stdout",
     "output_type": "stream",
     "text": [
      "<class 'int'> 45 <class 'int'> 0\n",
      "<class 'int'> 22 <class 'int'> 1\n",
      "<class 'int'> 11 <class 'int'> 0\n",
      "<class 'int'> 5 <class 'int'> 1\n",
      "<class 'int'> 2 <class 'int'> 1\n",
      "<class 'int'> 1 <class 'int'> 0\n"
     ]
    },
    {
     "data": {
      "text/plain": [
       "'1011010'"
      ]
     },
     "execution_count": 10,
     "metadata": {},
     "output_type": "execute_result"
    }
   ],
   "source": [
    "def konversiDesimal(bilangan,base):\n",
    "    charBilangan='0123456789ABCDEF'\n",
    "    if bilangan<base:\n",
    "        return(charBilangan[bilangan])\n",
    "    else:\n",
    "        temp=bilangan//base\n",
    "        ind=bilangan % base\n",
    "        print(type(temp),temp,type(ind),ind)\n",
    "        return(konversiDesimal(temp,base)+charBilangan[ind])\n",
    "konversiDesimal(90,2)"
   ]
  },
  {
   "cell_type": "code",
   "execution_count": 43,
   "id": "ec3eeadd",
   "metadata": {},
   "outputs": [
    {
     "name": "stdout",
     "output_type": "stream",
     "text": [
      "Masukkan bilangan desimal: 6\n",
      "Hasil konversi ke biner:  110\n"
     ]
    }
   ],
   "source": [
    "def decimal_to_binary(n):\n",
    "    if n == 0:\n",
    "        return '0'\n",
    "    elif n == 1:\n",
    "        return '1'\n",
    "    else:\n",
    "        return decimal_to_binary(n // 2) + str(n % 2)\n",
    "    \n",
    "decimal_number = int(input(\"Masukkan bilangan desimal: \"))\n",
    "binary_number = decimal_to_binary(decimal_number)\n",
    "print(\"Hasil konversi ke biner: \", binary_number)\n"
   ]
  },
  {
   "cell_type": "code",
   "execution_count": 17,
   "id": "c7e398bb",
   "metadata": {},
   "outputs": [
    {
     "name": "stdout",
     "output_type": "stream",
     "text": [
      "piringan - 1 dari- a ke- b\n",
      "piringan - 2 dari- a ke- c\n",
      "piringan - 1 dari- b ke- c\n",
      "piringan - 3 dari- a ke- b\n",
      "piringan - 1 dari- c ke- a\n",
      "piringan - 2 dari- c ke- b\n",
      "piringan - 1 dari- a ke- b\n",
      "piringan - 4 dari- a ke- c\n",
      "piringan - 1 dari- b ke- c\n",
      "piringan - 2 dari- b ke- a\n",
      "piringan - 1 dari- c ke- a\n",
      "piringan - 3 dari- b ke- c\n",
      "piringan - 1 dari- a ke- b\n",
      "piringan - 2 dari- a ke- c\n",
      "piringan - 1 dari- b ke- c\n"
     ]
    }
   ],
   "source": [
    "def coba(n,awal,bantuan,tujuan):\n",
    "    if n==1:\n",
    "        print('piringan - 1 dari-',awal,'ke-',tujuan)\n",
    "    else:\n",
    "        coba(n-1,awal,tujuan,bantuan)\n",
    "        print('piringan -',n,'dari-',awal,'ke-',tujuan)\n",
    "        coba(n-1,bantuan,awal,tujuan)\n",
    "coba(4,'a','b','c')"
   ]
  },
  {
   "cell_type": "code",
   "execution_count": 13,
   "id": "c621c9cb",
   "metadata": {
    "scrolled": false
   },
   "outputs": [
    {
     "name": "stdout",
     "output_type": "stream",
     "text": [
      "Piringan - 1 dari- A ke- B\n",
      "Piringan - 2 dari- A ke- C\n",
      "Piringan - 1 dari- B ke- C\n",
      "Piringan - 3 dari- A ke- B\n",
      "Piringan - 1 dari- C ke- A\n",
      "Piringan - 2 dari- C ke- B\n",
      "Piringan - 1 dari- A ke- B\n",
      "Piringan - 4 dari- A ke- C\n",
      "Piringan - 1 dari- B ke- C\n",
      "Piringan - 2 dari- B ke- A\n",
      "Piringan - 1 dari- C ke- A\n",
      "Piringan - 3 dari- B ke- C\n",
      "Piringan - 1 dari- A ke- B\n",
      "Piringan - 2 dari- A ke- C\n",
      "Piringan - 1 dari- B ke- C\n"
     ]
    }
   ],
   "source": [
    "def towers(n,awal,bantuan,tujuan):\n",
    "    if n==1:\n",
    "        print(\"Piringan - 1 dari-\", awal,\"ke-\",tujuan)\n",
    "    else:\n",
    "        towers(n-1,awal,tujuan,bantuan)\n",
    "        print(\"Piringan -\",n, \"dari-\",awal,\"ke-\", tujuan)\n",
    "        towers(n-1,bantuan,awal,tujuan)\n",
    "towers(4,'A','B','C')"
   ]
  },
  {
   "cell_type": "code",
   "execution_count": 45,
   "id": "1fe093ed",
   "metadata": {
    "scrolled": true
   },
   "outputs": [
    {
     "name": "stdout",
     "output_type": "stream",
     "text": [
      "Move disk 1 from A to B\n",
      "Move disk 2 from A to C\n",
      "Move disk 1 from B to C\n",
      "Move disk 3 from A to B\n",
      "Move disk 1 from C to A\n",
      "Move disk 2 from C to B\n",
      "Move disk 1 from A to B\n",
      "Move disk 4 from A to C\n",
      "Move disk 1 from B to C\n",
      "Move disk 2 from B to A\n",
      "Move disk 1 from C to A\n",
      "Move disk 3 from B to C\n",
      "Move disk 1 from A to B\n",
      "Move disk 2 from A to C\n",
      "Move disk 1 from B to C\n"
     ]
    }
   ],
   "source": [
    "class Stack:\n",
    "    def __init__(self):\n",
    "        self.items = []\n",
    "        \n",
    "    def push(self, item):\n",
    "        self.items.append(item)\n",
    "        \n",
    "    def pop(self):\n",
    "        if not self.is_empty():\n",
    "            return self.items.pop()\n",
    "        \n",
    "    def is_empty(self):\n",
    "        return len(self.items) == 0\n",
    "    \n",
    "    def peek(self):\n",
    "        if not self.is_empty():\n",
    "            return self.items[-1]\n",
    "        \n",
    "    def size(self):\n",
    "        return len(self.items)\n",
    "\n",
    "\n",
    "def tower_of_hanoi(n, source, auxiliary, destination):\n",
    "    awal_Stack = Stack()\n",
    "    auxiliary_stack = Stack()\n",
    "    destination_stack = Stack()\n",
    "    \n",
    "    for i in range(n, 0, -1):\n",
    "        awal_Stack.push(i)\n",
    "        \n",
    "    move_disks(n, awal_Stack, auxiliary_stack, destination_stack, source, auxiliary, destination)\n",
    "\n",
    "\n",
    "def move_disks(n, source, auxiliary, destination, source_peg, auxiliary_peg, destination_peg):\n",
    "    if n > 0:\n",
    "        # Move n-1 disks from source to auxiliary peg using destination as the auxiliary peg\n",
    "        move_disks(n-1, source, destination, auxiliary, source_peg, destination_peg, auxiliary_peg)\n",
    "        \n",
    "        # Move the nth disk from source to destination peg\n",
    "        disk = source.pop()\n",
    "        destination.push(disk)\n",
    "        print(\"Move disk\", disk, \"from\", source_peg, \"to\", destination_peg)\n",
    "        \n",
    "        # Move the n-1 disks from auxiliary peg to destination peg using source as the auxiliary peg\n",
    "        move_disks(n-1, auxiliary, source, destination, auxiliary_peg, source_peg, destination_peg)\n",
    "\n",
    "\n",
    "\n",
    "tower_of_hanoi(4, 'A', 'B', 'C')\n"
   ]
  },
  {
   "cell_type": "code",
   "execution_count": 1,
   "id": "8923a8fb",
   "metadata": {},
   "outputs": [
    {
     "name": "stdout",
     "output_type": "stream",
     "text": [
      "Memindahkan cakram 1 dari A ke B\n",
      "Memindahkan cakram 2 dari A ke C\n",
      "Memindahkan cakram 1 dari B ke C\n",
      "Memindahkan cakram 3 dari A ke B\n",
      "Memindahkan cakram 1 dari C ke A\n",
      "Memindahkan cakram 2 dari C ke B\n",
      "Memindahkan cakram 1 dari A ke B\n",
      "Memindahkan cakram 4 dari A ke C\n",
      "Memindahkan cakram 1 dari B ke C\n",
      "Memindahkan cakram 2 dari B ke A\n",
      "Memindahkan cakram 1 dari C ke A\n",
      "Memindahkan cakram 3 dari B ke C\n",
      "Memindahkan cakram 1 dari A ke B\n",
      "Memindahkan cakram 2 dari A ke C\n",
      "Memindahkan cakram 1 dari B ke C\n"
     ]
    }
   ],
   "source": [
    "def push(stack, item):\n",
    "    stack.append(item)\n",
    "\n",
    "def pop(stack):\n",
    "    if not is_empty(stack):\n",
    "        return stack.pop()\n",
    "\n",
    "def is_empty(stack):\n",
    "    return len(stack) == 0\n",
    "\n",
    "def peek(stack):\n",
    "    if not is_empty(stack):\n",
    "        return stack[-1]\n",
    "\n",
    "def size(stack):\n",
    "    return len(stack)\n",
    "\n",
    "def tower_of_hanoi(n, awal, bantuan, tujuan):\n",
    "    awal_stack = []\n",
    "    bantuan_stack = []\n",
    "    tujuan_stack = []\n",
    "\n",
    "    for i in range(n, 0, -1):\n",
    "        push(awal_stack, i)\n",
    "\n",
    "    move_cakram(n, awal_stack, bantuan_stack, tujuan_stack, awal, bantuan, tujuan)\n",
    "\n",
    "def move_cakram(n, awal, bantuan, tujuan, awal_peg, bantuan_peg, tujuan_peg):\n",
    "    if n > 0:\n",
    "        move_cakram(n - 1, awal, tujuan, bantuan, awal_peg, tujuan_peg, bantuan_peg)\n",
    "\n",
    "        cakram = pop(awal)\n",
    "        push(tujuan, cakram)\n",
    "        print(\"Memindahkan cakram\", cakram, \"dari\", awal_peg, \"ke\", tujuan_peg)\n",
    "        move_cakram(n - 1, bantuan, awal, tujuan, bantuan_peg, awal_peg, tujuan_peg)\n",
    "\n",
    "\n",
    "tower_of_hanoi(4, 'A', 'B', 'C')\n"
   ]
  },
  {
   "cell_type": "code",
   "execution_count": 6,
   "id": "b18e730d",
   "metadata": {
    "scrolled": true
   },
   "outputs": [
    {
     "name": "stdout",
     "output_type": "stream",
     "text": [
      "Pindahkan lempengan  1 dari tiang A ke tiang B\n",
      "Pindahkan lempengan  2 dari tiang A ke tiang C\n",
      "Pindahkan lempengan  1 dari tiang B ke tiang C\n",
      "Pindahkan lempengan  3 dari tiang A ke tiang B\n",
      "Pindahkan lempengan  1 dari tiang C ke tiang A\n",
      "Pindahkan lempengan  2 dari tiang C ke tiang B\n",
      "Pindahkan lempengan  1 dari tiang A ke tiang B\n",
      "Pindahkan lempengan  4 dari tiang A ke tiang C\n",
      "Pindahkan lempengan  1 dari tiang B ke tiang C\n",
      "Pindahkan lempengan  2 dari tiang B ke tiang A\n",
      "Pindahkan lempengan  1 dari tiang C ke tiang A\n",
      "Pindahkan lempengan  3 dari tiang B ke tiang C\n",
      "Pindahkan lempengan  1 dari tiang A ke tiang B\n",
      "Pindahkan lempengan  2 dari tiang A ke tiang C\n",
      "Pindahkan lempengan  1 dari tiang B ke tiang C\n"
     ]
    }
   ],
   "source": [
    "#pertemuan 15 mei 2023\n",
    "#ilustrasikan pakai stack di uas\n",
    "def towerOfHanoi(n,asal,bantuan,tujuan):\n",
    "    if n==2:\n",
    "        print('Pindahkan lempengan ',n-1,'dari tiang',asal,'ke tiang',bantuan)\n",
    "        print('Pindahkan lempengan ',n,'dari tiang',asal,'ke tiang',tujuan)\n",
    "        print('Pindahkan lempengan ',n-1,'dari tiang',bantuan,'ke tiang',tujuan)\n",
    "    else:\n",
    "        towerOfHanoi(n-1,asal,tujuan,bantuan)\n",
    "        print('Pindahkan lempengan ',n,'dari tiang',asal,'ke tiang',tujuan)\n",
    "        towerOfHanoi(n-1,bantuan,asal,tujuan)\n",
    "towerOfHanoi(4,'A','B','C')"
   ]
  },
  {
   "cell_type": "code",
   "execution_count": 1,
   "id": "768f721a",
   "metadata": {},
   "outputs": [
    {
     "data": {
      "text/plain": [
       "8"
      ]
     },
     "execution_count": 1,
     "metadata": {},
     "output_type": "execute_result"
    }
   ],
   "source": [
    "def fungsi(a,b):\n",
    "    hsl=1\n",
    "    for i in range(b):\n",
    "        hsl*=a\n",
    "    return hsl\n",
    "fungsi(2,3)"
   ]
  },
  {
   "cell_type": "code",
   "execution_count": 6,
   "id": "ee651928",
   "metadata": {},
   "outputs": [
    {
     "name": "stdout",
     "output_type": "stream",
     "text": [
      "2*4=2+2+2+2\n"
     ]
    },
    {
     "data": {
      "text/plain": [
       "8"
      ]
     },
     "execution_count": 6,
     "metadata": {},
     "output_type": "execute_result"
    }
   ],
   "source": [
    "def eksponen(num1,num2):\n",
    "    total=0\n",
    "    print(f'{num1}*{num2}',end=\"=\")\n",
    "    for i in range(num2):\n",
    "        if i==(num2-1):\n",
    "            print(num1)\n",
    "        else:\n",
    "            print(num1,end=\"+\")\n",
    "        total=total+num1\n",
    "    return total\n",
    "eksponen(2,4)"
   ]
  },
  {
   "cell_type": "code",
   "execution_count": null,
   "id": "36194d40",
   "metadata": {},
   "outputs": [],
   "source": [
    "data=[54,25,73,12,2,30]\n",
    "find=False\n",
    "key=3\n",
    "i=0\n",
    "while not(find) and i<len(data):\n",
    "    if key==data[i]:\n",
    "        find=True\n",
    "        "
   ]
  },
  {
   "cell_type": "code",
   "execution_count": null,
   "id": "7afb3a31",
   "metadata": {},
   "outputs": [],
   "source": [
    "import turtle\n",
    "my_turtle = turtle.Turtle()\n",
    "my_win = turtle.Screen()\n",
    "\n",
    "def draw_spiral(my_turtle, line_len):\n",
    "    if line_len > 0:\n",
    "        my_turtle.forward(line_len)\n",
    "        my_turtle.right(90)\n",
    "        draw_spiral(my_turtle, line_len - 5)\n",
    "draw_spiral(my_turtle, 90)\n",
    "my_win.exitonclick()"
   ]
  },
  {
   "cell_type": "code",
   "execution_count": null,
   "id": "4da1bee8",
   "metadata": {},
   "outputs": [],
   "source": [
    "import turtle\n",
    "def tree(branch_len, t):\n",
    "    t.speed('slowest')\n",
    "    if branch_len > 5:\n",
    "        t.forward(branch_len)\n",
    "        t.right(20)\n",
    "        tree(branch_len - 15, t)\n",
    "        t.left(40)\n",
    "        tree(branch_len - 15, t)\n",
    "        t.right(20)\n",
    "        t.backward(branch_len)\n",
    "def main():\n",
    "    my_win = turtle.Screen()\n",
    "    t = turtle.Turtle()\n",
    "    \n",
    "    t.shape(\"turtle\")\n",
    "    t.left(90)\n",
    "    t.up()\n",
    "    t.backward(100)\n",
    "    t.down()\n",
    "    t.color(\"green\")\n",
    "    tree(60, t)\n",
    "    my_win.exitonclick()\n",
    "main()"
   ]
  },
  {
   "cell_type": "code",
   "execution_count": null,
   "id": "c350ca6c",
   "metadata": {},
   "outputs": [],
   "source": [
    "import turtle\n",
    "def draw_triangle(points, color, my_turtle):\n",
    "    my_turtle.speed('slowest')\n",
    "    my_turtle.fillcolor(color)\n",
    "    my_turtle.up()\n",
    "    my_turtle.goto(points[0][0],points[0][1])\n",
    "    my_turtle.down()\n",
    "    my_turtle.begin_fill()\n",
    "    my_turtle.goto(points[1][0], points[1][1])\n",
    "    my_turtle.goto(points[2][0], points[2][1])\n",
    "    my_turtle.goto(points[0][0], points[0][1])\n",
    "    my_turtle.end_fill()\n",
    "def get_mid(p1, p2):\n",
    "    return ((p1[0] + p2[0]) / 2, (p1[1] + p2[1]) / 2)\n",
    "def sierpinski(points, degree, my_turtle):\n",
    "    color_map = [\"blue\", \"red\" , \"green\", \"white\" , \"yellow\" ,\"violet\" , \"ora\n",
    "    draw_triangle(points, color_map[degree], my_turtle)\n",
    "    if degree > 0:\n",
    "        sierpinski([points[0],get_mid(points[0], points[1]), get_mid(points[0\n",
    "        sierpinski([points[1],get_mid(points[0], points[1]), get_mid(points[1\n",
    "        sierpinski([points[2],get_mid(points[2], points[1]), get_mid(points[0\n",
    "def main():\n",
    "    my_turtle = turtle.Turtle()\n",
    "    my_win = turtle.Screen()\n",
    "    my_points = [[-100, -50], [0, 100], [100, -50]]\n",
    "    sierpinski(my_points, 2, my_turtle)\n",
    "    my_win.exitonclick()\n",
    "main()"
   ]
  },
  {
   "cell_type": "code",
   "execution_count": null,
   "id": "fe75b3a6",
   "metadata": {},
   "outputs": [],
   "source": []
  },
  {
   "cell_type": "code",
   "execution_count": null,
   "id": "2e5c21a2",
   "metadata": {},
   "outputs": [],
   "source": []
  },
  {
   "cell_type": "code",
   "execution_count": null,
   "id": "a8cfe1f1",
   "metadata": {},
   "outputs": [],
   "source": []
  },
  {
   "cell_type": "code",
   "execution_count": null,
   "id": "3e852a46",
   "metadata": {},
   "outputs": [],
   "source": []
  },
  {
   "cell_type": "code",
   "execution_count": null,
   "id": "dc6d7003",
   "metadata": {},
   "outputs": [],
   "source": []
  },
  {
   "cell_type": "code",
   "execution_count": null,
   "id": "1c215158",
   "metadata": {},
   "outputs": [],
   "source": []
  },
  {
   "cell_type": "code",
   "execution_count": null,
   "id": "0933b1ba",
   "metadata": {},
   "outputs": [],
   "source": []
  },
  {
   "cell_type": "code",
   "execution_count": null,
   "id": "d2cd5b61",
   "metadata": {},
   "outputs": [],
   "source": []
  },
  {
   "cell_type": "code",
   "execution_count": null,
   "id": "7430b048",
   "metadata": {},
   "outputs": [],
   "source": []
  },
  {
   "cell_type": "code",
   "execution_count": null,
   "id": "65378d75",
   "metadata": {},
   "outputs": [],
   "source": []
  },
  {
   "cell_type": "code",
   "execution_count": null,
   "id": "860e6fed",
   "metadata": {},
   "outputs": [],
   "source": []
  },
  {
   "cell_type": "code",
   "execution_count": null,
   "id": "6ef99408",
   "metadata": {},
   "outputs": [],
   "source": []
  }
 ],
 "metadata": {
  "kernelspec": {
   "display_name": "Python 3 (ipykernel)",
   "language": "python",
   "name": "python3"
  },
  "language_info": {
   "codemirror_mode": {
    "name": "ipython",
    "version": 3
   },
   "file_extension": ".py",
   "mimetype": "text/x-python",
   "name": "python",
   "nbconvert_exporter": "python",
   "pygments_lexer": "ipython3",
   "version": "3.9.12"
  }
 },
 "nbformat": 4,
 "nbformat_minor": 5
}
