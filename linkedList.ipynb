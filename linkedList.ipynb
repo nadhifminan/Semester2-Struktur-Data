{
 "cells": [
  {
   "cell_type": "code",
   "execution_count": 5,
   "id": "a0afec5d",
   "metadata": {},
   "outputs": [],
   "source": [
    "class ComplexNum:\n",
    "    #constructor\n",
    "    def __init__(self, re, im):\n",
    "        self.bagianReal = re\n",
    "        self.bagianIm = im\n",
    "    def display(self):\n",
    "        if self.bagianIm < 0:\n",
    "            print(self.bagianReal, str(self.bagianIm)[0], str(self.bagianIm)[1:]+'i')\n",
    "        else:\n",
    "            print(self.bagianReal, '+', str(self.bagianIm)+'i')\n",
    "    def addComplex(self, dt):\n",
    "        a = self.bagianReal + dt.bagianReal\n",
    "        b = self.bagianIm + dt.bagianIm\n",
    "        return ComplexNum(a, b)"
   ]
  },
  {
   "cell_type": "code",
   "execution_count": 8,
   "id": "ccca83eb",
   "metadata": {},
   "outputs": [],
   "source": [
    "x = ComplexNum(4, 3) #instansi\n",
    "y = ComplexNum(5, -8)\n",
    "z = ComplexNum(4, 3).addComplex(ComplexNum(5, -8))"
   ]
  },
  {
   "cell_type": "code",
   "execution_count": 9,
   "id": "1010804a",
   "metadata": {},
   "outputs": [
    {
     "name": "stdout",
     "output_type": "stream",
     "text": [
      "4 + 3i\n",
      "5 - 8i\n",
      "9 - 5i\n"
     ]
    }
   ],
   "source": [
    "x.display()\n",
    "y.display()\n",
    "z.display()"
   ]
  },
  {
   "cell_type": "code",
   "execution_count": 2,
   "id": "0d091a95",
   "metadata": {},
   "outputs": [],
   "source": [
    "#linkedList\n",
    "class Node:\n",
    "    def __init__(self, value):\n",
    "        self.item = value\n",
    "        self.next = None\n",
    "    def getItem(self):\n",
    "        return self.item\n",
    "    def getNext(self):\n",
    "        return self.next\n",
    "    def setItem(self, newValue):\n",
    "        self.item = newValue\n",
    "    def setNext(self, newNode):\n",
    "        self.next = newNode"
   ]
  },
  {
   "cell_type": "code",
   "execution_count": 2,
   "id": "9bacf01c",
   "metadata": {},
   "outputs": [
    {
     "name": "stdout",
     "output_type": "stream",
     "text": [
      "<__main__.Node object at 0x000001DB247CE3D0>\n",
      "<__main__.Node object at 0x000001DB247C8130>\n",
      "<__main__.Node object at 0x000001DB247C0B20>\n"
     ]
    }
   ],
   "source": [
    "a = Node(43)\n",
    "b = Node(55)\n",
    "c = Node(78)\n",
    "print(a)\n",
    "print(b)\n",
    "print(c)"
   ]
  },
  {
   "cell_type": "code",
   "execution_count": 3,
   "id": "39361b9b",
   "metadata": {},
   "outputs": [],
   "source": [
    "class LinkedList:\n",
    "    def __init__(self):\n",
    "        self.head = None\n",
    "    def isEmpty(self):\n",
    "        return self.head == None\n",
    "    def addFront(self, newNode):\n",
    "        newNode.next = self.head\n",
    "        self.head = newNode\n",
    "    def addFront2(self, item):\n",
    "        newNode = Node(item)\n",
    "        newNode.next = self.head\n",
    "        self.head = newNode\n",
    "    def size(self):\n",
    "        current = self.head\n",
    "        count = 0\n",
    "        while (current != None):\n",
    "            current = current.getNext()\n",
    "            count += 1\n",
    "        return count\n",
    "    def displayNode(self):\n",
    "        current = self.head\n",
    "        temp = ''\n",
    "        while (current != None):\n",
    "            temp = temp + str(current.getItem()) + ' '\n",
    "            current = current.getNext()\n",
    "        print(temp)\n",
    "    def insert(self,item,afterNode):\n",
    "        curent=self.head\n",
    "        newNode=Node(item)\n",
    "        found=False\n",
    "        while not(found):\n",
    "            if current.getItem() ==afterNode:\n",
    "                found=True\n",
    "            else:\n",
    "                current=current.getNext()\n",
    "        newNode.setNext(current.getNext())\n",
    "        current.setNext(newNode)"
   ]
  },
  {
   "cell_type": "code",
   "execution_count": 4,
   "id": "86acd0a9",
   "metadata": {},
   "outputs": [
    {
     "ename": "NameError",
     "evalue": "name 'addFront' is not defined",
     "output_type": "error",
     "traceback": [
      "\u001b[1;31m---------------------------------------------------------------------------\u001b[0m",
      "\u001b[1;31mNameError\u001b[0m                                 Traceback (most recent call last)",
      "Input \u001b[1;32mIn [4]\u001b[0m, in \u001b[0;36m<cell line: 2>\u001b[1;34m()\u001b[0m\n\u001b[0;32m      1\u001b[0m dataList\u001b[38;5;241m=\u001b[39mLinkedList()\n\u001b[1;32m----> 2\u001b[0m myList\u001b[38;5;241m=\u001b[39m\u001b[43maddFront\u001b[49m(\u001b[38;5;241m23\u001b[39m)\n\u001b[0;32m      3\u001b[0m myList\u001b[38;5;241m=\u001b[39maddFront(\u001b[38;5;241m3\u001b[39m)\n\u001b[0;32m      4\u001b[0m myList\u001b[38;5;241m=\u001b[39mdisplay()\n",
      "\u001b[1;31mNameError\u001b[0m: name 'addFront' is not defined"
     ]
    }
   ],
   "source": [
    "dataList=LinkedList()\n",
    "myList=addFront(23)\n",
    "myList=addFront(3)\n",
    "myList=display()"
   ]
  },
  {
   "cell_type": "code",
   "execution_count": 4,
   "id": "b85e5c74",
   "metadata": {},
   "outputs": [
    {
     "name": "stdout",
     "output_type": "stream",
     "text": [
      "None\n",
      "<__main__.Node object at 0x000001DB247C8130>\n",
      "<__main__.Node object at 0x000001DB247CE3D0>\n",
      "<__main__.Node object at 0x000001DB247C0B20>\n",
      "3\n",
      "78 43 55 \n"
     ]
    }
   ],
   "source": [
    "dataList = LinkedList()\n",
    "print(dataList.head)\n",
    "dataList.isEmpty()\n",
    "dataList.addFront(b)\n",
    "print(dataList.head)\n",
    "dataList.addFront(a)\n",
    "print(dataList.head)\n",
    "dataList.addFront(c)\n",
    "print(dataList.head)\n",
    "print(dataList.size())\n",
    "dataList.displayNode()\n",
    "#addRear\n",
    "#insert"
   ]
  },
  {
   "cell_type": "code",
   "execution_count": null,
   "id": "f36a077d",
   "metadata": {},
   "outputs": [],
   "source": []
  },
  {
   "cell_type": "code",
   "execution_count": 8,
   "id": "cf4384a9",
   "metadata": {},
   "outputs": [
    {
     "name": "stdout",
     "output_type": "stream",
     "text": [
      "43 None\n",
      "21 None\n",
      "55 None\n",
      "55 <__main__.Node object at 0x000001F791107B10>\n"
     ]
    }
   ],
   "source": [
    "data = a.getItem()\n",
    "pointer = a.getNext()\n",
    "print(data, pointer)\n",
    "a.setItem(21)\n",
    "data = a.getItem()\n",
    "pointer = a.getNext()\n",
    "print(data, pointer)\n",
    "data = b.getItem()\n",
    "pointer = b.getNext()\n",
    "print(data, pointer)\n",
    "b.setNext(a)\n",
    "pointer = b.getNext()\n",
    "print(data, pointer)\n"
   ]
  },
  {
   "cell_type": "code",
   "execution_count": 8,
   "id": "ad65beb4",
   "metadata": {},
   "outputs": [],
   "source": [
    "class Node:\n",
    "    def __init__(self):\n",
    "        self.head = None\n",
    "    def isEmpty(self):\n",
    "        return self.head==None\n",
    "    def add(self, item):\n",
    "        temp = Node(item)\n",
    "        temp.setNext(self.head)\n",
    "        self.head = temp"
   ]
  },
  {
   "cell_type": "code",
   "execution_count": 9,
   "id": "3717b196",
   "metadata": {},
   "outputs": [],
   "source": [
    "class LinkedList():\n",
    "    def __init__(self):\n",
    "        self.head=None\n",
    "    def isEmpty(self):\n",
    "        return self.head==None\n",
    "    def add(self,item):\n",
    "        temp=Node(item)\n",
    "        temp.setNext(self.head)\n",
    "        self.head=temp\n",
    "    def size(self):\n",
    "        vn=self.head\n",
    "        count = 0\n",
    "        while vn != None:\n",
    "            count+=1\n",
    "            vn=vn.getNext()\n",
    "        return count\n",
    "#     def remove(self,item):\n",
    "#         current=self.head\n",
    "#         previous=None\n",
    "#         if current !=item:\n",
    "#             current=self.setNext\n",
    "#         else:\n",
    "            \n",
    "#             while \n",
    "    def insert(self,item,afterNode):\n",
    "        curent=self.head\n",
    "        newNode=Node(item)\n",
    "        found=False\n",
    "        while not(found):\n",
    "            if current.getItem() ==afterNode:\n",
    "                found=True\n",
    "            else:\n",
    "                current=current.getNext()\n",
    "        newNode.setNext(current.getNext())\n",
    "        current.setNext(newNode)"
   ]
  },
  {
   "cell_type": "code",
   "execution_count": null,
   "id": "5439a2bb",
   "metadata": {},
   "outputs": [],
   "source": [
    " "
   ]
  },
  {
   "cell_type": "code",
   "execution_count": 10,
   "id": "39dbdec7",
   "metadata": {
    "scrolled": false
   },
   "outputs": [
    {
     "ename": "TypeError",
     "evalue": "__init__() takes 1 positional argument but 2 were given",
     "output_type": "error",
     "traceback": [
      "\u001b[1;31m---------------------------------------------------------------------------\u001b[0m",
      "\u001b[1;31mTypeError\u001b[0m                                 Traceback (most recent call last)",
      "Input \u001b[1;32mIn [10]\u001b[0m, in \u001b[0;36m<cell line: 1>\u001b[1;34m()\u001b[0m\n\u001b[1;32m----> 1\u001b[0m v1\u001b[38;5;241m=\u001b[39m\u001b[43mNode\u001b[49m\u001b[43m(\u001b[49m\u001b[38;5;241;43m19\u001b[39;49m\u001b[43m)\u001b[49m\n\u001b[0;32m      2\u001b[0m List\u001b[38;5;241m=\u001b[39mLinkedList()\n\u001b[0;32m      3\u001b[0m List\u001b[38;5;241m.\u001b[39madd(\u001b[38;5;241m15\u001b[39m)\n",
      "\u001b[1;31mTypeError\u001b[0m: __init__() takes 1 positional argument but 2 were given"
     ]
    }
   ],
   "source": [
    "v1=Node(19)\n",
    "List=LinkedList()\n",
    "List.add(15)\n"
   ]
  },
  {
   "cell_type": "code",
   "execution_count": 16,
   "id": "38f94e72",
   "metadata": {},
   "outputs": [
    {
     "name": "stdout",
     "output_type": "stream",
     "text": [
      "4 + 6 i\n",
      "2 + 3 i\n"
     ]
    }
   ],
   "source": [
    "class BilanganKompleks:\n",
    "    def __init__(self,a,b):\n",
    "        self.real=a\n",
    "        self.im=b\n",
    "data=BilanganKompleks(4,6)\n",
    "# untuk pengecekan tipe data dari variabel num\n",
    "type(data)\n",
    "# print(data)\n",
    "\n",
    "class BilanganKompleks:\n",
    "    def __init__(self,a,b): # constructor\n",
    "        self.real=a\n",
    "        self.im=b\n",
    "    def display(self): # method untuk menampilkan state\n",
    "        print(self.real,'+',self.im,'i')\n",
    "data1=BilanganKompleks(4,6)\n",
    "data1.display()\n",
    "data2=BilanganKompleks(2,3)\n",
    "data2.display()"
   ]
  },
  {
   "cell_type": "code",
   "execution_count": 27,
   "id": "0c4d302c",
   "metadata": {},
   "outputs": [
    {
     "name": "stdout",
     "output_type": "stream",
     "text": [
      "4 + 6 + 9 i\n",
      "2 + 5 + 9 i\n",
      "6 + 11 + 18 i \n"
     ]
    }
   ],
   "source": [
    "class BilanganKompleks:\n",
    "    def __init__(self,a,b,c):\n",
    "        self.real=a\n",
    "        self.im=b\n",
    "        self.semu=c\n",
    "    def display(self):\n",
    "        print (self.real,'+',self.im,'+',self.semu,'i')\n",
    "    def __str__(self):\n",
    "        return str(self.real) + \" + \" + str(self.im)+' + '+str(self.semu) + \" i \"\n",
    "    def addKompleks(self,obj):\n",
    "        a=self.real+obj.real\n",
    "        b=self.im+obj.im\n",
    "        c=self.semu+obj.semu\n",
    "        return BilanganKompleks(a,b,c)\n",
    "data1=BilanganKompleks(4,6,9)\n",
    "data2=BilanganKompleks(2,5,9)\n",
    "jumlah=data1.addKompleks(data2)\n",
    "data1.display()\n",
    "data2.display()\n",
    "print(jumlah)"
   ]
  }
 ],
 "metadata": {
  "kernelspec": {
   "display_name": "Python 3 (ipykernel)",
   "language": "python",
   "name": "python3"
  },
  "language_info": {
   "codemirror_mode": {
    "name": "ipython",
    "version": 3
   },
   "file_extension": ".py",
   "mimetype": "text/x-python",
   "name": "python",
   "nbconvert_exporter": "python",
   "pygments_lexer": "ipython3",
   "version": "3.9.12"
  }
 },
 "nbformat": 4,
 "nbformat_minor": 5
}
