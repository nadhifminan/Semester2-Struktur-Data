{
 "cells": [
  {
   "cell_type": "code",
   "execution_count": 1,
   "id": "ed61784d",
   "metadata": {},
   "outputs": [],
   "source": [
    "import stack as st\n",
    "import deque as dq\n",
    "import queues as que\n",
    "#stack\n",
    "def stack():\n",
    "    s=[]\n",
    "    return (s)\n",
    "def push(s,data):\n",
    "    s.append(data)\n",
    "def pop(s):\n",
    "    data=s.pop()\n",
    "    return(data)\n",
    "def peek(s):\n",
    "    return(s[len(s)-1])\n",
    "def isEmpty(s):\n",
    "    return (s==[])\n",
    "def size(s):\n",
    "    return(len(s))\n",
    "\n",
    "#queue\n",
    "def createQueue():\n",
    "    q=[]\n",
    "    return (q)\n",
    "def enqueue(q,data):\n",
    "    q.insert(0,data)\n",
    "    return(q)\n",
    "def dequeue(q):\n",
    "    data=q.pop()\n",
    "    return(data)\n",
    "def isEmpty(q):\n",
    "    return (q==[])\n",
    "def size(q):\n",
    "    return (len(q))\n",
    "\n",
    "#deque\n",
    "def createDeque():\n",
    "    d=[]\n",
    "    return (d)\n",
    "def addFront(d,data):\n",
    "    d.insert(0,data)\n",
    "    return(d)\n",
    "def addRear(d,data):\n",
    "    d.append(data)\n",
    "    return(d)\n",
    "def removeRear(d):\n",
    "    data=d.pop()\n",
    "    return(data)\n",
    "def removeFront(d):\n",
    "    data=d.pop(0)\n",
    "    return(data)\n",
    "def isEmpty(d):\n",
    "    return (d==[])\n",
    "def size(d):\n",
    "    return (len(d))"
   ]
  },
  {
   "cell_type": "code",
   "execution_count": 9,
   "id": "fdaecd11",
   "metadata": {
    "scrolled": true
   },
   "outputs": [
    {
     "name": "stdout",
     "output_type": "stream",
     "text": [
      "ini adalah ch 5\n",
      "ini adalah ch +\n",
      "ini adalah ch 2\n",
      "ini adalah ch }\n"
     ]
    },
    {
     "data": {
      "text/plain": [
       "'Kelebihan kurung Tutup'"
      ]
     },
     "execution_count": 9,
     "metadata": {},
     "output_type": "execute_result"
    }
   ],
   "source": [
    "def parenthesesCheck(strMath):\n",
    "    kurung={')':'(','}':'{',']':'['}\n",
    "    kurungBuka=kurung.values()\n",
    "    kurungTutup=kurung.keys()\n",
    "    temp=stack()\n",
    "    matched=True\n",
    "    for ch in strMath:\n",
    "        print('ini adalah ch',ch)\n",
    "        if ch in kurungBuka: # if ch in kurung.values()\n",
    "            push(temp,ch)\n",
    "        if ch in kurungTutup: #if ch in kurung.keys()\n",
    "            if isEmpty(temp):\n",
    "                return 'Kelebihan kurung Tutup'\n",
    "            else:\n",
    "                tempKurung=pop(temp)\n",
    "                if tempKurung ==kurung[ch]:#karena dictonary yg diakses menggunakan kurung tutupnya untuk mendapatkan velua kurung bukanya\n",
    "                    print(tempKurung,'=',kurung[ch])\n",
    "                    matched=matched and True\n",
    "                else:\n",
    "                    matched=matched and False\n",
    "    if not(isEmpty(temp)):\n",
    "        return 'Kelebihan Kurung Buka'\n",
    "    if matched==True:\n",
    "        return 'OK'\n",
    "    else:\n",
    "        return 'Tidak Cocok kurungnya'\n",
    "    \n",
    "parenthesesCheck('5+2}*(3)')"
   ]
  },
  {
   "cell_type": "code",
   "execution_count": 22,
   "id": "37aef7cf",
   "metadata": {},
   "outputs": [
    {
     "name": "stdout",
     "output_type": "stream",
     "text": [
      "1kelebihan kurung tutup\n",
      "2kelebihan kurung buka\n"
     ]
    },
    {
     "data": {
      "text/plain": [
       "'1kelebihan kurung tutup'"
      ]
     },
     "execution_count": 22,
     "metadata": {},
     "output_type": "execute_result"
    }
   ],
   "source": [
    "def cek(soal):\n",
    "    stek=stack()\n",
    "    kurung={')':'(',']':'[','}':'{'}\n",
    "    cocok=True\n",
    "    hasil=''\n",
    "    a=1\n",
    "    for karakter in soal:\n",
    "        if karakter in kurung.values():\n",
    "            push(stek,karakter)\n",
    "        elif karakter in kurung.keys():\n",
    "            if size(stek)==0 and soal[3:]!=1 :\n",
    "                hasil+=(f'{a}kelebihan kurung tutup')\n",
    "                a+=1\n",
    "            else:\n",
    "                if not peek(stek) == kurung.values:\n",
    "                kecocokan=pop(stek)\n",
    "                if kecocokan==kurung[karakter]:\n",
    "                    cocok=cocok and True\n",
    "                else:\n",
    "                    cocok=cocok and False\n",
    "            print(hasil)\n",
    "        elif karakter in kurung.values():\n",
    "            hasil+=(f'{a}kelebihan kurung buka')\n",
    "            a+=1\n",
    "    if size(stek)!=0:\n",
    "        print (f'{a}kelebihan kurung buka')\n",
    "    elif cocok==True:\n",
    "        print('Benar')\n",
    "    else:\n",
    "        hasil+=(f'{a}kurung tidak sama')\n",
    "        a+=1\n",
    "    return hasil\n",
    "soal='5+2}*(3'\n",
    "cek(soal)"
   ]
  },
  {
   "cell_type": "code",
   "execution_count": 25,
   "id": "66175383",
   "metadata": {},
   "outputs": [
    {
     "name": "stdout",
     "output_type": "stream",
     "text": [
      "kurung tidak sama\n"
     ]
    }
   ],
   "source": [
    "def chek(soal):\n",
    "    stek=stack()\n",
    "    kurung={')':'(','}':'{',']':'['}\n",
    "    kurungBuka=kurung.values()\n",
    "    kurungTutup=kurung.keys()\n",
    "    cocok=True\n",
    "    for i in soal:\n",
    "        if i in kurungBuka:\n",
    "            push(stek,i)\n",
    "        elif i in kurungTutup:\n",
    "            if size(stek)==0:\n",
    "                return 'kelebihan kurung tutup'\n",
    "            else:\n",
    "                temp=pop(stek)\n",
    "                if temp==kurung[i]:\n",
    "                    cocok=cocok and True\n",
    "                else:\n",
    "                    cocok=cocok and False\n",
    "    if size(stek)!=0:\n",
    "        return 'kelebihan kurung buka'\n",
    "    elif cocok==True:\n",
    "        return 'benar'\n",
    "    else:\n",
    "        return 'kurung tidak sama'\n",
    "\n",
    "print(chek('{5+2)*3'))          "
   ]
  },
  {
   "cell_type": "code",
   "execution_count": 23,
   "id": "a1a23431",
   "metadata": {},
   "outputs": [
    {
     "name": "stdout",
     "output_type": "stream",
     "text": [
      "Jumlah Kurung Buka Lebih banyak\n",
      "False\n"
     ]
    }
   ],
   "source": [
    "def paranthesesCheck(strMath):\n",
    "    operandStack=stack()\n",
    "    lenMath=len(strMath)\n",
    "    openOperand='({['\n",
    "    closeOperand=')}]'\n",
    "    i=0\n",
    "    Matched=True;\n",
    "    while i<(lenMath):\n",
    "        #print(i,'=',strMath[i])\n",
    "        if strMath[i] in openOperand:\n",
    "            push(operandStack,strMath[i])\n",
    "            #print(operandStack)\n",
    "        elif strMath[i] in closeOperand:\n",
    "            if not (isEmpty(operandStack)):\n",
    "                top=pop(operandStack)\n",
    "#                 print(\"top=\",top)\n",
    "#                 print (operandStack)\n",
    "#                 print('open =',openOperand.index(top),'close =',closeOperand.index(strMath[i]))\n",
    "                if openOperand.index(top)==closeOperand.index(strMath[i]):\n",
    "                    Matched=Matched and True\n",
    "                else:\n",
    "                    Matched=Matched and False\n",
    "                    print ('Kurung Buka dan Kurang Tutup tidak Cocok')\n",
    "            else:\n",
    "                Matched=Matched and False\n",
    "                print('Jumlah Kurung Tutup lebih banyak')\n",
    "        i=i+1\n",
    "        #print(Matched)\n",
    "    if not(isEmpty(operandStack)):\n",
    "        Matched=False\n",
    "        print('Jumlah Kurung Buka Lebih banyak')\n",
    "    return(Matched)\n",
    "print(paranthesesCheck('5 x (4 + 5) / ((3 + 2) x (10 - 8)'))"
   ]
  },
  {
   "cell_type": "code",
   "execution_count": null,
   "id": "3bce9125",
   "metadata": {},
   "outputs": [],
   "source": [
    "def paranthesesCheck(strMath):\n",
    "    operandStack=stack()\n",
    "    lenMath=len(strMath)\n",
    "    openOperand='({['\n",
    "    closeOperand=')}]'\n",
    "    i=0\n",
    "    Matched=True;\n",
    "    while i<(lenMath):\n",
    "        \n",
    "        if strMath[i] in openOperand:\n",
    "            push(operandStack,strMath[i])\n",
    "        \n",
    "        elif strMath[i] in closeOperand:\n",
    "            if not (isEmpty(operandStack)):\n",
    "                top=pop(operandStack)\n",
    "                if openOperand.index(top)==closeOperand.index(strMath[i]):\n",
    "                    Matched=Matched and True\n",
    "                else:\n",
    "                    Matched=Matched and False\n",
    "                    print ('Kurung Buka dan Kurang Tutup tidak Cocok')\n",
    "            else:\n",
    "                Matched=Matched and False\n",
    "                print('Jumlah Kurung Tutup lebih banyak')\n",
    "        i=i+1\n",
    "        \n",
    "    if not(isEmpty(operandStack)):\n",
    "        Matched=False\n",
    "        print('Jumlah Kurung Buka Lebih banyak')\n",
    "    return(Matched)\n",
    "print(paranthesesCheck('5 x (4 + 5) / ((3 + 2) x (10 - 8)'))"
   ]
  },
  {
   "cell_type": "code",
   "execution_count": 3,
   "id": "58d1c760",
   "metadata": {},
   "outputs": [
    {
     "name": "stdout",
     "output_type": "stream",
     "text": [
      "4\n"
     ]
    }
   ],
   "source": [
    "a='kalimat'\n",
    "b=a.index('m')\n",
    "print(b)"
   ]
  },
  {
   "cell_type": "code",
   "execution_count": 3,
   "id": "874dec03",
   "metadata": {},
   "outputs": [],
   "source": [
    "def ularNaga(nama, hitungan):\n",
    "    gameQueue = createQueue()\n",
    "    for namaAnak in nama:\n",
    "        enqueue(gameQueue,namaAnak)\n",
    "    print('Peserta Permainan=',gameQueue)\n",
    "    while size(gameQueue) > 1:\n",
    "        for i in range(hitungan):\n",
    "            enqueue(gameQueue,dequeue(gameQueue))\n",
    "            print('hitungan ke-',i,'=',gameQueue)\n",
    "        dequeue(gameQueue)\n",
    "        print('Peserta Permainan=',gameQueue)\n",
    "    return dequeue(gameQueue)"
   ]
  },
  {
   "cell_type": "code",
   "execution_count": null,
   "id": "3bf667e3",
   "metadata": {},
   "outputs": [],
   "source": []
  },
  {
   "cell_type": "code",
   "execution_count": 5,
   "id": "58e9aaaf",
   "metadata": {},
   "outputs": [
    {
     "name": "stdout",
     "output_type": "stream",
     "text": [
      "Peserta Permainan= ['zaki', 'diana', 'rafa', 'anton', 'sari', 'rita', 'andi']\n",
      "hitungan ke- 0 = ['andi', 'zaki', 'diana', 'rafa', 'anton', 'sari', 'rita']\n",
      "hitungan ke- 1 = ['rita', 'andi', 'zaki', 'diana', 'rafa', 'anton', 'sari']\n",
      "Peserta Permainan= ['rita', 'andi', 'zaki', 'diana', 'rafa', 'anton']\n",
      "hitungan ke- 0 = ['anton', 'rita', 'andi', 'zaki', 'diana', 'rafa']\n",
      "hitungan ke- 1 = ['rafa', 'anton', 'rita', 'andi', 'zaki', 'diana']\n",
      "Peserta Permainan= ['rafa', 'anton', 'rita', 'andi', 'zaki']\n",
      "hitungan ke- 0 = ['zaki', 'rafa', 'anton', 'rita', 'andi']\n",
      "hitungan ke- 1 = ['andi', 'zaki', 'rafa', 'anton', 'rita']\n",
      "Peserta Permainan= ['andi', 'zaki', 'rafa', 'anton']\n",
      "hitungan ke- 0 = ['anton', 'andi', 'zaki', 'rafa']\n",
      "hitungan ke- 1 = ['rafa', 'anton', 'andi', 'zaki']\n",
      "Peserta Permainan= ['rafa', 'anton', 'andi']\n",
      "hitungan ke- 0 = ['andi', 'rafa', 'anton']\n",
      "hitungan ke- 1 = ['anton', 'andi', 'rafa']\n",
      "Peserta Permainan= ['anton', 'andi']\n",
      "hitungan ke- 0 = ['andi', 'anton']\n",
      "hitungan ke- 1 = ['anton', 'andi']\n",
      "Peserta Permainan= ['anton']\n"
     ]
    },
    {
     "data": {
      "text/plain": [
       "'anton'"
      ]
     },
     "execution_count": 5,
     "metadata": {},
     "output_type": "execute_result"
    }
   ],
   "source": [
    "ularNaga(['andi','rita','sari','anton','rafa','diana','zaki'],2)"
   ]
  },
  {
   "cell_type": "code",
   "execution_count": 20,
   "id": "4833811f",
   "metadata": {},
   "outputs": [],
   "source": [
    "def bubbleSort(listData):\n",
    "    print('Data yang akan diurutkan : ', listData)\n",
    "    count=0\n",
    "    for outIter in range(len(listData)-1,-1,-1):\n",
    "        print('outIter=',outIter)\n",
    "        count=count+1\n",
    "        print ('Iterasi ke-', count,':')\n",
    "        for i in range(outIter):\n",
    "            if listData[i]>listData[i+1]:\n",
    "                temp=listData[i]\n",
    "                listData[i]=listData[i+1]\n",
    "                listData[i+1]=temp\n",
    "                #listData[i],listData[i+1]=listData[i+1],listData[i]\n",
    "        print(outIter,'=',listData)\n",
    "    print('Data urut-',listData)"
   ]
  },
  {
   "cell_type": "code",
   "execution_count": 24,
   "id": "9bea2a37",
   "metadata": {},
   "outputs": [
    {
     "name": "stdout",
     "output_type": "stream",
     "text": [
      "Algoritma Selection Sort konvensional\n",
      "Data Awal= [10, 2, 5, 8, 1, 20, 7, 12, 4]\n",
      "Iterasi ke- 1 : [1, 2, 5, 8, 10, 20, 7, 12, 4]\n",
      "Iterasi ke- 2 : [1, 2, 5, 8, 10, 20, 7, 12, 4]\n",
      "Iterasi ke- 3 : [1, 2, 4, 8, 10, 20, 7, 12, 5]\n",
      "Iterasi ke- 4 : [1, 2, 4, 5, 10, 20, 7, 12, 8]\n",
      "Iterasi ke- 5 : [1, 2, 4, 5, 7, 20, 10, 12, 8]\n",
      "Iterasi ke- 6 : [1, 2, 4, 5, 7, 8, 10, 12, 20]\n",
      "Iterasi ke- 7 : [1, 2, 4, 5, 7, 8, 10, 12, 20]\n",
      "Iterasi ke- 8 : [1, 2, 4, 5, 7, 8, 10, 12, 20]\n",
      "Data Urut= [1, 2, 4, 5, 7, 8, 10, 12, 20]\n"
     ]
    }
   ],
   "source": [
    "def selectionSort(listData):\n",
    "    print('Algoritma Selection Sort konvensional')\n",
    "    print('Data Awal=',listData)\n",
    "    for outIter in range(len(listData)-1):\n",
    "        minIndex=outIter\n",
    "        for i in range(outIter+1,len(listData)):\n",
    "            if listData[i]<listData[minIndex]:\n",
    "                minIndex=i\n",
    "        temp=listData[outIter]\n",
    "        listData[outIter]=listData[minIndex]\n",
    "        listData[minIndex]=temp\n",
    "        print('Iterasi ke-',outIter+1,':',listData)\n",
    "    print('Data Urut=',listData)\n",
    "a=[10,2,5,8,1,20,7,12,4]\n",
    "selectionSort(a)"
   ]
  },
  {
   "cell_type": "code",
   "execution_count": 34,
   "id": "f15b2428",
   "metadata": {},
   "outputs": [
    {
     "name": "stdout",
     "output_type": "stream",
     "text": [
      "data asli =  [10, 2, 5, 8, 1, 20, 7, 12, 4]\n",
      "[1, 2, 4, 5, 7, 8, 10, 12, 20]\n"
     ]
    }
   ],
   "source": [
    "def select(data):\n",
    "    print('data asli = ',data)\n",
    "    for i in range(len(data)):\n",
    "        minim=i            #minim didefinisikan\n",
    "        for j in range(i+1,len(data)):\n",
    "            if data[j]<data[minim]:\n",
    "                minim=j\n",
    "        temp=data[i]\n",
    "        data[i]=data[minim]\n",
    "        data[minim]=temp\n",
    "    print(data)\n",
    "a=[10,2,5,8,1,20,7,12,4]\n",
    "select(a)"
   ]
  },
  {
   "cell_type": "code",
   "execution_count": 43,
   "id": "e329f890",
   "metadata": {},
   "outputs": [
    {
     "name": "stdout",
     "output_type": "stream",
     "text": [
      "[1, 2, 4, 5, 7, 8, 10, 12, 20]\n"
     ]
    }
   ],
   "source": [
    "def seleksion(data):\n",
    "    for i in range(len(data)):\n",
    "        minim=i\n",
    "        for j in range(i+1,len(data)):\n",
    "            if data[j]<data[minim]:\n",
    "                minim=j\n",
    "        temp=data[i]\n",
    "        data[i]=data[minim]\n",
    "        data[minim]=temp\n",
    "    print(data)\n",
    "a=[10,2,5,8,1,20,7,12,4]\n",
    "seleksion(a)"
   ]
  },
  {
   "cell_type": "code",
   "execution_count": 2,
   "id": "6235a8fb",
   "metadata": {
    "scrolled": true
   },
   "outputs": [
    {
     "name": "stdout",
     "output_type": "stream",
     "text": [
      "data insert =  [0, 1, 2, 4, 5, 7, 8, 10, 12, 20, 56]\n"
     ]
    }
   ],
   "source": [
    "def selip(data):\n",
    "    for i in range(len(data)):\n",
    "        setiapData=data[i]   #\n",
    "        indek=i\n",
    "        while indek>0 and data[indek-1]>setiapData:  # 0<0 dan indek terakhir dari data\n",
    "            data[indek]=data[indek-1]\n",
    "            indek=indek-1\n",
    "        data[indek]=setiapData\n",
    "    print('data insert = ',data)\n",
    "a=[10,2,5,8,1,20,7,12,4,56,0]\n",
    "selip(a)"
   ]
  },
  {
   "cell_type": "code",
   "execution_count": 73,
   "id": "96d3a73b",
   "metadata": {
    "scrolled": true
   },
   "outputs": [
    {
     "name": "stdout",
     "output_type": "stream",
     "text": [
      "5\n",
      "j = 0\n",
      "-1 = [10, 10, 7, 9]\n",
      "[5, 10, 7, 9]\n",
      "7\n",
      "j = 1\n",
      "0 = [5, 10, 10, 9]\n",
      "[5, 7, 10, 9]\n",
      "9\n",
      "j = 2\n",
      "1 = [5, 7, 10, 10]\n",
      "[5, 7, 9, 10]\n"
     ]
    }
   ],
   "source": [
    "a=[10,5,7,9]\n",
    "for i in range(1,len(a)):\n",
    "    key=a[i]\n",
    "    print(key)\n",
    "    j=i-1 #dibandingkan dengan indek sebelumnya\n",
    "    while j>=0 and key<=a[j]:\n",
    "        print('j =',j)\n",
    "        a[j+1]=a[j]\n",
    "        j-=1\n",
    "        print(j,'=',a)\n",
    "    a[j+1]=key #sisipkan key nya\n",
    "    print(a)"
   ]
  },
  {
   "cell_type": "code",
   "execution_count": 8,
   "id": "32beab24",
   "metadata": {},
   "outputs": [
    {
     "name": "stdout",
     "output_type": "stream",
     "text": [
      "[5, 6, 2, 3, 8, 6]\n",
      "[2, 5, 6, 3, 8, 6]\n",
      "[2, 3, 5, 6, 8, 6]\n",
      "[2, 3, 5, 6, 8, 6]\n",
      "[2, 3, 5, 6, 6, 8]\n"
     ]
    }
   ],
   "source": [
    "def nyelip(data):\n",
    "    for i in range(1,len(data)):\n",
    "        key=data[i]\n",
    "        j=i-1\n",
    "        while j>=0 and key<data[j]: # ketika indeks sebelumnya > 0 and data< data sebelumnya\n",
    "            data[j+1]=data[j]\n",
    "            j-=1\n",
    "        data[j+1]=key\n",
    "        print(data)\n",
    "a=[5,6,2,3,8,6]\n",
    "nyelip(a)"
   ]
  },
  {
   "cell_type": "code",
   "execution_count": 76,
   "id": "fa8ed803",
   "metadata": {},
   "outputs": [
    {
     "name": "stdout",
     "output_type": "stream",
     "text": [
      "[5, 6, 2, 3, 8, 6]\n",
      "[2, 5, 6, 3, 8, 6]\n",
      "[2, 3, 5, 6, 8, 6]\n",
      "[2, 3, 5, 6, 8, 6]\n",
      "[2, 3, 5, 6, 6, 8]\n"
     ]
    }
   ],
   "source": [
    "def inset(data):\n",
    "    for i in range(1,len(data)):\n",
    "        key=data[i]\n",
    "        j=i-1\n",
    "        while j>=0 and key<data[j]:\n",
    "            data[j+1]=data[j]\n",
    "            j-=1\n",
    "        data[j+1]=key\n",
    "        print(data)\n",
    "a=[5,6,2,3,8,6]\n",
    "inset(a)"
   ]
  },
  {
   "cell_type": "code",
   "execution_count": 30,
   "id": "a8351471",
   "metadata": {},
   "outputs": [
    {
     "name": "stdout",
     "output_type": "stream",
     "text": [
      "[10, 2, 5, 8, 1, 20, 7, 12, 4]\n",
      "inner= [10, 10, 5, 8, 1, 20, 7, 12, 4]\n",
      "[2, 10, 5, 8, 1, 20, 7, 12, 4]\n",
      "inner= [2, 10, 10, 8, 1, 20, 7, 12, 4]\n",
      "[2, 5, 10, 8, 1, 20, 7, 12, 4]\n",
      "inner= [2, 5, 10, 10, 1, 20, 7, 12, 4]\n",
      "[2, 5, 8, 10, 1, 20, 7, 12, 4]\n",
      "inner= [2, 5, 8, 10, 10, 20, 7, 12, 4]\n",
      "inner= [2, 5, 8, 8, 10, 20, 7, 12, 4]\n",
      "inner= [2, 5, 5, 8, 10, 20, 7, 12, 4]\n",
      "inner= [2, 2, 5, 8, 10, 20, 7, 12, 4]\n",
      "[1, 2, 5, 8, 10, 20, 7, 12, 4]\n",
      "[1, 2, 5, 8, 10, 20, 7, 12, 4]\n",
      "inner= [1, 2, 5, 8, 10, 20, 20, 12, 4]\n",
      "inner= [1, 2, 5, 8, 10, 10, 20, 12, 4]\n",
      "inner= [1, 2, 5, 8, 8, 10, 20, 12, 4]\n",
      "[1, 2, 5, 7, 8, 10, 20, 12, 4]\n",
      "inner= [1, 2, 5, 7, 8, 10, 20, 20, 4]\n",
      "[1, 2, 5, 7, 8, 10, 12, 20, 4]\n",
      "inner= [1, 2, 5, 7, 8, 10, 12, 20, 20]\n",
      "inner= [1, 2, 5, 7, 8, 10, 12, 12, 20]\n",
      "inner= [1, 2, 5, 7, 8, 10, 10, 12, 20]\n",
      "inner= [1, 2, 5, 7, 8, 8, 10, 12, 20]\n",
      "inner= [1, 2, 5, 7, 7, 8, 10, 12, 20]\n",
      "inner= [1, 2, 5, 5, 7, 8, 10, 12, 20]\n",
      "sortedData= [1, 2, 4, 5, 7, 8, 10, 12, 20]\n"
     ]
    }
   ],
   "source": [
    "def insertionSort(listData):\n",
    "    for outIter in range(1,len(listData)):\n",
    "        print(listData)\n",
    "        key=listData[outIter]\n",
    "        ind=outIter\n",
    "        while (ind>0 and listData[ind-1]>key):\n",
    "            listData[ind]=listData[ind-1]\n",
    "            ind=ind-1\n",
    "            print('inner=',listData)\n",
    "        listData[ind]=key\n",
    "    print('sortedData=',listData)\n",
    "a=[10,2,5,8,1,20,7,12,4]\n",
    "insertionSort(a)"
   ]
  },
  {
   "cell_type": "code",
   "execution_count": 21,
   "id": "02265933",
   "metadata": {},
   "outputs": [
    {
     "name": "stdout",
     "output_type": "stream",
     "text": [
      "Data yang akan diurutkan :  [12, 0, 5, 1, 11, 20, 4, 2]\n",
      "outIter= 7\n",
      "Iterasi ke- 1 :\n",
      "7 = [0, 5, 1, 11, 12, 4, 2, 20]\n",
      "outIter= 6\n",
      "Iterasi ke- 2 :\n",
      "6 = [0, 1, 5, 11, 4, 2, 12, 20]\n",
      "outIter= 5\n",
      "Iterasi ke- 3 :\n",
      "5 = [0, 1, 5, 4, 2, 11, 12, 20]\n",
      "outIter= 4\n",
      "Iterasi ke- 4 :\n",
      "4 = [0, 1, 4, 2, 5, 11, 12, 20]\n",
      "outIter= 3\n",
      "Iterasi ke- 5 :\n",
      "3 = [0, 1, 2, 4, 5, 11, 12, 20]\n",
      "outIter= 2\n",
      "Iterasi ke- 6 :\n",
      "2 = [0, 1, 2, 4, 5, 11, 12, 20]\n",
      "outIter= 1\n",
      "Iterasi ke- 7 :\n",
      "1 = [0, 1, 2, 4, 5, 11, 12, 20]\n",
      "outIter= 0\n",
      "Iterasi ke- 8 :\n",
      "0 = [0, 1, 2, 4, 5, 11, 12, 20]\n",
      "Data urut- [0, 1, 2, 4, 5, 11, 12, 20]\n",
      "--\n",
      "Data yang akan diurutkan :  [12, 11, 5, 1, 0]\n",
      "outIter= 4\n",
      "Iterasi ke- 1 :\n",
      "4 = [11, 5, 1, 0, 12]\n",
      "outIter= 3\n",
      "Iterasi ke- 2 :\n",
      "3 = [5, 1, 0, 11, 12]\n",
      "outIter= 2\n",
      "Iterasi ke- 3 :\n",
      "2 = [1, 0, 5, 11, 12]\n",
      "outIter= 1\n",
      "Iterasi ke- 4 :\n",
      "1 = [0, 1, 5, 11, 12]\n",
      "outIter= 0\n",
      "Iterasi ke- 5 :\n",
      "0 = [0, 1, 5, 11, 12]\n",
      "Data urut- [0, 1, 5, 11, 12]\n"
     ]
    }
   ],
   "source": [
    "a=[12,0,5,1,11,20,4,2]\n",
    "bubbleSort(a)\n",
    "b=[12,11,5,1,0]\n",
    "print('--')\n",
    "bubbleSort(b)"
   ]
  }
 ],
 "metadata": {
  "kernelspec": {
   "display_name": "Python 3 (ipykernel)",
   "language": "python",
   "name": "python3"
  },
  "language_info": {
   "codemirror_mode": {
    "name": "ipython",
    "version": 3
   },
   "file_extension": ".py",
   "mimetype": "text/x-python",
   "name": "python",
   "nbconvert_exporter": "python",
   "pygments_lexer": "ipython3",
   "version": "3.9.12"
  }
 },
 "nbformat": 4,
 "nbformat_minor": 5
}
