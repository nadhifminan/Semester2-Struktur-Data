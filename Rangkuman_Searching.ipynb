{
 "cells": [
  {
   "cell_type": "code",
   "execution_count": 2,
   "id": "5aadb95d",
   "metadata": {},
   "outputs": [
    {
     "name": "stdout",
     "output_type": "stream",
     "text": [
      "-1 is not found\n"
     ]
    }
   ],
   "source": [
    "def seqSearch(dataList,data):\n",
    "    position = []\n",
    "    for i in range(len(dataList)):\n",
    "        if dataList[i] == data :\n",
    "            position.append(i)\n",
    "    if position != []:\n",
    "        return f\"{data} is in : {position}\"\n",
    "    return f\"{data} is not found\"\n",
    "\n",
    "data = [43,6,3,1,3,7,0,7]\n",
    "print(seqSearch(data,-1))"
   ]
  },
  {
   "cell_type": "code",
   "execution_count": 3,
   "id": "f9e84f47",
   "metadata": {},
   "outputs": [
    {
     "name": "stdout",
     "output_type": "stream",
     "text": [
      "100 is not found, numberOfIteration: 6\n"
     ]
    }
   ],
   "source": [
    "def orderedSeqSearch(data,num):\n",
    "    i = 0\n",
    "    position = []\n",
    "    while i < len(data) and data[i] <= num:\n",
    "        if data[i] == num :\n",
    "            position.append(i)\n",
    "        i+=1\n",
    "    if position != []:\n",
    "        return f\"{num} is in : {position}, numberOfIteration: {i}\"\n",
    "    return f\"{num} is not found, numberOfIteration: {i}\"\n",
    "\n",
    "b = [2,9,10,13,26,50]\n",
    "print(orderedSeqSearch(b,100))"
   ]
  },
  {
   "cell_type": "markdown",
   "id": "5fe153a4",
   "metadata": {},
   "source": [
    "## Binary Search"
   ]
  },
  {
   "cell_type": "code",
   "execution_count": 4,
   "id": "5e902200",
   "metadata": {},
   "outputs": [
    {
     "name": "stdout",
     "output_type": "stream",
     "text": [
      "100 is not found, numberOfIteration: 3\n"
     ]
    }
   ],
   "source": [
    "def binarySearch(data,find):\n",
    "    i = 0\n",
    "    first=0\n",
    "    last=len(data)-1\n",
    "    while first <= last :\n",
    "        mid = (first+last)//2\n",
    "        i+=1\n",
    "        if data[mid] == find:\n",
    "            return f\"{find} is in : {mid}, numberOfiteration: {i}\"\n",
    "        elif find < data[mid]:\n",
    "            last = mid-1\n",
    "        else:\n",
    "            first = mid+1\n",
    "    return f\"{find} is not found, numberOfIteration: {i}\"\n",
    "\n",
    "b = [2,9,10,13,26,50]\n",
    "print(binarySearch(b,100))"
   ]
  },
  {
   "cell_type": "code",
   "execution_count": 5,
   "id": "8f30d484",
   "metadata": {},
   "outputs": [
    {
     "name": "stdout",
     "output_type": "stream",
     "text": [
      "3\n",
      "[2, 3]\n"
     ]
    }
   ],
   "source": [
    "# Menampilkan data yang dicari dobel \n",
    "def modBinarySearch(listData,data):\n",
    "    first = 0\n",
    "    last = len(listData)-1\n",
    "    found = False\n",
    "    position = []\n",
    "    \n",
    "    while first <= last and not found:\n",
    "        midpoint = (first+last)//2\n",
    "        if listData[midpoint]== data:\n",
    "            found = True\n",
    "            print(midpoint)\n",
    "            position.append(midpoint)\n",
    "            i=1\n",
    "            while listData[midpoint-i] == data:\n",
    "                position.insert(0,midpoint-i)\n",
    "                i+=1\n",
    "            j=1\n",
    "            while listData[midpoint+j] == data:\n",
    "                position.append(midpoint+j)\n",
    "                j+=1\n",
    "\n",
    "                \n",
    "        else:\n",
    "            if data < listData[midpoint]:\n",
    "                last = midpoint-1\n",
    "            else:\n",
    "                first = midpoint+1\n",
    "                \n",
    "    return position\n",
    "\n",
    "# [0,1,2, 3, 4]\n",
    "a=[4,0,10,10,34,56,78,99]\n",
    "print(modBinarySearch(a,10))"
   ]
  },
  {
   "cell_type": "code",
   "execution_count": 6,
   "id": "6d5eb7fa",
   "metadata": {},
   "outputs": [
    {
     "name": "stdout",
     "output_type": "stream",
     "text": [
      "False\n"
     ]
    }
   ],
   "source": [
    "def recBinarySearch(listData,data):\n",
    "    if len(listData) == 0:\n",
    "        return False\n",
    "    else:\n",
    "        midpoint = (len(listData)-1)//2\n",
    "#         print(listData[midpoint],midpoint)\n",
    "        if data == listData[midpoint]:\n",
    "            return True\n",
    "        else:                \n",
    "            if data < listData[midpoint]:\n",
    "#                 if midpoint == 1:\n",
    "#                     return recBinarySearch(listData[:midpoint],data)\n",
    "                return recBinarySearch(listData[:midpoint-1],data)\n",
    "            else:\n",
    "                return recBinarySearch(listData[midpoint+1:],data)\n",
    "b=[-3,-2,0,1,2,3,49,100,200]\n",
    "print(recBinarySearch(b,-3))"
   ]
  },
  {
   "cell_type": "code",
   "execution_count": 81,
   "id": "d20dde57",
   "metadata": {},
   "outputs": [],
   "source": [
    "def binarySearchCsv(data,find):\n",
    "    i = 0\n",
    "    first=0\n",
    "    last=len(data)-1\n",
    "    while first <= last :\n",
    "        mid = (first+last)//2\n",
    "        i+=1\n",
    "        if data[mid][2] == find:\n",
    "            return f\"{find} is in : {mid}, numberOfiteration: {i}\"\n",
    "        elif find < data[mid][2]:\n",
    "            last = mid-1\n",
    "        else:\n",
    "            first = mid+1\n",
    "    return f\"{find} is not found, numberOfIteration: {i}\"\n",
    "\n",
    "# assending dari kiri ke kanan\n",
    "def bubbleSort(data):\n",
    "    for i in range(len(data)-1,0,-1):\n",
    "        for j in range(i):\n",
    "            if data[j][2] >data[j+1][2]:\n",
    "                data[j],data[j+1]=data[j+1],data[j]\n",
    "    return data"
   ]
  },
  {
   "cell_type": "code",
   "execution_count": 84,
   "id": "52be1890",
   "metadata": {},
   "outputs": [
    {
     "name": "stdout",
     "output_type": "stream",
     "text": [
      "NPM             NAMA                            NILAI   \n",
      "220411100028    Kamaria Iriana Mulyani          50,40\n",
      "220411100100    Juli Tira Rahmawati             50,47\n",
      "220411100055    Olivia Hassanah                 52,30\n",
      "220411100061    Safina Melani                   52,38\n",
      "220411100034    Syahrini Titin Mandasari        52,63\n",
      "220411100088    Garan Dabukke                   53,52\n",
      "220411100015    Yulia Mandasari                 53,74\n",
      "220411100006    Winda Ana Usada                 55,76\n",
      "220411100095    Ciaobella Farhunnisa Haryanti   57,40\n",
      "220411100056    Salimah Nurdiyanti              57,83\n",
      "220411100094    Gada Mursita Adriansyah          58,1\n",
      "220411100053    Asirwanda Kasiran Putra         58,11\n",
      "220411100083    Kanda Soleh Jailani             59,77\n",
      "220411100017    Jamil Dodo Prasasta             59,85\n",
      "220411100057    Betania Zelaya Mandasari        60,14\n",
      "220411100004    Mutia Kusmawati                  60,8\n",
      "220411100064    Puti Pia Hariyah                60,88\n",
      "220411100045    Harjo Emin Siregar              61,12\n",
      "220411100029    Hana Nabila Lailasari           61,22\n",
      "220411100080    Yani Mala Kuswandari            62,37\n",
      "220411100026    Bella Winarsih                  62,39\n",
      "220411100093    Hasim Saptono                   63,22\n",
      "220411100081    Anita Pratiwi                   64,72\n",
      "220411100027    Uchita Zulfa Purwanti           65,43\n",
      "220411100058    Raisa Kuswandari                 67,1\n",
      "220411100049    Cinthia Puspita                 67,10\n",
      "220411100054    Elma Permata                    67,17\n",
      "220411100038    Vera Kuswandari                 67,47\n",
      "220411100039    Imam Okta Narpati                67,9\n",
      "220411100062    Sabri Siregar                   68,49\n",
      "220411100052    Anastasia Oktaviani             69,57\n",
      "220411100012    Hafshah Cinthia Halimah         69,62\n",
      "220411100060    Jayadi Najmudin                 69,84\n",
      "220411100086    Ikin Bagus Simanjuntak          71,10\n",
      "220411100022    Reza Sitompul                    72,2\n",
      "220411100078    Emas Kusumo                     72,41\n",
      "220411100024    Jaiman Prabawa Wibowo           72,54\n",
      "220411100020    Michelle Puti Haryanti          72,70\n",
      "220411100079    Jane Farida                     73,18\n",
      "220411100085    Clara Hartati                   73,38\n",
      "220411100066    Rusman Karsana Tampubolon       73,63\n",
      "220411100033    Siti Pia Usamah                  74,3\n",
      "220411100047    Vicky Sudiati                   74,32\n",
      "220411100041    Latika Palastri                 75,29\n",
      "220411100091    Tiara Puspita                   75,44\n",
      "220411100065    Praba Eka Mangunsong            76,26\n",
      "220411100011    Zalindra Widya Mayasari         76,32\n",
      "220411100092    Warsita Banawa Wibowo           76,61\n",
      "220411100007    Mahmud Edison Saragih           76,70\n",
      "220411100082    Tira Wastuti                    76,89\n",
      "220411100044    Latika Usamah                    77,5\n",
      "220411100018    Kadir Gada Maryadi              77,57\n",
      "220411100042    Betania Qori Hariyah            77,63\n",
      "220411100097    Nyana Jumadi Dongoran           77,71\n",
      "220411100098    Rama Dwi Prasetya               78,10\n",
      "220411100075    Ana Wulandari                   78,13\n",
      "220411100077    Reksa Nugroho                   78,17\n",
      "220411100074    Diana Lailasari                 78,33\n",
      "220411100090    Rudi Mariadi Manullang          78,59\n",
      "220411100067    Sari Laras Mayasari             80,19\n",
      "220411100073    Novi Eli Puspita                 80,5\n",
      "220411100005    Karsa Karna Simanjuntak          80,6\n",
      "220411100021    Oskar Prayoga                   80,72\n",
      "220411100030    Zalindra Oktaviani              80,80\n",
      "220411100051    Sari Susanti                    80,83\n",
      "220411100003    Bahuwarna Halim                 81,35\n",
      "220411100013    Emil Kurniawan                  81,83\n",
      "220411100002    Umi Cinthia Purwanti             82,7\n",
      "220411100096    Viktor Tarihoran                83,34\n",
      "220411100069    Cindy Laksmiwati                83,49\n",
      "220411100031    Irma Nasyidah                   83,68\n",
      "220411100036    Ade Elvina Hartati              84,39\n",
      "220411100001    Gilang Raden Saputra            84,82\n",
      "220411100046    Laras Cindy Puspita             85,21\n",
      "220411100008    Devi Cinthia Mulyani            85,36\n",
      "220411100035    Nabila Yuniar                   86,33\n",
      "220411100048    Gamani Mahendra                 86,59\n",
      "220411100016    Harsana Hutapea                 86,76\n",
      "220411100014    Violet Namaga                   87,49\n",
      "220411100019    Restu Namaga                    88,79\n",
      "220411100009    Viktor Hutasoit                 89,55\n",
      "220411100071    Tania Puspita                   90,39\n",
      "220411100032    Agnes Syahrini Yolanda          90,87\n",
      "220411100070    Tania Mulyani                   91,14\n",
      "220411100037    Kalim Jailani                   92,24\n",
      "220411100076    Prabowo Permadi                 92,33\n",
      "220411100043    Setya Adriansyah                92,66\n",
      "220411100087    Ozy Samosir                     93,42\n",
      "220411100025    Iriana Mulyani                  93,50\n",
      "220411100040    Taufik Hakim                    93,50\n",
      "220411100063    Aurora Wastuti                  93,74\n",
      "220411100084    Garang Gunawan                  94,37\n",
      "220411100099    Eka Cakrabuana Sitompul         94,90\n",
      "220411100068    Tami Ade Kusmawati              95,18\n",
      "220411100089    Padma Almira Novitasari         96,15\n",
      "220411100010    Galang Waluyo                   96,66\n",
      "220411100059    Jessica Pratiwi                 97,72\n",
      "220411100023    Jatmiko Galiono Januar           97,9\n",
      "220411100050    Kamila Maryati                   99,3\n",
      "220411100072    Ade Januar                       99,5\n",
      "[220411100001, 'Gilang Raden Saputra', '84,82']\n"
     ]
    }
   ],
   "source": [
    "o = dataCsv.copy()\n",
    "bubbleSort(o)\n",
    "dispData(o)\n",
    "binarySearchCsv(o,'84,82')\n",
    "print(o[72])"
   ]
  },
  {
   "cell_type": "markdown",
   "id": "28388104",
   "metadata": {},
   "source": [
    "## Hashing"
   ]
  },
  {
   "cell_type": "code",
   "execution_count": 9,
   "id": "e87c0b77",
   "metadata": {},
   "outputs": [],
   "source": [
    "def remainderFunction(data,num):\n",
    "    return data%num\n",
    "\n",
    "def createHashTable(num):\n",
    "    temp = []\n",
    "    for i in range(num):\n",
    "        temp.append(None)\n",
    "    return temp\n",
    "\n",
    "def putData(data,table):\n",
    "    for i in range(len(data)):\n",
    "        idx = remainderFunction(data[i],len(table))\n",
    "        table[idx]=data[i]\n",
    "    return table\n",
    "\n",
    "def searchHash(data,table):\n",
    "    hashVal = remainderFunction(data,len(table))\n",
    "    if data == table[hashVal]:\n",
    "        return True \n",
    "    else:\n",
    "        return False "
   ]
  },
  {
   "cell_type": "code",
   "execution_count": 10,
   "id": "9d415c61",
   "metadata": {},
   "outputs": [
    {
     "name": "stdout",
     "output_type": "stream",
     "text": [
      "[None, None, None, None, None, None, None, None, None, None, None]\n"
     ]
    }
   ],
   "source": [
    "a=[54, 26, 93, 17, 77, 31]\n",
    "hashTable=createHashTable(11)\n",
    "print(hashTable)"
   ]
  },
  {
   "cell_type": "code",
   "execution_count": 9,
   "id": "bd8c7f58",
   "metadata": {},
   "outputs": [
    {
     "name": "stdout",
     "output_type": "stream",
     "text": [
      "[77, None, None, None, 26, 93, 17, None, None, 31, 54]\n"
     ]
    }
   ],
   "source": [
    "hashTable=putData(a,hashTable)\n",
    "print(hashTable)"
   ]
  },
  {
   "cell_type": "code",
   "execution_count": 10,
   "id": "eb4c3547",
   "metadata": {},
   "outputs": [
    {
     "data": {
      "text/plain": [
       "True"
      ]
     },
     "execution_count": 10,
     "metadata": {},
     "output_type": "execute_result"
    }
   ],
   "source": [
    "searchHash(77,hashTable)"
   ]
  },
  {
   "cell_type": "markdown",
   "id": "ff2e2f57",
   "metadata": {},
   "source": [
    "##### Perfect Hash Function"
   ]
  },
  {
   "cell_type": "code",
   "execution_count": 11,
   "id": "c4cdbd65",
   "metadata": {},
   "outputs": [],
   "source": [
    "def midSqFunction(data,num):\n",
    "    hasil = str(data**2)\n",
    "    if len(hasil)%2==1:\n",
    "        mid = int(hasil[len(hasil)//2])\n",
    "    else:\n",
    "        mid = int(hasil[len(hasil)//2-1:len(hasil)//2+1])\n",
    "    return mid%num\n",
    "\n",
    "def PutData2(data,table):\n",
    "    for i in range(len(data)):\n",
    "        idx = midSqFunction(data[i],len(table))\n",
    "        table[idx] = data[i]\n",
    "    return table\n",
    "        \n",
    "def perfectHash(data,table):\n",
    "    hasVal = midSqFunction(data,len(table))\n",
    "#     print(hasVal)\n",
    "    if data == table[hasVal]:\n",
    "        return True\n",
    "    else :\n",
    "        return False"
   ]
  },
  {
   "cell_type": "code",
   "execution_count": 12,
   "id": "91dc7866",
   "metadata": {},
   "outputs": [
    {
     "name": "stdout",
     "output_type": "stream",
     "text": [
      "[None, None, None, None, None, None, None, None, None, None, None]\n"
     ]
    }
   ],
   "source": [
    "a=[54, 26, 93, 17, 77, 31,44,11]\n",
    "hashTable=createHashTable(11)\n",
    "print(hashTable)"
   ]
  },
  {
   "cell_type": "code",
   "execution_count": 13,
   "id": "bd5489fa",
   "metadata": {},
   "outputs": [
    {
     "name": "stdout",
     "output_type": "stream",
     "text": [
      "[None, None, 11, 54, 77, 44, 31, 26, 17, 93, None]\n"
     ]
    }
   ],
   "source": [
    "hashTable=PutData2(a,hashTable)\n",
    "print(hashTable)"
   ]
  },
  {
   "cell_type": "code",
   "execution_count": 14,
   "id": "c4057899",
   "metadata": {},
   "outputs": [
    {
     "data": {
      "text/plain": [
       "True"
      ]
     },
     "execution_count": 14,
     "metadata": {},
     "output_type": "execute_result"
    }
   ],
   "source": [
    "perfectHash(11,hashTable)"
   ]
  },
  {
   "cell_type": "markdown",
   "id": "fc4e7feb",
   "metadata": {},
   "source": [
    "##### Hash String Function"
   ]
  },
  {
   "cell_type": "code",
   "execution_count": 15,
   "id": "1abf689f",
   "metadata": {},
   "outputs": [
    {
     "name": "stdout",
     "output_type": "stream",
     "text": [
      "302\n",
      "302\n"
     ]
    }
   ],
   "source": [
    "def strVal(strData):\n",
    "    temp=0\n",
    "    for i in strData:\n",
    "        temp+=ord(i)\n",
    "    return temp\n",
    "print(strVal('adi'))\n",
    "print(strVal('ida'))\n",
    "# menghasilkan nilai yang sama jika terdapat anagram"
   ]
  },
  {
   "cell_type": "code",
   "execution_count": 14,
   "id": "939b48a3",
   "metadata": {},
   "outputs": [
    {
     "name": "stdout",
     "output_type": "stream",
     "text": [
      "612\n",
      "636\n"
     ]
    }
   ],
   "source": [
    "def modStrVal(strData):\n",
    "    temp=0\n",
    "    for i in range(len(strData)):\n",
    "        temp+=ord(strData[i])*(i+1) # +1 untuk depan saja yg beda\n",
    "    return temp\n",
    "print(modStrVal('adi'))\n",
    "print(modStrVal('ydi'))\n"
   ]
  },
  {
   "cell_type": "code",
   "execution_count": 25,
   "id": "9d69df24",
   "metadata": {},
   "outputs": [],
   "source": [
    "def remainderFunctionStr(data,num):\n",
    "    return modStrVal(data)%num\n",
    "\n",
    "def putDataStr(data,table):\n",
    "    for i in range(len(data)):\n",
    "        idx = remainderFunctionStr(data[i][1],len(table))\n",
    "        table[idx]=data[i]\n",
    "    return table\n",
    "\n",
    "def searchHashStr(data,table):\n",
    "    hashVal = remainderFunctionStr(data,len(table))\n",
    "    if data == table[hashVal][1]:\n",
    "        return True\n",
    "    else:\n",
    "        return False "
   ]
  },
  {
   "cell_type": "code",
   "execution_count": 23,
   "id": "658300e4",
   "metadata": {},
   "outputs": [
    {
     "name": "stdout",
     "output_type": "stream",
     "text": [
      "[None, None, None, None, None, None, None, None, None, None, None]\n",
      "['7', None, 'ida', 'f', None, 'ada', None, None, None, None, None]\n"
     ]
    },
    {
     "data": {
      "text/plain": [
       "True"
      ]
     },
     "execution_count": 23,
     "metadata": {},
     "output_type": "execute_result"
    }
   ],
   "source": [
    "x = ['ada','ida','7','f']\n",
    "ha = createHashTable(11)\n",
    "print(ha)\n",
    "ha = putDataStr(x,ha)\n",
    "print(ha)\n",
    "searchHashStr('ida',ha)\n"
   ]
  },
  {
   "cell_type": "code",
   "execution_count": 52,
   "id": "dfd005b6",
   "metadata": {},
   "outputs": [
    {
     "name": "stdout",
     "output_type": "stream",
     "text": [
      "NPM             NAMA                            NILAI   \n",
      "220411100001    Gilang Raden Saputra            84,82\n",
      "220411100002    Umi Cinthia Purwanti             82,7\n",
      "220411100003    Bahuwarna Halim                 81,35\n",
      "220411100004    Mutia Kusmawati                  60,8\n",
      "220411100005    Karsa Karna Simanjuntak          80,6\n",
      "220411100006    Winda Ana Usada                 55,76\n",
      "220411100007    Mahmud Edison Saragih           76,70\n",
      "220411100008    Devi Cinthia Mulyani            85,36\n",
      "220411100009    Viktor Hutasoit                 89,55\n",
      "220411100010    Galang Waluyo                   96,66\n",
      "220411100011    Zalindra Widya Mayasari         76,32\n",
      "220411100012    Hafshah Cinthia Halimah         69,62\n",
      "220411100013    Emil Kurniawan                  81,83\n",
      "220411100014    Violet Namaga                   87,49\n",
      "220411100015    Yulia Mandasari                 53,74\n",
      "220411100016    Harsana Hutapea                 86,76\n",
      "220411100017    Jamil Dodo Prasasta             59,85\n",
      "220411100018    Kadir Gada Maryadi              77,57\n",
      "220411100019    Restu Namaga                    88,79\n",
      "220411100020    Michelle Puti Haryanti          72,70\n",
      "220411100021    Oskar Prayoga                   80,72\n",
      "220411100022    Reza Sitompul                    72,2\n",
      "220411100023    Jatmiko Galiono Januar           97,9\n",
      "220411100024    Jaiman Prabawa Wibowo           72,54\n",
      "220411100025    Iriana Mulyani                  93,50\n",
      "220411100026    Bella Winarsih                  62,39\n",
      "220411100027    Uchita Zulfa Purwanti           65,43\n",
      "220411100028    Kamaria Iriana Mulyani          50,40\n",
      "220411100029    Hana Nabila Lailasari           61,22\n",
      "220411100030    Zalindra Oktaviani              80,80\n",
      "220411100031    Irma Nasyidah                   83,68\n",
      "220411100032    Agnes Syahrini Yolanda          90,87\n",
      "220411100033    Siti Pia Usamah                  74,3\n",
      "220411100034    Syahrini Titin Mandasari        52,63\n",
      "220411100035    Nabila Yuniar                   86,33\n",
      "220411100036    Ade Elvina Hartati              84,39\n",
      "220411100037    Kalim Jailani                   92,24\n",
      "220411100038    Vera Kuswandari                 67,47\n",
      "220411100039    Imam Okta Narpati                67,9\n",
      "220411100040    Taufik Hakim                    93,50\n",
      "220411100041    Latika Palastri                 75,29\n",
      "220411100042    Betania Qori Hariyah            77,63\n",
      "220411100043    Setya Adriansyah                92,66\n",
      "220411100044    Latika Usamah                    77,5\n",
      "220411100045    Harjo Emin Siregar              61,12\n",
      "220411100046    Laras Cindy Puspita             85,21\n",
      "220411100047    Vicky Sudiati                   74,32\n",
      "220411100048    Gamani Mahendra                 86,59\n",
      "220411100049    Cinthia Puspita                 67,10\n",
      "220411100050    Kamila Maryati                   99,3\n",
      "220411100051    Sari Susanti                    80,83\n",
      "220411100052    Anastasia Oktaviani             69,57\n",
      "220411100053    Asirwanda Kasiran Putra         58,11\n",
      "220411100054    Elma Permata                    67,17\n",
      "220411100055    Olivia Hassanah                 52,30\n",
      "220411100056    Salimah Nurdiyanti              57,83\n",
      "220411100057    Betania Zelaya Mandasari        60,14\n",
      "220411100058    Raisa Kuswandari                 67,1\n",
      "220411100059    Jessica Pratiwi                 97,72\n",
      "220411100060    Jayadi Najmudin                 69,84\n",
      "220411100061    Safina Melani                   52,38\n",
      "220411100062    Sabri Siregar                   68,49\n",
      "220411100063    Aurora Wastuti                  93,74\n",
      "220411100064    Puti Pia Hariyah                60,88\n",
      "220411100065    Praba Eka Mangunsong            76,26\n",
      "220411100066    Rusman Karsana Tampubolon       73,63\n",
      "220411100067    Sari Laras Mayasari             80,19\n",
      "220411100068    Tami Ade Kusmawati              95,18\n",
      "220411100069    Cindy Laksmiwati                83,49\n",
      "220411100070    Tania Mulyani                   91,14\n",
      "220411100071    Tania Puspita                   90,39\n",
      "220411100072    Ade Januar                       99,5\n",
      "220411100073    Novi Eli Puspita                 80,5\n",
      "220411100074    Diana Lailasari                 78,33\n",
      "220411100075    Ana Wulandari                   78,13\n",
      "220411100076    Prabowo Permadi                 92,33\n",
      "220411100077    Reksa Nugroho                   78,17\n",
      "220411100078    Emas Kusumo                     72,41\n",
      "220411100079    Jane Farida                     73,18\n",
      "220411100080    Yani Mala Kuswandari            62,37\n",
      "220411100081    Anita Pratiwi                   64,72\n",
      "220411100082    Tira Wastuti                    76,89\n",
      "220411100083    Kanda Soleh Jailani             59,77\n",
      "220411100084    Garang Gunawan                  94,37\n",
      "220411100085    Clara Hartati                   73,38\n",
      "220411100086    Ikin Bagus Simanjuntak          71,10\n",
      "220411100087    Ozy Samosir                     93,42\n",
      "220411100088    Garan Dabukke                   53,52\n",
      "220411100089    Padma Almira Novitasari         96,15\n",
      "220411100090    Rudi Mariadi Manullang          78,59\n",
      "220411100091    Tiara Puspita                   75,44\n",
      "220411100092    Warsita Banawa Wibowo           76,61\n",
      "220411100093    Hasim Saptono                   63,22\n",
      "220411100094    Gada Mursita Adriansyah          58,1\n",
      "220411100095    Ciaobella Farhunnisa Haryanti   57,40\n",
      "220411100096    Viktor Tarihoran                83,34\n",
      "220411100097    Nyana Jumadi Dongoran           77,71\n",
      "220411100098    Rama Dwi Prasetya               78,10\n",
      "220411100099    Eka Cakrabuana Sitompul         94,90\n",
      "220411100100    Juli Tira Rahmawati             50,47\n"
     ]
    }
   ],
   "source": [
    "dispData(dataCsv)"
   ]
  },
  {
   "cell_type": "code",
   "execution_count": 26,
   "id": "ebdfe94c",
   "metadata": {},
   "outputs": [
    {
     "name": "stdout",
     "output_type": "stream",
     "text": [
      "[[220411100010, 'Galang Waluyo', '96,66'], [220411100087, 'Ozy Samosir', '93,42'], None, [220411100077, 'Reksa Nugroho', '78,17'], [220411100084, 'Garang Gunawan', '94,37'], None, None, None, None, [220411100069, 'Cindy Laksmiwati', '83,49'], [220411100040, 'Taufik Hakim', '93,50'], None, [220411100024, 'Jaiman Prabawa Wibowo', '72,54'], None, None, [220411100088, 'Garan Dabukke', '53,52'], None, [220411100073, 'Novi Eli Puspita', '80,5'], None, None, [220411100043, 'Setya Adriansyah', '92,66'], [220411100076, 'Prabowo Permadi', '92,33'], None, None, None, None, [220411100095, 'Ciaobella Farhunnisa Haryanti', '57,40'], None, None, None, None, None, None, [220411100009, 'Viktor Hutasoit', '89,55'], [220411100020, 'Michelle Puti Haryanti', '72,70'], None, [220411100017, 'Jamil Dodo Prasasta', '59,85'], [220411100014, 'Violet Namaga', '87,49'], [220411100063, 'Aurora Wastuti', '93,74'], [220411100027, 'Uchita Zulfa Purwanti', '65,43'], [220411100019, 'Restu Namaga', '88,79'], None, None, None, None, None, None, [220411100029, 'Hana Nabila Lailasari', '61,22'], [220411100023, 'Jatmiko Galiono Januar', '97,9'], [220411100058, 'Raisa Kuswandari', '67,1'], [220411100054, 'Elma Permata', '67,17'], [220411100097, 'Nyana Jumadi Dongoran', '77,71'], None, [220411100021, 'Oskar Prayoga', '80,72'], [220411100064, 'Puti Pia Hariyah', '60,88'], [220411100082, 'Tira Wastuti', '76,89'], None, None, None, None, [220411100059, 'Jessica Pratiwi', '97,72'], [220411100042, 'Betania Qori Hariyah', '77,63'], None, [220411100006, 'Winda Ana Usada', '55,76'], [220411100050, 'Kamila Maryati', '99,3'], None, None, [220411100086, 'Ikin Bagus Simanjuntak', '71,10'], None, [220411100094, 'Gada Mursita Adriansyah', '58,1'], None, [220411100002, 'Umi Cinthia Purwanti', '82,7'], None, None, None, None, None, [220411100093, 'Hasim Saptono', '63,22'], None, None, None, None, None, None, None, None, [220411100096, 'Viktor Tarihoran', '83,34'], None, [220411100022, 'Reza Sitompul', '72,2'], None, [220411100039, 'Imam Okta Narpati', '67,9'], [220411100067, 'Sari Laras Mayasari', '80,19'], [220411100089, 'Padma Almira Novitasari', '96,15'], None, [220411100057, 'Betania Zelaya Mandasari', '60,14'], [220411100048, 'Gamani Mahendra', '86,59'], None, [220411100004, 'Mutia Kusmawati', '60,8'], [220411100074, 'Diana Lailasari', '78,33'], [220411100049, 'Cinthia Puspita', '67,10'], None, [220411100065, 'Praba Eka Mangunsong', '76,26'], [220411100083, 'Kanda Soleh Jailani', '59,77'], [220411100053, 'Asirwanda Kasiran Putra', '58,11'], [220411100025, 'Iriana Mulyani', '93,50'], None, None, None, [220411100080, 'Yani Mala Kuswandari', '62,37'], [220411100047, 'Vicky Sudiati', '74,32'], None, [220411100013, 'Emil Kurniawan', '81,83'], None, None, [220411100070, 'Tania Mulyani', '91,14'], None, [220411100061, 'Safina Melani', '52,38'], None, None, None, None, None, None, [220411100092, 'Warsita Banawa Wibowo', '76,61'], None, None, None, [220411100028, 'Kamaria Iriana Mulyani', '50,40'], [220411100015, 'Yulia Mandasari', '53,74'], [220411100052, 'Anastasia Oktaviani', '69,57'], None, [220411100016, 'Harsana Hutapea', '86,76'], None, None, [220411100090, 'Rudi Mariadi Manullang', '78,59'], None, None, None, None, None, None, None, [220411100036, 'Ade Elvina Hartati', '84,39'], None, None, [220411100051, 'Sari Susanti', '80,83'], None, None, None, None, None, [220411100078, 'Emas Kusumo', '72,41'], [220411100099, 'Eka Cakrabuana Sitompul', '94,90'], [220411100060, 'Jayadi Najmudin', '69,84'], None, None, None, None, None, None, None, None, [220411100068, 'Tami Ade Kusmawati', '95,18'], [220411100075, 'Ana Wulandari', '78,13'], [220411100071, 'Tania Puspita', '90,39'], [220411100026, 'Bella Winarsih', '62,39'], None, [220411100072, 'Ade Januar', '99,5'], None, None, None, None, [220411100098, 'Rama Dwi Prasetya', '78,10'], None, None, None, None, [220411100091, 'Tiara Puspita', '75,44'], None, [220411100044, 'Latika Usamah', '77,5'], [220411100062, 'Sabri Siregar', '68,49'], None, None, None, [220411100018, 'Kadir Gada Maryadi', '77,57'], [220411100079, 'Jane Farida', '73,18'], None, None, None, [220411100055, 'Olivia Hassanah', '52,30'], None, [220411100100, 'Juli Tira Rahmawati', '50,47'], None, None, [220411100081, 'Anita Pratiwi', '64,72'], None, None, [220411100085, 'Clara Hartati', '73,38'], [220411100035, 'Nabila Yuniar', '86,33'], [220411100030, 'Zalindra Oktaviani', '80,80']]\n"
     ]
    },
    {
     "data": {
      "text/plain": [
       "True"
      ]
     },
     "execution_count": 26,
     "metadata": {},
     "output_type": "execute_result"
    }
   ],
   "source": [
    "hashTab = createHashTable(200)\n",
    "# print(hashTab)\n",
    "ha = putDataStr(dataCsv,hashTab)\n",
    "print(ha)\n",
    "searchHashStr('Sari Susanti',ha)"
   ]
  },
  {
   "cell_type": "markdown",
   "id": "77d7333e",
   "metadata": {},
   "source": [
    "###### Linear Probing"
   ]
  },
  {
   "cell_type": "code",
   "execution_count": 19,
   "id": "680b99ce",
   "metadata": {},
   "outputs": [],
   "source": [
    "def linearProbing(idx,hashTable,data):\n",
    "    count =idx\n",
    "    found = False\n",
    "    while count != idx-1 and not found:\n",
    "        \n",
    "        if hashTable[count] == None:\n",
    "            found = True\n",
    "            hashTable[count] = data\n",
    "        else:\n",
    "            count+=1\n",
    "            if count == len(hashTable)-1:\n",
    "                count=0\n",
    "    return hashTable\n",
    "\n",
    "def putData3(a,hashTable,functionName):\n",
    "    \n",
    "    for i in range(len(a)):\n",
    "        \n",
    "        if functionName == 'reminder':\n",
    "            ind = remainderFunction(a[i],len(hashTable))\n",
    "        elif functionName == 'midSq':\n",
    "            ind = midSqFunction(a[i],len(hashTable))\n",
    "        \n",
    "        if hashTable[ind] == 'none':\n",
    "            hashTable[ind] = a[i]\n",
    "        else:\n",
    "            hashTable=linearProbing(ind,hashTable,a[i])\n",
    "\n",
    "            \n",
    "    return(hashTable)\n",
    "\n",
    "def searchHash2(data,table):\n",
    "    hashVal = remainderFunction(data,len(table))\n",
    "    if data == table[hashVal]:\n",
    "        return True \n",
    "    else:\n",
    "        count = hashVal\n",
    "        found = False\n",
    "        while count != hashVal-1 and not found:\n",
    "            if data == table[count]:\n",
    "                return True\n",
    "            else:\n",
    "                count+=1\n",
    "                if count == len(table)-1:\n",
    "                    count=0\n",
    "\n",
    "        return False"
   ]
  },
  {
   "cell_type": "code",
   "execution_count": 20,
   "id": "ca8dbdf1",
   "metadata": {},
   "outputs": [
    {
     "name": "stdout",
     "output_type": "stream",
     "text": [
      "[None, None, None, None, None, None, None, None, None, None, None]\n",
      "[77, None, None, None, 26, 93, 17, None, None, 31, 54]\n"
     ]
    },
    {
     "data": {
      "text/plain": [
       "True"
      ]
     },
     "execution_count": 20,
     "metadata": {},
     "output_type": "execute_result"
    }
   ],
   "source": [
    "a=[54, 26, 93, 17, 77, 31]\n",
    "hashTable=createHashTable(11)\n",
    "print(hashTable)\n",
    "hashTable=putData3(a,hashTable,'reminder')\n",
    "print(hashTable)\n",
    "searchHash2(77,hashTable)"
   ]
  },
  {
   "cell_type": "code",
   "execution_count": 21,
   "id": "316a3f7d",
   "metadata": {},
   "outputs": [
    {
     "name": "stdout",
     "output_type": "stream",
     "text": [
      "[None, None, None, None, None, None, None, None, None, None, None]\n",
      "[77, 44, 55, 20, 26, 93, 17, None, None, 31, 54]\n"
     ]
    },
    {
     "data": {
      "text/plain": [
       "True"
      ]
     },
     "execution_count": 21,
     "metadata": {},
     "output_type": "execute_result"
    }
   ],
   "source": [
    "a=[54, 26, 93, 17, 77, 31,44,55,20]\n",
    "hashTable=createHashTable(11)\n",
    "print(hashTable)\n",
    "hashTable=putData3(a,hashTable,'reminder')\n",
    "print(hashTable)\n",
    "searchHash2(55,hashTable)"
   ]
  },
  {
   "cell_type": "markdown",
   "id": "0b810a85",
   "metadata": {},
   "source": [
    "###### Quadratic Probing"
   ]
  },
  {
   "cell_type": "code",
   "execution_count": 22,
   "id": "821024a4",
   "metadata": {},
   "outputs": [],
   "source": [
    "def putData4(a, hashTable):\n",
    "    for i in range(len(a)):\n",
    "        ind = remainderFunction(a[i], len(hashTable))\n",
    "        if hashTable[ind] is None:\n",
    "            hashTable[ind] = a[i]\n",
    "        else:\n",
    "            # Quadratic Probing\n",
    "            j = 1\n",
    "            while True:\n",
    "                newInd = (ind + j**2) % len(hashTable)\n",
    "                if hashTable[newInd] is None:\n",
    "                    hashTable[newInd] = a[i]\n",
    "                    break\n",
    "                j += 1\n",
    "                if j >= len(hashTable):\n",
    "                    # Jika tidak ada tempat kosong setelah\n",
    "                    # melewati seluruh tabel, keluar dari loop\n",
    "                    break\n",
    "                    \n",
    "    return hashTable\n",
    "\n",
    "def searchHash3(data, table):\n",
    "    hashVal = remainderFunction(data, len(table))\n",
    "    if data == table[hashVal]:\n",
    "        return True\n",
    "    else:\n",
    "        # Quadratic Probing\n",
    "        i = 1\n",
    "        while i < len(table):\n",
    "            newInd = (hashVal + i**2) % len(table)\n",
    "            if table[newInd] == data:\n",
    "                return True\n",
    "            i += 1\n",
    "        return False"
   ]
  },
  {
   "cell_type": "code",
   "execution_count": 23,
   "id": "18da417c",
   "metadata": {},
   "outputs": [
    {
     "name": "stdout",
     "output_type": "stream",
     "text": [
      "[None, None, None, None, None, None, None, None, None, None]\n",
      "[10, 20, None, None, 30, 5, 15, None, None, 25]\n"
     ]
    },
    {
     "data": {
      "text/plain": [
       "True"
      ]
     },
     "execution_count": 23,
     "metadata": {},
     "output_type": "execute_result"
    }
   ],
   "source": [
    "a=[5,10,15,20,25,30]\n",
    "hashTable=createHashTable(10)\n",
    "print(hashTable)\n",
    "hashTable=putData4(a,hashTable)\n",
    "print(hashTable)\n",
    "searchHash3(20,hashTable)"
   ]
  },
  {
   "cell_type": "markdown",
   "id": "cd0aa711",
   "metadata": {},
   "source": [
    "##### Chaining"
   ]
  },
  {
   "cell_type": "code",
   "execution_count": 24,
   "id": "ed48bd81",
   "metadata": {},
   "outputs": [],
   "source": [
    "def hashTableChaining(num):\n",
    "    return [[None] for i in range(num)]\n",
    "\n",
    "def putData4(listData,hashTable):\n",
    "    for i in range(len(listData)):\n",
    "        ind =  remainderFunction(listData[i],len(hashTable))\n",
    "        \n",
    "        if hashTable[ind][0] == None:\n",
    "            hashTable[ind][0] = listData[i]\n",
    "        else:\n",
    "            hashTable[ind].append(listData[i])\n",
    "            \n",
    "    return hashTable\n",
    "        \n",
    "def searchHashChaining(data,table):\n",
    "    hasVal = data%len(table)\n",
    "    for i in table[hasVal]:\n",
    "        if data == i:\n",
    "            return True\n",
    "        \n",
    "    return False"
   ]
  },
  {
   "cell_type": "code",
   "execution_count": 25,
   "id": "16392c6b",
   "metadata": {},
   "outputs": [
    {
     "name": "stdout",
     "output_type": "stream",
     "text": [
      "[[None], [None], [None], [None], [None], [None], [None], [None], [None], [None], [None]]\n",
      "[[77, 44, 55], [None], [None], [None], [26], [93], [17], [None], [None], [31, 20], [54]]\n"
     ]
    },
    {
     "data": {
      "text/plain": [
       "True"
      ]
     },
     "execution_count": 25,
     "metadata": {},
     "output_type": "execute_result"
    }
   ],
   "source": [
    "a=[54, 26, 93, 17, 77, 31,44,55,20]\n",
    "h = hashTableChaining(11)\n",
    "print(h)\n",
    "hashTab = putData4(a,h)\n",
    "print(hashTab)\n",
    "searchHashChaining(31,hashTab)"
   ]
  },
  {
   "cell_type": "code",
   "execution_count": 26,
   "id": "502b5789",
   "metadata": {},
   "outputs": [
    {
     "name": "stdout",
     "output_type": "stream",
     "text": [
      "[None, None, None, None, None, None, None, None, None, None, None]\n",
      "[[77, 44, 55, 66, 99], None, None, None, 26, 93, 17, None, None, [31, 20], 54]\n"
     ]
    },
    {
     "data": {
      "text/plain": [
       "[0, 4]"
      ]
     },
     "execution_count": 26,
     "metadata": {},
     "output_type": "execute_result"
    }
   ],
   "source": [
    "def hashTableCh(num):\n",
    "    return [None for i in range(num)]\n",
    "\n",
    "def putData5(listData,hashTable):\n",
    "    for i in range(len(listData)):\n",
    "        ind =  remainderFunction(listData[i],len(hashTable))\n",
    "        if hashTable[ind] == None:\n",
    "            hashTable[ind] = listData[i]\n",
    "        else:\n",
    "            if type(hashTable[ind]) != list :\n",
    "                hashTable[ind] = [ hashTable[ind],listData[i] ]\n",
    "            else:\n",
    "                hashTable[ind].append(listData[i])\n",
    "            \n",
    "    return hashTable\n",
    "\n",
    "def modSearchHashChaining(data,table):\n",
    "    hasVal = remainderFunction(data,len(table))\n",
    "    if data == table[hasVal]:\n",
    "        return hasVal\n",
    "    elif type(table[hasVal]) == list:\n",
    "        for i in range(len(table[hasVal])):\n",
    "            if data == table[hasVal][i] :\n",
    "                return [hasVal,i]\n",
    "        return False\n",
    "                \n",
    "\n",
    "b = [54, 26, 93, 17, 77, 31,44,55,66,99,20]\n",
    "l = [1,4,15,1]\n",
    "c = hashTableCh(11)\n",
    "print(c)\n",
    "O = putData5(b,c)\n",
    "print(O)\n",
    "modSearchHashChaining(99,O)"
   ]
  },
  {
   "cell_type": "code",
   "execution_count": 2,
   "id": "9b3ab998",
   "metadata": {},
   "outputs": [
    {
     "name": "stdout",
     "output_type": "stream",
     "text": [
      "[[220411100001, 'Gilang Raden Saputra', '84,82'], [220411100002, 'Umi Cinthia Purwanti', '82,7'], [220411100003, 'Bahuwarna Halim', '81,35'], [220411100004, 'Mutia Kusmawati', '60,8'], [220411100005, 'Karsa Karna Simanjuntak', '80,6'], [220411100006, 'Winda Ana Usada', '55,76'], [220411100007, 'Mahmud Edison Saragih', '76,70'], [220411100008, 'Devi Cinthia Mulyani', '85,36'], [220411100009, 'Viktor Hutasoit', '89,55'], [220411100010, 'Galang Waluyo', '96,66'], [220411100011, 'Zalindra Widya Mayasari', '76,32'], [220411100012, 'Hafshah Cinthia Halimah', '69,62'], [220411100013, 'Emil Kurniawan', '81,83'], [220411100014, 'Violet Namaga', '87,49'], [220411100015, 'Yulia Mandasari', '53,74'], [220411100016, 'Harsana Hutapea', '86,76'], [220411100017, 'Jamil Dodo Prasasta', '59,85'], [220411100018, 'Kadir Gada Maryadi', '77,57'], [220411100019, 'Restu Namaga', '88,79'], [220411100020, 'Michelle Puti Haryanti', '72,70'], [220411100021, 'Oskar Prayoga', '80,72'], [220411100022, 'Reza Sitompul', '72,2'], [220411100023, 'Jatmiko Galiono Januar', '97,9'], [220411100024, 'Jaiman Prabawa Wibowo', '72,54'], [220411100025, 'Iriana Mulyani', '93,50'], [220411100026, 'Bella Winarsih', '62,39'], [220411100027, 'Uchita Zulfa Purwanti', '65,43'], [220411100028, 'Kamaria Iriana Mulyani', '50,40'], [220411100029, 'Hana Nabila Lailasari', '61,22'], [220411100030, 'Zalindra Oktaviani', '80,80'], [220411100031, 'Irma Nasyidah', '83,68'], [220411100032, 'Agnes Syahrini Yolanda', '90,87'], [220411100033, 'Siti Pia Usamah', '74,3'], [220411100034, 'Syahrini Titin Mandasari', '52,63'], [220411100035, 'Nabila Yuniar', '86,33'], [220411100036, 'Ade Elvina Hartati', '84,39'], [220411100037, 'Kalim Jailani', '92,24'], [220411100038, 'Vera Kuswandari', '67,47'], [220411100039, 'Imam Okta Narpati', '67,9'], [220411100040, 'Taufik Hakim', '93,50'], [220411100041, 'Latika Palastri', '75,29'], [220411100042, 'Betania Qori Hariyah', '77,63'], [220411100043, 'Setya Adriansyah', '92,66'], [220411100044, 'Latika Usamah', '77,5'], [220411100045, 'Harjo Emin Siregar', '61,12'], [220411100046, 'Laras Cindy Puspita', '85,21'], [220411100047, 'Vicky Sudiati', '74,32'], [220411100048, 'Gamani Mahendra', '86,59'], [220411100049, 'Cinthia Puspita', '67,10'], [220411100050, 'Kamila Maryati', '99,3'], [220411100051, 'Sari Susanti', '80,83'], [220411100052, 'Anastasia Oktaviani', '69,57'], [220411100053, 'Asirwanda Kasiran Putra', '58,11'], [220411100054, 'Elma Permata', '67,17'], [220411100055, 'Olivia Hassanah', '52,30'], [220411100056, 'Salimah Nurdiyanti', '57,83'], [220411100057, 'Betania Zelaya Mandasari', '60,14'], [220411100058, 'Raisa Kuswandari', '67,1'], [220411100059, 'Jessica Pratiwi', '97,72'], [220411100060, 'Jayadi Najmudin', '69,84'], [220411100061, 'Safina Melani', '52,38'], [220411100062, 'Sabri Siregar', '68,49'], [220411100063, 'Aurora Wastuti', '93,74'], [220411100064, 'Puti Pia Hariyah', '60,88'], [220411100065, 'Praba Eka Mangunsong', '76,26'], [220411100066, 'Rusman Karsana Tampubolon', '73,63'], [220411100067, 'Sari Laras Mayasari', '80,19'], [220411100068, 'Tami Ade Kusmawati', '95,18'], [220411100069, 'Cindy Laksmiwati', '83,49'], [220411100070, 'Tania Mulyani', '91,14'], [220411100071, 'Tania Puspita', '90,39'], [220411100072, 'Ade Januar', '99,5'], [220411100073, 'Novi Eli Puspita', '80,5'], [220411100074, 'Diana Lailasari', '78,33'], [220411100075, 'Ana Wulandari', '78,13'], [220411100076, 'Prabowo Permadi', '92,33'], [220411100077, 'Reksa Nugroho', '78,17'], [220411100078, 'Emas Kusumo', '72,41'], [220411100079, 'Jane Farida', '73,18'], [220411100080, 'Yani Mala Kuswandari', '62,37'], [220411100081, 'Anita Pratiwi', '64,72'], [220411100082, 'Tira Wastuti', '76,89'], [220411100083, 'Kanda Soleh Jailani', '59,77'], [220411100084, 'Garang Gunawan', '94,37'], [220411100085, 'Clara Hartati', '73,38'], [220411100086, 'Ikin Bagus Simanjuntak', '71,10'], [220411100087, 'Ozy Samosir', '93,42'], [220411100088, 'Garan Dabukke', '53,52'], [220411100089, 'Padma Almira Novitasari', '96,15'], [220411100090, 'Rudi Mariadi Manullang', '78,59'], [220411100091, 'Tiara Puspita', '75,44'], [220411100092, 'Warsita Banawa Wibowo', '76,61'], [220411100093, 'Hasim Saptono', '63,22'], [220411100094, 'Gada Mursita Adriansyah', '58,1'], [220411100095, 'Ciaobella Farhunnisa Haryanti', '57,40'], [220411100096, 'Viktor Tarihoran', '83,34'], [220411100097, 'Nyana Jumadi Dongoran', '77,71'], [220411100098, 'Rama Dwi Prasetya', '78,10'], [220411100099, 'Eka Cakrabuana Sitompul', '94,90'], [220411100100, 'Juli Tira Rahmawati', '50,47']]\n"
     ]
    }
   ],
   "source": [
    "import pandas as pd\n",
    "dataCsv = pd.read_csv('./dataNilai.csv',delimiter=\";\")\n",
    "dataCsv = dataCsv.values.tolist()\n",
    "print(dataCsv)"
   ]
  },
  {
   "cell_type": "code",
   "execution_count": 4,
   "id": "7f5a3165",
   "metadata": {
    "scrolled": false
   },
   "outputs": [
    {
     "name": "stdout",
     "output_type": "stream",
     "text": [
      "NPM             NAMA                            NILAI   \n",
      "220411100001    Gilang Raden Saputra            84,82\n",
      "220411100002    Umi Cinthia Purwanti             82,7\n",
      "220411100003    Bahuwarna Halim                 81,35\n",
      "220411100004    Mutia Kusmawati                  60,8\n",
      "220411100005    Karsa Karna Simanjuntak          80,6\n",
      "220411100006    Winda Ana Usada                 55,76\n",
      "220411100007    Mahmud Edison Saragih           76,70\n",
      "220411100008    Devi Cinthia Mulyani            85,36\n",
      "220411100009    Viktor Hutasoit                 89,55\n",
      "220411100010    Galang Waluyo                   96,66\n",
      "220411100011    Zalindra Widya Mayasari         76,32\n",
      "220411100012    Hafshah Cinthia Halimah         69,62\n",
      "220411100013    Emil Kurniawan                  81,83\n",
      "220411100014    Violet Namaga                   87,49\n",
      "220411100015    Yulia Mandasari                 53,74\n",
      "220411100016    Harsana Hutapea                 86,76\n",
      "220411100017    Jamil Dodo Prasasta             59,85\n",
      "220411100018    Kadir Gada Maryadi              77,57\n",
      "220411100019    Restu Namaga                    88,79\n",
      "220411100020    Michelle Puti Haryanti          72,70\n",
      "220411100021    Oskar Prayoga                   80,72\n",
      "220411100022    Reza Sitompul                    72,2\n",
      "220411100023    Jatmiko Galiono Januar           97,9\n",
      "220411100024    Jaiman Prabawa Wibowo           72,54\n",
      "220411100025    Iriana Mulyani                  93,50\n",
      "220411100026    Bella Winarsih                  62,39\n",
      "220411100027    Uchita Zulfa Purwanti           65,43\n",
      "220411100028    Kamaria Iriana Mulyani          50,40\n",
      "220411100029    Hana Nabila Lailasari           61,22\n",
      "220411100030    Zalindra Oktaviani              80,80\n",
      "220411100031    Irma Nasyidah                   83,68\n",
      "220411100032    Agnes Syahrini Yolanda          90,87\n",
      "220411100033    Siti Pia Usamah                  74,3\n",
      "220411100034    Syahrini Titin Mandasari        52,63\n",
      "220411100035    Nabila Yuniar                   86,33\n",
      "220411100036    Ade Elvina Hartati              84,39\n",
      "220411100037    Kalim Jailani                   92,24\n",
      "220411100038    Vera Kuswandari                 67,47\n",
      "220411100039    Imam Okta Narpati                67,9\n",
      "220411100040    Taufik Hakim                    93,50\n",
      "220411100041    Latika Palastri                 75,29\n",
      "220411100042    Betania Qori Hariyah            77,63\n",
      "220411100043    Setya Adriansyah                92,66\n",
      "220411100044    Latika Usamah                    77,5\n",
      "220411100045    Harjo Emin Siregar              61,12\n",
      "220411100046    Laras Cindy Puspita             85,21\n",
      "220411100047    Vicky Sudiati                   74,32\n",
      "220411100048    Gamani Mahendra                 86,59\n",
      "220411100049    Cinthia Puspita                 67,10\n",
      "220411100050    Kamila Maryati                   99,3\n",
      "220411100051    Sari Susanti                    80,83\n",
      "220411100052    Anastasia Oktaviani             69,57\n",
      "220411100053    Asirwanda Kasiran Putra         58,11\n",
      "220411100054    Elma Permata                    67,17\n",
      "220411100055    Olivia Hassanah                 52,30\n",
      "220411100056    Salimah Nurdiyanti              57,83\n",
      "220411100057    Betania Zelaya Mandasari        60,14\n",
      "220411100058    Raisa Kuswandari                 67,1\n",
      "220411100059    Jessica Pratiwi                 97,72\n",
      "220411100060    Jayadi Najmudin                 69,84\n",
      "220411100061    Safina Melani                   52,38\n",
      "220411100062    Sabri Siregar                   68,49\n",
      "220411100063    Aurora Wastuti                  93,74\n",
      "220411100064    Puti Pia Hariyah                60,88\n",
      "220411100065    Praba Eka Mangunsong            76,26\n",
      "220411100066    Rusman Karsana Tampubolon       73,63\n",
      "220411100067    Sari Laras Mayasari             80,19\n",
      "220411100068    Tami Ade Kusmawati              95,18\n",
      "220411100069    Cindy Laksmiwati                83,49\n",
      "220411100070    Tania Mulyani                   91,14\n",
      "220411100071    Tania Puspita                   90,39\n",
      "220411100072    Ade Januar                       99,5\n",
      "220411100073    Novi Eli Puspita                 80,5\n",
      "220411100074    Diana Lailasari                 78,33\n",
      "220411100075    Ana Wulandari                   78,13\n",
      "220411100076    Prabowo Permadi                 92,33\n",
      "220411100077    Reksa Nugroho                   78,17\n",
      "220411100078    Emas Kusumo                     72,41\n",
      "220411100079    Jane Farida                     73,18\n",
      "220411100080    Yani Mala Kuswandari            62,37\n",
      "220411100081    Anita Pratiwi                   64,72\n",
      "220411100082    Tira Wastuti                    76,89\n",
      "220411100083    Kanda Soleh Jailani             59,77\n",
      "220411100084    Garang Gunawan                  94,37\n",
      "220411100085    Clara Hartati                   73,38\n",
      "220411100086    Ikin Bagus Simanjuntak          71,10\n",
      "220411100087    Ozy Samosir                     93,42\n",
      "220411100088    Garan Dabukke                   53,52\n",
      "220411100089    Padma Almira Novitasari         96,15\n",
      "220411100090    Rudi Mariadi Manullang          78,59\n",
      "220411100091    Tiara Puspita                   75,44\n",
      "220411100092    Warsita Banawa Wibowo           76,61\n",
      "220411100093    Hasim Saptono                   63,22\n",
      "220411100094    Gada Mursita Adriansyah          58,1\n",
      "220411100095    Ciaobella Farhunnisa Haryanti   57,40\n",
      "220411100096    Viktor Tarihoran                83,34\n",
      "220411100097    Nyana Jumadi Dongoran           77,71\n",
      "220411100098    Rama Dwi Prasetya               78,10\n",
      "220411100099    Eka Cakrabuana Sitompul         94,90\n",
      "220411100100    Juli Tira Rahmawati             50,47\n"
     ]
    }
   ],
   "source": [
    "def dispData(data):\n",
    "    print(\"{:<14}  {:<30}  {:<8}\".format(\"NPM\",\"NAMA\",\"NILAI\"))\n",
    "    for i in data :\n",
    "        print(\"{:<14}  {:<30}  {:>5}\".format(i[0],i[1],i[2]))\n",
    "dispData(dataCsv)\n",
    "\n",
    "# {:<n} align right\n",
    "# {:>n} align left\n",
    "# {:^n} align center"
   ]
  },
  {
   "cell_type": "code",
   "execution_count": 5,
   "id": "c8d892cf",
   "metadata": {},
   "outputs": [],
   "source": [
    "def seqSearch(dataList,data):\n",
    "    position = []\n",
    "    for i in range(len(dataList)):\n",
    "        if dataList[i][2] == data :\n",
    "            position.append(dataList[i])\n",
    "    if position != []:\n",
    "        return f\"{data} is in : {position}\"\n",
    "    return f\"{data} is not found\""
   ]
  },
  {
   "cell_type": "code",
   "execution_count": 6,
   "id": "8b21758d",
   "metadata": {},
   "outputs": [
    {
     "name": "stdout",
     "output_type": "stream",
     "text": [
      "67,1 is in : [[220411100058, 'Raisa Kuswandari', '67,1']]\n"
     ]
    }
   ],
   "source": [
    "print(seqSearch(dataCsv,'67,1'))"
   ]
  },
  {
   "cell_type": "code",
   "execution_count": null,
   "id": "7fc04cab",
   "metadata": {},
   "outputs": [],
   "source": []
  }
 ],
 "metadata": {
  "kernelspec": {
   "display_name": "Python 3 (ipykernel)",
   "language": "python",
   "name": "python3"
  },
  "language_info": {
   "codemirror_mode": {
    "name": "ipython",
    "version": 3
   },
   "file_extension": ".py",
   "mimetype": "text/x-python",
   "name": "python",
   "nbconvert_exporter": "python",
   "pygments_lexer": "ipython3",
   "version": "3.9.12"
  }
 },
 "nbformat": 4,
 "nbformat_minor": 5
}
