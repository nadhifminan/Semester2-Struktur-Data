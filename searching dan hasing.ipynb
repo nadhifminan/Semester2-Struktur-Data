{
 "cells": [
  {
   "cell_type": "code",
   "execution_count": null,
   "id": "0f575898",
   "metadata": {},
   "outputs": [],
   "source": [
    "#materi pertemuan 15 mei 2023"
   ]
  },
  {
   "cell_type": "code",
   "execution_count": 1,
   "id": "9bbeedd4",
   "metadata": {},
   "outputs": [
    {
     "name": "stdout",
     "output_type": "stream",
     "text": [
      "False\n"
     ]
    }
   ],
   "source": [
    "data=[54,25,73,12,2,30]\n",
    "find=False\n",
    "key=20\n",
    "for i in range(len(data)):\n",
    "    if key==data[1]:\n",
    "        find=True\n",
    "print(find)"
   ]
  },
  {
   "cell_type": "code",
   "execution_count": 1,
   "id": "dae8c05e",
   "metadata": {},
   "outputs": [
    {
     "name": "stdout",
     "output_type": "stream",
     "text": [
      "False\n"
     ]
    }
   ],
   "source": [
    "data=[54,25,73,12,2,30]\n",
    "find=False\n",
    "key=20\n",
    "i=0\n",
    "while not (find) and i<len(data):\n",
    "    if key==data[i]:\n",
    "        find=True\n",
    "    i+=1\n",
    "print(find)"
   ]
  },
  {
   "cell_type": "code",
   "execution_count": 10,
   "id": "dbf5389a",
   "metadata": {
    "scrolled": true
   },
   "outputs": [
    {
     "name": "stdout",
     "output_type": "stream",
     "text": [
      "tidak ada\n",
      "tidak ada\n",
      "tidak ada\n",
      "12 berada pada indeks yg ke- 3\n",
      "tidak ada\n",
      "tidak ada\n"
     ]
    }
   ],
   "source": [
    "def selection(data,cari):\n",
    "    find=False\n",
    "    for i in range(len(data)):\n",
    "        if cari==data[i]:\n",
    "            print(data[i],'berada pada indeks yg ke-',i)\n",
    "            find=True\n",
    "        else:\n",
    "            find=False\n",
    "            print('tidak ada')\n",
    "data=[54,25,73,12,2,30]\n",
    "selection(data,12)"
   ]
  },
  {
   "cell_type": "code",
   "execution_count": 2,
   "id": "0b549bef",
   "metadata": {},
   "outputs": [
    {
     "name": "stdout",
     "output_type": "stream",
     "text": [
      "[2, 5, 4, 1, 8]\n",
      "[2, 4, 1, 5, 8]\n",
      "[2, 1, 4, 5, 8]\n",
      "[1, 2, 4, 5, 8]\n",
      "[1, 2, 4, 5, 8]\n"
     ]
    }
   ],
   "source": [
    "data=[2,5,8,4,1]\n",
    "def sorting(data):\n",
    "    for i in range(len(data)-1,-1,-1):\n",
    "        for j in range(i):\n",
    "            if data[j]>data[j+1]:\n",
    "                data[j],data[j+1]=data[j+1],data[j]\n",
    "        print(data)\n",
    "sorting(data)\n",
    "\n"
   ]
  },
  {
   "cell_type": "code",
   "execution_count": 5,
   "id": "079b1d4f",
   "metadata": {
    "scrolled": true
   },
   "outputs": [
    {
     "name": "stdout",
     "output_type": "stream",
     "text": [
      "[5, 2, 2, 7, 8, 9]\n",
      "[2, 2, 5, 7, 8, 9]\n",
      "[2, 2, 5, 7, 8, 9]\n",
      "[2, 2, 5, 7, 8, 9]\n",
      "[2, 2, 5, 7, 8, 9]\n",
      "[2, 2, 5, 7, 8, 9]\n",
      "hasilnya = True 2 ada di indeks yang ke- [0, 1]\n"
     ]
    }
   ],
   "source": [
    "#PR order search didalamnya manggil sorting,2.misal ada data yang berulang dan keluarkan indeks nya data list\n",
    "data=[5,7,2,2,8,9]\n",
    "def searchUnOrder(data,cari):\n",
    "    i=0\n",
    "    indeks=[]\n",
    "    found=False\n",
    "    sorting(data)\n",
    "    while i<len(data):\n",
    "        if cari==data[i]:\n",
    "            indeks.append(i)\n",
    "            found=True\n",
    "        i+=1\n",
    "    print('hasilnya =',found, cari,'ada di indeks yang ke-',indeks)\n",
    "searchUnOrder(data,2)"
   ]
  },
  {
   "cell_type": "code",
   "execution_count": 5,
   "id": "e5c84f6c",
   "metadata": {},
   "outputs": [
    {
     "name": "stdout",
     "output_type": "stream",
     "text": [
      "[[5055, 4704], [1981, 1128], [8392, 2522], [5353, 9375], [8409, 4702], [1162, 5189], [9786, 2162], [5985, 3571], [9456, 1273], [1072, 7548], [4421, 3420], [654, 4535], [7470, 6987], [6607, 5323], [3869, 6587], [2327, 5007], [2580, 1186], [1078, 8949], [5946, 5674], [8405, 1468], [2835, 7676], [2268, 3531], [7038, 482], [1295, 9767], [5251, 1816], [1137, 7865], [1277, 1790], [1689, 9632], [3836, 9778], [9586, 4264], [5025, 6990], [9669, 751], 1317, [191, 9761], [5213, 1469], [3857, 2315], [4930, 588], [8815, 1621], [2593, 2938], [1897, 9774], [3026, 5588], [4511, 5818], [4168, 5674], [7678, 4228], [7217, 1352], [971, 9311], [3424, 3676], [2780, 7307], [4815, 8848], [3235, 7375], [2424, 6815], [7656, 7283], [5277, 8704], [9552, 1433], [65, 1374], [3990, 3988], [4515, 1070], [4570, 2224], [8663, 4013], [6518, 8969], [4819, 5764], [5191, 6226], 7575, [9120, 1469], [586, 2276], [1069, 8678], 3611, [2015, 8767], [2414, 503], [9050, 6064], [6976, 7448], [9484, 5721], 5046, [1952, 7990], [5922, 5280], [5274, 2208], [8237, 6775], 8061, [4310, 268], [6167, 6565], [1791, 2870], [8516, 2727], [6816, 8224], [7149, 1483], [6242, 560], [7267, 5743], [3795, 1350], [9455, 2037], [3188, 476], 1628, [6275, 1730], [1027, 581], [1335, 8812], [7675, 5091], [6780, 3268], [2149, 1405], [3097, 9210], [6808, 8497], [7286, 813], 4211, [4507, 2844], 6163, [4287, 3350], [9010, 7159], [4202, 2590], 6515, [240, 7696], [6409, 8921], 4163, [2817, 4053], [40, 1718], [1367, 9763], [3846, 3150], 8769, [7564, 3294], [7829, 1587], [6071, 1292], 1104, [1362, 1743], [4445, 4407], 3994, 1918, 8915, [2609, 2612], [2141, 4508], [2466, 2468], 7996, [4621, 8362], [6732, 7842], 6090, 1699, [2842, 2914], [2394, 1926], [9094, 805], 5684, [5434, 1381], [3945, 8459], [1371, 7777], [4474, 394], [4604, 4949], [7571, 1178], [2846, 7948], [5149, 6070], [8649, 6095], [1089, 4192], [3732, 9085], 6338, [6278, 1491], [684, 7978], 3370, [5209, 1774], [3055, 1663], [5024, 8920], [155, 1393], [2181, 7549], [5162, 5997], [9560, 156], 7326, [26, 3507], [2797, 8159], [1855, 5182], [7765, 3137], [331, 3357], [5294, 1057], [8705, 5123], [604, 4687], [6236, 8350], [8615, 2079], [92, 9294], 3296, [8573, 4770], [9683, 6555], [214, 8407], 5375, 3574, [1969, 7612], 4491, [2129, 8777], [4590, 8762], [1858, 3851], [929, 2276], [940, 4933], 3841, [8860, 7287], 1512, [5628, 5005], 4168, [1717, 1723], [4580, 9344], 1920, [2586, 2260], 8482, 6988, 3235, [1658, 688], 3359, [8581, 7076], [1871, 9749], [3792, 7062], [3000, 8679], 4206, [3892, 6587], [6667, 1282], 762, [6788, 5442], [7273, 3559], [7086, 4235], [1091, 3447], [4878, 6452], 5231, [5480, 3874], 5447, [1706, 8528], [4347, 5913], 671, 1450, 5317, 5452, [769, 7186], 6730, [9778, 2524], 6276, 7632, 3623, [575, 6416], 6058, 8938, [7529, 8319], [5040, 6028], [3487, 3701], [1273, 2614], [5330, 2508], 8365, 9327, [9374, 2907], 4081, 3207, 2643, [3911, 7038], 3646, 3090, [5236, 7836], [1368, 2048], 5606, 8301, 4949, 4600, [7840, 9627], 8165, [4771, 2829], 917, 88, 2152, 6852, [3812, 5546], 8971, 6683, [6767, 5672], [1861, 5388], 9762, 3641, 5011, 3673, 593, [3495, 1456], 2174, 981, 7218, 879, 5535, 1903, 4748, 609, 2621, 3942, 3494, [7743, 6831], 3662, 2123, 3466, 8169, 9148, [8302, 6242], 9224, 3464, [2015, 3265], 7436, 6806, 171, 9677, 402, 1377, 3221, 4740, 6967, 40, 9627, 709, 899, 3501, 5330, 7687, 1675]\n"
     ]
    },
    {
     "ename": "TypeError",
     "evalue": "object of type 'int' has no len()",
     "output_type": "error",
     "traceback": [
      "\u001b[1;31m---------------------------------------------------------------------------\u001b[0m",
      "\u001b[1;31mTypeError\u001b[0m                                 Traceback (most recent call last)",
      "Input \u001b[1;32mIn [5]\u001b[0m, in \u001b[0;36m<cell line: 52>\u001b[1;34m()\u001b[0m\n\u001b[0;32m     49\u001b[0m \u001b[38;5;28mprint\u001b[39m(hashTable)\n\u001b[0;32m     51\u001b[0m findData\u001b[38;5;241m=\u001b[39m\u001b[38;5;241m3110\u001b[39m\n\u001b[1;32m---> 52\u001b[0m found\u001b[38;5;241m=\u001b[39m\u001b[43msearchHash\u001b[49m\u001b[43m(\u001b[49m\u001b[43mfindData\u001b[49m\u001b[43m,\u001b[49m\u001b[43mhashTable\u001b[49m\u001b[43m)\u001b[49m\n\u001b[0;32m     53\u001b[0m \u001b[38;5;28;01mif\u001b[39;00m \u001b[38;5;129;01mnot\u001b[39;00m found:\n\u001b[0;32m     54\u001b[0m   \u001b[38;5;28mprint\u001b[39m(\u001b[38;5;124m'\u001b[39m\u001b[38;5;132;01m%d\u001b[39;00m\u001b[38;5;124m is not in the hash table\u001b[39m\u001b[38;5;124m'\u001b[39m\u001b[38;5;241m%\u001b[39m(findData))\n",
      "Input \u001b[1;32mIn [5]\u001b[0m, in \u001b[0;36msearchHash\u001b[1;34m(data, hashTable)\u001b[0m\n\u001b[0;32m     37\u001b[0m count\u001b[38;5;241m=\u001b[39m\u001b[38;5;241m0\u001b[39m\n\u001b[0;32m     38\u001b[0m \u001b[38;5;28;01mfor\u001b[39;00m i \u001b[38;5;129;01min\u001b[39;00m \u001b[38;5;28mrange\u001b[39m(\u001b[38;5;28mlen\u001b[39m(hashTable)):\n\u001b[0;32m     39\u001b[0m   \u001b[38;5;66;03m# print(hashTable)\u001b[39;00m\n\u001b[1;32m---> 40\u001b[0m   \u001b[38;5;28;01mfor\u001b[39;00m j \u001b[38;5;129;01min\u001b[39;00m \u001b[38;5;28mrange\u001b[39m(\u001b[38;5;28;43mlen\u001b[39;49m\u001b[43m(\u001b[49m\u001b[43mhashTable\u001b[49m\u001b[43m[\u001b[49m\u001b[43mi\u001b[49m\u001b[43m]\u001b[49m\u001b[43m)\u001b[49m):\n\u001b[0;32m     41\u001b[0m     \u001b[38;5;28;01mif\u001b[39;00m hashTable[i][j]\u001b[38;5;241m==\u001b[39mdata:\n\u001b[0;32m     42\u001b[0m       count\u001b[38;5;241m+\u001b[39m\u001b[38;5;241m=\u001b[39m\u001b[38;5;241m1\u001b[39m\n",
      "\u001b[1;31mTypeError\u001b[0m: object of type 'int' has no len()"
     ]
    }
   ],
   "source": [
    "import random as rdm\n",
    "def createRandom(angka,sampai):\n",
    "  data=[]\n",
    "  for i in range(angka):\n",
    "    acak=rdm.randint(1,sampai)\n",
    "    data.append(acak)\n",
    "  return(data)\n",
    "data=createRandom(500,9800)\n",
    "def remainderFunction (data,num):\n",
    "    return data%num\n",
    "\n",
    "def createHashTable(num):\n",
    "  temp=[]\n",
    "  for i in range(num):\n",
    "    temp.append(None)\n",
    "  return (temp)\n",
    "\n",
    "def putData(data,hashTable):\n",
    "  for i in range(len(data)):\n",
    "    ind=remainderFunction(data[i],len(hashTable))\n",
    "    if hashTable[ind]==None:\n",
    "      hashTable[ind]=data[i]\n",
    "    else:\n",
    "      if type(hashTable[ind]) != list:\n",
    "        hashTable[ind]=[hashTable[ind],data[i]]\n",
    "      else:\n",
    "        hashTable.append(data[i])\n",
    "  return hashTable\n",
    "\n",
    "\n",
    "def searchHash(data,hashTable):\n",
    "  hash=remainderFunction(data,len(hashTable))\n",
    "  if data==hashTable[hash]:\n",
    "    return hash,0\n",
    "\n",
    "  elif type(hashTable[hash])==list:\n",
    "    count=0\n",
    "    for i in range(len(hashTable)):\n",
    "      # print(hashTable)\n",
    "      for j in range(len(hashTable[i])):\n",
    "        if hashTable[i][j]==data:\n",
    "          count+=1\n",
    "          return [i,j]\n",
    "  \n",
    "# data=createRandom(20,30)\n",
    "numOfSlot=5\n",
    "hashTable=createHashTable(numOfSlot)\n",
    "hashTable=putData(data,hashTable)\n",
    "print(hashTable)\n",
    "\n",
    "findData=3110\n",
    "found=searchHash(findData,hashTable)\n",
    "if not found:\n",
    "  print('%d is not in the hash table'%(findData))\n",
    "else:\n",
    "  print('%d is in slot %d indeks:%d'%(findData,found[0],found[1]))\n",
    "  print('Data in slot[%d]:%s'%(found[0],hashTable[found[0]]))"
   ]
  },
  {
   "cell_type": "code",
   "execution_count": 3,
   "id": "661e3b31",
   "metadata": {},
   "outputs": [
    {
     "name": "stdout",
     "output_type": "stream",
     "text": [
      "[[15, 10], None, [7, 17], None, 19]\n",
      "[[15, 10], None, [7, 17], None, 19]\n"
     ]
    },
    {
     "ename": "TypeError",
     "evalue": "object of type 'NoneType' has no len()",
     "output_type": "error",
     "traceback": [
      "\u001b[1;31m---------------------------------------------------------------------------\u001b[0m",
      "\u001b[1;31mTypeError\u001b[0m                                 Traceback (most recent call last)",
      "Input \u001b[1;32mIn [3]\u001b[0m, in \u001b[0;36m<cell line: 2>\u001b[1;34m()\u001b[0m\n\u001b[0;32m      1\u001b[0m findData\u001b[38;5;241m=\u001b[39m\u001b[38;5;241m2\u001b[39m\n\u001b[1;32m----> 2\u001b[0m found\u001b[38;5;241m=\u001b[39m\u001b[43msearchHash\u001b[49m\u001b[43m(\u001b[49m\u001b[43mfindData\u001b[49m\u001b[43m,\u001b[49m\u001b[43mhashTable\u001b[49m\u001b[43m)\u001b[49m\n\u001b[0;32m      3\u001b[0m \u001b[38;5;28;01mif\u001b[39;00m \u001b[38;5;129;01mnot\u001b[39;00m found:\n\u001b[0;32m      4\u001b[0m     \u001b[38;5;28mprint\u001b[39m(\u001b[38;5;124m'\u001b[39m\u001b[38;5;132;01m%d\u001b[39;00m\u001b[38;5;124m is not in the hash table\u001b[39m\u001b[38;5;124m'\u001b[39m\u001b[38;5;241m%\u001b[39m(findData))\n",
      "Input \u001b[1;32mIn [1]\u001b[0m, in \u001b[0;36msearchHash\u001b[1;34m(data, hashTable)\u001b[0m\n\u001b[0;32m     38\u001b[0m \u001b[38;5;28;01mfor\u001b[39;00m i \u001b[38;5;129;01min\u001b[39;00m \u001b[38;5;28mrange\u001b[39m(\u001b[38;5;28mlen\u001b[39m(hashTable[\u001b[38;5;28mhash\u001b[39m])):\n\u001b[0;32m     39\u001b[0m   \u001b[38;5;28mprint\u001b[39m(hashTable)\n\u001b[1;32m---> 40\u001b[0m   \u001b[38;5;28;01mfor\u001b[39;00m j \u001b[38;5;129;01min\u001b[39;00m \u001b[38;5;28mrange\u001b[39m(\u001b[38;5;28;43mlen\u001b[39;49m\u001b[43m(\u001b[49m\u001b[43mhashTable\u001b[49m\u001b[43m[\u001b[49m\u001b[43mi\u001b[49m\u001b[43m]\u001b[49m\u001b[43m)\u001b[49m):\n\u001b[0;32m     41\u001b[0m     \u001b[38;5;28;01mif\u001b[39;00m hashTable[i][j]\u001b[38;5;241m==\u001b[39mdata:\n\u001b[0;32m     42\u001b[0m       count\u001b[38;5;241m+\u001b[39m\u001b[38;5;241m=\u001b[39m\u001b[38;5;241m1\u001b[39m\n",
      "\u001b[1;31mTypeError\u001b[0m: object of type 'NoneType' has no len()"
     ]
    }
   ],
   "source": [
    "findData=2\n",
    "found=searchHash(findData,hashTable)\n",
    "if not found:\n",
    "    print('%d is not in the hash table'%(findData))\n",
    "else:\n",
    "    print('%d is in slot %d indeks:%d'%(findData,found[0],found[1]))\n",
    "    print('Data in slot[%d]:%s'%(found[0],hashTable[found[0]]))"
   ]
  },
  {
   "cell_type": "code",
   "execution_count": 8,
   "id": "08cc359c",
   "metadata": {},
   "outputs": [
    {
     "name": "stdout",
     "output_type": "stream",
     "text": [
      "iterasi sebanyak= 5\n",
      "berada di indeks [3, 4]\n"
     ]
    }
   ],
   "source": [
    "def orderedSearch(data,key):\n",
    "    found=False\n",
    "    i=0\n",
    "    stop=False\n",
    "    count=0\n",
    "    indeks=[]\n",
    "    while not(stop) or not(found):\n",
    "        if i==len(data) or data[i]>key:\n",
    "            stop=True\n",
    "        elif data[i]==key:\n",
    "            ind=i\n",
    "            indeks.append(ind)\n",
    "            found=True\n",
    "        i+=1\n",
    "        count+=1\n",
    "    print('iterasi sebanyak=',count-1)\n",
    "    if found:\n",
    "        print('berada di indeks',indeks)\n",
    "    else:\n",
    "        return False\n",
    "a=[2,12,15,25,25,30,54,73]\n",
    "orderedSearch(a,25)"
   ]
  },
  {
   "cell_type": "code",
   "execution_count": 22,
   "id": "7d8c038c",
   "metadata": {},
   "outputs": [
    {
     "name": "stdout",
     "output_type": "stream",
     "text": [
      "[1, 2, 3]\n",
      "[\n"
     ]
    }
   ],
   "source": [
    "data=[1,2,3]\n",
    "a=str(data)\n",
    "print(a)\n",
    "type(a)\n",
    "print(a[0])"
   ]
  },
  {
   "cell_type": "code",
   "execution_count": 9,
   "id": "dbeb6830",
   "metadata": {},
   "outputs": [
    {
     "name": "stdout",
     "output_type": "stream",
     "text": [
      "counter =  4\n"
     ]
    },
    {
     "data": {
      "text/plain": [
       "[1, 2]"
      ]
     },
     "execution_count": 9,
     "metadata": {},
     "output_type": "execute_result"
    }
   ],
   "source": [
    "#PR menentukan lokasi indeks dengann order search\n",
    "def orderedSearch1(data,key):\n",
    "    found=False\n",
    "    i=0\n",
    "    stop=False\n",
    "    count=0\n",
    "    indeks=[]\n",
    "    while not(stop):\n",
    "        if i==len(data) or data[i]>key:\n",
    "            stop=True\n",
    "        elif data[i]==key:\n",
    "            indeks.append(i)\n",
    "            found=True\n",
    "        i+=1\n",
    "        count+=1\n",
    "    print('counter = ',count)\n",
    "    if found:\n",
    "        return indeks\n",
    "    else:\n",
    "        return False\n",
    "data=[1,2,2,12,15,25,30,54,73]\n",
    "orderedSearch1(data,2)"
   ]
  },
  {
   "cell_type": "code",
   "execution_count": null,
   "id": "ed9c5958",
   "metadata": {},
   "outputs": [],
   "source": []
  },
  {
   "cell_type": "code",
   "execution_count": 5,
   "id": "a03e7938",
   "metadata": {},
   "outputs": [
    {
     "data": {
      "text/plain": [
       "True"
      ]
     },
     "execution_count": 5,
     "metadata": {},
     "output_type": "execute_result"
    }
   ],
   "source": [
    "def seqSearch(listData, data):\n",
    "    ind = 0\n",
    "    found = False\n",
    "    while ind < len(listData) and not found:\n",
    "        if listData[ind] == data:\n",
    "            found = True\n",
    "        else:\n",
    "            ind = ind+1\n",
    "    return found\n",
    "a=[12,5,9,8,1,10,26]\n",
    "seqSearch(a,1)"
   ]
  },
  {
   "cell_type": "code",
   "execution_count": 1,
   "id": "498331bd",
   "metadata": {},
   "outputs": [
    {
     "name": "stdout",
     "output_type": "stream",
     "text": [
      "[2]\n"
     ]
    }
   ],
   "source": [
    "def orderedSeqSearch(listData, data):\n",
    "    ind = 0\n",
    "    found = False\n",
    "    stop = False\n",
    "    position=[]\n",
    "    while ind < len(listData) and not found and not stop:\n",
    "        if listData[ind] == data:\n",
    "            found = True\n",
    "            position.append(ind)\n",
    "        else:\n",
    "            if listData[ind] > data:\n",
    "                stop = True\n",
    "            else:\n",
    "                ind = ind+1\n",
    "    if found:\n",
    "        return position\n",
    "    else:\n",
    "        return ('Data tidak ada')\n",
    "a=[1,1,5,5,8,9,10,12,26]\n",
    "ind=orderedSeqSearch(a,5)\n",
    "print(ind)"
   ]
  },
  {
   "cell_type": "code",
   "execution_count": 5,
   "id": "eeaf2590",
   "metadata": {},
   "outputs": [
    {
     "name": "stdout",
     "output_type": "stream",
     "text": [
      "counter = 8\n"
     ]
    },
    {
     "data": {
      "text/plain": [
       "False"
      ]
     },
     "execution_count": 5,
     "metadata": {},
     "output_type": "execute_result"
    }
   ],
   "source": [
    "#Video\n",
    "#unOrder sequential search\n",
    "def unOrderSearch(listData,key):\n",
    "    found=False\n",
    "    i=0\n",
    "    count=0\n",
    "    while i<len(listData) and not(found):\n",
    "        if listData[i]==key:\n",
    "            ind=i\n",
    "            found=True\n",
    "        i+=1\n",
    "        count+=1\n",
    "    print('counter =',count)\n",
    "    if found==True:\n",
    "        return ind\n",
    "    else:\n",
    "        return False\n",
    "data=[54,25,73,12,15,2,30,73]\n",
    "unOrderSearch(data,14)"
   ]
  },
  {
   "cell_type": "code",
   "execution_count": 4,
   "id": "3eb08b7d",
   "metadata": {},
   "outputs": [
    {
     "name": "stdout",
     "output_type": "stream",
     "text": [
      "12 is in : [3]\n"
     ]
    }
   ],
   "source": [
    "data=[54,25,73,12,12,15,2,30,73]\n",
    "def seqSearch(data,angka):\n",
    "    found=False\n",
    "    i=0\n",
    "    hasil=[]\n",
    "    while i< len(data) and not (found):\n",
    "        if data[i]==angka:\n",
    "            found=True\n",
    "            indeks=i\n",
    "            hasil.append(indeks)\n",
    "        i+=1\n",
    "    if found==True:\n",
    "        print(angka,'is in :',hasil)\n",
    "    else:\n",
    "        print(angka,'is not found')\n",
    "seqSearch(data,12)"
   ]
  },
  {
   "cell_type": "code",
   "execution_count": 4,
   "id": "710591a2",
   "metadata": {},
   "outputs": [
    {
     "data": {
      "text/plain": [
       "[1, 6]"
      ]
     },
     "execution_count": 4,
     "metadata": {},
     "output_type": "execute_result"
    }
   ],
   "source": [
    "#modifikaasi\n",
    "def searching(data,key):\n",
    "    cek=False\n",
    "    i=0\n",
    "    hasil=[]\n",
    "    while i<len(data):\n",
    "        if data[i]==key:\n",
    "            cek=True\n",
    "            ind=i\n",
    "            hasil.append(ind)\n",
    "        i+=1\n",
    "    if cek==True:\n",
    "        return hasil\n",
    "    else:\n",
    "        return False\n",
    "lis=[54,2,25,73,12,15,2,30]\n",
    "searching(lis,2)"
   ]
  },
  {
   "cell_type": "code",
   "execution_count": 5,
   "id": "d68c91ad",
   "metadata": {},
   "outputs": [
    {
     "name": "stdout",
     "output_type": "stream",
     "text": [
      "counter =  1\n"
     ]
    },
    {
     "data": {
      "text/plain": [
       "0"
      ]
     },
     "execution_count": 5,
     "metadata": {},
     "output_type": "execute_result"
    }
   ],
   "source": [
    "#Ordered Sequential Search\n",
    "data=[2,12,15,25,30,54,73]\n",
    "def orderedSearch(data,key):\n",
    "    found=False\n",
    "    i=0\n",
    "    stop=False\n",
    "    count=0\n",
    "    while not(stop) and not(found):\n",
    "        if i==len(data) or data[i]>key:\n",
    "            stop=True\n",
    "        elif data[i]==key:\n",
    "            ind=i\n",
    "            found=True\n",
    "        i+=1\n",
    "        count+=1\n",
    "    print('counter = ',count)\n",
    "    if found:\n",
    "        return ind\n",
    "    else:\n",
    "        return False\n",
    "a=[2,12,15,25,30,54,73]\n",
    "orderedSearch(a,14)"
   ]
  },
  {
   "cell_type": "code",
   "execution_count": null,
   "id": "dd3f7182",
   "metadata": {},
   "outputs": [],
   "source": [
    "#fersi 15 mei \n"
   ]
  },
  {
   "cell_type": "code",
   "execution_count": 27,
   "id": "f1a10481",
   "metadata": {
    "scrolled": true
   },
   "outputs": [
    {
     "name": "stdout",
     "output_type": "stream",
     "text": [
      "counter =  5\n"
     ]
    },
    {
     "data": {
      "text/plain": [
       "[1, 2, 3]"
      ]
     },
     "execution_count": 27,
     "metadata": {},
     "output_type": "execute_result"
    }
   ],
   "source": [
    "#modifikasi\n",
    "def orderedSearch1(data,key):\n",
    "    found=False\n",
    "    i=0\n",
    "    stop=False\n",
    "    count=0\n",
    "    indeks=[]\n",
    "    while not(stop):\n",
    "        if i==len(data) or data[i]>key:\n",
    "            stop=True\n",
    "        elif data[i]==key:\n",
    "            indeks.append(count)\n",
    "            found=True\n",
    "        i+=1\n",
    "        count+=1\n",
    "    print('counter = ',count)\n",
    "    if found:\n",
    "        return indeks\n",
    "    else:\n",
    "        return False\n",
    "data=[1,2,2,2,12,15,25,30,54,73]\n",
    "orderedSearch1(data,2)"
   ]
  },
  {
   "cell_type": "markdown",
   "id": "8035beca",
   "metadata": {},
   "source": [
    "# pertemuan 22 mei 2023"
   ]
  },
  {
   "cell_type": "code",
   "execution_count": 7,
   "id": "0e8c1ef8",
   "metadata": {},
   "outputs": [
    {
     "name": "stdout",
     "output_type": "stream",
     "text": [
      "False\n"
     ]
    }
   ],
   "source": [
    "#pertemuan 22 mei 2023\n",
    "#langkah 1\n",
    "data=[3,7,8,8,10,12,15,20,27,30]\n",
    "middle=len(data)//2\n",
    "firstInd=0\n",
    "endInd=len(data)-1\n",
    "cari=12\n",
    "found=False\n",
    "if cari ==data[middle]:\n",
    "    found=False\n",
    "elif cari>data[middle]:\n",
    "    endInd=middle-1\n",
    "elif cari>data[middle]:\n",
    "    firstInd=middle+1\n",
    "print(found)"
   ]
  },
  {
   "cell_type": "code",
   "execution_count": 3,
   "id": "ba6128f1",
   "metadata": {
    "scrolled": false
   },
   "outputs": [
    {
     "name": "stdout",
     "output_type": "stream",
     "text": [
      "4 10 1 False\n",
      "7 20 2 False\n",
      "5 12 3 True\n"
     ]
    }
   ],
   "source": [
    "#langkah2\n",
    "data=[3,7,8,8,10,12,15,20,27,30]\n",
    "firstInd=0\n",
    "endInd=len(data)-1\n",
    "cari=12\n",
    "found=False\n",
    "count=1\n",
    "while not(found):\n",
    "    middle=(firstInd+endInd)//2\n",
    "    if cari ==data[middle]:\n",
    "        found=True\n",
    "    elif cari<data[middle]:\n",
    "        endInd=middle-1\n",
    "    elif cari>data[middle]:\n",
    "        firstInd=middle+1\n",
    "    print(middle,data[middle],count,found)\n",
    "    count+=1"
   ]
  },
  {
   "cell_type": "code",
   "execution_count": 9,
   "id": "f3135ded",
   "metadata": {},
   "outputs": [
    {
     "name": "stdout",
     "output_type": "stream",
     "text": [
      "4 10 1 False\n",
      "first end = 0 3\n",
      "1 7 2 False\n",
      "first end = 0 0\n",
      "0 3 3 False\n",
      "first end = 0 -1\n"
     ]
    }
   ],
   "source": [
    "#langkah3\n",
    "data=[3,7,8,8,10,12,15,20,27,30]\n",
    "firstInd=0\n",
    "endInd=len(data)-1\n",
    "cari=0\n",
    "found=False\n",
    "count=1\n",
    "while not(found) and firstInd<=endInd:\n",
    "    middle=(firstInd+endInd)//2\n",
    "    if cari ==data[middle]:\n",
    "        found=True\n",
    "    elif cari<data[middle]:\n",
    "        endInd=middle-1\n",
    "    elif cari>data[middle]:\n",
    "        firstInd=middle+1\n",
    "    print(middle,data[middle],count,found)\n",
    "    print('first end =',firstInd,endInd)\n",
    "    count+=1\n",
    "    \n",
    "    \n",
    "#pr rekrusif dari kode diatas"
   ]
  },
  {
   "cell_type": "code",
   "execution_count": null,
   "id": "8c46032b",
   "metadata": {},
   "outputs": [],
   "source": []
  },
  {
   "cell_type": "code",
   "execution_count": 7,
   "id": "3b4c0cc5",
   "metadata": {
    "scrolled": true
   },
   "outputs": [
    {
     "name": "stdout",
     "output_type": "stream",
     "text": [
      "counter =  3\n"
     ]
    },
    {
     "data": {
      "text/plain": [
       "0"
      ]
     },
     "execution_count": 7,
     "metadata": {},
     "output_type": "execute_result"
    }
   ],
   "source": [
    "#binnary search modul\n",
    "def binSearch(data,key):\n",
    "    found=False\n",
    "    first=0\n",
    "    last=len(data)-1\n",
    "    count=0\n",
    "    while first<=last and not(found):\n",
    "        mid=(first+last)//2\n",
    "        if data[mid]==key:\n",
    "            found=True\n",
    "            ind=mid\n",
    "        elif key>data[mid]:\n",
    "            first=mid+1\n",
    "        elif key <data[mid]:\n",
    "            last=mid-1\n",
    "        count+=1\n",
    "    print('counter = ',count)\n",
    "    if found:\n",
    "        return ind\n",
    "    else:\n",
    "        return False\n",
    "a=[2,12,15,25,30,54,73]\n",
    "binSearch(a,2)"
   ]
  },
  {
   "cell_type": "code",
   "execution_count": 24,
   "id": "63a11dae",
   "metadata": {},
   "outputs": [
    {
     "name": "stdout",
     "output_type": "stream",
     "text": [
      "2 is in :1 , numberOfIteration :2\n"
     ]
    }
   ],
   "source": [
    "#modifikasi\n",
    "def binSearch1(data,key):\n",
    "    found=False\n",
    "    first=0\n",
    "    last=len(data)-1\n",
    "    count=0\n",
    "    while first<=last and not(found):\n",
    "        mid=(first+last)//2\n",
    "        if data[mid]==key:\n",
    "            ind=mid\n",
    "            found=True\n",
    "        elif key>data[mid]:\n",
    "            first=mid+1\n",
    "        elif key <data[mid]:\n",
    "            last=mid-1\n",
    "        count+=1\n",
    "    if found:\n",
    "        return (f'{key} is in :{ind} , numberOfIteration :{count}')\n",
    "    else:\n",
    "        return (f'{key} is not found , numberOfIteration:{count}')\n",
    "b=[2,2,12,15,25,30,54,73]\n",
    "print(binSearch1(b,2))"
   ]
  },
  {
   "cell_type": "code",
   "execution_count": null,
   "id": "86e61903",
   "metadata": {},
   "outputs": [],
   "source": [
    "#ordered sequential\n"
   ]
  },
  {
   "cell_type": "code",
   "execution_count": 21,
   "id": "76f0c45b",
   "metadata": {},
   "outputs": [],
   "source": [
    "#pertemuan 22 mei 2023\n",
    "data=[54,26,93,77,31]\n",
    "n=11\n",
    "def createHashTable(n):\n",
    "    hashTable=[]\n",
    "    for i in range(n):\n",
    "        hashTable.append(None)\n",
    "    return hashTable\n",
    "\n",
    "def createHashTable2(hashTable,n):\n",
    "    for i in range(n):\n",
    "        hashTable.append(None)\n",
    "\n",
    "def remainderFn(data,n):\n",
    "    return data%n\n",
    "\n",
    "def putData(dataList,hashTable):\n",
    "    for dt in dataList:\n",
    "        hashTable[remainderFn(dt,len(hashTable))]=dt"
   ]
  },
  {
   "cell_type": "code",
   "execution_count": 22,
   "id": "62c3565c",
   "metadata": {},
   "outputs": [
    {
     "name": "stdout",
     "output_type": "stream",
     "text": [
      "[None, None, None, None, None, None, None, None, None, None, None]\n",
      "[88, None, None, None, 26, 93, 17, None, None, 31, 54]\n"
     ]
    }
   ],
   "source": [
    "data=[54, 26, 93, 17, 77, 31,88]\n",
    "dataHash=[]\n",
    "createHashTable2(dataHash,11)\n",
    "print(dataHash)\n",
    "putData(data,dataHash)\n",
    "print(dataHash)"
   ]
  },
  {
   "cell_type": "code",
   "execution_count": null,
   "id": "1aaabf87",
   "metadata": {},
   "outputs": [],
   "source": [
    "def putData\n",
    "\n",
    "def midSquare(data):\n",
    "    data=data^2\n",
    "    data2=str(data)\n",
    "    if len(data)%2=0:\n",
    "        data=data[(len(data)//2)-1:(len(data)//2)+2]\n",
    "    else:\n",
    "        data=data(len(data)//2)\n",
    "    print(data)\n",
    "    return remainderFn(int(data),n)\n"
   ]
  },
  {
   "cell_type": "code",
   "execution_count": 6,
   "id": "5f826b9b",
   "metadata": {},
   "outputs": [],
   "source": [
    "#Hashing\n",
    "def remainderFunction (data,num):\n",
    "    return (data%num)\n",
    "def createHashTable(num):\n",
    "    temp=[]\n",
    "    for i in range(num):\n",
    "        temp.append('none')\n",
    "    return(temp)\n",
    "def putData(data,table):\n",
    "    for i in range(len(data)):\n",
    "        ind=remainderFunction(data[i],len(table))\n",
    "        table[ind]=data[i]\n",
    "    return(table)\n",
    "def searchHash(data,table):\n",
    "    hashVal=remainderFunction(data,len(table))\n",
    "    if data==table[hashVal]:\n",
    "        return True\n",
    "    else:\n",
    "        return False"
   ]
  },
  {
   "cell_type": "code",
   "execution_count": null,
   "id": "78461ba0",
   "metadata": {},
   "outputs": [],
   "source": [
    "def "
   ]
  },
  {
   "cell_type": "code",
   "execution_count": 7,
   "id": "32cf2bf3",
   "metadata": {},
   "outputs": [
    {
     "name": "stdout",
     "output_type": "stream",
     "text": [
      "['none', 'none', 'none', 'none', 'none', 'none', 'none', 'none', 'none', 'none', 'none']\n"
     ]
    }
   ],
   "source": [
    "a=[54, 26, 93, 17, 77, 31]\n",
    "hashTable=createHashTable(11)\n",
    "print(hashTable)"
   ]
  },
  {
   "cell_type": "code",
   "execution_count": 8,
   "id": "a28b52a4",
   "metadata": {},
   "outputs": [
    {
     "name": "stdout",
     "output_type": "stream",
     "text": [
      "[77, 'none', 'none', 'none', 26, 93, 17, 'none', 'none', 31, 54]\n"
     ]
    }
   ],
   "source": [
    "hashTable=putData(a,hashTable)\n",
    "print(hashTable)"
   ]
  },
  {
   "cell_type": "code",
   "execution_count": 9,
   "id": "7958b036",
   "metadata": {},
   "outputs": [
    {
     "data": {
      "text/plain": [
       "True"
      ]
     },
     "execution_count": 9,
     "metadata": {},
     "output_type": "execute_result"
    }
   ],
   "source": [
    "searchHash(93,hashTable)"
   ]
  },
  {
   "cell_type": "code",
   "execution_count": 13,
   "id": "ba5c4808",
   "metadata": {},
   "outputs": [
    {
     "data": {
      "text/plain": [
       "954"
      ]
     },
     "execution_count": 13,
     "metadata": {},
     "output_type": "execute_result"
    }
   ],
   "source": [
    "def strVal(strData):\n",
    "    temp=0\n",
    "    for i in range (len(strData)):\n",
    "        temp=temp+ord(strData[i])\n",
    "    return(temp)\n",
    "\n",
    "strVal('indonesia')"
   ]
  },
  {
   "cell_type": "code",
   "execution_count": 30,
   "id": "94376910",
   "metadata": {},
   "outputs": [
    {
     "name": "stdout",
     "output_type": "stream",
     "text": [
      "0\n"
     ]
    }
   ],
   "source": [
    "a=''\n",
    "def ordya(a):\n",
    "    temp=0\n",
    "    for i in range(len(a)):\n",
    "        temp+=ord(a[i])\n",
    "    return(temp)\n",
    "print(ordya(''''''))"
   ]
  },
  {
   "cell_type": "code",
   "execution_count": 36,
   "id": "dbffb0a2",
   "metadata": {},
   "outputs": [
    {
     "data": {
      "text/plain": [
       "35"
      ]
     },
     "execution_count": 36,
     "metadata": {},
     "output_type": "execute_result"
    }
   ],
   "source": [
    "ord('')"
   ]
  },
  {
   "cell_type": "code",
   "execution_count": 14,
   "id": "6c413112",
   "metadata": {},
   "outputs": [
    {
     "name": "stdout",
     "output_type": "stream",
     "text": [
      "302\n",
      "302\n"
     ]
    }
   ],
   "source": [
    "print(strVal('dia'))\n",
    "print(strVal('adi'))"
   ]
  },
  {
   "cell_type": "code",
   "execution_count": 15,
   "id": "87c2f7a2",
   "metadata": {},
   "outputs": [],
   "source": [
    "def linearProbing(ind,hashTable,data):\n",
    "    count=ind\n",
    "    found=False\n",
    "    while (count!=ind-1) and not(found):\n",
    "        if hashTable[count]=='none':\n",
    "            found=True\n",
    "            hashTable[count]=data\n",
    "        else:\n",
    "            count=count+1\n",
    "            if count==len(hashTable)-1:\n",
    "                count=0\n",
    "    return(hashTable)\n",
    "\n",
    "\n",
    "\n",
    "\n",
    "def putData3(a,hashTable,functionName):\n",
    "    for i in range(len(a)):\n",
    "        if functionName=='reminder':\n",
    "            ind=remainderFunction(a[i],len(hashTable))\n",
    "        elif functionName=='midSq':\n",
    "            ind=midSqFunction(a[i],len(hashTable))\n",
    "            \n",
    "        if hashTable[ind]=='none':\n",
    "            hashTable[ind]=a[i]\n",
    "        else:\n",
    "            hashTable=linearProbing(ind,hashTable,a[i])\n",
    "    return(hashTable)"
   ]
  },
  {
   "cell_type": "code",
   "execution_count": 16,
   "id": "2e9be512",
   "metadata": {},
   "outputs": [
    {
     "name": "stdout",
     "output_type": "stream",
     "text": [
      "['none', 'none', 'none', 'none', 'none', 'none', 'none', 'none', 'none', 'none', 'none']\n",
      "[77, 'none', 'none', 'none', 26, 93, 17, 'none', 'none', 31, 54]\n"
     ]
    }
   ],
   "source": [
    "a=[54, 26, 93, 17, 77, 31]\n",
    "hashTable=createHashTable(11)\n",
    "print(hashTable)\n",
    "hashTable=putData3(a,hashTable,'reminder')\n",
    "print(hashTable)"
   ]
  },
  {
   "cell_type": "code",
   "execution_count": 11,
   "id": "a3adf06e",
   "metadata": {},
   "outputs": [
    {
     "name": "stdout",
     "output_type": "stream",
     "text": [
      "1\n"
     ]
    }
   ],
   "source": [
    "def unord(data, cari):\n",
    "    i= 0\n",
    "    found=False\n",
    "    while i < len(data) and not found:\n",
    "        if data[i] == cari:\n",
    "            found=True\n",
    "        else:\n",
    "            i+=1\n",
    "    return cari\n",
    "a=[9,1,2,3,1]\n",
    "print(unord(a,1))"
   ]
  },
  {
   "cell_type": "code",
   "execution_count": 2,
   "id": "16669f83",
   "metadata": {},
   "outputs": [
    {
     "data": {
      "text/plain": [
       "True"
      ]
     },
     "execution_count": 2,
     "metadata": {},
     "output_type": "execute_result"
    }
   ],
   "source": [
    "def binarySearch(lisData,data):\n",
    "    if len(lisData)==0:\n",
    "        return False\n",
    "    else:\n",
    "        midpoint=(len(lisData)-1)//2\n",
    "        if lisData[midpoint]==data:\n",
    "            return True\n",
    "        else:\n",
    "            if data<lisData[midpoint]:\n",
    "                return (binarySearch(lisData[:midpoint],data))\n",
    "            else:\n",
    "                return (binarySearch(lisData[midpoint+1:],data))\n",
    "            \n",
    "data=[3,4,2,1,9,3,6]\n",
    "binarySearch(data,6)"
   ]
  },
  {
   "cell_type": "code",
   "execution_count": null,
   "id": "c30b2ee0",
   "metadata": {},
   "outputs": [],
   "source": []
  }
 ],
 "metadata": {
  "kernelspec": {
   "display_name": "Python 3 (ipykernel)",
   "language": "python",
   "name": "python3"
  },
  "language_info": {
   "codemirror_mode": {
    "name": "ipython",
    "version": 3
   },
   "file_extension": ".py",
   "mimetype": "text/x-python",
   "name": "python",
   "nbconvert_exporter": "python",
   "pygments_lexer": "ipython3",
   "version": "3.9.12"
  }
 },
 "nbformat": 4,
 "nbformat_minor": 5
}
