{
 "cells": [
  {
   "cell_type": "code",
   "execution_count": 16,
   "id": "a03e7938",
   "metadata": {},
   "outputs": [
    {
     "data": {
      "text/plain": [
       "True"
      ]
     },
     "execution_count": 16,
     "metadata": {},
     "output_type": "execute_result"
    }
   ],
   "source": [
    "def seqSearch(listData, data):\n",
    "    ind = 0\n",
    "    found = False\n",
    "    while ind < len(listData) and not found:\n",
    "        if listData[ind] == data:\n",
    "            found = True\n",
    "        else:\n",
    "            ind = ind+1\n",
    "    return found\n",
    "a=[12,5,9,8,1,10,26]\n",
    "seqSearch(a,1)"
   ]
  },
  {
   "cell_type": "code",
   "execution_count": 3,
   "id": "498331bd",
   "metadata": {},
   "outputs": [
    {
     "name": "stdout",
     "output_type": "stream",
     "text": [
      "2\n"
     ]
    }
   ],
   "source": [
    "def orderedSeqSearch(listData, data):\n",
    "    ind = 0\n",
    "    found = False\n",
    "    stop = False\n",
    "    position=[]\n",
    "    while ind < len(listData) and not found and not stop:\n",
    "        if listData[ind] == data:\n",
    "            found = True\n",
    "            position.append(ind)\n",
    "        else:\n",
    "            if listData[ind] > data:\n",
    "                stop = True\n",
    "            else:\n",
    "                ind = ind+1\n",
    "    if found:\n",
    "        return ind\n",
    "    else:\n",
    "        return ('Data tidak ada')\n",
    "a=[1,1,5,5,5,8,9,10,12,26]\n",
    "ind=orderedSeqSearch(a,5)\n",
    "print(ind)"
   ]
  },
  {
   "cell_type": "code",
   "execution_count": 5,
   "id": "eeaf2590",
   "metadata": {},
   "outputs": [
    {
     "name": "stdout",
     "output_type": "stream",
     "text": [
      "counter = 8\n"
     ]
    },
    {
     "data": {
      "text/plain": [
       "False"
      ]
     },
     "execution_count": 5,
     "metadata": {},
     "output_type": "execute_result"
    }
   ],
   "source": [
    "#Video\n",
    "#unOrder sequential search\n",
    "def unOrderSearch(listData,key):\n",
    "    found=False\n",
    "    i=0\n",
    "    count=0\n",
    "    while i<len(listData) and not(found):\n",
    "        if listData[i]==key:\n",
    "            ind=i\n",
    "            found=True\n",
    "        i+=1\n",
    "        count+=1\n",
    "    print('counter =',count)\n",
    "    if found==True:\n",
    "        return ind\n",
    "    else:\n",
    "        return False\n",
    "data=[54,25,73,12,15,2,30,73]\n",
    "unOrderSearch(data,14)"
   ]
  },
  {
   "cell_type": "code",
   "execution_count": 4,
   "id": "710591a2",
   "metadata": {},
   "outputs": [
    {
     "data": {
      "text/plain": [
       "[1, 6]"
      ]
     },
     "execution_count": 4,
     "metadata": {},
     "output_type": "execute_result"
    }
   ],
   "source": [
    "#modifikaasi\n",
    "def searching(data,key):\n",
    "    cek=False\n",
    "    i=0\n",
    "    hasil=[]\n",
    "    while i<len(data):\n",
    "        if data[i]==key:\n",
    "            cek=True\n",
    "            ind=i\n",
    "            hasil.append(ind)\n",
    "        i+=1\n",
    "    if cek==True:\n",
    "        return hasil\n",
    "    else:\n",
    "        return False\n",
    "lis=[54,2,25,73,12,15,2,30]\n",
    "searching(lis,2)"
   ]
  },
  {
   "cell_type": "code",
   "execution_count": 5,
   "id": "d68c91ad",
   "metadata": {},
   "outputs": [
    {
     "name": "stdout",
     "output_type": "stream",
     "text": [
      "counter =  1\n"
     ]
    },
    {
     "data": {
      "text/plain": [
       "0"
      ]
     },
     "execution_count": 5,
     "metadata": {},
     "output_type": "execute_result"
    }
   ],
   "source": [
    "#Ordered Sequential Search\n",
    "data=[2,12,15,25,30,54,73]\n",
    "def orderedSearch(data,key):\n",
    "    found=False\n",
    "    i=0\n",
    "    stop=False\n",
    "    count=0\n",
    "    while not(stop) and not(found):\n",
    "        if i==len(data) or data[i]>key:\n",
    "            stop=True\n",
    "        elif data[i]==key:\n",
    "            ind=i\n",
    "            found=True\n",
    "        i+=1\n",
    "        count+=1\n",
    "    print('counter = ',count)\n",
    "    if found:\n",
    "        return ind\n",
    "    else:\n",
    "        return False\n",
    "a=[2,12,15,25,30,54,73]\n",
    "orderedSearch(a,14)"
   ]
  },
  {
   "cell_type": "code",
   "execution_count": 21,
   "id": "f1a10481",
   "metadata": {},
   "outputs": [
    {
     "name": "stdout",
     "output_type": "stream",
     "text": [
      "counter =  3\n"
     ]
    },
    {
     "data": {
      "text/plain": [
       "[0, 1]"
      ]
     },
     "execution_count": 21,
     "metadata": {},
     "output_type": "execute_result"
    }
   ],
   "source": [
    "#modifikasi\n",
    "def orderedSearch1(data,key):\n",
    "    found=False\n",
    "    i=0\n",
    "    stop=False\n",
    "    count=0\n",
    "    indeks=[]\n",
    "    while not(stop):\n",
    "        if i==len(data) or data[i]>key:\n",
    "            stop=True\n",
    "        elif data[i]==key:\n",
    "            indeks.append(i)\n",
    "            found=True\n",
    "        i+=1\n",
    "        count+=1\n",
    "    print('counter = ',count)\n",
    "    if found:\n",
    "        return indeks\n",
    "    else:\n",
    "        return False\n",
    "data=[2,2,12,15,25,30,54,73]\n",
    "orderedSearch1(data,2)"
   ]
  },
  {
   "cell_type": "code",
   "execution_count": 22,
   "id": "3b4c0cc5",
   "metadata": {
    "scrolled": true
   },
   "outputs": [
    {
     "name": "stdout",
     "output_type": "stream",
     "text": [
      "counter =  2\n"
     ]
    },
    {
     "data": {
      "text/plain": [
       "1"
      ]
     },
     "execution_count": 22,
     "metadata": {},
     "output_type": "execute_result"
    }
   ],
   "source": [
    "#binnary search\n",
    "def binSearch(data,key):\n",
    "    found=False\n",
    "    first=0\n",
    "    last=len(data)-1\n",
    "    count=0\n",
    "    while first<=last and not(found):\n",
    "        mid=(first+last)//2\n",
    "        if data[mid]==key:\n",
    "            found=True\n",
    "            ind=mid\n",
    "        elif key>data[mid]:\n",
    "            first=mid+1\n",
    "        elif key <data[mid]:\n",
    "            last=mid-1\n",
    "        count+=1\n",
    "    print('counter = ',count)\n",
    "    if found:\n",
    "        return ind\n",
    "    else:\n",
    "        return False\n",
    "a=[2,12,15,25,30,54,73]\n",
    "binSearch(a,2)"
   ]
  },
  {
   "cell_type": "code",
   "execution_count": 30,
   "id": "63a11dae",
   "metadata": {},
   "outputs": [
    {
     "name": "stdout",
     "output_type": "stream",
     "text": [
      "counter =  2\n",
      "[1]\n"
     ]
    },
    {
     "data": {
      "text/plain": [
       "[1]"
      ]
     },
     "execution_count": 30,
     "metadata": {},
     "output_type": "execute_result"
    }
   ],
   "source": [
    "#modifikasi\n",
    "def binSearch1(data,key):\n",
    "    found=False\n",
    "    first=0\n",
    "    last=len(data)-1\n",
    "    count=0\n",
    "    indek=[]\n",
    "    while first<=last and not(found):\n",
    "        mid=(first+last)//2\n",
    "        if data[mid]==key:\n",
    "            indek.append(mid)\n",
    "            found=True\n",
    "        elif key>data[mid]:\n",
    "            first=mid+1\n",
    "        elif key <data[mid]:\n",
    "            last=mid-1\n",
    "        count+=1\n",
    "    print('counter = ',count)\n",
    "    print(indek)\n",
    "    if found:\n",
    "        return indek\n",
    "    else:\n",
    "        return False\n",
    "b=[2,2,12,15,25,30,54,73]\n",
    "binSearch1(b,2)"
   ]
  },
  {
   "cell_type": "code",
   "execution_count": 6,
   "id": "5f826b9b",
   "metadata": {},
   "outputs": [],
   "source": [
    "#Hashing\n",
    "def remainderFunction (data,num):\n",
    "    return (data%num)\n",
    "def createHashTable(num):\n",
    "    temp=[]\n",
    "    for i in range(num):\n",
    "        temp.append('none')\n",
    "    return(temp)\n",
    "def putData(data,table):\n",
    "    for i in range(len(data)):\n",
    "        ind=remainderFunction(data[i],len(table))\n",
    "        table[ind]=data[i]\n",
    "    return(table)\n",
    "def searchHash(data,table):\n",
    "    hashVal=remainderFunction(data,len(table))\n",
    "    if data==table[hashVal]:\n",
    "        return True\n",
    "    else:\n",
    "        return False"
   ]
  },
  {
   "cell_type": "code",
   "execution_count": 7,
   "id": "32cf2bf3",
   "metadata": {},
   "outputs": [
    {
     "name": "stdout",
     "output_type": "stream",
     "text": [
      "['none', 'none', 'none', 'none', 'none', 'none', 'none', 'none', 'none', 'none', 'none']\n"
     ]
    }
   ],
   "source": [
    "a=[54, 26, 93, 17, 77, 31]\n",
    "hashTable=createHashTable(11)\n",
    "print(hashTable)"
   ]
  },
  {
   "cell_type": "code",
   "execution_count": 8,
   "id": "a28b52a4",
   "metadata": {},
   "outputs": [
    {
     "name": "stdout",
     "output_type": "stream",
     "text": [
      "[77, 'none', 'none', 'none', 26, 93, 17, 'none', 'none', 31, 54]\n"
     ]
    }
   ],
   "source": [
    "hashTable=putData(a,hashTable)\n",
    "print(hashTable)"
   ]
  },
  {
   "cell_type": "code",
   "execution_count": 9,
   "id": "7958b036",
   "metadata": {},
   "outputs": [
    {
     "data": {
      "text/plain": [
       "True"
      ]
     },
     "execution_count": 9,
     "metadata": {},
     "output_type": "execute_result"
    }
   ],
   "source": [
    "searchHash(93,hashTable)"
   ]
  },
  {
   "cell_type": "code",
   "execution_count": 13,
   "id": "ba5c4808",
   "metadata": {},
   "outputs": [
    {
     "data": {
      "text/plain": [
       "954"
      ]
     },
     "execution_count": 13,
     "metadata": {},
     "output_type": "execute_result"
    }
   ],
   "source": [
    "def strVal(strData):\n",
    "    temp=0\n",
    "    for i in range (len(strData)):\n",
    "        temp=temp+ord(strData[i])\n",
    "    return(temp)\n",
    "\n",
    "strVal('indonesia')"
   ]
  },
  {
   "cell_type": "code",
   "execution_count": 14,
   "id": "6c413112",
   "metadata": {},
   "outputs": [
    {
     "name": "stdout",
     "output_type": "stream",
     "text": [
      "302\n",
      "302\n"
     ]
    }
   ],
   "source": [
    "print(strVal('dia'))\n",
    "print(strVal('adi'))"
   ]
  },
  {
   "cell_type": "code",
   "execution_count": 15,
   "id": "87c2f7a2",
   "metadata": {},
   "outputs": [],
   "source": [
    "def linearProbing(ind,hashTable,data):\n",
    "    count=ind\n",
    "    found=False\n",
    "    while (count!=ind-1) and not(found):\n",
    "        if hashTable[count]=='none':\n",
    "            found=True\n",
    "            hashTable[count]=data\n",
    "        else:\n",
    "            count=count+1\n",
    "            if count==len(hashTable)-1:\n",
    "                count=0\n",
    "    return(hashTable)\n",
    "\n",
    "\n",
    "\n",
    "\n",
    "def putData3(a,hashTable,functionName):\n",
    "    for i in range(len(a)):\n",
    "        if functionName=='reminder':\n",
    "            ind=remainderFunction(a[i],len(hashTable))\n",
    "        elif functionName=='midSq':\n",
    "            ind=midSqFunction(a[i],len(hashTable))\n",
    "            \n",
    "        if hashTable[ind]=='none':\n",
    "            hashTable[ind]=a[i]\n",
    "        else:\n",
    "            hashTable=linearProbing(ind,hashTable,a[i])\n",
    "    return(hashTable)"
   ]
  },
  {
   "cell_type": "code",
   "execution_count": 16,
   "id": "2e9be512",
   "metadata": {},
   "outputs": [
    {
     "name": "stdout",
     "output_type": "stream",
     "text": [
      "['none', 'none', 'none', 'none', 'none', 'none', 'none', 'none', 'none', 'none', 'none']\n",
      "[77, 'none', 'none', 'none', 26, 93, 17, 'none', 'none', 31, 54]\n"
     ]
    }
   ],
   "source": [
    "a=[54, 26, 93, 17, 77, 31]\n",
    "hashTable=createHashTable(11)\n",
    "print(hashTable)\n",
    "hashTable=putData3(a,hashTable,'reminder')\n",
    "print(hashTable)"
   ]
  }
 ],
 "metadata": {
  "kernelspec": {
   "display_name": "Python 3 (ipykernel)",
   "language": "python",
   "name": "python3"
  },
  "language_info": {
   "codemirror_mode": {
    "name": "ipython",
    "version": 3
   },
   "file_extension": ".py",
   "mimetype": "text/x-python",
   "name": "python",
   "nbconvert_exporter": "python",
   "pygments_lexer": "ipython3",
   "version": "3.9.12"
  }
 },
 "nbformat": 4,
 "nbformat_minor": 5
}
