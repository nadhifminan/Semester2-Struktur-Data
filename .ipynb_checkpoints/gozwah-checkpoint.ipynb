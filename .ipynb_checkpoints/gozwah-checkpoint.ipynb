{
 "cells": [
  {
   "cell_type": "code",
   "execution_count": 1,
   "id": "ed61784d",
   "metadata": {},
   "outputs": [],
   "source": [
    "def stack():\n",
    "    s=[]\n",
    "    return (s)\n",
    "def push(s,data):\n",
    "    s.append(data)\n",
    "def pop(s):\n",
    "    data=s.pop()\n",
    "    return(data)\n",
    "def peek(s):\n",
    "    return(s[len(s)-1])\n",
    "def isEmpty(s):\n",
    "    return (s==[])\n",
    "def size(s):\n",
    "    return(len(s))"
   ]
  },
  {
   "cell_type": "code",
   "execution_count": 9,
   "id": "fdaecd11",
   "metadata": {
    "scrolled": true
   },
   "outputs": [
    {
     "name": "stdout",
     "output_type": "stream",
     "text": [
      "ini adalah ch 5\n",
      "ini adalah ch +\n",
      "ini adalah ch 2\n",
      "ini adalah ch }\n"
     ]
    },
    {
     "data": {
      "text/plain": [
       "'Kelebihan kurung Tutup'"
      ]
     },
     "execution_count": 9,
     "metadata": {},
     "output_type": "execute_result"
    }
   ],
   "source": [
    "def parenthesesCheck(strMath):\n",
    "    kurung={')':'(','}':'{',']':'['}\n",
    "    kurungBuka=kurung.values()\n",
    "    kurungTutup=kurung.keys()\n",
    "    temp=stack()\n",
    "    matched=True\n",
    "    for ch in strMath:\n",
    "        print('ini adalah ch',ch)\n",
    "        if ch in kurungBuka: # if ch in kurung.values()\n",
    "            push(temp,ch)\n",
    "        if ch in kurungTutup: #if ch in kurung.keys()\n",
    "            if isEmpty(temp):\n",
    "                return 'Kelebihan kurung Tutup'\n",
    "            else:\n",
    "                tempKurung=pop(temp)\n",
    "                if tempKurung ==kurung[ch]:#karena dictonary yg diakses menggunakan kurung tutupnya untuk mendapatkan velua kurung bukanya\n",
    "                    print(tempKurung,'=',kurung[ch])\n",
    "                    matched=matched and True\n",
    "                else:\n",
    "                    matched=matched and False\n",
    "    if not(isEmpty(temp)):\n",
    "        return 'Kelebihan Kurung Buka'\n",
    "    if matched==True:\n",
    "        return 'OK'\n",
    "    else:\n",
    "        return 'Tidak Cocok kurungnya'\n",
    "    \n",
    "parenthesesCheck('5+2}*(3)')"
   ]
  },
  {
   "cell_type": "code",
   "execution_count": 21,
   "id": "37aef7cf",
   "metadata": {},
   "outputs": [
    {
     "data": {
      "text/plain": [
       "'kelebihan kurung tutup'"
      ]
     },
     "execution_count": 21,
     "metadata": {},
     "output_type": "execute_result"
    }
   ],
   "source": [
    "def cek(soal):\n",
    "    stek=stack()\n",
    "    kurung={')':'(',']':'[','}':'{'}\n",
    "    cocok=True\n",
    "    for karakter in soal:\n",
    "        if karakter in kurung.values():\n",
    "            push(stek,karakter)\n",
    "        elif karakter in kurung.keys():\n",
    "            if size(stek)==0 and soal[karakter:]>1 :\n",
    "                return 'kelebihan kurung tutup'\n",
    "            \n",
    "            else:\n",
    "                kecocokan=pop(stek)\n",
    "                if kecocokan==kurung[karakter]:\n",
    "                    cocok=cocok and True\n",
    "                else:\n",
    "                    cocok=cocok and False\n",
    "                \n",
    "        elif karakter in kurung.values():\n",
    "            push(stek,karakter)\n",
    "            if kecocokan!=karakter:\n",
    "                cocok=cocok and False\n",
    "            \n",
    "    if size(stek)!=0:\n",
    "        return 'kelebihan kurung buka'\n",
    "    if cocok==True:\n",
    "        return 'Benar'\n",
    "    else:\n",
    "        return 'kurung tidak sama'\n",
    "soal='5+2}*(3'\n",
    "cek(soal)"
   ]
  },
  {
   "cell_type": "code",
   "execution_count": 25,
   "id": "66175383",
   "metadata": {},
   "outputs": [
    {
     "name": "stdout",
     "output_type": "stream",
     "text": [
      "kurung tidak sama\n"
     ]
    }
   ],
   "source": [
    "def chek(soal):\n",
    "    stek=stack()\n",
    "    kurung={')':'(','}':'{',']':'['}\n",
    "    kurungBuka=kurung.values()\n",
    "    kurungTutup=kurung.keys()\n",
    "    cocok=True\n",
    "    for i in soal:\n",
    "        if i in kurungBuka:\n",
    "            push(stek,i)\n",
    "        elif i in kurungTutup:\n",
    "            if size(stek)==0:\n",
    "                return 'kelebihan kurung tutup'\n",
    "            else:\n",
    "                temp=pop(stek)\n",
    "                if temp==kurung[i]:\n",
    "                    cocok=cocok and True\n",
    "                else:\n",
    "                    cocok=cocok and False\n",
    "    if size(stek)!=0:\n",
    "        return 'kelebihan kurung buka'\n",
    "    elif cocok==True:\n",
    "        return 'benar'\n",
    "    else:\n",
    "        return 'kurung tidak sama'\n",
    "\n",
    "print(chek('{5+2)*3'))          "
   ]
  },
  {
   "cell_type": "code",
   "execution_count": 4,
   "id": "a1a23431",
   "metadata": {},
   "outputs": [
    {
     "name": "stdout",
     "output_type": "stream",
     "text": [
      "top= (\n",
      "[]\n",
      "open = 0 close = 0\n",
      "top= (\n",
      "['(']\n",
      "open = 0 close = 0\n",
      "top= (\n",
      "['(']\n",
      "open = 0 close = 0\n",
      "Jumlah Kurung Buka Lebih banyak\n",
      "False\n"
     ]
    }
   ],
   "source": [
    "def paranthesesCheck(strMath):\n",
    "    operandStack=stack()\n",
    "    lenMath=len(strMath)\n",
    "    openOperand='({['\n",
    "    closeOperand=')}]'\n",
    "    i=0\n",
    "    Matched=True;\n",
    "    while i<(lenMath):\n",
    "        #print(i,'=',strMath[i])\n",
    "        if strMath[i] in openOperand:\n",
    "            push(operandStack,strMath[i])\n",
    "            #print(operandStack)\n",
    "        elif strMath[i] in closeOperand:\n",
    "            if not (isEmpty(operandStack)):\n",
    "                top=pop(operandStack)\n",
    "#                 print(\"top=\",top)\n",
    "#                 print (operandStack)\n",
    "#                 print('open =',openOperand.index(top),'close =',closeOperand.index(strMath[i]))\n",
    "                if openOperand.index(top)==closeOperand.index(strMath[i]):\n",
    "                    Matched=Matched and True\n",
    "                else:\n",
    "                    Matched=Matched and False\n",
    "                    print ('Kurung Buka dan Kurang Tutup tidak Cocok')\n",
    "            else:\n",
    "                Matched=Matched and False\n",
    "                print('Jumlah Kurung Tutup lebih banyak')\n",
    "        i=i+1\n",
    "        #print(Matched)\n",
    "    if not(isEmpty(operandStack)):\n",
    "        Matched=False\n",
    "        print('Jumlah Kurung Buka Lebih banyak')\n",
    "    return(Matched)\n",
    "print(paranthesesCheck('5 x (4 + 5) / ((3 + 2) x (10 - 8)'))"
   ]
  },
  {
   "cell_type": "code",
   "execution_count": 3,
   "id": "58d1c760",
   "metadata": {},
   "outputs": [
    {
     "name": "stdout",
     "output_type": "stream",
     "text": [
      "4\n"
     ]
    }
   ],
   "source": [
    "a='kalimat'\n",
    "b=a.index('m')\n",
    "print(b)"
   ]
  },
  {
   "cell_type": "code",
   "execution_count": 8,
   "id": "cc96cbec",
   "metadata": {},
   "outputs": [
    {
     "name": "stdout",
     "output_type": "stream",
     "text": [
      "['4']\n",
      "['4', '5']\n",
      "-\n",
      "['4', '5', '6']\n",
      "*\n",
      "None\n"
     ]
    }
   ],
   "source": [
    "def evaluatePost(soal):\n",
    "    operator='+*-/'\n",
    "    data=stack()\n",
    "    for i in soal:\n",
    "        if i not in operator:\n",
    "            push(data,i)\n",
    "            print(data)\n",
    "        else:\n",
    "            print(i)\n",
    "print(evaluatePost('45-6*'))"
   ]
  }
 ],
 "metadata": {
  "kernelspec": {
   "display_name": "Python 3 (ipykernel)",
   "language": "python",
   "name": "python3"
  },
  "language_info": {
   "codemirror_mode": {
    "name": "ipython",
    "version": 3
   },
   "file_extension": ".py",
   "mimetype": "text/x-python",
   "name": "python",
   "nbconvert_exporter": "python",
   "pygments_lexer": "ipython3",
   "version": "3.9.12"
  }
 },
 "nbformat": 4,
 "nbformat_minor": 5
}
