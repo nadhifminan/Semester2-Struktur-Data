{
 "cells": [
  {
   "cell_type": "code",
   "execution_count": 5,
   "id": "a0afec5d",
   "metadata": {},
   "outputs": [],
   "source": [
    "class ComplexNum:\n",
    "    #constructor\n",
    "    def __init__(self, re, im):\n",
    "        self.bagianReal = re\n",
    "        self.bagianIm = im\n",
    "    def display(self):\n",
    "        if self.bagianIm < 0:\n",
    "            print(self.bagianReal, str(self.bagianIm)[0], str(self.bagianIm)[1:]+'i')\n",
    "        else:\n",
    "            print(self.bagianReal, '+', str(self.bagianIm)+'i')\n",
    "    def addComplex(self, dt):\n",
    "        a = self.bagianReal + dt.bagianReal\n",
    "        b = self.bagianIm + dt.bagianIm\n",
    "        return ComplexNum(a, b)"
   ]
  },
  {
   "cell_type": "code",
   "execution_count": 8,
   "id": "ccca83eb",
   "metadata": {},
   "outputs": [],
   "source": [
    "x = ComplexNum(4, 3) #instansi\n",
    "y = ComplexNum(5, -8)\n",
    "z = ComplexNum(4, 3).addComplex(ComplexNum(5, -8))"
   ]
  },
  {
   "cell_type": "code",
   "execution_count": 9,
   "id": "1010804a",
   "metadata": {},
   "outputs": [
    {
     "name": "stdout",
     "output_type": "stream",
     "text": [
      "4 + 3i\n",
      "5 - 8i\n",
      "9 - 5i\n"
     ]
    }
   ],
   "source": [
    "x.display()\n",
    "y.display()\n",
    "z.display()"
   ]
  },
  {
   "cell_type": "code",
   "execution_count": 6,
   "id": "0d091a95",
   "metadata": {},
   "outputs": [],
   "source": [
    "#linkedList\n",
    "class Node:\n",
    "    def __init__(self, value):\n",
    "        self.item = value\n",
    "        self.next = None\n",
    "    def getItem(self):\n",
    "        return self.item\n",
    "    def getNext(self):\n",
    "        return self.next\n",
    "    def setItem(self, newValue):\n",
    "        self.item = newValue\n",
    "    def setNext(self, newNode):\n",
    "        self.next = newNode"
   ]
  },
  {
   "cell_type": "code",
   "execution_count": 19,
   "id": "9bacf01c",
   "metadata": {},
   "outputs": [
    {
     "name": "stdout",
     "output_type": "stream",
     "text": [
      "<__main__.Node object at 0x000001F791647E10>\n",
      "<__main__.Node object at 0x000001F791647FD0>\n",
      "<__main__.Node object at 0x000001F78FBD5FD0>\n"
     ]
    }
   ],
   "source": [
    "a = Node(43)\n",
    "b = Node(55)\n",
    "c = Node(78)\n",
    "print(a)\n",
    "print(b)\n",
    "print(c)"
   ]
  },
  {
   "cell_type": "code",
   "execution_count": 44,
   "id": "39361b9b",
   "metadata": {},
   "outputs": [],
   "source": [
    "class LinkedList:\n",
    "    def __init__(self):\n",
    "        self.head = None\n",
    "    def isEmpty(self):\n",
    "        return self.head == None\n",
    "    def addFront(self, newNode):\n",
    "        newNode.next = self.head\n",
    "        self.head = newNode\n",
    "    def addFront2(self, item):\n",
    "        newNode = Node(item)\n",
    "        newNode.next = self.head\n",
    "        self.head = newNode\n",
    "    def size(self):\n",
    "        current = self.head\n",
    "        count = 0\n",
    "        while (current != None):\n",
    "            current = current.getNext()\n",
    "            count += 1\n",
    "        return count\n",
    "    def displayNode(self):\n",
    "        current = self.head\n",
    "        temp = ''\n",
    "        while (current != None):\n",
    "            temp = temp + str(current.getItem()) + ' '\n",
    "            current = current.getNext()\n",
    "        print(temp)"
   ]
  },
  {
   "cell_type": "code",
   "execution_count": 45,
   "id": "b85e5c74",
   "metadata": {},
   "outputs": [
    {
     "name": "stdout",
     "output_type": "stream",
     "text": [
      "None\n",
      "<__main__.Node object at 0x000001F791647FD0>\n",
      "<__main__.Node object at 0x000001F791647E10>\n",
      "<__main__.Node object at 0x000001F78FBD5FD0>\n",
      "3\n",
      "78 43 55 \n"
     ]
    }
   ],
   "source": [
    "dataList = LinkedList()\n",
    "print(dataList.head)\n",
    "dataList.isEmpty()\n",
    "dataList.addFront(b)\n",
    "print(dataList.head)\n",
    "dataList.addFront(a)\n",
    "print(dataList.head)\n",
    "dataList.addFront(c)\n",
    "print(dataList.head)\n",
    "print(dataList.size())\n",
    "dataList.displayNode()\n",
    "#addRear\n",
    "#insert"
   ]
  },
  {
   "cell_type": "code",
   "execution_count": null,
   "id": "f36a077d",
   "metadata": {},
   "outputs": [],
   "source": []
  },
  {
   "cell_type": "code",
   "execution_count": 8,
   "id": "cf4384a9",
   "metadata": {},
   "outputs": [
    {
     "name": "stdout",
     "output_type": "stream",
     "text": [
      "43 None\n",
      "21 None\n",
      "55 None\n",
      "55 <__main__.Node object at 0x000001F791107B10>\n"
     ]
    }
   ],
   "source": [
    "data = a.getItem()\n",
    "pointer = a.getNext()\n",
    "print(data, pointer)\n",
    "a.setItem(21)\n",
    "data = a.getItem()\n",
    "pointer = a.getNext()\n",
    "print(data, pointer)\n",
    "data = b.getItem()\n",
    "pointer = b.getNext()\n",
    "print(data, pointer)\n",
    "b.setNext(a)\n",
    "pointer = b.getNext()\n",
    "print(data, pointer)\n"
   ]
  },
  {
   "cell_type": "code",
   "execution_count": null,
   "id": "3717b196",
   "metadata": {},
   "outputs": [],
   "source": []
  }
 ],
 "metadata": {
  "kernelspec": {
   "display_name": "Python 3 (ipykernel)",
   "language": "python",
   "name": "python3"
  },
  "language_info": {
   "codemirror_mode": {
    "name": "ipython",
    "version": 3
   },
   "file_extension": ".py",
   "mimetype": "text/x-python",
   "name": "python",
   "nbconvert_exporter": "python",
   "pygments_lexer": "ipython3",
   "version": "3.9.12"
  }
 },
 "nbformat": 4,
 "nbformat_minor": 5
}
