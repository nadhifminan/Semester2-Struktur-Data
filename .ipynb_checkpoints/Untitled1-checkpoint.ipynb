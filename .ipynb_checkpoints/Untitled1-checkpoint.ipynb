{
 "cells": [
  {
   "cell_type": "markdown",
   "id": "4ea85a34",
   "metadata": {},
   "source": [
    "# Projek ShortesPath"
   ]
  },
  {
   "cell_type": "code",
   "execution_count": 1,
   "id": "d6ae1281",
   "metadata": {},
   "outputs": [
    {
     "name": "stdout",
     "output_type": "stream",
     "text": [
      "10\n"
     ]
    }
   ],
   "source": [
    "import heapq\n",
    "\n",
    "def shortest_path(graph, start, end):\n",
    "    distances = {vertex: float('inf') for vertex in graph}\n",
    "    distances[start] = 0\n",
    "    queue = [(0, start)]\n",
    "    while queue:\n",
    "        current_distance, current_vertex = heapq.heappop(queue)\n",
    "        if current_distance > distances[current_vertex]:\n",
    "            continue\n",
    "        for neighbor, weight in graph[current_vertex].items():\n",
    "            distance = current_distance + weight\n",
    "            if distance < distances[neighbor]:\n",
    "                distances[neighbor] = distance\n",
    "                heapq.heappush(queue, (distance, neighbor))\n",
    "    return distances[end]\n",
    "\n",
    "graph = {\n",
    "    'A': {'B': 5, 'C': 1},\n",
    "    'B': {'A': 5, 'C': 2, 'D': 1},\n",
    "    'C': {'A': 1, 'B': 2, 'D': 4, 'E': 8},\n",
    "    'D': {'B': 1, 'C': 4, 'E': 3, 'F': 6},\n",
    "    'E': {'C': 8, 'D': 3},\n",
    "    'F': {'D': 6}\n",
    "}\n",
    "\n",
    "print(shortest_path(graph, 'A', 'F'))"
   ]
  },
  {
   "cell_type": "code",
   "execution_count": 15,
   "id": "6b112beb",
   "metadata": {},
   "outputs": [],
   "source": [
    "from queue import PriorityQueue # essentially a binary heap\n",
    "\n",
    "def dijkstra(data, awal, tujuan):\n",
    "    \"\"\" Uniform-cost search / dijkstra \"\"\"\n",
    "    visited = set()\n",
    "    cost = {awal: 0}\n",
    "    parent = {awal: None}\n",
    "    todo = PriorityQueue()\n",
    "  \n",
    "    todo.put((0, awal))\n",
    "    while todo:\n",
    "        while not todo.empty():\n",
    "            _, vertex = todo.get() # finds lowest cost vertex\n",
    "            # loop until we get a fresh vertex\n",
    "            if vertex not in visited: break\n",
    "        else: # if todo ran out\n",
    "            break # quit main loop\n",
    "        visited.add(vertex)\n",
    "        if vertex == tujuan:\n",
    "            break\n",
    "        for neighbor, distance in G[vertex]:\n",
    "            if neighbor in visited: continue # skip these to save time\n",
    "            old_cost = cost.get(neighbor, float('inf')) # default to infinity\n",
    "            new_cost = cost[vertex] + distance\n",
    "            if new_cost < old_cost:\n",
    "                todo.put((new_cost, neighbor))\n",
    "                cost[neighbor] = new_cost\n",
    "                parent[neighbor] = vertex\n",
    "\n",
    "    return parent\n",
    "\n",
    "def make_path(parent, goal):\n",
    "    if goal not in parent:\n",
    "        return None\n",
    "    v = goal\n",
    "    path = []\n",
    "    while v is not None: # root has null parent\n",
    "        path.append(v)\n",
    "        v = parent[v]\n",
    "    return path[::-1]"
   ]
  },
  {
   "cell_type": "code",
   "execution_count": 16,
   "id": "ba57d497",
   "metadata": {},
   "outputs": [
    {
     "name": "stdout",
     "output_type": "stream",
     "text": [
      "['A', 'C', 'G', 'E', 'I', 'K']\n"
     ]
    }
   ],
   "source": [
    "G = { # random example graph\n",
    " 'A': {('C', 76)},\n",
    " 'B': {('C', 20), ('J', 78)},\n",
    " 'C': {('C', 62), ('F', 99), ('G', 72), ('H', 40)},\n",
    " 'D': {('A',  8), ('G', 71), ('I', 61)},\n",
    " 'E': {('C', 16), ('E', 54), ('I',  3)},\n",
    " 'F': {('J', 66)},\n",
    " 'G': {('B', 92), ('E', 48), ('G', 31)},\n",
    " 'H': {('G', 36)},\n",
    " 'I': {('J', 88), ('K', 16)},\n",
    " 'J': {('H',  4), ('K', 46)},\n",
    " 'K': {('I', 40)}\n",
    "}\n",
    "\n",
    "parent = dijkstra(G, 'A', 'K')\n",
    "print(make_path(parent, 'K'))"
   ]
  },
  {
   "cell_type": "code",
   "execution_count": 17,
   "id": "77344677",
   "metadata": {},
   "outputs": [
    {
     "name": "stdout",
     "output_type": "stream",
     "text": [
      "['A', 'B', 'D', 'E']\n"
     ]
    }
   ],
   "source": [
    "# Inisialisasi graf\n",
    "graph = {\n",
    "    'A': {'B': 5, 'C': 3},\n",
    "    'B': {'D': 4},\n",
    "    'C': {'B': 2, 'D': 7},\n",
    "    'D': {'E': 6},\n",
    "    'E': {}\n",
    "}\n",
    "\n",
    "# Fungsi untuk mencari jalur terpendek\n",
    "def shortest_path(graph, start, end, path=[]):\n",
    "    path = path + [start]\n",
    "    if start == end:\n",
    "        return path\n",
    "    if start not in graph:\n",
    "        return None\n",
    "    shortest = None\n",
    "    for node in graph[start]:\n",
    "        if node not in path:\n",
    "            newpath = shortest_path(graph, node, end, path)\n",
    "            if newpath:\n",
    "                if not shortest or len(newpath) < len(shortest):\n",
    "                    shortest = newpath\n",
    "    return shortest\n",
    "\n",
    "# Contoh penggunaan\n",
    "print(shortest_path(graph, 'A', 'E')) # Output: ['A', 'C', 'D', 'E']"
   ]
  },
  {
   "cell_type": "code",
   "execution_count": 36,
   "id": "f338c83e",
   "metadata": {},
   "outputs": [],
   "source": [
    "def createGraph(simpul):\n",
    "    graph={}\n",
    "    for i in range (simpul):\n",
    "        simpul=str(input(\"Masukkan simpul: \"))\n",
    "        lintasan=int(input(\"Berapa tetangga: \"))\n",
    "        key={}\n",
    "        for j in range (lintasan):\n",
    "            keys=str(input(\"Masukkan Tetangga: \"))\n",
    "            value=int(input(\"Masukkan bobot: \"))\n",
    "            key[keys]=value\n",
    "            print()\n",
    "        graph[simpul]=key\n",
    "        print('\\n')\n",
    "    print(graph)"
   ]
  },
  {
   "cell_type": "code",
   "execution_count": 37,
   "id": "bac9befc",
   "metadata": {
    "scrolled": true
   },
   "outputs": [
    {
     "name": "stdout",
     "output_type": "stream",
     "text": [
      "Berapa Simpul: 2\n",
      "Masukkan simpul: e\n",
      "Berapa tetangga: 2\n",
      "Masukkan Tetangga: 1\n",
      "Masukkan bobot: 2\n",
      "\n",
      "Masukkan Tetangga: a\n",
      "Masukkan bobot: 3\n",
      "\n",
      "\n",
      "\n",
      "Masukkan simpul: q\n",
      "Berapa tetangga: 1\n",
      "Masukkan Tetangga: a\n",
      "Masukkan bobot: 4\n",
      "\n",
      "\n",
      "\n",
      "{'e': {'1': 2, 'a': 3}, 'q': {'a': 4}}\n",
      "None\n"
     ]
    }
   ],
   "source": [
    "graph= createGraph(int(input(\"Berapa Simpul: \")))\n",
    "print(graph)"
   ]
  },
  {
   "cell_type": "code",
   "execution_count": null,
   "id": "f2adb6e3",
   "metadata": {},
   "outputs": [],
   "source": [
    "def "
   ]
  },
  {
   "cell_type": "code",
   "execution_count": 18,
   "id": "d4dbb6ce",
   "metadata": {},
   "outputs": [
    {
     "name": "stdout",
     "output_type": "stream",
     "text": [
      "['A', 'B', 'D', 'E']\n",
      "15\n"
     ]
    }
   ],
   "source": [
    "# Inisialisasi graf\n",
    "\n",
    "graph = {\n",
    "    'A': {'B': 4, 'C': 3},\n",
    "    'B': {'D': 4},\n",
    "    'C': {'B': 2, 'D': 7},\n",
    "    'D': {'E': 6},\n",
    "    'E': {}\n",
    "}\n",
    "\n",
    "# Fungsi untuk mencari jalur terpendek\n",
    "def shortest_path(graph, start, end):\n",
    "    # Inisialisasi variabel\n",
    "    distances = {node: float('inf') for node in graph}\n",
    "    distances[start] = 0\n",
    "    visited = {}\n",
    "    path = {}\n",
    "\n",
    "    # Looping untuk mencari jalur terpendek\n",
    "    while True:\n",
    "        # Mencari simpul dengan jarak terpendek\n",
    "        min_node = None\n",
    "        for node in graph:\n",
    "            if node not in visited:\n",
    "                if min_node is None:\n",
    "                    min_node = node\n",
    "                elif distances[node] < distances[min_node]:\n",
    "                    min_node = node\n",
    "\n",
    "        # Jika sudah mencapai simpul tujuan, keluar dari loop\n",
    "        if min_node is None:\n",
    "            break\n",
    "\n",
    "        # Menghitung jarak terpendek ke simpul tetangga\n",
    "        for neighbor, weight in graph[min_node].items():\n",
    "            if weight + distances[min_node] < distances[neighbor]:\n",
    "                distances[neighbor] = weight + distances[min_node]\n",
    "                path[neighbor] = min_node\n",
    "\n",
    "        # Menandai simpul yang sudah dikunjungi\n",
    "        visited[min_node] = True\n",
    "\n",
    "    # Membuat jalur terpendek\n",
    "    shortest_path = [end]\n",
    "    node = end\n",
    "    while node != start:\n",
    "        shortest_path.append(path[node])\n",
    "        node = path[node]\n",
    "    shortest_path.reverse()\n",
    "\n",
    "    # Menghitung total bobot dari jalur terpendek\n",
    "    total_weight = 0\n",
    "    for i in range(len(shortest_path) - 1):\n",
    "        total_weight += graph[shortest_path[i]][shortest_path[i+1]]\n",
    "\n",
    "    return shortest_path, total_weight\n",
    "\n",
    "# Contoh penggunaan\n",
    "path, weight = shortest_path(graph, 'A', 'E')\n",
    "print(path) # Output: ['A', 'C', 'D', 'E']\n",
    "print(weight) # Output: 16"
   ]
  },
  {
   "cell_type": "code",
   "execution_count": 24,
   "id": "79ecdde4",
   "metadata": {
    "scrolled": true
   },
   "outputs": [
    {
     "name": "stdout",
     "output_type": "stream",
     "text": [
      "{'bandung': 12}\n"
     ]
    },
    {
     "ename": "KeyError",
     "evalue": "'mbabat'",
     "output_type": "error",
     "traceback": [
      "\u001b[1;31m---------------------------------------------------------------------------\u001b[0m",
      "\u001b[1;31mKeyError\u001b[0m                                  Traceback (most recent call last)",
      "Input \u001b[1;32mIn [24]\u001b[0m, in \u001b[0;36m<cell line: 30>\u001b[1;34m()\u001b[0m\n\u001b[0;32m     32\u001b[0m child_dist\u001b[38;5;241m=\u001b[39mlokasi[node]\n\u001b[0;32m     33\u001b[0m \u001b[38;5;28;01mfor\u001b[39;00m c \u001b[38;5;129;01min\u001b[39;00m child_dist:\n\u001b[1;32m---> 34\u001b[0m     \u001b[38;5;28;01mif\u001b[39;00m \u001b[43mjarak\u001b[49m\u001b[43m[\u001b[49m\u001b[43mc\u001b[49m\u001b[43m]\u001b[49m \u001b[38;5;241m>\u001b[39m dist\u001b[38;5;241m+\u001b[39mchild_dist:\n\u001b[0;32m     35\u001b[0m         jarak[c]\u001b[38;5;241m=\u001b[39mdist\u001b[38;5;241m+\u001b[39mchild_dist[c]\n\u001b[0;32m     36\u001b[0m         kota[c]\u001b[38;5;241m=\u001b[39mnode\n",
      "\u001b[1;31mKeyError\u001b[0m: 'mbabat'"
     ]
    }
   ],
   "source": [
    "infinity= float('infinity')\n",
    "nama='ronggo'#input('masukkan nama=')\n",
    "kota_pertama='lamongan'#input('masukkan kota anda :')\n",
    "kota_tujuan='cianjur'#input('masukkan kota tujuan anda: ')\n",
    "lokasi= {\n",
    "    'lamongan':{'mbabat':78,'moyoruti':33},\n",
    "    'cianjur':{'bekasi':88,'bandung':65},\n",
    "    'bekasi':{'bandung':12}, \n",
    "    'bandung':{}\n",
    "}\n",
    "print(lokasi['bekasi'])\n",
    "jarak= {}\n",
    "kota= {}\n",
    "for node in lokasi:\n",
    "    jarak[node]=infinity\n",
    "    kota[node]={}\n",
    "\n",
    "jarak[kota_pertama]=0\n",
    "def graphShortesPath(jarak,not_check):\n",
    "    jarak_terpendek=infinity\n",
    "    cheapest_node=\"\"\n",
    "    for node in jarak:\n",
    "        if node in not_check and jarak[node] <= jarak_terpendek:\n",
    "            jarak_terpendek=jarak[node]\n",
    "            cheapest_node=node\n",
    "    return cheapest_node\n",
    "#alforitma djikstra\n",
    "not_check=[node for node in jarak]\n",
    "node=graphShortesPath(jarak,not_check)\n",
    "while not_check:\n",
    "    dist=jarak[node]\n",
    "    child_dist=lokasi[node]\n",
    "    for c in child_dist:\n",
    "        if jarak[c] > dist+child_dist:\n",
    "            jarak[c]=dist+child_dist[c]\n",
    "            kota[c]=node\n",
    "            #pop untuk\n",
    "    not_check.pop(not_check.index(node))\n",
    "    node=graphShortesPath(jarak,not_check)\n",
    "print('')\n",
    "if jarak[kota_tujuan]<infinity:\n",
    "    alur=[kota_tujuan]\n",
    "    i=0\n",
    "    while kota_pertama not in alur:\n",
    "        alur.append(kota[alur[i]])\n",
    "        i+=1\n",
    "else:\n",
    "    print('maaf alur yang anda cari tidak ditemukan')\n",
    "      "
   ]
  },
  {
   "cell_type": "code",
   "execution_count": 54,
   "id": "d52a6f36",
   "metadata": {},
   "outputs": [
    {
     "name": "stdout",
     "output_type": "stream",
     "text": [
      "{'lamongan': inf, 'babat': inf, 'moyoruti': inf, 'bandung': inf}\n",
      "\n",
      "['lamongan', 'moyoruti', 'bandung']\n",
      "45\n"
     ]
    }
   ],
   "source": [
    "\n",
    "\n",
    "\n",
    "\n",
    "infinity = float('infinity')\n",
    "nama = 'ronggo'\n",
    "kota_pertama = 'lamongan'\n",
    "kota_tujuan = 'bandung'\n",
    "lokasi = {\n",
    "    'lamongan': {'babat': 78, 'moyoruti': 33},\n",
    "    'babat': {'moyoruti': 88, 'bandung': 65},\n",
    "    'moyoruti': {'bandung': 12},\n",
    "    'bandung': {}\n",
    "}\n",
    "\n",
    "jarak = {}\n",
    "kota = {}\n",
    "for node in lokasi:\n",
    "    jarak[node] = infinity\n",
    "    kota[node] = {}\n",
    "    \n",
    "print(jarak)\n",
    "\n",
    "jarak[kota_pertama] = 0\n",
    "\n",
    "\n",
    "def graphShortestPath(jarak, not_check):\n",
    "    jarak_terpendek = infinity\n",
    "    cheapest_node = \"\"\n",
    "    for node in jarak:\n",
    "        if node in not_check and jarak[node] <= jarak_terpendek:\n",
    "            jarak_terpendek = jarak[node]\n",
    "            cheapest_node = node\n",
    "    return cheapest_node\n",
    "\n",
    "\n",
    "# Algorithm: Dijkstra\n",
    "not_check = [node for node in jarak]\n",
    "node = graphShortestPath(jarak, not_check)\n",
    "\n",
    "while not_check:\n",
    "    dist = jarak[node]\n",
    "    child_dist = lokasi[node]\n",
    "    for c in child_dist:\n",
    "        if jarak[c] > dist + child_dist[c]:\n",
    "            jarak[c] = dist + child_dist[c]\n",
    "            kota[c] = node\n",
    "    not_check.pop(not_check.index(node))\n",
    "    node = graphShortestPath(jarak, not_check)\n",
    "\n",
    "print('')\n",
    "if jarak[kota_tujuan] < infinity:\n",
    "    alur = [kota_tujuan]\n",
    "    i = 0\n",
    "    while kota_pertama not in alur:\n",
    "        alur.append(kota[alur[i]])\n",
    "        i += 1\n",
    "else:\n",
    "    print('Maaf, alur yang Anda cari tidak ditemukan.')\n",
    "    \n",
    "print(alur[::-1])\n",
    "print(jarak[kota_tujuan])\n"
   ]
  },
  {
   "cell_type": "code",
   "execution_count": 36,
   "id": "c14dcdac",
   "metadata": {},
   "outputs": [
    {
     "data": {
      "text/plain": [
       "100"
      ]
     },
     "execution_count": 36,
     "metadata": {},
     "output_type": "execute_result"
    }
   ],
   "source": [
    "a = {'a':{'c':100},'b':20}\n",
    "a['a']['c']"
   ]
  },
  {
   "cell_type": "code",
   "execution_count": 84,
   "id": "77c5fdc7",
   "metadata": {},
   "outputs": [
    {
     "name": "stdout",
     "output_type": "stream",
     "text": [
      "Graph with 2 nodes and 0 edges\n"
     ]
    },
    {
     "ename": "ValueError",
     "evalue": "not enough values to unpack (expected 3, got 2)",
     "output_type": "error",
     "traceback": [
      "\u001b[1;31m---------------------------------------------------------------------------\u001b[0m",
      "\u001b[1;31mValueError\u001b[0m                                Traceback (most recent call last)",
      "Input \u001b[1;32mIn [84]\u001b[0m, in \u001b[0;36m<cell line: 18>\u001b[1;34m()\u001b[0m\n\u001b[0;32m     16\u001b[0m G \u001b[38;5;241m=\u001b[39m nx\u001b[38;5;241m.\u001b[39mGraph() \n\u001b[0;32m     17\u001b[0m E \u001b[38;5;241m=\u001b[39m [(\u001b[38;5;124m'\u001b[39m\u001b[38;5;124mlamongan\u001b[39m\u001b[38;5;124m'\u001b[39m, \u001b[38;5;124m'\u001b[39m\u001b[38;5;124mbabat\u001b[39m\u001b[38;5;124m'\u001b[39m, \u001b[38;5;241m78\u001b[39m), (\u001b[38;5;124m'\u001b[39m\u001b[38;5;124mlamongan\u001b[39m\u001b[38;5;124m'\u001b[39m, \u001b[38;5;124m'\u001b[39m\u001b[38;5;124mmoyoruti\u001b[39m\u001b[38;5;124m'\u001b[39m, \u001b[38;5;241m33\u001b[39m), (\u001b[38;5;124m'\u001b[39m\u001b[38;5;124mbabat\u001b[39m\u001b[38;5;124m'\u001b[39m, \u001b[38;5;124m'\u001b[39m\u001b[38;5;124mmoyoruti\u001b[39m\u001b[38;5;124m'\u001b[39m, \u001b[38;5;241m88\u001b[39m), (\u001b[38;5;124m'\u001b[39m\u001b[38;5;124mbabat\u001b[39m\u001b[38;5;124m'\u001b[39m, \u001b[38;5;124m'\u001b[39m\u001b[38;5;124mbandung\u001b[39m\u001b[38;5;124m'\u001b[39m, \u001b[38;5;241m63\u001b[39m), (\u001b[38;5;124m'\u001b[39m\u001b[38;5;124mmoyoruti\u001b[39m\u001b[38;5;124m'\u001b[39m, \u001b[38;5;124m'\u001b[39m\u001b[38;5;124mbandung\u001b[39m\u001b[38;5;124m'\u001b[39m, \u001b[38;5;241m12\u001b[39m), (\u001b[38;5;124m'\u001b[39m\u001b[38;5;124mbandung\u001b[39m\u001b[38;5;124m'\u001b[39m, \u001b[38;5;124m'\u001b[39m\u001b[38;5;124mcianjur\u001b[39m\u001b[38;5;124m'\u001b[39m)]\n\u001b[1;32m---> 18\u001b[0m \u001b[43mG\u001b[49m\u001b[38;5;241;43m.\u001b[39;49m\u001b[43madd_weighted_edges_from\u001b[49m\u001b[43m(\u001b[49m\u001b[43mE\u001b[49m\u001b[43m)\u001b[49m\n\u001b[0;32m     20\u001b[0m pos\u001b[38;5;241m=\u001b[39mnx\u001b[38;5;241m.\u001b[39mspring_layout(G)\n\u001b[0;32m     21\u001b[0m nx\u001b[38;5;241m.\u001b[39mdraw(G, pos, with_labels\u001b[38;5;241m=\u001b[39m\u001b[38;5;28;01mTrue\u001b[39;00m, font_weight\u001b[38;5;241m=\u001b[39m\u001b[38;5;124m'\u001b[39m\u001b[38;5;124mbold\u001b[39m\u001b[38;5;124m'\u001b[39m)\n",
      "File \u001b[1;32m~\\anaconda3\\lib\\site-packages\\networkx\\classes\\graph.py:988\u001b[0m, in \u001b[0;36mGraph.add_weighted_edges_from\u001b[1;34m(self, ebunch_to_add, weight, **attr)\u001b[0m\n\u001b[0;32m    958\u001b[0m \u001b[38;5;28;01mdef\u001b[39;00m \u001b[38;5;21madd_weighted_edges_from\u001b[39m(\u001b[38;5;28mself\u001b[39m, ebunch_to_add, weight\u001b[38;5;241m=\u001b[39m\u001b[38;5;124m\"\u001b[39m\u001b[38;5;124mweight\u001b[39m\u001b[38;5;124m\"\u001b[39m, \u001b[38;5;241m*\u001b[39m\u001b[38;5;241m*\u001b[39mattr):\n\u001b[0;32m    959\u001b[0m     \u001b[38;5;124;03m\"\"\"Add weighted edges in `ebunch_to_add` with specified weight attr\u001b[39;00m\n\u001b[0;32m    960\u001b[0m \n\u001b[0;32m    961\u001b[0m \u001b[38;5;124;03m    Parameters\u001b[39;00m\n\u001b[1;32m   (...)\u001b[0m\n\u001b[0;32m    986\u001b[0m \u001b[38;5;124;03m    >>> G.add_weighted_edges_from([(0, 1, 3.0), (1, 2, 7.5)])\u001b[39;00m\n\u001b[0;32m    987\u001b[0m \u001b[38;5;124;03m    \"\"\"\u001b[39;00m\n\u001b[1;32m--> 988\u001b[0m     \u001b[38;5;28mself\u001b[39m\u001b[38;5;241m.\u001b[39madd_edges_from(((u, v, {weight: d}) \u001b[38;5;28;01mfor\u001b[39;00m u, v, d \u001b[38;5;129;01min\u001b[39;00m ebunch_to_add), \u001b[38;5;241m*\u001b[39m\u001b[38;5;241m*\u001b[39mattr)\n",
      "File \u001b[1;32m~\\anaconda3\\lib\\site-packages\\networkx\\classes\\graph.py:933\u001b[0m, in \u001b[0;36mGraph.add_edges_from\u001b[1;34m(self, ebunch_to_add, **attr)\u001b[0m\n\u001b[0;32m    895\u001b[0m \u001b[38;5;28;01mdef\u001b[39;00m \u001b[38;5;21madd_edges_from\u001b[39m(\u001b[38;5;28mself\u001b[39m, ebunch_to_add, \u001b[38;5;241m*\u001b[39m\u001b[38;5;241m*\u001b[39mattr):\n\u001b[0;32m    896\u001b[0m     \u001b[38;5;124;03m\"\"\"Add all the edges in ebunch_to_add.\u001b[39;00m\n\u001b[0;32m    897\u001b[0m \n\u001b[0;32m    898\u001b[0m \u001b[38;5;124;03m    Parameters\u001b[39;00m\n\u001b[1;32m   (...)\u001b[0m\n\u001b[0;32m    931\u001b[0m \u001b[38;5;124;03m    >>> G.add_edges_from([(3, 4), (1, 4)], label=\"WN2898\")\u001b[39;00m\n\u001b[0;32m    932\u001b[0m \u001b[38;5;124;03m    \"\"\"\u001b[39;00m\n\u001b[1;32m--> 933\u001b[0m     \u001b[38;5;28;01mfor\u001b[39;00m e \u001b[38;5;129;01min\u001b[39;00m ebunch_to_add:\n\u001b[0;32m    934\u001b[0m         ne \u001b[38;5;241m=\u001b[39m \u001b[38;5;28mlen\u001b[39m(e)\n\u001b[0;32m    935\u001b[0m         \u001b[38;5;28;01mif\u001b[39;00m ne \u001b[38;5;241m==\u001b[39m \u001b[38;5;241m3\u001b[39m:\n",
      "File \u001b[1;32m~\\anaconda3\\lib\\site-packages\\networkx\\classes\\graph.py:988\u001b[0m, in \u001b[0;36m<genexpr>\u001b[1;34m(.0)\u001b[0m\n\u001b[0;32m    958\u001b[0m \u001b[38;5;28;01mdef\u001b[39;00m \u001b[38;5;21madd_weighted_edges_from\u001b[39m(\u001b[38;5;28mself\u001b[39m, ebunch_to_add, weight\u001b[38;5;241m=\u001b[39m\u001b[38;5;124m\"\u001b[39m\u001b[38;5;124mweight\u001b[39m\u001b[38;5;124m\"\u001b[39m, \u001b[38;5;241m*\u001b[39m\u001b[38;5;241m*\u001b[39mattr):\n\u001b[0;32m    959\u001b[0m     \u001b[38;5;124;03m\"\"\"Add weighted edges in `ebunch_to_add` with specified weight attr\u001b[39;00m\n\u001b[0;32m    960\u001b[0m \n\u001b[0;32m    961\u001b[0m \u001b[38;5;124;03m    Parameters\u001b[39;00m\n\u001b[1;32m   (...)\u001b[0m\n\u001b[0;32m    986\u001b[0m \u001b[38;5;124;03m    >>> G.add_weighted_edges_from([(0, 1, 3.0), (1, 2, 7.5)])\u001b[39;00m\n\u001b[0;32m    987\u001b[0m \u001b[38;5;124;03m    \"\"\"\u001b[39;00m\n\u001b[1;32m--> 988\u001b[0m     \u001b[38;5;28mself\u001b[39m\u001b[38;5;241m.\u001b[39madd_edges_from(((u, v, {weight: d}) \u001b[38;5;28;01mfor\u001b[39;00m u, v, d \u001b[38;5;129;01min\u001b[39;00m ebunch_to_add), \u001b[38;5;241m*\u001b[39m\u001b[38;5;241m*\u001b[39mattr)\n",
      "\u001b[1;31mValueError\u001b[0m: not enough values to unpack (expected 3, got 2)"
     ]
    }
   ],
   "source": [
    "import networkx as nx\n",
    "import matplotlib.pyplot as plt\n",
    "lamongan= nx.Graph()\n",
    "lamongan.add_nodes_from([\"moyoruti\", 'bandung'])\n",
    "lamongan.degree([\"moyoruti\", 'bandung'])\n",
    "print(lamongan)\n",
    "\n",
    "lokasi = {\n",
    "    'lamongan': {'babat': 78, 'moyoruti': 33},\n",
    "    'babat': {'moyoruti': 88, 'bandung': 65},\n",
    "    'moyoruti': {'bandung': 12},\n",
    "    'bandung': {}\n",
    "}\n",
    "\n",
    "\n",
    "G = nx.Graph() \n",
    "E = [('lamongan', 'babat', 78), ('lamongan', 'moyoruti', 33), ('babat', 'moyoruti', 88), ('babat', 'bandung', 63), ('moyoruti', 'bandung', 12), ('bandung', 'cianjur')]\n",
    "G.add_weighted_edges_from(E)\n",
    "\n",
    "pos=nx.spring_layout(G)\n",
    "nx.draw(G, pos, with_labels=True, font_weight='bold')\n",
    "edge_weight = nx.get_edge_attributes(G,'weight')\n",
    "nx.draw_networkx_edge_labels(G, pos, edge_labels = edge_weight)\n",
    "plt.show()"
   ]
  }
 ],
 "metadata": {
  "kernelspec": {
   "display_name": "Python 3 (ipykernel)",
   "language": "python",
   "name": "python3"
  },
  "language_info": {
   "codemirror_mode": {
    "name": "ipython",
    "version": 3
   },
   "file_extension": ".py",
   "mimetype": "text/x-python",
   "name": "python",
   "nbconvert_exporter": "python",
   "pygments_lexer": "ipython3",
   "version": "3.9.12"
  }
 },
 "nbformat": 4,
 "nbformat_minor": 5
}
