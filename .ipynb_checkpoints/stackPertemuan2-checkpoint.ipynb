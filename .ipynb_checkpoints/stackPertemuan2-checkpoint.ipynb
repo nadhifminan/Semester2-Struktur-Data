{
 "cells": [
  {
   "cell_type": "markdown",
   "id": "6daf0e57",
   "metadata": {},
   "source": [
    "# pertemuan 2"
   ]
  },
  {
   "cell_type": "code",
   "execution_count": 2,
   "id": "acddbca7",
   "metadata": {},
   "outputs": [],
   "source": [
    "def stack():\n",
    "    s=[]\n",
    "    return (s)\n",
    "def push(s,data):\n",
    "    s.append(data)\n",
    "def pop(s):\n",
    "    data=s.pop()\n",
    "    return(data)\n",
    "def peek(s):\n",
    "    return(s[len(s)-1])\n",
    "def isEmpty(s):\n",
    "    return (s==[])\n",
    "def size(s):\n",
    "    return(len(s))"
   ]
  },
  {
   "cell_type": "code",
   "execution_count": 6,
   "id": "547da2d8",
   "metadata": {},
   "outputs": [
    {
     "name": "stdout",
     "output_type": "stream",
     "text": [
      "21\n"
     ]
    }
   ],
   "source": [
    "def operasiPost(str):\n",
    "    operand_Stack=stack()\n",
    "    operator='+-/*'\n",
    "    for i in str:\n",
    "        if i not in operator:\n",
    "            push(operand_Stack,i)\n",
    "        else:\n",
    "            oprnd2=pop(operand_Stack)\n",
    "            oprnd1=pop(operand_Stack)\n",
    "            if i=='+':\n",
    "                hasil=int(oprnd1)+int(oprnd2)\n",
    "            elif i=='-':\n",
    "                hasil=int(oprnd1)-int(oprnd2)\n",
    "            elif i=='*':\n",
    "                hasil=int(oprnd1)*int(oprnd2)\n",
    "            else:\n",
    "                hasil=int(oprnd1)/int(oprnd2)\n",
    "            push(operand_Stack,hasil)\n",
    "    return(pop(operand_Stack))\n",
    "print(operasiPost('43+52-*'))"
   ]
  },
  {
   "cell_type": "code",
   "execution_count": null,
   "id": "a6da984a",
   "metadata": {},
   "outputs": [],
   "source": [
    "soal='43 + 52-*'\n",
    "def PR(strng):\n",
    "    operand_stack=stack()\n",
    "    operator={'*':2,'/':2,'-':1,'+':1}\n",
    "    nama_baru=strng.split(' ')\n",
    "    for i in nama_baru:\n",
    "        if i not in operator:\n",
    "            push(operand_stack,i)\n",
    "        else:\n",
    "            oprand2=pop(operand_stack)\n",
    "            oprand1=pop(operand_stack)\n",
    "            if i=='+':\n",
    "                hasil=int()"
   ]
  },
  {
   "cell_type": "code",
   "execution_count": 4,
   "id": "a6651d10",
   "metadata": {
    "scrolled": true
   },
   "outputs": [
    {
     "name": "stdout",
     "output_type": "stream",
     "text": [
      "nadhif fajrul minan\n",
      "['nadhif', 'fajrul', 'minan']\n"
     ]
    }
   ],
   "source": [
    "nama='nadhif fajrul minan'\n",
    "print(nama)\n",
    "baru=nama.split(' ')\n",
    "print(baru)"
   ]
  },
  {
   "cell_type": "code",
   "execution_count": 9,
   "id": "3431466e",
   "metadata": {},
   "outputs": [
    {
     "ename": "IndexError",
     "evalue": "pop from empty list",
     "output_type": "error",
     "traceback": [
      "\u001b[1;31m---------------------------------------------------------------------------\u001b[0m",
      "\u001b[1;31mIndexError\u001b[0m                                Traceback (most recent call last)",
      "Input \u001b[1;32mIn [9]\u001b[0m, in \u001b[0;36m<cell line: 48>\u001b[1;34m()\u001b[0m\n\u001b[0;32m     45\u001b[0m                 stack\u001b[38;5;241m.\u001b[39mappend(result)\n\u001b[0;32m     47\u001b[0m     \u001b[38;5;28;01mreturn\u001b[39;00m stack\u001b[38;5;241m.\u001b[39mpop()\n\u001b[1;32m---> 48\u001b[0m \u001b[38;5;28mprint\u001b[39m(\u001b[43mevaluate_postfix\u001b[49m\u001b[43m(\u001b[49m\u001b[38;5;124;43m'\u001b[39;49m\u001b[38;5;124;43m52 2 *\u001b[39;49m\u001b[38;5;124;43m'\u001b[39;49m\u001b[43m)\u001b[49m)\n",
      "Input \u001b[1;32mIn [9]\u001b[0m, in \u001b[0;36mevaluate_postfix\u001b[1;34m(postfix)\u001b[0m\n\u001b[0;32m     14\u001b[0m \u001b[38;5;28;01melse\u001b[39;00m:\n\u001b[0;32m     15\u001b[0m     operand2 \u001b[38;5;241m=\u001b[39m stack\u001b[38;5;241m.\u001b[39mpop()\n\u001b[1;32m---> 16\u001b[0m     operand1 \u001b[38;5;241m=\u001b[39m \u001b[43mstack\u001b[49m\u001b[38;5;241;43m.\u001b[39;49m\u001b[43mpop\u001b[49m\u001b[43m(\u001b[49m\u001b[43m)\u001b[49m\n\u001b[0;32m     17\u001b[0m     result \u001b[38;5;241m=\u001b[39m \u001b[38;5;28;01mNone\u001b[39;00m\n\u001b[0;32m     18\u001b[0m     \u001b[38;5;28;01mif\u001b[39;00m token \u001b[38;5;129;01min\u001b[39;00m operators:\n",
      "\u001b[1;31mIndexError\u001b[0m: pop from empty list"
     ]
    }
   ],
   "source": [
    "def evaluate_postfix(postfix):\n",
    "    stack = []\n",
    "    operators = {\n",
    "        '+': 1,\n",
    "        '-': 1,\n",
    "        '*': 2,\n",
    "        '/': 2,\n",
    "        '^': 3\n",
    "    }\n",
    "    \n",
    "    for token in postfix:\n",
    "        if token.isdigit():\n",
    "            stack.append(int(token))\n",
    "        else:\n",
    "            operand2 = stack.pop()\n",
    "            operand1 = stack.pop()\n",
    "            result = None\n",
    "            if token in operators:\n",
    "                precedence = operators[token]\n",
    "                if token == '+':\n",
    "                    result = operand1 + operand2\n",
    "                elif token == '-':\n",
    "                    result = operand1 - operand2\n",
    "                elif token == '*':\n",
    "                    result = operand1 * operand2\n",
    "                elif token == '/':\n",
    "                    result = operand1 / operand2\n",
    "                elif token == '^':\n",
    "                    result = operand1 ** operand2\n",
    "                \n",
    "                while stack and operators.get(stack[-1], 0) >= precedence:\n",
    "                    operator = stack.pop()\n",
    "                    operand2 = result\n",
    "                    operand1 = stack.pop()\n",
    "                    if operator == '+':\n",
    "                        result = operand1 + operand2\n",
    "                    elif operator == '-':\n",
    "                        result = operand1 - operand2\n",
    "                    elif operator == '*':\n",
    "                        result = operand1 * operand2\n",
    "                    elif operator == '/':\n",
    "                        result = operand1 / operand2\n",
    "                    elif operator == '^':\n",
    "                        result = operand1 ** operand2\n",
    "                stack.append(result)\n",
    "                \n",
    "    return stack.pop()\n",
    "print(evaluate_postfix('52 2 *'))"
   ]
  },
  {
   "cell_type": "code",
   "execution_count": 2,
   "id": "9577a939",
   "metadata": {},
   "outputs": [
    {
     "name": "stdout",
     "output_type": "stream",
     "text": [
      "-884.0\n"
     ]
    }
   ],
   "source": [
    "def evaluatePost(postStr):\n",
    "    operandStack=stack()\n",
    "    operator='+-/*'\n",
    "    postStr=postStr.split()\n",
    "    for i in postStr:\n",
    "        if i not in operator:\n",
    "            push(operandStack,i)\n",
    "        else:\n",
    "            oprnd2=pop(operandStack)\n",
    "            oprnd1=pop(operandStack)\n",
    "            if i=='+':\n",
    "                result=float(oprnd1)+float(oprnd2)\n",
    "            elif i=='-':\n",
    "                result=float(oprnd1)-float(oprnd2)\n",
    "            elif i=='*':\n",
    "                result=float(oprnd1)*float(oprnd2)\n",
    "            elif i == \"/\":\n",
    "                result=float(oprnd1)/float(oprnd2)\n",
    "            push(operandStack,result)\n",
    "    return(pop(operandStack))\n",
    "\n",
    "\n",
    "print(evaluatePost('41 54 - 68 *'))"
   ]
  },
  {
   "cell_type": "code",
   "execution_count": 23,
   "id": "dd829097",
   "metadata": {},
   "outputs": [
    {
     "name": "stdout",
     "output_type": "stream",
     "text": [
      "ab+c*\n"
     ]
    }
   ],
   "source": [
    "def infixToPostfix(strMath):\n",
    "    hasil=\"\"\n",
    "    oprStc = stack()\n",
    "    operator = {\"^\":2,\"*\":1,\"/\":1,\"+\":0,\"-\":0}\n",
    "    \n",
    "    for i in strMath :\n",
    "        \n",
    "        if i not in operator.keys() and i not in [\"(\",\")\"]:\n",
    "            hasil+=i\n",
    "            \n",
    "        elif i == \"(\":\n",
    "            push(oprStc,i)\n",
    "            \n",
    "        elif i == \")\":\n",
    "            while peek(oprStc) != \"(\":\n",
    "                hasil+=pop(oprStc)\n",
    "            pop(oprStc)\n",
    "            \n",
    "        elif i in operator.keys():\n",
    "            while not(isEmpty(oprStc)) and peek(oprStc) != \"(\" and operator[peek(oprStc)] >= operator[i]:\n",
    "                hasil+=pop(oprStc)\n",
    "            push(oprStc,i)\n",
    "    \n",
    "    while not(isEmpty(oprStc)):\n",
    "        hasil+=pop(oprStc)\n",
    "        \n",
    "    return hasil\n",
    "            \n",
    "print(infixToPostfix(\"(a+b)*c\"))"
   ]
  },
  {
   "cell_type": "code",
   "execution_count": null,
   "id": "60fb5ade",
   "metadata": {},
   "outputs": [],
   "source": [
    "lvlOperator={'+':1,'-':1,'*':2,'/':2}\n",
    "problem='A+B*C-D'\n",
    "ope=stack()\n",
    "temp=''\n",
    "for mtk not in lvlOperator:\n",
    "    if mtk not in lvlOperator:\n",
    "        temp+=mtk\n",
    "    else:\n",
    "        while ope and lvlOperator[mtk]"
   ]
  },
  {
   "cell_type": "code",
   "execution_count": 11,
   "id": "f1cfd9b7",
   "metadata": {},
   "outputs": [
    {
     "name": "stdout",
     "output_type": "stream",
     "text": [
      "True\n"
     ]
    }
   ],
   "source": [
    "lvlOperator={'+':1,'-':1,'*':2,'/':2}\n",
    "def uji(operator1,operator2):\n",
    "    lvlOperator={'+':1,'-':1,'*':2,'/':2}\n",
    "    if lvlOperator[operator1]>=lvlOperator[operator2]:\n",
    "        return True\n",
    "    else:\n",
    "        return False\n",
    "print(uji('*','-'))\n",
    "# print(lvlOperator['*'])"
   ]
  },
  {
   "cell_type": "code",
   "execution_count": 16,
   "id": "34f24c40",
   "metadata": {},
   "outputs": [
    {
     "name": "stdout",
     "output_type": "stream",
     "text": [
      "dict['Name']:  Zara\n",
      "dict['Age']:  7\n"
     ]
    }
   ],
   "source": [
    "dict = {'Name': 'Zara', 'Age': 7, 'Class': 'First'}\n",
    "print (\"dict['Name']: \", dict['Name'])\n",
    "print (\"dict['Age']: \", dict['Age'])"
   ]
  },
  {
   "cell_type": "code",
   "execution_count": 10,
   "id": "48aa9455",
   "metadata": {},
   "outputs": [],
   "source": [
    "def stack():\n",
    "    s=[]\n",
    "    return (s)\n",
    "def push(s,data):\n",
    "    s.append(data)\n",
    "def pop(s):\n",
    "    data=s.pop()\n",
    "    return(data)\n",
    "def peek(s):\n",
    "    return(s[len(s)-1])\n",
    "def isEmpty(s):\n",
    "    return (s==[])\n",
    "def size(s):\n",
    "    return(len(s))"
   ]
  },
  {
   "cell_type": "code",
   "execution_count": null,
   "id": "fe8a18dc",
   "metadata": {
    "scrolled": true
   },
   "outputs": [],
   "source": [
    "problem=\"A+B*C-D\"\n",
    "operator='-+*/'\n",
    "strOutput=''\n",
    "stackPostfix=stack()\n",
    "for i in range(len(problem)):\n",
    "    if problem[i]in operator:\n",
    "        print(problem[i],'---> operator')\n",
    "        if isEmpty(stackPostfix):\n",
    "            push(stackPostfix,problem[i])\n",
    "        else:\n",
    "            run=uji(peek(stackPostfix),problem[i])\n",
    "            print('run= ',run)\n",
    "            while run and not(isEmpty(stackPostfix)):\n",
    "                strOutput+=pop(stackPostfix)\n",
    "                print('run=',run)\n",
    "                print('stack=',stackPostfix)\n",
    "            push(stackPostfix,problem[i])\n",
    "    else:\n",
    "        print(problem[i],'---> operand')\n",
    "        strOutput+=problem[i]\n",
    "    print('stack',stackPostfix)\n",
    "    print('strOutput =',strOutput)\n",
    "    print()\n",
    "while not (isEmpty(stackPostfix)):\n",
    "    strOutput+=pop(stackPostfix)\n",
    "print(problem)\n",
    "print('strOutput =',strOutput)"
   ]
  },
  {
   "cell_type": "code",
   "execution_count": 13,
   "id": "703830a4",
   "metadata": {},
   "outputs": [
    {
     "name": "stdout",
     "output_type": "stream",
     "text": [
      "A ---> operand\n",
      "stack []\n",
      "strOutput = A\n",
      "\n",
      "+ ---> operator\n",
      "stack ['+']\n",
      "strOutput = A\n",
      "\n",
      "B ---> operand\n",
      "stack ['+']\n",
      "strOutput = AB\n",
      "\n",
      "* ---> operator\n",
      "run=  False\n",
      "stack ['+', '*']\n",
      "strOutput = AB\n",
      "\n",
      "C ---> operand\n",
      "stack ['+', '*']\n",
      "strOutput = ABC\n",
      "\n",
      "- ---> operator\n",
      "run=  True\n",
      "run= True\n",
      "stack= ['+']\n",
      "run= True\n",
      "stack= []\n",
      "stack ['-']\n",
      "strOutput = ABC*+\n",
      "\n",
      "D ---> operand\n",
      "stack ['-']\n",
      "strOutput = ABC*+D\n",
      "\n",
      "A+B*C-D\n",
      "strOutput = ABC*+D-\n"
     ]
    }
   ],
   "source": [
    "problem=\"A+B*C-D\"\n",
    "operator='-+*/'\n",
    "strOutput=''\n",
    "stackPostfix=stack()\n",
    "for i in range(len(problem)):\n",
    "    if problem[i]in operator:\n",
    "        print(problem[i],'---> operator')\n",
    "        if isEmpty(stackPostfix):\n",
    "            push(stackPostfix,problem[i])\n",
    "        else:\n",
    "            run=uji(peek(stackPostfix),problem[i])\n",
    "            print('run= ',run)\n",
    "            while run and not(isEmpty(stackPostfix)):\n",
    "                strOutput+=pop(stackPostfix)\n",
    "                print('run=',run)\n",
    "                print('stack=',stackPostfix)\n",
    "            push(stackPostfix,problem[i])\n",
    "    else:\n",
    "        print(problem[i],'---> operand')\n",
    "        strOutput+=problem[i]\n",
    "    print('stack',stackPostfix)\n",
    "    print('strOutput =',strOutput)\n",
    "    print()\n",
    "while not (isEmpty(stackPostfix)):\n",
    "    strOutput+=pop(stackPostfix)\n",
    "print(problem)\n",
    "print('strOutput =',strOutput)"
   ]
  },
  {
   "cell_type": "code",
   "execution_count": 15,
   "id": "0bfe6c22",
   "metadata": {},
   "outputs": [
    {
     "name": "stdout",
     "output_type": "stream",
     "text": [
      "True\n"
     ]
    }
   ],
   "source": [
    "def banding(opr1,opr2):\n",
    "    dic={'*':2,'/':2,'+':1,\"-\":1}\n",
    "    if dic[opr1]>dic[opr2]:\n",
    "        return True\n",
    "    else:\n",
    "        return False\n",
    "print(banding('/','-'))"
   ]
  },
  {
   "cell_type": "code",
   "execution_count": 22,
   "id": "745018e4",
   "metadata": {},
   "outputs": [
    {
     "name": "stdout",
     "output_type": "stream",
     "text": [
      "['+']\n",
      "ABC*+D-\n"
     ]
    }
   ],
   "source": [
    "problem=\"(A+B*C-D\"\n",
    "operator=\"+-/*\"\n",
    "tampung=''\n",
    "tempStack=stack()\n",
    "for i in problem:\n",
    "    if i in operator:\n",
    "        if isEmpty(tempStack):\n",
    "            push(tempStack,i)\n",
    "            print(tempStack)\n",
    "        else:\n",
    "            run=banding(peek(tempStack),i)\n",
    "            while run and not(isEmpty(tempStack)):\n",
    "                tampung+=pop(tempStack)\n",
    "            push(tempStack,i)\n",
    "    else:\n",
    "        tampung+=i\n",
    "while not(isEmpty(tempStack)):\n",
    "    tampung+=pop(tempStack)\n",
    "print(tampung)"
   ]
  },
  {
   "cell_type": "code",
   "execution_count": 26,
   "id": "2ad0ae6c",
   "metadata": {},
   "outputs": [
    {
     "ename": "SyntaxError",
     "evalue": "invalid syntax (3378322480.py, line 7)",
     "output_type": "error",
     "traceback": [
      "\u001b[1;36m  Input \u001b[1;32mIn [26]\u001b[1;36m\u001b[0m\n\u001b[1;33m    if i in operator or i in :\u001b[0m\n\u001b[1;37m                             ^\u001b[0m\n\u001b[1;31mSyntaxError\u001b[0m\u001b[1;31m:\u001b[0m invalid syntax\n"
     ]
    }
   ],
   "source": [
    "problem=\"(A+B)*C-D\"\n",
    "operator=\"+-/*\"\n",
    "kurung=\")(\"\n",
    "tampung=''\n",
    "tempStack=stack()\n",
    "for i in problem:\n",
    "    if i in operator:\n",
    "        if isEmpty(tempStack):\n",
    "            push(tempStack,i)\n",
    "            print(tempStack)\n",
    "        else:\n",
    "            if i =='(':\n",
    "                push(tempStack,i)\n",
    "            elif i==')':\n",
    "                pop(tempStack)\n",
    "            run=banding(peek(tempStack),i)\n",
    "            while run and not(isEmpty(tempStack)):\n",
    "                tampung+=pop(tempStack)\n",
    "            push(tempStack,i)\n",
    "    else:\n",
    "        tampung+=i\n",
    "while not(isEmpty(tempStack)):\n",
    "    tampung+=pop(tempStack)\n",
    "print(tampung)"
   ]
  },
  {
   "cell_type": "code",
   "execution_count": null,
   "id": "636518e5",
   "metadata": {},
   "outputs": [],
   "source": [
    "pr tambahkan tutup kurung"
   ]
  },
  {
   "cell_type": "code",
   "execution_count": null,
   "id": "7ffc848a",
   "metadata": {},
   "outputs": [],
   "source": [
    "def createQueue():\n",
    "    q=[]\n",
    "    return (q)\n",
    "def enqueue(q,data):\n",
    "    q.insert(0,data)\n",
    "    return(q)\n",
    "def dequeue(q):\n",
    "    data=q.pop()\n",
    "    return(data)\n",
    "def isEmpty(q):\n",
    "    return (q==[])\n",
    "def size(q):\n",
    "    return (len(q))"
   ]
  },
  {
   "cell_type": "code",
   "execution_count": null,
   "id": "c175bde1",
   "metadata": {},
   "outputs": [],
   "source": [
    "enqueque"
   ]
  }
 ],
 "metadata": {
  "kernelspec": {
   "display_name": "Python 3 (ipykernel)",
   "language": "python",
   "name": "python3"
  },
  "language_info": {
   "codemirror_mode": {
    "name": "ipython",
    "version": 3
   },
   "file_extension": ".py",
   "mimetype": "text/x-python",
   "name": "python",
   "nbconvert_exporter": "python",
   "pygments_lexer": "ipython3",
   "version": "3.9.12"
  }
 },
 "nbformat": 4,
 "nbformat_minor": 5
}
