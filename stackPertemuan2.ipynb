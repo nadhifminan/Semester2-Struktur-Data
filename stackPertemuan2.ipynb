{
 "cells": [
  {
   "cell_type": "markdown",
   "id": "6daf0e57",
   "metadata": {},
   "source": [
    "# pertemuan 2"
   ]
  },
  {
   "cell_type": "code",
   "execution_count": 1,
   "id": "acddbca7",
   "metadata": {},
   "outputs": [],
   "source": [
    "def stack():\n",
    "    s=[]\n",
    "    return (s)\n",
    "def push(s,data):\n",
    "    s.append(data)\n",
    "def pop(s):\n",
    "    data=s.pop()\n",
    "    return(data)\n",
    "def peek(s):\n",
    "    return(s[len(s)-1])\n",
    "def isEmpty(s):\n",
    "    return (s==[])\n",
    "def size(s):\n",
    "    return(len(s))"
   ]
  },
  {
   "cell_type": "code",
   "execution_count": 6,
   "id": "547da2d8",
   "metadata": {},
   "outputs": [
    {
     "name": "stdout",
     "output_type": "stream",
     "text": [
      "21\n"
     ]
    }
   ],
   "source": [
    "def operasiPost(str):\n",
    "    operand_Stack=stack()\n",
    "    operator='+-/*'\n",
    "    for i in str:\n",
    "        if i not in operator:\n",
    "            push(operand_Stack,i)\n",
    "        else:\n",
    "            oprnd2=pop(operand_Stack)\n",
    "            oprnd1=pop(operand_Stack)\n",
    "            if i=='+':\n",
    "                hasil=int(oprnd1)+int(oprnd2)\n",
    "            elif i=='-':\n",
    "                hasil=int(oprnd1)-int(oprnd2)\n",
    "            elif i=='*':\n",
    "                hasil=int(oprnd1)*int(oprnd2)\n",
    "            else:\n",
    "                hasil=int(oprnd1)/int(oprnd2)\n",
    "            push(operand_Stack,hasil)\n",
    "    return(pop(operand_Stack))\n",
    "print(operasiPost('43+52-*'))"
   ]
  },
  {
   "cell_type": "code",
   "execution_count": null,
   "id": "a6da984a",
   "metadata": {},
   "outputs": [],
   "source": [
    "soal='43 + 52-*'\n",
    "def PR(strng):\n",
    "    operand_stack=stack()\n",
    "    operator={'*':2,'/':2,'-':1,'+':1}\n",
    "    nama_baru=strng.split(' ')\n",
    "    for i in nama_baru:\n",
    "        if i not in operator:\n",
    "            push(operand_stack,i)\n",
    "        else:\n",
    "            oprand2=pop(operand_stack)\n",
    "            oprand1=pop(operand_stack)\n",
    "            if i=='+':\n",
    "                hasil=int()"
   ]
  },
  {
   "cell_type": "code",
   "execution_count": 4,
   "id": "a6651d10",
   "metadata": {
    "scrolled": true
   },
   "outputs": [
    {
     "name": "stdout",
     "output_type": "stream",
     "text": [
      "nadhif fajrul minan\n",
      "['nadhif', 'fajrul', 'minan']\n"
     ]
    }
   ],
   "source": [
    "nama='nadhif fajrul minan'\n",
    "print(nama)\n",
    "baru=nama.split(' ')\n",
    "print(baru)"
   ]
  },
  {
   "cell_type": "code",
   "execution_count": 2,
   "id": "9577a939",
   "metadata": {},
   "outputs": [
    {
     "name": "stdout",
     "output_type": "stream",
     "text": [
      "-884.0\n"
     ]
    }
   ],
   "source": [
    "def evaluatePost(postStr):\n",
    "    operandStack=stack()\n",
    "    operator='+-/*'\n",
    "    postStr=postStr.split()\n",
    "    for i in postStr:\n",
    "        if i not in operator:\n",
    "            push(operandStack,i)\n",
    "        else:\n",
    "            oprnd2=pop(operandStack)\n",
    "            oprnd1=pop(operandStack)\n",
    "            if i=='+':\n",
    "                result=float(oprnd1)+float(oprnd2)\n",
    "            elif i=='-':\n",
    "                result=float(oprnd1)-float(oprnd2)\n",
    "            elif i=='*':\n",
    "                result=float(oprnd1)*float(oprnd2)\n",
    "            elif i == \"/\":\n",
    "                result=float(oprnd1)/float(oprnd2)\n",
    "            push(operandStack,result)\n",
    "    return(pop(operandStack))\n",
    "\n",
    "\n",
    "print(evaluatePost('41 54 - 68 *'))"
   ]
  },
  {
   "cell_type": "code",
   "execution_count": 40,
   "id": "dd829097",
   "metadata": {},
   "outputs": [
    {
     "name": "stdout",
     "output_type": "stream",
     "text": [
      "AB+C*D-\n"
     ]
    }
   ],
   "source": [
    "def infixToPostfix(strMath):\n",
    "    hasil=\"\"\n",
    "    oprStc = stack()\n",
    "    operator = {\"^\":2,\"*\":1,\"/\":1,\"+\":0,\"-\":0}\n",
    "    \n",
    "    for i in strMath :\n",
    "        \n",
    "        if i not in operator.keys() and i not in [\"(\",\")\"]:\n",
    "            hasil+=i\n",
    "            \n",
    "        elif i == \"(\":\n",
    "            push(oprStc,i)\n",
    "            \n",
    "        elif i == \")\":\n",
    "            while peek(oprStc) != \"(\":\n",
    "                hasil+=pop(oprStc)\n",
    "            pop(oprStc)\n",
    "            \n",
    "        elif i in operator.keys():\n",
    "            while not(isEmpty(oprStc)) and peek(oprStc) != \"(\" and operator[peek(oprStc)] >= operator[i]:\n",
    "                hasil+=pop(oprStc)\n",
    "            push(oprStc,i)\n",
    "    \n",
    "    while not(isEmpty(oprStc)):\n",
    "        hasil+=pop(oprStc) \n",
    "    return hasil\n",
    "            \n",
    "print(infixToPostfix(\"(A+B)*C-D\"))"
   ]
  },
  {
   "cell_type": "code",
   "execution_count": null,
   "id": "60fb5ade",
   "metadata": {},
   "outputs": [],
   "source": [
    "lvlOperator={'+':1,'-':1,'*':2,'/':2}\n",
    "problem='A+B*C-D'\n",
    "ope=stack()\n",
    "temp=''\n",
    "for mtk not in lvlOperator:\n",
    "    if mtk not in lvlOperator:\n",
    "        temp+=mtk\n",
    "    else:\n",
    "        while ope and lvlOperator[mtk]"
   ]
  },
  {
   "cell_type": "code",
   "execution_count": 11,
   "id": "f1cfd9b7",
   "metadata": {},
   "outputs": [
    {
     "name": "stdout",
     "output_type": "stream",
     "text": [
      "True\n"
     ]
    }
   ],
   "source": [
    "lvlOperator={'+':1,'-':1,'*':2,'/':2}\n",
    "def uji(operator1,operator2):\n",
    "    lvlOperator={'+':1,'-':1,'*':2,'/':2}\n",
    "    if lvlOperator[operator1]>=lvlOperator[operator2]:\n",
    "        return True\n",
    "    else:\n",
    "        return False\n",
    "print(uji('*','-'))\n",
    "# print(lvlOperator['*'])"
   ]
  },
  {
   "cell_type": "code",
   "execution_count": 16,
   "id": "1f17e34b",
   "metadata": {},
   "outputs": [
    {
     "name": "stdout",
     "output_type": "stream",
     "text": [
      "dict['Name']:  Zara\n",
      "dict['Age']:  7\n"
     ]
    }
   ],
   "source": [
    "dict = {'Name': 'Zara', 'Age': 7, 'Class': 'First'}\n",
    "print (\"dict['Name']: \", dict['Name'])\n",
    "print (\"dict['Age']: \", dict['Age'])"
   ]
  },
  {
   "cell_type": "code",
   "execution_count": 10,
   "id": "05866792",
   "metadata": {},
   "outputs": [],
   "source": [
    "def stack():\n",
    "    s=[]\n",
    "    return (s)\n",
    "def push(s,data):\n",
    "    s.append(data)\n",
    "def pop(s):\n",
    "    data=s.pop()\n",
    "    return(data)\n",
    "def peek(s):\n",
    "    return(s[len(s)-1])\n",
    "def isEmpty(s):\n",
    "    return (s==[])\n",
    "def size(s):\n",
    "    return(len(s))"
   ]
  },
  {
   "cell_type": "code",
   "execution_count": null,
   "id": "fe8a18dc",
   "metadata": {
    "scrolled": true
   },
   "outputs": [],
   "source": [
    "problem=\"A+B*C-D\"\n",
    "operator='-+*/'\n",
    "strOutput=''\n",
    "stackPostfix=stack()\n",
    "for i in range(len(problem)):\n",
    "    if problem[i]in operator:\n",
    "        print(problem[i],'---> operator')\n",
    "        if isEmpty(stackPostfix):\n",
    "            push(stackPostfix,problem[i])\n",
    "        else:\n",
    "            run=uji(peek(stackPostfix),problem[i])\n",
    "            print('run= ',run)\n",
    "            while run and not(isEmpty(stackPostfix)):\n",
    "                strOutput+=pop(stackPostfix)\n",
    "                print('run=',run)\n",
    "                print('stack=',stackPostfix)\n",
    "            push(stackPostfix,problem[i])\n",
    "    else:\n",
    "        print(problem[i],'---> operand')\n",
    "        strOutput+=problem[i]\n",
    "    print('stack',stackPostfix)\n",
    "    print('strOutput =',strOutput)\n",
    "    print()\n",
    "while not (isEmpty(stackPostfix)):\n",
    "    strOutput+=pop(stackPostfix)\n",
    "print(problem)\n",
    "print('strOutput =',strOutput)"
   ]
  },
  {
   "cell_type": "code",
   "execution_count": 13,
   "id": "5e68e6d2",
   "metadata": {},
   "outputs": [
    {
     "name": "stdout",
     "output_type": "stream",
     "text": [
      "A ---> operand\n",
      "stack []\n",
      "strOutput = A\n",
      "\n",
      "+ ---> operator\n",
      "stack ['+']\n",
      "strOutput = A\n",
      "\n",
      "B ---> operand\n",
      "stack ['+']\n",
      "strOutput = AB\n",
      "\n",
      "* ---> operator\n",
      "run=  False\n",
      "stack ['+', '*']\n",
      "strOutput = AB\n",
      "\n",
      "C ---> operand\n",
      "stack ['+', '*']\n",
      "strOutput = ABC\n",
      "\n",
      "- ---> operator\n",
      "run=  True\n",
      "run= True\n",
      "stack= ['+']\n",
      "run= True\n",
      "stack= []\n",
      "stack ['-']\n",
      "strOutput = ABC*+\n",
      "\n",
      "D ---> operand\n",
      "stack ['-']\n",
      "strOutput = ABC*+D\n",
      "\n",
      "A+B*C-D\n",
      "strOutput = ABC*+D-\n"
     ]
    }
   ],
   "source": [
    "problem=\"A+B*C-D\"\n",
    "operator='-+*/'\n",
    "strOutput=''\n",
    "stackPostfix=stack()\n",
    "for i in range(len(problem)):\n",
    "    if problem[i]in operator:\n",
    "        print(problem[i],'---> operator')\n",
    "        if isEmpty(stackPostfix):\n",
    "            push(stackPostfix,problem[i])\n",
    "        else:\n",
    "            run=uji(peek(stackPostfix),problem[i])\n",
    "            print('run= ',run)\n",
    "            while run and not(isEmpty(stackPostfix)):\n",
    "                strOutput+=pop(stackPostfix)\n",
    "                print('run=',run)\n",
    "                print('stack=',stackPostfix)\n",
    "            push(stackPostfix,problem[i])\n",
    "    else:\n",
    "        print(problem[i],'---> operand')\n",
    "        strOutput+=problem[i]\n",
    "    print('stack',stackPostfix)\n",
    "    print('strOutput =',strOutput)\n",
    "    print()\n",
    "while not (isEmpty(stackPostfix)):\n",
    "    strOutput+=pop(stackPostfix)\n",
    "print(problem)\n",
    "print('strOutput =',strOutput)"
   ]
  },
  {
   "cell_type": "code",
   "execution_count": 52,
   "id": "90f27360",
   "metadata": {},
   "outputs": [
    {
     "name": "stdout",
     "output_type": "stream",
     "text": [
      "True\n"
     ]
    }
   ],
   "source": [
    "def banding(opr1,opr2):\n",
    "    dic={'*':2,'/':2,'+':1,\"-\":1}\n",
    "    if dic[opr1]>=dic[opr2]:\n",
    "        return True\n",
    "    else:\n",
    "        return False\n",
    "print(banding('/','-'))"
   ]
  },
  {
   "cell_type": "code",
   "execution_count": 38,
   "id": "3c7fa7d3",
   "metadata": {},
   "outputs": [
    {
     "name": "stdout",
     "output_type": "stream",
     "text": [
      "['+']\n",
      "ABC*+D-\n"
     ]
    }
   ],
   "source": [
    "problem=\"A+B*C-D\"\n",
    "operator=\"+-/*\"\n",
    "tampung=''\n",
    "tempStack=stack()\n",
    "for i in problem:\n",
    "    if i in operator:\n",
    "        if isEmpty(tempStack):\n",
    "            push(tempStack,i)\n",
    "            print(tempStack)\n",
    "        else:\n",
    "            run=banding(peek(tempStack),i)\n",
    "            while run and not(isEmpty(tempStack)):\n",
    "                tampung+=pop(tempStack)\n",
    "            push(tempStack,i)\n",
    "    else:\n",
    "        tampung+=i\n",
    "while not(isEmpty(tempStack)):\n",
    "    tampung+=pop(tempStack)\n",
    "print(tampung)"
   ]
  },
  {
   "cell_type": "code",
   "execution_count": 63,
   "id": "94bdcb17",
   "metadata": {},
   "outputs": [
    {
     "name": "stdout",
     "output_type": "stream",
     "text": [
      "ABC*+D- []\n"
     ]
    }
   ],
   "source": [
    "soal=\"A+B*C-D\"\n",
    "operat='+-*/'\n",
    "stek=stack()\n",
    "temp=''\n",
    "for i in soal:\n",
    "    if i in operat:\n",
    "        if isEmpty(stek):\n",
    "            push(stek,i)\n",
    "        else:\n",
    "            run=banding(peek(stek),i)\n",
    "            while run and not(isEmpty(stek)):\n",
    "                temp+=pop(stek)\n",
    "            push(stek,i)\n",
    "    else:\n",
    "        temp+=i\n",
    "while not(isEmpty(stek)):\n",
    "    temp+=pop(stek)\n",
    "print(temp,stek)"
   ]
  },
  {
   "cell_type": "code",
   "execution_count": 56,
   "id": "c1ded378",
   "metadata": {},
   "outputs": [
    {
     "name": "stdout",
     "output_type": "stream",
     "text": [
      "(\n",
      "A\n"
     ]
    },
    {
     "ename": "KeyError",
     "evalue": "'('",
     "output_type": "error",
     "traceback": [
      "\u001b[1;31m---------------------------------------------------------------------------\u001b[0m",
      "\u001b[1;31mKeyError\u001b[0m                                  Traceback (most recent call last)",
      "Input \u001b[1;32mIn [56]\u001b[0m, in \u001b[0;36m<cell line: 8>\u001b[1;34m()\u001b[0m\n\u001b[0;32m     20\u001b[0m     \u001b[38;5;28mprint\u001b[39m(tempStack)\n\u001b[0;32m     22\u001b[0m \u001b[38;5;28;01melse\u001b[39;00m:\n\u001b[1;32m---> 23\u001b[0m     run\u001b[38;5;241m=\u001b[39m\u001b[43mbanding\u001b[49m\u001b[43m(\u001b[49m\u001b[43mpeek\u001b[49m\u001b[43m(\u001b[49m\u001b[43mtempStack\u001b[49m\u001b[43m)\u001b[49m\u001b[43m,\u001b[49m\u001b[43mi\u001b[49m\u001b[43m)\u001b[49m\n\u001b[0;32m     24\u001b[0m     \u001b[38;5;28;01mwhile\u001b[39;00m run \u001b[38;5;129;01mand\u001b[39;00m \u001b[38;5;129;01mnot\u001b[39;00m(isEmpty(tempStack)) :\n\u001b[0;32m     25\u001b[0m         tampung\u001b[38;5;241m+\u001b[39m\u001b[38;5;241m=\u001b[39mpop(tempStack)\n",
      "Input \u001b[1;32mIn [52]\u001b[0m, in \u001b[0;36mbanding\u001b[1;34m(opr1, opr2)\u001b[0m\n\u001b[0;32m      1\u001b[0m \u001b[38;5;28;01mdef\u001b[39;00m \u001b[38;5;21mbanding\u001b[39m(opr1,opr2):\n\u001b[0;32m      2\u001b[0m     dic\u001b[38;5;241m=\u001b[39m{\u001b[38;5;124m'\u001b[39m\u001b[38;5;124m*\u001b[39m\u001b[38;5;124m'\u001b[39m:\u001b[38;5;241m2\u001b[39m,\u001b[38;5;124m'\u001b[39m\u001b[38;5;124m/\u001b[39m\u001b[38;5;124m'\u001b[39m:\u001b[38;5;241m2\u001b[39m,\u001b[38;5;124m'\u001b[39m\u001b[38;5;124m+\u001b[39m\u001b[38;5;124m'\u001b[39m:\u001b[38;5;241m1\u001b[39m,\u001b[38;5;124m\"\u001b[39m\u001b[38;5;124m-\u001b[39m\u001b[38;5;124m\"\u001b[39m:\u001b[38;5;241m1\u001b[39m}\n\u001b[1;32m----> 3\u001b[0m     \u001b[38;5;28;01mif\u001b[39;00m \u001b[43mdic\u001b[49m\u001b[43m[\u001b[49m\u001b[43mopr1\u001b[49m\u001b[43m]\u001b[49m\u001b[38;5;241m>\u001b[39m\u001b[38;5;241m=\u001b[39mdic[opr2]:\n\u001b[0;32m      4\u001b[0m         \u001b[38;5;28;01mreturn\u001b[39;00m \u001b[38;5;28;01mTrue\u001b[39;00m\n\u001b[0;32m      5\u001b[0m     \u001b[38;5;28;01melse\u001b[39;00m:\n",
      "\u001b[1;31mKeyError\u001b[0m: '('"
     ]
    }
   ],
   "source": [
    "#PR MENAMBAH KURUNG\n",
    "\n",
    "problem=\"(A+B)*C-D\"\n",
    "operator=\"+-/*\"\n",
    "tampung=''\n",
    "kurung=')('\n",
    "tempStack=stack()\n",
    "for i in problem:\n",
    "    print(i)\n",
    "    \n",
    "    if i=='(':\n",
    "        push(tempStack,i)\n",
    "    elif i==')':\n",
    "        while i !='(':\n",
    "            tampung+=pop(tempStack)\n",
    "            print(tempStack)\n",
    "            pop(tempStack)\n",
    "    elif isEmpty(tempStack):\n",
    "        push(tempStack,i)\n",
    "        print(tempStack)\n",
    "        \n",
    "    else:\n",
    "        run=banding(peek(tempStack),i)\n",
    "        while run and not(isEmpty(tempStack)) :\n",
    "            tampung+=pop(tempStack)\n",
    "        push(tempStack,i)\n",
    "while not(isEmpty(tempStack)):\n",
    "    tampung+=pop(tempStack)\n",
    "print(tampung)"
   ]
  },
  {
   "cell_type": "code",
   "execution_count": 57,
   "id": "855859ee",
   "metadata": {},
   "outputs": [
    {
     "name": "stdout",
     "output_type": "stream",
     "text": [
      "AB+C*D-\n"
     ]
    }
   ],
   "source": [
    "def infixToPostfix(strMath):\n",
    "    hasil=\"\"\n",
    "    oprStc = stack()\n",
    "    operator = {\"^\":2,\"*\":1,\"/\":1,\"+\":0,\"-\":0}\n",
    "    \n",
    "    for i in strMath :\n",
    "        \n",
    "        if i not in operator.keys() and i not in [\"(\",\")\"]:\n",
    "            hasil+=i\n",
    "            \n",
    "        elif i == \"(\":\n",
    "            push(oprStc,i)\n",
    "            \n",
    "        elif i == \")\":\n",
    "            while peek(oprStc) != \"(\":\n",
    "                hasil+=pop(oprStc)\n",
    "            pop(oprStc)\n",
    "            \n",
    "        elif i in operator.keys():\n",
    "            while not(isEmpty(oprStc)) and peek(oprStc) != \"(\" and operator[peek(oprStc)] >= operator[i]:\n",
    "                hasil+=pop(oprStc)\n",
    "            push(oprStc,i)\n",
    "    \n",
    "    while not(isEmpty(oprStc)):\n",
    "        hasil+=pop(oprStc)\n",
    "        \n",
    "    return hasil\n",
    "            \n",
    "print(infixToPostfix(\"(A+B)*C-D\"))"
   ]
  },
  {
   "cell_type": "code",
   "execution_count": 2,
   "id": "7ffc848a",
   "metadata": {},
   "outputs": [],
   "source": [
    "def createQueue():\n",
    "    q=[]\n",
    "    return (q)\n",
    "def enqueue(q,data):\n",
    "    q.insert(0,data)\n",
    "    return(q)\n",
    "def dequeue(q):\n",
    "    data=q.pop()\n",
    "    return(data)\n",
    "def isEmpty(q):\n",
    "    return (q==[])\n",
    "def size(q):\n",
    "    return (len(q))"
   ]
  },
  {
   "cell_type": "code",
   "execution_count": null,
   "id": "c175bde1",
   "metadata": {},
   "outputs": [],
   "source": [
    "enqueque"
   ]
  },
  {
   "cell_type": "markdown",
   "id": "25ae34f4",
   "metadata": {},
   "source": [
    "# sorting"
   ]
  },
  {
   "cell_type": "code",
   "execution_count": 36,
   "id": "fa0a194b",
   "metadata": {},
   "outputs": [],
   "source": [
    "def stack():\n",
    "    s = []\n",
    "    return s\n",
    "def push(s, data):\n",
    "    return s.append(data)\n",
    "def pop(s):\n",
    "    x = s.pop()\n",
    "    return x\n",
    "def peek(s):\n",
    "    return s[len(s)-1]\n",
    "def isEmpty(s):\n",
    "    return s == []\n",
    "def size(s):\n",
    "    return len(s)\n",
    "\n",
    "def isValidateTagHTML(inputan):\n",
    "    stackbaru=stack()\n",
    "    \n",
    "    inputan=inputan.split()\n",
    "    temp=1\n",
    "    eror=['Error :']\n",
    "    cocok=True\n",
    "    for i in inputan:\n",
    "        if '<' in inputan and '>' in inputan:\n",
    "            if '/' not in i:\n",
    "                push(stackbaru,i)\n",
    "            else:\n",
    "                if not(isEmpty(stackbaru)):\n",
    "                    if peek(stackbaru)[1:-1]==i[2:-1]:\n",
    "                        cocok=cocok and True\n",
    "                    else:\n",
    "                        push(eror,f'{temp}.Open Tag {i}-->{peek(stackbaru)}')\n",
    "                        temp+=1\n",
    "                        cocok=cocok and False\n",
    "                    pop(stackbaru)\n",
    "                else :\n",
    "                    push(eror,f'{temp}. kelebihan Close tag{i}')\n",
    "    \n",
    "    if not isEmpty(stackbaru):\n",
    "        return eror.append(f'{temp}.kelebihan Close Tag {pop(stackbaru)}')\n",
    "    if cocok==True:\n",
    "        return cocok\n",
    "    else:\n",
    "        return cocok,eror\n"
   ]
  },
  {
   "cell_type": "code",
   "execution_count": 37,
   "id": "00dfed48",
   "metadata": {
    "scrolled": true
   },
   "outputs": [
    {
     "name": "stdout",
     "output_type": "stream",
     "text": [
      "True\n"
     ]
    }
   ],
   "source": [
    "inp = \"\"\"\n",
    "<html>\n",
    "<body>\n",
    "<title>\n",
    "Praktikum Struktur Data\n",
    "</title>\n",
    "<h1>\n",
    "Stack\n",
    "</h1>\n",
    "</h2>\n",
    "</body>\n",
    "</html>\"\"\"\n",
    "print(isValidateTagHTML(inp))"
   ]
  },
  {
   "cell_type": "code",
   "execution_count": 56,
   "id": "036cae96",
   "metadata": {
    "scrolled": true
   },
   "outputs": [
    {
     "name": "stdout",
     "output_type": "stream",
     "text": [
      "\n",
      "<html>\n",
      "<body>\n",
      "<title>\n",
      "Praktikum Struktur Data\n",
      "</title>\n",
      "<h1>\n",
      "Stack\n",
      "</h1>\n",
      "</h2>\n",
      "</body>\n",
      "</html>\n",
      "(False, ['Error : ', '1. Open tag </h2> --> <body>', '2. Open tag </body> --> <html>', '3. kelebihan close tag </html>'])\n"
     ]
    }
   ],
   "source": [
    "def stack():\n",
    "    s = []\n",
    "    return s\n",
    "def push(s, data):\n",
    "    return s.append(data)\n",
    "def pop(s):\n",
    "    x = s.pop()\n",
    "    return x\n",
    "def peek(s):\n",
    "    return s[len(s)-1]\n",
    "def isEmpty(s):\n",
    "    return s == []\n",
    "def size(s):\n",
    "    return len(s)\n",
    "\n",
    "def isValidateTagHTML(inp):\n",
    "    stackbaru = stack()\n",
    "    hasilerr = [\"Error : \"]\n",
    "    temp = 1\n",
    "    cocok = True\n",
    "    baru = inp.split()\n",
    "    for kurung in baru:\n",
    "        if '<' in kurung and '>' in kurung:\n",
    "            if '/' not in kurung:\n",
    "                push(stackbaru, kurung)\n",
    "            else:\n",
    "                if not(isEmpty(stackbaru)):\n",
    "                    if peek(stackbaru)[1:-1] == kurung[2:-1]:\n",
    "                        cocok=cocok and True\n",
    "                    else:\n",
    "                        push(hasilerr,(f\"{temp}. Open tag {kurung} --> {peek(stackbaru)}\"))\n",
    "                        temp+=1\n",
    "                        cocok=cocok and False\n",
    "                    pop(stackbaru)\n",
    "                else:\n",
    "                    push(hasilerr,(f\"{temp}. kelebihan close tag {kurung}\"))\n",
    "    if not isEmpty(stackbaru):\n",
    "        return push(hasilerr,(f\"{temp}. kelebihan open tag {pop(stackbaru)}\"))\n",
    "    elif cocok == False:\n",
    "        return cocok,hasilerr\n",
    "    else:\n",
    "        return cocok\n",
    "\n",
    "inp = \"\"\"\n",
    "<html>\n",
    "<body>\n",
    "<title>\n",
    "Praktikum Struktur Data\n",
    "</title>\n",
    "<h1>\n",
    "Stack\n",
    "</h1>\n",
    "</h2>\n",
    "</body>\n",
    "</html>\"\"\"\n",
    "print(inp)\n",
    "print(isValidateTagHTML(inp))\n"
   ]
  },
  {
   "cell_type": "code",
   "execution_count": null,
   "id": "614e5e15",
   "metadata": {},
   "outputs": [],
   "source": []
  },
  {
   "cell_type": "code",
   "execution_count": null,
   "id": "cafccb2f",
   "metadata": {},
   "outputs": [],
   "source": []
  },
  {
   "cell_type": "code",
   "execution_count": 4,
   "id": "60fcf8a1",
   "metadata": {},
   "outputs": [],
   "source": [
    "def stack():\n",
    "    s = []\n",
    "    return s\n",
    "def push(s, data):\n",
    "    return s.append(data)\n",
    "def pop(s):\n",
    "    x = s.pop()\n",
    "    return x\n",
    "def peek(s):\n",
    "    return s[len(s)-1]\n",
    "def isEmpty(s):\n",
    "    return s == []\n",
    "def size(s):\n",
    "    return len(s)"
   ]
  },
  {
   "cell_type": "code",
   "execution_count": 18,
   "id": "3649fd77",
   "metadata": {},
   "outputs": [
    {
     "name": "stdout",
     "output_type": "stream",
     "text": [
      "['4nadhif']\n"
     ]
    }
   ],
   "source": [
    "a=[]\n",
    "push(a,f'{4}nadhif')\n",
    "print(a)"
   ]
  },
  {
   "cell_type": "code",
   "execution_count": null,
   "id": "4d66bfdf",
   "metadata": {},
   "outputs": [],
   "source": []
  }
 ],
 "metadata": {
  "kernelspec": {
   "display_name": "Python 3 (ipykernel)",
   "language": "python",
   "name": "python3"
  },
  "language_info": {
   "codemirror_mode": {
    "name": "ipython",
    "version": 3
   },
   "file_extension": ".py",
   "mimetype": "text/x-python",
   "name": "python",
   "nbconvert_exporter": "python",
   "pygments_lexer": "ipython3",
   "version": "3.9.12"
  }
 },
 "nbformat": 4,
 "nbformat_minor": 5
}
