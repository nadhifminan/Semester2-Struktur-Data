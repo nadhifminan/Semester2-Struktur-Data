{
 "cells": [
  {
   "cell_type": "code",
   "execution_count": 1,
   "id": "c21ec668",
   "metadata": {},
   "outputs": [],
   "source": [
    "def createDeque():\n",
    "    d=[]\n",
    "    return (d)\n",
    "def addFront(d,data):\n",
    "    d.insert(0,data)\n",
    "    return(d)\n",
    "def addRear(d,data):\n",
    "    d.append(data)\n",
    "    return(d)\n",
    "def removeRear(d):\n",
    "    data=d.pop()\n",
    "    return(data)\n",
    "def removeFront(d):\n",
    "    data=d.pop(0)\n",
    "    return(data)\n",
    "def isEmpty(d):\n",
    "    return (d==[])\n",
    "def size(d):\n",
    "    return (len(d))"
   ]
  },
  {
   "cell_type": "code",
   "execution_count": 5,
   "id": "1a5a704a",
   "metadata": {},
   "outputs": [],
   "source": [
    "deq=createDeque()"
   ]
  },
  {
   "cell_type": "code",
   "execution_count": 6,
   "id": "adcbb422",
   "metadata": {},
   "outputs": [
    {
     "data": {
      "text/plain": [
       "['data', 'struktur']"
      ]
     },
     "execution_count": 6,
     "metadata": {},
     "output_type": "execute_result"
    }
   ],
   "source": [
    "addFront(deq,'struktur')\n",
    "addFront(deq,'data')"
   ]
  },
  {
   "cell_type": "code",
   "execution_count": 7,
   "id": "ff810d66",
   "metadata": {},
   "outputs": [
    {
     "data": {
      "text/plain": [
       "['data', 'struktur', '2018', '2019']"
      ]
     },
     "execution_count": 7,
     "metadata": {},
     "output_type": "execute_result"
    }
   ],
   "source": [
    "addRear(deq,'2018')\n",
    "addRear(deq,'2019')"
   ]
  },
  {
   "cell_type": "code",
   "execution_count": 8,
   "id": "29b142fc",
   "metadata": {},
   "outputs": [
    {
     "data": {
      "text/plain": [
       "['data', 'struktur', '2018', '2019', '100']"
      ]
     },
     "execution_count": 8,
     "metadata": {},
     "output_type": "execute_result"
    }
   ],
   "source": [
    "addRear(deq,'100')"
   ]
  },
  {
   "cell_type": "code",
   "execution_count": 9,
   "id": "21ac565a",
   "metadata": {},
   "outputs": [
    {
     "name": "stdout",
     "output_type": "stream",
     "text": [
      "data\n",
      "['struktur', '2018', '2019', '100']\n"
     ]
    }
   ],
   "source": [
    "data=removeFront(deq)\n",
    "print(data)\n",
    "print(deq)"
   ]
  },
  {
   "cell_type": "code",
   "execution_count": 10,
   "id": "0ec805e1",
   "metadata": {},
   "outputs": [
    {
     "name": "stdout",
     "output_type": "stream",
     "text": [
      "100\n",
      "['struktur', '2018', '2019']\n"
     ]
    }
   ],
   "source": [
    "data=removeRear(deq)\n",
    "print(data)\n",
    "print(deq)"
   ]
  },
  {
   "cell_type": "code",
   "execution_count": 11,
   "id": "4d8d224f",
   "metadata": {},
   "outputs": [
    {
     "data": {
      "text/plain": [
       "3"
      ]
     },
     "execution_count": 11,
     "metadata": {},
     "output_type": "execute_result"
    }
   ],
   "source": [
    "size(deq)"
   ]
  },
  {
   "cell_type": "code",
   "execution_count": 12,
   "id": "7efa565c",
   "metadata": {},
   "outputs": [
    {
     "data": {
      "text/plain": [
       "False"
      ]
     },
     "execution_count": 12,
     "metadata": {},
     "output_type": "execute_result"
    }
   ],
   "source": [
    "isEmpty(deq)"
   ]
  },
  {
   "cell_type": "code",
   "execution_count": 13,
   "id": "7772ca49",
   "metadata": {},
   "outputs": [
    {
     "name": "stdout",
     "output_type": "stream",
     "text": [
      "['2018', '2019', 'struktur']\n"
     ]
    }
   ],
   "source": [
    "addRear(deq,removeFront(deq))\n",
    "print(deq)"
   ]
  },
  {
   "cell_type": "code",
   "execution_count": 14,
   "id": "d979056b",
   "metadata": {},
   "outputs": [],
   "source": [
    "def cekPalindrom(string):\n",
    "    palindrom=createDeque()\n",
    "    for huruf in string:\n",
    "        addRear(palindrom,huruf)\n",
    "    cek=True\n",
    "    while size(palindrom)>1:\n",
    "        a=removeRear(palindrom)\n",
    "        b=removeFront(palindrom)\n",
    "        if (a==b):\n",
    "            cek=cek and True\n",
    "        else:\n",
    "            cek=cek and False\n",
    "    return cek"
   ]
  },
  {
   "cell_type": "code",
   "execution_count": 15,
   "id": "dd0a812e",
   "metadata": {},
   "outputs": [
    {
     "name": "stdout",
     "output_type": "stream",
     "text": [
      "True\n",
      "False\n",
      "True\n",
      "True\n",
      "True\n",
      "False\n"
     ]
    }
   ],
   "source": [
    "print(cekPalindrom('hannah'))\n",
    "print(cekPalindrom('surabaya'))\n",
    "print(cekPalindrom('abcdcba'))\n",
    "print(cekPalindrom('katak'))\n",
    "print(cekPalindrom('taat'))\n",
    "print(cekPalindrom('dia'))"
   ]
  },
  {
   "cell_type": "markdown",
   "id": "babb4555",
   "metadata": {},
   "source": [
    "# implementasi deque video"
   ]
  },
  {
   "cell_type": "code",
   "execution_count": null,
   "id": "120842ed",
   "metadata": {},
   "outputs": [],
   "source": [
    "def createDeque():\n",
    "    d=[]\n",
    "    return (d)\n",
    "def addFront(d,data):\n",
    "    d.insert(0,data)\n",
    "    return(d)\n",
    "def addRear(d,data):\n",
    "    d.append(data)\n",
    "    return(d)\n",
    "def removeRear(d):\n",
    "    data=d.pop()\n",
    "    return(data)\n",
    "def removeFront(d):\n",
    "    data=d.pop(0)\n",
    "    return(data)\n",
    "def isEmpty(d):\n",
    "    return (d==[])\n",
    "def size(d):\n",
    "    return (len(d))"
   ]
  },
  {
   "cell_type": "code",
   "execution_count": 4,
   "id": "5f45d9d1",
   "metadata": {},
   "outputs": [
    {
     "data": {
      "text/plain": [
       "True"
      ]
     },
     "execution_count": 4,
     "metadata": {},
     "output_type": "execute_result"
    }
   ],
   "source": [
    "def isPalindrom(kata):\n",
    "    palindrom=createDeque()\n",
    "    for ch in kata:\n",
    "        addFront(palindrom,ch)\n",
    "    \n",
    "    cek=True\n",
    "    while size(palindrom)>1:\n",
    "        if removeFront(palindrom)==removeRear(palindrom):\n",
    "            cek=cek and True\n",
    "        else:\n",
    "            cek=cek and False\n",
    "    return cek\n",
    "isPalindrom('katitak')"
   ]
  },
  {
   "cell_type": "code",
   "execution_count": null,
   "id": "e27ab4b6",
   "metadata": {},
   "outputs": [],
   "source": []
  }
 ],
 "metadata": {
  "kernelspec": {
   "display_name": "Python 3 (ipykernel)",
   "language": "python",
   "name": "python3"
  },
  "language_info": {
   "codemirror_mode": {
    "name": "ipython",
    "version": 3
   },
   "file_extension": ".py",
   "mimetype": "text/x-python",
   "name": "python",
   "nbconvert_exporter": "python",
   "pygments_lexer": "ipython3",
   "version": "3.9.12"
  }
 },
 "nbformat": 4,
 "nbformat_minor": 5
}
