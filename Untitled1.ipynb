{
 "cells": [
  {
   "cell_type": "markdown",
   "id": "4ea85a34",
   "metadata": {},
   "source": [
    "# Projek ShortesPath"
   ]
  },
  {
   "cell_type": "code",
   "execution_count": 2,
   "id": "d6ae1281",
   "metadata": {},
   "outputs": [
    {
     "name": "stdout",
     "output_type": "stream",
     "text": [
      "7\n"
     ]
    }
   ],
   "source": [
    "import heapq\n",
    "\n",
    "def shortest_path(graph, start, end):\n",
    "    distances = {vertex: float('inf') for vertex in graph}\n",
    "    distances[start] = 0\n",
    "    queue = [(0, start)]\n",
    "    while queue:\n",
    "        current_distance, current_vertex = heapq.heappop(queue)\n",
    "        if current_distance > distances[current_vertex]:\n",
    "            continue\n",
    "        for neighbor, weight in graph[current_vertex].items():\n",
    "            distance = current_distance + weight\n",
    "            if distance < distances[neighbor]:\n",
    "                distances[neighbor] = distance\n",
    "                heapq.heappush(queue, (distance, neighbor))\n",
    "    return distances[end]\n",
    "\n",
    "lokasi = { # random example graph\n",
    " 'A': {'B': 4, 'C': 2},\n",
    " 'B': {'A': 4, 'C': 1, 'D': 5},\n",
    " 'C': {'A': 2, 'B': 1, 'D': 8, 'E': 10},\n",
    " 'D': {'B': 5, 'C': 8, 'E': 2, 'Z': 6},\n",
    " 'E': {'C': 10,'D': 2, 'Z': 3},\n",
    " 'Z': {'D': 6, 'E': 3}\n",
    "}\n",
    "\n",
    "print(shortest_path(lokasi, 'E', 'B'))"
   ]
  },
  {
   "cell_type": "code",
   "execution_count": 3,
   "id": "6b112beb",
   "metadata": {},
   "outputs": [],
   "source": [
    "from queue import PriorityQueue # essentially a binary heap\n",
    "\n",
    "def dijkstra(data, awal, tujuan):\n",
    "    \"\"\" Uniform-cost search / dijkstra \"\"\"\n",
    "    visited = set()\n",
    "    cost = {awal: 0}\n",
    "    parent = {awal: None}\n",
    "    todo = PriorityQueue()\n",
    "  \n",
    "    todo.put((0, awal))\n",
    "    while todo:\n",
    "        while not todo.empty():\n",
    "            _, vertex = todo.get() # finds lowest cost vertex\n",
    "            # loop until we get a fresh vertex\n",
    "            if vertex not in visited: break\n",
    "        else: # if todo ran out\n",
    "            break # quit main loop\n",
    "        visited.add(vertex)\n",
    "        if vertex == tujuan:\n",
    "            break\n",
    "        for neighbor, distance in G[vertex]:\n",
    "            if neighbor in visited: continue # skip these to save time\n",
    "            old_cost = cost.get(neighbor, float('inf')) # default to infinity\n",
    "            new_cost = cost[vertex] + distance\n",
    "            if new_cost < old_cost:\n",
    "                todo.put((new_cost, neighbor))\n",
    "                cost[neighbor] = new_cost\n",
    "                parent[neighbor] = vertex\n",
    "\n",
    "    return parent\n",
    "\n",
    "def make_path(parent, goal):\n",
    "    if goal not in parent:\n",
    "        return None\n",
    "    v = goal\n",
    "    path = []\n",
    "    while v is not None: # root has null parent\n",
    "        path.append(v)\n",
    "        v = parent[v]\n",
    "    return path[::-1]"
   ]
  },
  {
   "cell_type": "code",
   "execution_count": 4,
   "id": "ba57d497",
   "metadata": {},
   "outputs": [
    {
     "name": "stdout",
     "output_type": "stream",
     "text": [
      "['A', 'C', 'G', 'E', 'I', 'K']\n"
     ]
    }
   ],
   "source": [
    "G = { # random example graph\n",
    " 'A': {('C', 76)},\n",
    " 'B': {('C', 20), ('J', 78)},\n",
    " 'C': {('C', 62), ('F', 99), ('G', 72), ('H', 40)},\n",
    " 'D': {('A',  8), ('G', 71), ('I', 61)},\n",
    " 'E': {('C', 16), ('E', 54), ('I',  3)},\n",
    " 'F': {('J', 66)},\n",
    " 'G': {('B', 92), ('E', 48), ('G', 31)},\n",
    " 'H': {('G', 36)},\n",
    " 'I': {('J', 88), ('K', 16)},\n",
    " 'J': {('H',  4), ('K', 46)},\n",
    " 'K': {('I', 40)}\n",
    "}\n",
    "\n",
    "parent = dijkstra(G, 'A', 'K')\n",
    "print(make_path(parent, 'K'))"
   ]
  },
  {
   "cell_type": "code",
   "execution_count": 17,
   "id": "77344677",
   "metadata": {},
   "outputs": [
    {
     "name": "stdout",
     "output_type": "stream",
     "text": [
      "['A', 'B', 'D', 'E']\n"
     ]
    }
   ],
   "source": [
    "# Inisialisasi graf\n",
    "graph = {\n",
    "    'A': {'B': 5, 'C': 3},\n",
    "    'B': {'D': 4},\n",
    "    'C': {'B': 2, 'D': 7},\n",
    "    'D': {'E': 6},\n",
    "    'E': {}\n",
    "}\n",
    "\n",
    "# Fungsi untuk mencari jalur terpendek\n",
    "def shortest_path(graph, start, end, path=[]):\n",
    "    path = path + [start]\n",
    "    if start == end:\n",
    "        return path\n",
    "    if start not in graph:\n",
    "        return None\n",
    "    shortest = None\n",
    "    for node in graph[start]:\n",
    "        if node not in path:\n",
    "            newpath = shortest_path(graph, node, end, path)\n",
    "            if newpath:\n",
    "                if not shortest or len(newpath) < len(shortest):\n",
    "                    shortest = newpath\n",
    "    return shortest\n",
    "\n",
    "# Contoh penggunaan\n",
    "print(shortest_path(graph, 'A', 'E')) # Output: ['A', 'C', 'D', 'E']"
   ]
  },
  {
   "cell_type": "code",
   "execution_count": 36,
   "id": "f338c83e",
   "metadata": {},
   "outputs": [],
   "source": [
    "def createGraph(simpul):\n",
    "    graph={}\n",
    "    for i in range (simpul):\n",
    "        simpul=str(input(\"Masukkan simpul: \"))\n",
    "        lintasan=int(input(\"Berapa tetangga: \"))\n",
    "        key={}\n",
    "        for j in range (lintasan):\n",
    "            keys=str(input(\"Masukkan Tetangga: \"))\n",
    "            value=int(input(\"Masukkan bobot: \"))\n",
    "            key[keys]=value\n",
    "            print()\n",
    "        graph[simpul]=key\n",
    "        print('\\n')\n",
    "    print(graph)"
   ]
  },
  {
   "cell_type": "code",
   "execution_count": 37,
   "id": "bac9befc",
   "metadata": {
    "scrolled": true
   },
   "outputs": [
    {
     "name": "stdout",
     "output_type": "stream",
     "text": [
      "Berapa Simpul: 2\n",
      "Masukkan simpul: e\n",
      "Berapa tetangga: 2\n",
      "Masukkan Tetangga: 1\n",
      "Masukkan bobot: 2\n",
      "\n",
      "Masukkan Tetangga: a\n",
      "Masukkan bobot: 3\n",
      "\n",
      "\n",
      "\n",
      "Masukkan simpul: q\n",
      "Berapa tetangga: 1\n",
      "Masukkan Tetangga: a\n",
      "Masukkan bobot: 4\n",
      "\n",
      "\n",
      "\n",
      "{'e': {'1': 2, 'a': 3}, 'q': {'a': 4}}\n",
      "None\n"
     ]
    }
   ],
   "source": [
    "graph= createGraph(int(input(\"Berapa Simpul: \")))\n",
    "print(graph)"
   ]
  },
  {
   "cell_type": "code",
   "execution_count": 5,
   "id": "f2adb6e3",
   "metadata": {},
   "outputs": [
    {
     "name": "stdout",
     "output_type": "stream",
     "text": [
      "Jarak terpendek dari node E ke semua node lain:\n",
      "Node: A, Jarak: 10\n",
      "Node: B, Jarak: 7\n",
      "Node: C, Jarak: 8\n",
      "Node: D, Jarak: 2\n",
      "Node: E, Jarak: 0\n",
      "Node: Z, Jarak: 3\n"
     ]
    }
   ],
   "source": [
    "import heapq\n",
    "\n",
    "\n",
    "def shortest_path(graph, start):\n",
    "    # Inisialisasi jarak awal dari semua node ke start sebagai tak hingga\n",
    "    distances = {node: float('inf') for node in graph}\n",
    "    distances[start] = 0  # Jarak start ke start adalah 0\n",
    "\n",
    "    # Menggunakan min-heap untuk mengoptimalkan pemilihan node berikutnya\n",
    "    priority_queue = [(0, start)]\n",
    "\n",
    "    while priority_queue:\n",
    "        current_distance, current_node = heapq.heappop(priority_queue)\n",
    "\n",
    "        # Skip jika jarak yang tersimpan lebih pendek dari jarak saat ini\n",
    "        if current_distance > distances[current_node]:\n",
    "            continue\n",
    "\n",
    "        # Loop melalui tetangga-tetangga node saat ini\n",
    "        for neighbor, weight in graph[current_node].items():\n",
    "            distance = current_distance + weight\n",
    "\n",
    "            # Jika jarak baru lebih pendek, update jarak dan tambahkan ke priority queue\n",
    "            if distance < distances[neighbor]:\n",
    "                distances[neighbor] = distance\n",
    "                heapq.heappush(priority_queue, (distance, neighbor))\n",
    "\n",
    "    return distances\n",
    "\n",
    "\n",
    "# Contoh penggunaan\n",
    "graph = {\n",
    "    'A': {'B': 2, 'C': 5},\n",
    "    'B': {'A': 2, 'C': 6, 'D': 1},\n",
    "    'C': {'A': 5, 'B': 6, 'D': 2, 'E': 5},\n",
    "    'D': {'B': 1, 'C': 2, 'E': 1},\n",
    "    'E': {'C': 5, 'D': 1}\n",
    "}\n",
    "\n",
    "start_node = 'E'\n",
    "distances = shortest_path(lokasi, start_node)\n",
    "\n",
    "print(\"Jarak terpendek dari node {} ke semua node lain:\".format(start_node))\n",
    "for node, distance in distances.items():\n",
    "    print(\"Node: {}, Jarak: {}\".format(node, distance))\n"
   ]
  },
  {
   "cell_type": "code",
   "execution_count": 4,
   "id": "d4dbb6ce",
   "metadata": {},
   "outputs": [
    {
     "ename": "AttributeError",
     "evalue": "'set' object has no attribute 'items'",
     "output_type": "error",
     "traceback": [
      "\u001b[1;31m---------------------------------------------------------------------------\u001b[0m",
      "\u001b[1;31mAttributeError\u001b[0m                            Traceback (most recent call last)",
      "Input \u001b[1;32mIn [4]\u001b[0m, in \u001b[0;36m<cell line: 73>\u001b[1;34m()\u001b[0m\n\u001b[0;32m     70\u001b[0m     \u001b[38;5;28;01mreturn\u001b[39;00m shortest_path, total_weight\n\u001b[0;32m     72\u001b[0m \u001b[38;5;66;03m# Contoh penggunaan\u001b[39;00m\n\u001b[1;32m---> 73\u001b[0m path, weight \u001b[38;5;241m=\u001b[39m \u001b[43mshortest_path\u001b[49m\u001b[43m(\u001b[49m\u001b[43mgraph\u001b[49m\u001b[43m,\u001b[49m\u001b[43m \u001b[49m\u001b[38;5;124;43m'\u001b[39;49m\u001b[38;5;124;43mA\u001b[39;49m\u001b[38;5;124;43m'\u001b[39;49m\u001b[43m,\u001b[49m\u001b[43m \u001b[49m\u001b[38;5;124;43m'\u001b[39;49m\u001b[38;5;124;43mE\u001b[39;49m\u001b[38;5;124;43m'\u001b[39;49m\u001b[43m)\u001b[49m\n\u001b[0;32m     74\u001b[0m \u001b[38;5;28mprint\u001b[39m(path) \u001b[38;5;66;03m# Output: ['A', 'C', 'D', 'E']\u001b[39;00m\n\u001b[0;32m     75\u001b[0m \u001b[38;5;28mprint\u001b[39m(weight)\n",
      "Input \u001b[1;32mIn [4]\u001b[0m, in \u001b[0;36mshortest_path\u001b[1;34m(graph, start, end)\u001b[0m\n\u001b[0;32m     46\u001b[0m     \u001b[38;5;28;01mbreak\u001b[39;00m\n\u001b[0;32m     48\u001b[0m \u001b[38;5;66;03m# Menghitung jarak terpendek ke simpul tetangga\u001b[39;00m\n\u001b[1;32m---> 49\u001b[0m \u001b[38;5;28;01mfor\u001b[39;00m neighbor, weight \u001b[38;5;129;01min\u001b[39;00m \u001b[43mgraph\u001b[49m\u001b[43m[\u001b[49m\u001b[43mmin_node\u001b[49m\u001b[43m]\u001b[49m\u001b[38;5;241;43m.\u001b[39;49m\u001b[43mitems\u001b[49m():\n\u001b[0;32m     50\u001b[0m     \u001b[38;5;28;01mif\u001b[39;00m weight \u001b[38;5;241m+\u001b[39m distances[min_node] \u001b[38;5;241m<\u001b[39m distances[neighbor]:\n\u001b[0;32m     51\u001b[0m         distances[neighbor] \u001b[38;5;241m=\u001b[39m weight \u001b[38;5;241m+\u001b[39m distances[min_node]\n",
      "\u001b[1;31mAttributeError\u001b[0m: 'set' object has no attribute 'items'"
     ]
    }
   ],
   "source": [
    "# Inisialisasi graf\n",
    "\n",
    "graphh = {\n",
    "    'A': {'B': 4, 'C': 3},\n",
    "    'B': {'D': 4},\n",
    "    'C': {'B': 2, 'D': 7},\n",
    "    'D': {'E': 6},\n",
    "    'E': {}\n",
    "}\n",
    "\n",
    "graph= { # random example graph\n",
    " 'A': {('C', 76)},\n",
    " 'B': {('C', 20), ('J', 78)},\n",
    " 'C': {('C', 62), ('F', 99), ('G', 72), ('H', 40)},\n",
    " 'D': {('A',  8), ('G', 71), ('I', 61)},\n",
    " 'E': {('C', 16), ('E', 54), ('I',  3)},\n",
    " 'F': {('J', 66)},\n",
    " 'G': {('B', 92), ('E', 48), ('G', 31)},\n",
    " 'H': {('G', 36)},\n",
    " 'I': {('J', 88), ('K', 16)},\n",
    " 'J': {('H',  4), ('K', 46)},\n",
    " 'K': {('I', 40)}\n",
    "}\n",
    "\n",
    "# Fungsi untuk mencari jalur terpendek\n",
    "def shortest_path(graph, start, end):\n",
    "    # Inisialisasi variabel\n",
    "    distances = {node: float('inf') for node in graph}\n",
    "    distances[start] = 0\n",
    "    visited = {}\n",
    "    path = {}\n",
    "\n",
    "    # Looping untuk mencari jalur terpendek\n",
    "    while True:\n",
    "        # Mencari simpul dengan jarak terpendek\n",
    "        min_node = None\n",
    "        for node in graph:\n",
    "            if node not in visited:\n",
    "                if min_node is None:\n",
    "                    min_node = node\n",
    "                elif distances[node] < distances[min_node]:\n",
    "                    min_node = node\n",
    "\n",
    "        # Jika sudah mencapai simpul tujuan, keluar dari loop\n",
    "        if min_node is None:\n",
    "            break\n",
    "\n",
    "        # Menghitung jarak terpendek ke simpul tetangga\n",
    "        for neighbor, weight in graph[min_node].items():\n",
    "            if weight + distances[min_node] < distances[neighbor]:\n",
    "                distances[neighbor] = weight + distances[min_node]\n",
    "                path[neighbor] = min_node\n",
    "\n",
    "        # Menandai simpul yang sudah dikunjungi\n",
    "        visited[min_node] = True\n",
    "\n",
    "    # Membuat jalur terpendek\n",
    "    shortest_path = [end]\n",
    "    node = end\n",
    "    while node != start:\n",
    "        shortest_path.append(path[node])\n",
    "        node = path[node]\n",
    "    shortest_path.reverse()\n",
    "\n",
    "    # Menghitung total bobot dari jalur terpendek\n",
    "    total_weight = 0\n",
    "    for i in range(len(shortest_path) - 1):\n",
    "        total_weight += graph[shortest_path[i]][shortest_path[i+1]]\n",
    "\n",
    "    return shortest_path, total_weight\n",
    "\n",
    "# Contoh penggunaan\n",
    "path, weight = shortest_path(graph, 'A', 'E')\n",
    "print(path) # Output: ['A', 'C', 'D', 'E']\n",
    "print(weight) # Output: 16"
   ]
  },
  {
   "cell_type": "code",
   "execution_count": 28,
   "id": "5734f0c8",
   "metadata": {},
   "outputs": [
    {
     "name": "stdout",
     "output_type": "stream",
     "text": [
      "Permanen Node dengan nilainya= {'A': 10, 'B': 7, 'C': 8, 'D': 2, 'E': 0, 'Z': 3}\n",
      "Jalur Terpendek yang dapat dilalui ['E', 'D', 'B'] dengan total jarak= 9\n"
     ]
    }
   ],
   "source": [
    "infinity = float('infinity') # membuat nilai tak hingga\n",
    "nama = 'Nama'\n",
    "Node_awal = 'E' #node awal\n",
    "node_tujuan = 'B' #node tujuan\n",
    "\n",
    "lokasi = { # random example graph\n",
    " 'A': {'B': 4, 'C': 2},\n",
    " 'B': {'A': 4, 'C': 1, 'D': 5},\n",
    " 'C': {'A': 2, 'B': 1, 'D': 8, 'E': 10},\n",
    " 'D': {'B': 5, 'C': 8, 'E': 2, 'Z': 6},\n",
    " 'E': {'C': 10,'D': 2, 'Z': 3},\n",
    " 'Z': {'D': 6, 'E': 3}\n",
    "}\n",
    "\n",
    "jarak = {} #menampung semua jarak atau bobot yang melewati nodes. default setting inf/tak hingga\n",
    "nodes = {} #menabhakan Nodes dalam inputan diatas\n",
    "for node in lokasi: #untuk membuat iterasi untuk mengisi setiap jarak dan nodes\n",
    "    jarak[node] = infinity #menandai semua bobot dengan infinity/tak hingga\n",
    "    nodes[node] = {} #setiap nodes anggapannya masih belum terhubung satu sama lain\n",
    "    \n",
    "\n",
    "jarak[Node_awal] = 0 #menandai jarak node pertama dengan 0\n",
    "\n",
    "\n",
    "def graphShortestPath(jarak, not_check): #membuat fungsi dengan paramater jarak dan not_check untuk\\\n",
    "    jarak_terpendek = infinity #mengganti variabel tak hingga\n",
    "    cheapest_node = \"\" #memasukkan jarak terpendek dari perbandingan didalm iterasi\n",
    "    for node in jarak:\n",
    "        if node in not_check and jarak[node] <= jarak_terpendek: #membandingkan untuk mencari nilai terkecil\n",
    "            jarak_terpendek = jarak[node] #jika jaraknya lebih kecil maka jarak terpendek jarak node tersebut\n",
    "            cheapest_node = node #menambahkan node yang terpendek\n",
    "    return cheapest_node #mengembalikan jarak terpendek\n",
    "\n",
    "\n",
    "# Algorithm: Dijkstra\n",
    "not_check = [node for node in jarak] #mengakses setiap node untuk nanti dicek/dibandingkan\n",
    "node = graphShortestPath(jarak, not_check)\n",
    "\n",
    "while not_check: #melakukan iterasi untuk mengecek sampai semua node telah diperiksa. Pada setiap iterasi\n",
    "    dist = jarak[node] # jarak node saat ini (dist) diakses dari jarak \n",
    "    child_dist = lokasi[node] # jarak dari node saat ini (child_dist) diakses dari lokasi\n",
    "    for c in child_dist:\n",
    "        if jarak[c] > dist + child_dist[c]: #Jika jarak ke anak tertentu lebih besar daripada jarak saat ini ditambah jarak dari anak tersebut ke node saat ini\n",
    "            jarak[c] = dist + child_dist[c] # maka jarak tersebut diperbarui.\n",
    "            nodes[c] = node  #node yang menghasilkan jarak terpendek diatur sebagai nodes[c].\n",
    "    not_check.pop(not_check.index(node)) #Setelah itu, node saat ini dihapus dari not_check .\n",
    "    node = graphShortestPath(jarak, not_check) #node baru yang memiliki jarak terpendek diambil menggunakan graphShortestPath.\n",
    "\n",
    "if jarak[node_tujuan] < infinity: #kemudian dilakukan pengujian,apakah  jarak kurang dari infinity?\n",
    "    alur = [node_tujuan] #Jika True maka alur dibuat dari node_tujuan ke node_awal dengan memperoleh node dari nodes\n",
    "    i = 0 #inisialisasi awal untuk menjumlahkan\n",
    "    while Node_awal not in alur: #kemudian dilakukanlah proses iterasi untuk kalkulasi dari setiap node yang tidak berada dalam alur\n",
    "        alur.append(nodes[alur[i]])\n",
    "        i+= 1 # increment atau penambahan \n",
    "else:\n",
    "    print('Maaf, alur yang Anda cari tidak ditemukan.') #Jika jarak tidak kurang dari infinity, artinya tidak ada jalur yang ditemukan\n",
    "    \n",
    "jalur=alur[::-1] #Terakhir, jalur diubah urutan elemennya menggunakan [::-1]\n",
    "\n",
    "temp=0\n",
    "for i in range(len(jalur)):\n",
    "    temp+=(jarak[jalur[i]]) #untuk menjumlahkan jarak awal sampai tujuan setelah selesai iterasi\n",
    "print('Permanen Node dengan nilainya=', jarak)\n",
    "total=jarak[node_tujuan] #untuk mendapatkan urutan yang benar, dan total adalah jarak akhir dari node_awal ke node_tujuan\n",
    "print('Jalur Terpendek yang dapat dilalui',jalur,'dengan total jarak=',temp) #Kemudian tampilkan total dan jalur dari hasil dari algoritma djikstra tersebut"
   ]
  },
  {
   "cell_type": "code",
   "execution_count": 30,
   "id": "3a031fc8",
   "metadata": {},
   "outputs": [
    {
     "data": {
      "image/png": "[encoded data removed]",
      "text/plain": [
       "<Figure size 432x288 with 1 Axes>"
      ]
     },
     "metadata": {},
     "output_type": "display_data"
    },
    {
     "name": "stdout",
     "output_type": "stream",
     "text": [
      "Dengan jalur terpendek, ['E', 'D', 'B']\n"
     ]
    },
    {
     "data": {
      "image/png": "[encoded data removed]",
      "text/plain": [
       "<Figure size 432x288 with 1 Axes>"
      ]
     },
     "metadata": {},
     "output_type": "display_data"
    }
   ],
   "source": [
    "import networkx as nx\n",
    "import matplotlib.pyplot as plt\n",
    "G=nx.Graph() #deklarasi graph pertama\n",
    "G2=nx.Graph() #deklarasi graph kedua\n",
    "\n",
    "for i in lokasi: #untuk mengambil key dari dict, untuk membuat graph pertama\n",
    "    for j in lokasi[i]: #untuk mengambil value didalam key\n",
    "        G.add_edge(i, j, weight=lokasi[i][j]) #menambah vertex, edge, dan bobot\n",
    "\n",
    "pairs = [] #menyimpan node/vertex untuk graph kedua\n",
    "for i in range(len(jalur) - 1): #membuat graph kedua\n",
    "    pairs.append([jalur[i], jalur[i+1]]) #menambakan setiap 2 nodes dalam 1 list --> [['A','B'],['B','C']...dst] bisa diprint(pairs) untuk melihatnya\n",
    "    \n",
    "\n",
    "# G.add_weighted_edges_from(G)\n",
    "pos = nx.spring_layout(G) #membuat bentuk pola graph\n",
    "nx.draw(G, pos, with_labels=True, font_weight='bold', node_color='lightgreen') #menampilkan graph\n",
    "edge_weight = nx.get_edge_attributes(G, 'weight') #menambahkan atribut/bobot untuk nanti bisa divisualisasikan\n",
    "nx.draw_networkx_edge_labels(G, pos, edge_labels=edge_weight) #menambahkan visualisasi bobot dalam edges\n",
    "plt.title(f'Bentuk Graph') #menampilkan judul\n",
    "plt.show() #menampilkan visualisasi graph menggunakan matplotlib\n",
    "\n",
    "\n",
    "G2.add_nodes_from(jalur) #menambahkan nodes baru dengan menggunakan hasil dari djikstra\n",
    "G2.add_edges_from(pairs) #menambahkan edges dengan menyambungkan 2 nodes\n",
    "nx.draw(G2, pos, with_labels=True, node_color='lightgreen', edge_color='red') #menampilkan graph kedua\n",
    "nx.draw_networkx_edge_labels(G, pos, edge_labels=edge_weight) #menambahkan visualisasi bobot dalam edges dengan menggunakan weight atau bobot dari graph sebelumnya baris #16\n",
    "plt.title(f'Total {total}') #sama judul\n",
    "print('Dengan jalur terpendek,', jalur) #menunjukkan urutan2 nodes yang terpendek dan dilewatinya\n",
    "plt.show() #menampilkn visualisasi graph kedua"
   ]
  },
  {
   "cell_type": "code",
   "execution_count": 103,
   "id": "bed8dcd7",
   "metadata": {},
   "outputs": [
    {
     "name": "stdout",
     "output_type": "stream",
     "text": [
      "[('A', 'C'), ('C', 'B'), ('B', 'D'), ('D', 'E'), ('E', 'Z')]\n",
      "('A', 'C')\n",
      "('C', 'B')\n",
      "('B', 'D')\n",
      "('D', 'E')\n",
      "('E', 'Z')\n"
     ]
    }
   ],
   "source": [
    "pairs = []\n",
    "for i in range(len(jalur) - 1):\n",
    "    pair = (jalur[i], jalur[i+1])\n",
    "    pairs.append(pair)\n",
    "\n",
    "print(pairs)\n",
    "# Mencetak pasangan item\n",
    "for pair in pairs:\n",
    "    print(pair)\n",
    "    "
   ]
  },
  {
   "cell_type": "code",
   "execution_count": 208,
   "id": "5d3f879c",
   "metadata": {},
   "outputs": [],
   "source": [
    "color_edges= ['blue' if edge in pairs else 'black' for edge in G2.edges]"
   ]
  }
 ],
 "metadata": {
  "kernelspec": {
   "display_name": "Python 3 (ipykernel)",
   "language": "python",
   "name": "python3"
  },
  "language_info": {
   "codemirror_mode": {
    "name": "ipython",
    "version": 3
   },
   "file_extension": ".py",
   "mimetype": "text/x-python",
   "name": "python",
   "nbconvert_exporter": "python",
   "pygments_lexer": "ipython3",
   "version": "3.9.12"
  }
 },
 "nbformat": 4,
 "nbformat_minor": 5
}
