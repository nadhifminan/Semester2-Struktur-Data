{
 "cells": [
  {
   "cell_type": "code",
   "execution_count": 36,
   "id": "3875365e",
   "metadata": {},
   "outputs": [],
   "source": [
    "class BinaryTree:\n",
    "    def __init__(self,value):\n",
    "        self.root=value\n",
    "        self.leftChild=None\n",
    "        self.rightChild=None\n",
    "    def getLeftChild(self):\n",
    "        return self.leftChild\n",
    "    def getRightChild(self):\n",
    "        return self.rightChild\n",
    "    def getRoot(self):\n",
    "        return self.root\n",
    "    def insertLeft(self,newItem):\n",
    "        newSubTree=BinaryTree(newItem)\n",
    "        if self.leftChild==None:\n",
    "            self.leftChild=newSubTree\n",
    "        else:\n",
    "            newSubTree.leftChild=self.leftChild\n",
    "            self.leftChild=newSubTree\n",
    "    def insertRight(self,newItem):\n",
    "        newSubTree=BinaryTree(newItem)\n",
    "        if self.rightChild==None:\n",
    "            self.rightChild=newSubTree\n",
    "        else:\n",
    "            newSubTree.rightChild=self.rightChild\n",
    "            self.rightChild=newSubTree"
   ]
  },
  {
   "cell_type": "code",
   "execution_count": 37,
   "id": "74efef0a",
   "metadata": {},
   "outputs": [
    {
     "name": "stdout",
     "output_type": "stream",
     "text": [
      "None None 5\n"
     ]
    }
   ],
   "source": [
    "bt=BinaryTree(5)\n",
    "print(bt.getLeftChild(),bt.getRightChild(),bt.getRoot())"
   ]
  },
  {
   "cell_type": "code",
   "execution_count": 38,
   "id": "1be6e262",
   "metadata": {},
   "outputs": [
    {
     "name": "stdout",
     "output_type": "stream",
     "text": [
      "<__main__.BinaryTree object at 0x000002369578F970> None 5\n"
     ]
    }
   ],
   "source": [
    "bt.insertLeft(3)\n",
    "print(bt.getLeftChild(),bt.getRightChild(),bt.getRoot())"
   ]
  },
  {
   "cell_type": "code",
   "execution_count": 52,
   "id": "30ba8227",
   "metadata": {},
   "outputs": [
    {
     "name": "stdout",
     "output_type": "stream",
     "text": [
      "9\n"
     ]
    }
   ],
   "source": [
    "temp=bt.getLeftChild()\n",
    "bt.insertRight(4)\n",
    "bt.insertRight(9)\n",
    "temp1=bt.getRightChild()\n",
    "temp.getRoot()\n",
    "temp1.getRoot()\n",
    "print(temp1.getRoot(),bt.get)"
   ]
  },
  {
   "cell_type": "code",
   "execution_count": null,
   "id": "b99d101f",
   "metadata": {},
   "outputs": [],
   "source": [
    "pi"
   ]
  },
  {
   "cell_type": "code",
   "execution_count": null,
   "id": "f982a54e",
   "metadata": {},
   "outputs": [],
   "source": []
  },
  {
   "cell_type": "code",
   "execution_count": null,
   "id": "dac68436",
   "metadata": {},
   "outputs": [],
   "source": []
  },
  {
   "cell_type": "code",
   "execution_count": null,
   "id": "03ba73d6",
   "metadata": {},
   "outputs": [],
   "source": []
  },
  {
   "cell_type": "code",
   "execution_count": null,
   "id": "e50fbdda",
   "metadata": {},
   "outputs": [],
   "source": []
  },
  {
   "cell_type": "code",
   "execution_count": null,
   "id": "431dca62",
   "metadata": {},
   "outputs": [],
   "source": []
  },
  {
   "cell_type": "code",
   "execution_count": null,
   "id": "459e1e27",
   "metadata": {},
   "outputs": [],
   "source": []
  },
  {
   "cell_type": "code",
   "execution_count": null,
   "id": "07640f19",
   "metadata": {},
   "outputs": [],
   "source": []
  },
  {
   "cell_type": "code",
   "execution_count": null,
   "id": "487ca097",
   "metadata": {},
   "outputs": [],
   "source": []
  },
  {
   "cell_type": "code",
   "execution_count": 1,
   "id": "f3e32ac4",
   "metadata": {},
   "outputs": [],
   "source": [
    "class BinaryTree:\n",
    "    def __init__(self, root):\n",
    "        self.key = root\n",
    "        self.leftChild = None\n",
    "        self.rightChild = None"
   ]
  },
  {
   "cell_type": "code",
   "execution_count": 2,
   "id": "c0ac52b8",
   "metadata": {},
   "outputs": [
    {
     "name": "stdout",
     "output_type": "stream",
     "text": [
      "None\n"
     ]
    }
   ],
   "source": [
    "myTree=BinaryTree(10)\n",
    "print(myTree.leftChild)"
   ]
  },
  {
   "cell_type": "code",
   "execution_count": 3,
   "id": "50f90606",
   "metadata": {},
   "outputs": [],
   "source": [
    "class BinaryTree:\n",
    "    def __init__(self, root):\n",
    "        self.key = root\n",
    "        self.leftChild = None\n",
    "        self.rightChild = None\n",
    "    def insertLeft(self, new_node):\n",
    "        if self.leftChild == None:\n",
    "            self.leftChild = BinaryTree(new_node)\n",
    "        else:\n",
    "            t = BinaryTree(new_node)\n",
    "            t.leftChild = self.leftChild\n",
    "            self.leftChild = t\n",
    "    def insertRight(self, new_node):\n",
    "        if self.rightChild == None:\n",
    "            self.rightChild = BinaryTree(new_node)\n",
    "        else:\n",
    "            t = BinaryTree(new_node)\n",
    "            t.rightChild = self.rightChild\n",
    "            self.rightChild = t"
   ]
  },
  {
   "cell_type": "code",
   "execution_count": 5,
   "id": "c1bd3982",
   "metadata": {},
   "outputs": [],
   "source": [
    "class BinaryTree:\n",
    "    def __init__(self, root):\n",
    "        self.key = root\n",
    "        self.leftChild = None\n",
    "        self.rightChild = None\n",
    "    def insertLeft(self, new_node):\n",
    "        if self.leftChild == None:\n",
    "            self.leftChild = BinaryTree(new_node)\n",
    "        else:\n",
    "            t = BinaryTree(new_node)\n",
    "            t.leftChild = self.leftChild\n",
    "            self.leftChild = t\n",
    "    def insertRight(self, new_node):\n",
    "        if self.rightChild == None:\n",
    "            self.rightChild = BinaryTree(new_node)\n",
    "        else:\n",
    "            t = BinaryTree(new_node)\n",
    "            t.rightChild = self.rightChild\n",
    "        self.rightChild = t\n",
    "    def getRightChild(self):\n",
    "        return self.rightChild\n",
    "    def getLeftChild(self):\n",
    "        return self.leftChild\n",
    "    def setRootVal(self, obj):\n",
    "        self.key = obj\n",
    "    def getRootVal(self):\n",
    "        return self.key"
   ]
  },
  {
   "cell_type": "code",
   "execution_count": null,
   "id": "21f507f6",
   "metadata": {},
   "outputs": [],
   "source": []
  },
  {
   "cell_type": "code",
   "execution_count": 1,
   "id": "a438afb5",
   "metadata": {},
   "outputs": [],
   "source": [
    "def stack():\n",
    "    s=[]\n",
    "    return (s)\n",
    "def push(s,data):\n",
    "    s.append(data)\n",
    "def pop(s):\n",
    "    data=s.pop()\n",
    "    return(data)\n",
    "def peek(s):\n",
    "    return(s[len(s)-1])\n",
    "def isEmpty(s):\n",
    "    return (s==[])\n",
    "def size(s):\n",
    "    return(len(s))"
   ]
  },
  {
   "cell_type": "code",
   "execution_count": 2,
   "id": "b7fd6c45",
   "metadata": {},
   "outputs": [],
   "source": [
    "class BinaryTree:\n",
    "    def __init__(self, root):\n",
    "        self.key = root\n",
    "        self.leftChild = None\n",
    "        self.rightChild = None\n",
    "    def insertLeft(self, new_node):\n",
    "        if self.leftChild == None:\n",
    "            self.leftChild = BinaryTree(new_node)\n",
    "        else:\n",
    "            t = BinaryTree(new_node)\n",
    "            t.leftChild = self.leftChild\n",
    "            self.leftChild = t\n",
    "    def insertRight(self, new_node):\n",
    "        if self.rightChild == None:\n",
    "            self.rightChild = BinaryTree(new_node)\n",
    "        else:\n",
    "            t = BinaryTree(new_node)\n",
    "            t.rightChild = self.rightChild\n",
    "        self.rightChild = t\n",
    "    def getRightChild(self):\n",
    "        return self.rightChild\n",
    "    def getLeftChild(self):\n",
    "        return self.leftChild\n",
    "    def setRootVal(self, obj):\n",
    "        self.key = obj\n",
    "    def getRootVal(self):\n",
    "        return self.key"
   ]
  },
  {
   "cell_type": "code",
   "execution_count": 8,
   "id": "2d99b3b9",
   "metadata": {},
   "outputs": [
    {
     "name": "stdout",
     "output_type": "stream",
     "text": [
      "['(', '3', '+', '(', '4', '*', '5', ')', ')']\n",
      "if 1 (\n",
      "if 2 3\n",
      "if 3 +\n"
     ]
    },
    {
     "ename": "UnboundLocalError",
     "evalue": "local variable 't' referenced before assignment",
     "output_type": "error",
     "traceback": [
      "\u001b[1;31m---------------------------------------------------------------------------\u001b[0m",
      "\u001b[1;31mUnboundLocalError\u001b[0m                         Traceback (most recent call last)",
      "Input \u001b[1;32mIn [8]\u001b[0m, in \u001b[0;36m<cell line: 30>\u001b[1;34m()\u001b[0m\n\u001b[0;32m     28\u001b[0m             \u001b[38;5;28;01mraise\u001b[39;00m \u001b[38;5;167;01mValueError\u001b[39;00m\n\u001b[0;32m     29\u001b[0m     \u001b[38;5;28;01mreturn\u001b[39;00m expTree\n\u001b[1;32m---> 30\u001b[0m pt \u001b[38;5;241m=\u001b[39m \u001b[43mbuildParseTree\u001b[49m\u001b[43m(\u001b[49m\u001b[38;5;124;43m'\u001b[39;49m\u001b[38;5;124;43m ( 3 + ( 4 * 5 ) ) \u001b[39;49m\u001b[38;5;124;43m'\u001b[39;49m\u001b[43m)\u001b[49m\n",
      "Input \u001b[1;32mIn [8]\u001b[0m, in \u001b[0;36mbuildParseTree\u001b[1;34m(mathExp)\u001b[0m\n\u001b[0;32m     20\u001b[0m \u001b[38;5;28mprint\u001b[39m(\u001b[38;5;124m'\u001b[39m\u001b[38;5;124mif 3\u001b[39m\u001b[38;5;124m'\u001b[39m, i)\n\u001b[0;32m     21\u001b[0m currentTree\u001b[38;5;241m.\u001b[39msetRootVal(i)\n\u001b[1;32m---> 22\u001b[0m \u001b[43mcurrentTree\u001b[49m\u001b[38;5;241;43m.\u001b[39;49m\u001b[43minsertRight\u001b[49m\u001b[43m(\u001b[49m\u001b[38;5;124;43m'\u001b[39;49m\u001b[38;5;124;43m \u001b[39;49m\u001b[38;5;124;43m'\u001b[39;49m\u001b[43m \u001b[49m\u001b[43m)\u001b[49m\n\u001b[0;32m     23\u001b[0m push(parentStack,currentTree)\n\u001b[0;32m     24\u001b[0m currentTree \u001b[38;5;241m=\u001b[39m currentTree\u001b[38;5;241m.\u001b[39mgetRightChild()\n",
      "Input \u001b[1;32mIn [2]\u001b[0m, in \u001b[0;36mBinaryTree.insertRight\u001b[1;34m(self, new_node)\u001b[0m\n\u001b[0;32m     17\u001b[0m     t \u001b[38;5;241m=\u001b[39m BinaryTree(new_node)\n\u001b[0;32m     18\u001b[0m     t\u001b[38;5;241m.\u001b[39mrightChild \u001b[38;5;241m=\u001b[39m \u001b[38;5;28mself\u001b[39m\u001b[38;5;241m.\u001b[39mrightChild\n\u001b[1;32m---> 19\u001b[0m \u001b[38;5;28mself\u001b[39m\u001b[38;5;241m.\u001b[39mrightChild \u001b[38;5;241m=\u001b[39m \u001b[43mt\u001b[49m\n",
      "\u001b[1;31mUnboundLocalError\u001b[0m: local variable 't' referenced before assignment"
     ]
    }
   ],
   "source": [
    "def buildParseTree(mathExp):\n",
    "    tokenList = mathExp.split()\n",
    "    parentStack = stack()\n",
    "    expTree = BinaryTree(' ' )\n",
    "    push(parentStack,expTree)\n",
    "    print(tokenList)\n",
    "    currentTree = expTree\n",
    "    for i in tokenList:\n",
    "        if i == '(' :\n",
    "            print('if 1', i)\n",
    "            currentTree.insertLeft(' ' )\n",
    "            push(parentStack,currentTree)\n",
    "            currentTree = currentTree.getLeftChild()\n",
    "        elif i not in [ '+' , '-' , '*' , '/' , ')' ]:\n",
    "            print('if 2', i)\n",
    "            currentTree.setRootVal(int(i))\n",
    "            parent = pop(parentStack)\n",
    "            currentTree = parent\n",
    "        elif i in [ '+' , '-' , '*' , '/' ]:\n",
    "            print('if 3', i)\n",
    "            currentTree.setRootVal(i)\n",
    "            currentTree.insertRight(' ' )\n",
    "            push(parentStack,currentTree)\n",
    "            currentTree = currentTree.getRightChild()\n",
    "        elif i == ')' :\n",
    "            currentTree = pop(parentStack)\n",
    "        else:\n",
    "            raise ValueError\n",
    "    return expTree\n",
    "pt = buildParseTree(' ( 3 + ( 4 * 5 ) ) ')"
   ]
  },
  {
   "cell_type": "code",
   "execution_count": 6,
   "id": "9551906e",
   "metadata": {},
   "outputs": [
    {
     "ename": "NameError",
     "evalue": "name 'pt' is not defined",
     "output_type": "error",
     "traceback": [
      "\u001b[1;31m---------------------------------------------------------------------------\u001b[0m",
      "\u001b[1;31mNameError\u001b[0m                                 Traceback (most recent call last)",
      "Input \u001b[1;32mIn [6]\u001b[0m, in \u001b[0;36m<cell line: 1>\u001b[1;34m()\u001b[0m\n\u001b[1;32m----> 1\u001b[0m \u001b[38;5;28mprint\u001b[39m(\u001b[43mpt\u001b[49m\u001b[38;5;241m.\u001b[39mgetRootVal())\n\u001b[0;32m      2\u001b[0m tmp\u001b[38;5;241m=\u001b[39mpt\u001b[38;5;241m.\u001b[39mgetLeftChild()\n\u001b[0;32m      3\u001b[0m \u001b[38;5;28mprint\u001b[39m(tmp\u001b[38;5;241m.\u001b[39mgetRootVal())\n",
      "\u001b[1;31mNameError\u001b[0m: name 'pt' is not defined"
     ]
    }
   ],
   "source": [
    "print(pt.getRootVal())\n",
    "tmp=pt.getLeftChild()\n",
    "print(tmp.getRootVal())"
   ]
  },
  {
   "cell_type": "code",
   "execution_count": 7,
   "id": "648d7f21",
   "metadata": {},
   "outputs": [
    {
     "ename": "NameError",
     "evalue": "name 'pt' is not defined",
     "output_type": "error",
     "traceback": [
      "\u001b[1;31m---------------------------------------------------------------------------\u001b[0m",
      "\u001b[1;31mNameError\u001b[0m                                 Traceback (most recent call last)",
      "Input \u001b[1;32mIn [7]\u001b[0m, in \u001b[0;36m<cell line: 1>\u001b[1;34m()\u001b[0m\n\u001b[1;32m----> 1\u001b[0m \u001b[38;5;28;01mif\u001b[39;00m \u001b[43mpt\u001b[49m\u001b[38;5;241m.\u001b[39mgetLeftChild():\n\u001b[0;32m      2\u001b[0m     \u001b[38;5;28mprint\u001b[39m(\u001b[38;5;124m'\u001b[39m\u001b[38;5;124mTree\u001b[39m\u001b[38;5;124m'\u001b[39m)\n",
      "\u001b[1;31mNameError\u001b[0m: name 'pt' is not defined"
     ]
    }
   ],
   "source": [
    "if pt.getLeftChild():\n",
    "    print('Tree')"
   ]
  },
  {
   "cell_type": "code",
   "execution_count": 5,
   "id": "24332c36",
   "metadata": {},
   "outputs": [
    {
     "ename": "NameError",
     "evalue": "name 'pt' is not defined",
     "output_type": "error",
     "traceback": [
      "\u001b[1;31m---------------------------------------------------------------------------\u001b[0m",
      "\u001b[1;31mNameError\u001b[0m                                 Traceback (most recent call last)",
      "Input \u001b[1;32mIn [5]\u001b[0m, in \u001b[0;36m<cell line: 11>\u001b[1;34m()\u001b[0m\n\u001b[0;32m      9\u001b[0m     \u001b[38;5;28;01melse\u001b[39;00m:\n\u001b[0;32m     10\u001b[0m         \u001b[38;5;28;01mreturn\u001b[39;00m parse_tree\u001b[38;5;241m.\u001b[39mkey\n\u001b[1;32m---> 11\u001b[0m evaluate(\u001b[43mpt\u001b[49m)\n",
      "\u001b[1;31mNameError\u001b[0m: name 'pt' is not defined"
     ]
    }
   ],
   "source": [
    "import operator\n",
    "def evaluate(parse_tree):\n",
    "    opers = { '+' :operator.add, '-' :operator.sub, '*' :operator.mul,'/' :op}\n",
    "    left = parse_tree.getLeftChild()\n",
    "    right = parse_tree.getRightChild()\n",
    "    if left and right:\n",
    "        fn = opers[parse_tree.key]\n",
    "        return fn(evaluate(left),evaluate(right))\n",
    "    else:\n",
    "        return parse_tree.key\n",
    "evaluate(pt)"
   ]
  },
  {
   "cell_type": "code",
   "execution_count": null,
   "id": "383bb308",
   "metadata": {},
   "outputs": [],
   "source": []
  },
  {
   "cell_type": "code",
   "execution_count": null,
   "id": "0797747e",
   "metadata": {},
   "outputs": [],
   "source": []
  },
  {
   "cell_type": "code",
   "execution_count": null,
   "id": "80b3cea8",
   "metadata": {},
   "outputs": [],
   "source": []
  },
  {
   "cell_type": "code",
   "execution_count": null,
   "id": "ffaaf521",
   "metadata": {},
   "outputs": [],
   "source": []
  },
  {
   "cell_type": "code",
   "execution_count": null,
   "id": "4cf141c6",
   "metadata": {},
   "outputs": [],
   "source": []
  }
 ],
 "metadata": {
  "kernelspec": {
   "display_name": "Python 3 (ipykernel)",
   "language": "python",
   "name": "python3"
  },
  "language_info": {
   "codemirror_mode": {
    "name": "ipython",
    "version": 3
   },
   "file_extension": ".py",
   "mimetype": "text/x-python",
   "name": "python",
   "nbconvert_exporter": "python",
   "pygments_lexer": "ipython3",
   "version": "3.9.12"
  }
 },
 "nbformat": 4,
 "nbformat_minor": 5
}
