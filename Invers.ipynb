{
 "cells": [
  {
   "cell_type": "code",
   "execution_count": 3,
   "id": "85a35c51",
   "metadata": {},
   "outputs": [
    {
     "name": "stdout",
     "output_type": "stream",
     "text": [
      "Invers Matrix:\n",
      "[-1.0, 1.0, 1.0, 0.0]\n",
      "[2.0, 0.0, 0.0, 1.0]\n"
     ]
    }
   ],
   "source": [
    "def createIdentitasMatrix(n):\n",
    "    identity = []\n",
    "    for i in range(n):\n",
    "        baris = []\n",
    "        for j in range(n):\n",
    "            if i == j:\n",
    "                baris.append(1.0)\n",
    "            else:\n",
    "                baris.append(0.0)\n",
    "        identity.append(baris)\n",
    "    return identity\n",
    "\n",
    "def create_augmented_matrix(matrix, identity):\n",
    "    augmented_matrix = []\n",
    "    for i, baris in enumerate(matrix):\n",
    "        augmented_baris = baris + identity[i]\n",
    "        augmented_matrix.append(augmented_baris)\n",
    "    return augmented_matrix\n",
    "\n",
    "def balik_matrix(matrix):\n",
    "    n = len(matrix)\n",
    "    identity = createIdentitasMatrix(n)\n",
    "    augmented_matrix = create_augmented_matrix(matrix, identity)\n",
    "    \n",
    "    for i in range(n):\n",
    "        pivot = augmented_matrix[i][i]\n",
    "        \n",
    "        if pivot == 0:\n",
    "            return None\n",
    "        \n",
    "        pivot_balik = 1 / pivot\n",
    "        for j in range(n*2):\n",
    "            augmented_matrix[i][j] *= pivot_balik\n",
    "    \n",
    "        for j in range(n):\n",
    "            if i != j:\n",
    "                factor = augmented_matrix[j][i]\n",
    "                for k in range(n*2):\n",
    "                    augmented_matrix[j][k] -= factor * augmented_matrix[i][k]\n",
    "    \n",
    "    balik = []\n",
    "    for baris in augmented_matrix:\n",
    "        balik_baris = baris[n:]\n",
    "        balik.append(balik_baris)\n",
    "    \n",
    "    return balik\n",
    "\n",
    "# Contoh penggunaan\n",
    "matrix = [[2, 3, 4,2], [3, 5,7,3]]\n",
    "balik = balik_matrix(matrix)\n",
    "\n",
    "if balik is not None:\n",
    "    print(\"Invers Matrix:\")\n",
    "    for baris in balik:\n",
    "        print(baris)\n",
    "else:\n",
    "    print(\"Matriks tidak dapat dibalik.\")\n"
   ]
  }
 ],
 "metadata": {
  "kernelspec": {
   "display_name": "Python 3 (ipykernel)",
   "language": "python",
   "name": "python3"
  },
  "language_info": {
   "codemirror_mode": {
    "name": "ipython",
    "version": 3
   },
   "file_extension": ".py",
   "mimetype": "text/x-python",
   "name": "python",
   "nbconvert_exporter": "python",
   "pygments_lexer": "ipython3",
   "version": "3.9.12"
  }
 },
 "nbformat": 4,
 "nbformat_minor": 5
}
