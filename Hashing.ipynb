{
 "cells": [
  {
   "cell_type": "markdown",
   "id": "8c992a1a",
   "metadata": {},
   "source": [
    "# hashing"
   ]
  },
  {
   "cell_type": "code",
   "execution_count": 13,
   "id": "2e97de31",
   "metadata": {},
   "outputs": [],
   "source": [
    "def remainderFunction (data,num):\n",
    "    return (data%num)\n",
    "def createHashTable(num):\n",
    "    temp=[]\n",
    "    for i in range(num):\n",
    "        temp.append('none')\n",
    "    return(temp)\n",
    "def putData(data,table):\n",
    "    for i in range(len(data)):\n",
    "        ind=remainderFunction(data[i],len(table))\n",
    "        table[ind]=data[i]\n",
    "    return(table)\n",
    "def searchHash(data,table):\n",
    "    hashVal=remainderFunction(data,len(table))\n",
    "    if data==table[hashVal]:\n",
    "        return True\n",
    "    else:\n",
    "        return False"
   ]
  },
  {
   "cell_type": "code",
   "execution_count": 4,
   "id": "3a5205ac",
   "metadata": {},
   "outputs": [
    {
     "data": {
      "text/plain": [
       "[[77, 88], None, None, None, [26], [93], [17], None, None, [31], [54]]"
      ]
     },
     "execution_count": 4,
     "metadata": {},
     "output_type": "execute_result"
    }
   ],
   "source": [
    "def buat(angka):\n",
    "    temp=[]\n",
    "    for i in range(angka):\n",
    "        temp.append(None)\n",
    "    return temp\n",
    "def sisa(data,angka):\n",
    "    return data%angka\n",
    "\n",
    "def putdata(data,table):\n",
    "    for i in range(len(data)):\n",
    "        ind=sisa(data[i],len(table))\n",
    "        if table[ind]==None:\n",
    "            table[ind]=[data[i]]\n",
    "        elif table[ind]!=None:\n",
    "            table[ind].append(data[i])\n",
    "    return table\n",
    "data=[54,26,93,17,77,88,31]\n",
    "a=buat(11)\n",
    "putdata(data,a)\n"
   ]
  },
  {
   "cell_type": "code",
   "execution_count": 75,
   "id": "014e94e1",
   "metadata": {},
   "outputs": [
    {
     "data": {
      "text/plain": [
       "[17, 26, 31, 54, 77, 88, 93]"
      ]
     },
     "execution_count": 75,
     "metadata": {},
     "output_type": "execute_result"
    }
   ],
   "source": [
    "def sorting(data):\n",
    "    for i in range(len(data)-1,-1,-1):\n",
    "        for j in range(i):\n",
    "            if data[j]>data[j+1]:\n",
    "                data[j],data[j+1]=data[j+1],data[j]\n",
    "    return data\n",
    "data=[54,26,93,17,77,88,31]\n",
    "sorting(data)"
   ]
  },
  {
   "cell_type": "code",
   "execution_count": 5,
   "id": "0a2847ba",
   "metadata": {
    "scrolled": false
   },
   "outputs": [
    {
     "name": "stdout",
     "output_type": "stream",
     "text": [
      "22\n"
     ]
    },
    {
     "data": {
      "text/plain": [
       "[[77, 88, 22], None, None, None, 26, 93, 17, None, None, 31, 54]"
      ]
     },
     "execution_count": 5,
     "metadata": {},
     "output_type": "execute_result"
    }
   ],
   "source": [
    "data=[54,26,93,17,77,88,31]\n",
    "def putdata(data,table):\n",
    "    for i in range(len(data)):\n",
    "        ind=sisa(data[i],len(table))\n",
    "        if table[ind]==None:\n",
    "            table[ind]=data[i]\n",
    "        else:\n",
    "            if type(table[ind])!=list:\n",
    "                table[ind]=[table[ind],data[i]]\n",
    "            else:\n",
    "                table[ind].append(data[i])\n",
    "                print(data[i])\n",
    "    return table\n",
    "data=[54,26,93,17,77,88,22,31]\n",
    "a=buat(11)\n",
    "putdata(data,a)"
   ]
  },
  {
   "cell_type": "code",
   "execution_count": 12,
   "id": "c28a4c19",
   "metadata": {},
   "outputs": [
    {
     "name": "stdout",
     "output_type": "stream",
     "text": [
      "[2, 3, 4, 5]\n"
     ]
    }
   ],
   "source": [
    "a=[[2,3],[4,5]]\n",
    "b=[]\n",
    "for i in range(len(a)):\n",
    "    for j in range(len(a[0])):\n",
    "        b.append(a[i][j])\n",
    "print(b)"
   ]
  },
  {
   "cell_type": "code",
   "execution_count": 7,
   "id": "4f00609d",
   "metadata": {},
   "outputs": [
    {
     "ename": "AttributeError",
     "evalue": "'int' object has no attribute 'append'",
     "output_type": "error",
     "traceback": [
      "\u001b[1;31m---------------------------------------------------------------------------\u001b[0m",
      "\u001b[1;31mAttributeError\u001b[0m                            Traceback (most recent call last)",
      "Input \u001b[1;32mIn [7]\u001b[0m, in \u001b[0;36m<cell line: 11>\u001b[1;34m()\u001b[0m\n\u001b[0;32m      9\u001b[0m             table[ind]\u001b[38;5;241m.\u001b[39mappend(data[i])\n\u001b[0;32m     10\u001b[0m     \u001b[38;5;28;01mreturn\u001b[39;00m table\n\u001b[1;32m---> 11\u001b[0m \u001b[38;5;28mprint\u001b[39m(\u001b[43mputData\u001b[49m\u001b[43m(\u001b[49m\u001b[43mdata\u001b[49m\u001b[43m,\u001b[49m\u001b[43ma\u001b[49m\u001b[43m)\u001b[49m)\n",
      "Input \u001b[1;32mIn [7]\u001b[0m, in \u001b[0;36mputData\u001b[1;34m(data, table)\u001b[0m\n\u001b[0;32m      7\u001b[0m         table[ind]\u001b[38;5;241m.\u001b[39mapend(data[i])\n\u001b[0;32m      8\u001b[0m     \u001b[38;5;28;01melse\u001b[39;00m:\n\u001b[1;32m----> 9\u001b[0m         \u001b[43mtable\u001b[49m\u001b[43m[\u001b[49m\u001b[43mind\u001b[49m\u001b[43m]\u001b[49m\u001b[38;5;241;43m.\u001b[39;49m\u001b[43mappend\u001b[49m(data[i])\n\u001b[0;32m     10\u001b[0m \u001b[38;5;28;01mreturn\u001b[39;00m table\n",
      "\u001b[1;31mAttributeError\u001b[0m: 'int' object has no attribute 'append'"
     ]
    }
   ],
   "source": [
    "# 29 mei 2023\n",
    "def putData(data,table):\n",
    "    for i in range(len(data)):\n",
    "        ind=sisa(data[i],len(table))\n",
    "        if table[ind]==None:\n",
    "            table[ind]=[]\n",
    "            table[ind].apend(data[i])\n",
    "        else:\n",
    "            table[ind].append(data[i])\n",
    "    return table\n",
    "print(putData(data,a))"
   ]
  },
  {
   "cell_type": "code",
   "execution_count": 12,
   "id": "50cc4ba6",
   "metadata": {},
   "outputs": [
    {
     "data": {
      "text/plain": [
       "True"
      ]
     },
     "execution_count": 12,
     "metadata": {},
     "output_type": "execute_result"
    }
   ],
   "source": [
    "a=[[1,1],3,4]\n",
    "3 in a"
   ]
  },
  {
   "cell_type": "code",
   "execution_count": 19,
   "id": "3812579a",
   "metadata": {},
   "outputs": [
    {
     "name": "stdout",
     "output_type": "stream",
     "text": [
      "[5, [8, 8], 5, [6, [8, 8]], [42, [8, 8]]]\n"
     ]
    }
   ],
   "source": [
    "data=[54,26,93,17,77,88,31]\n",
    "for i in range(len(data)):\n",
    "    if data[i]%2==0:\n",
    "        "
   ]
  },
  {
   "cell_type": "code",
   "execution_count": null,
   "id": "7b3dde18",
   "metadata": {},
   "outputs": [],
   "source": []
  },
  {
   "cell_type": "code",
   "execution_count": 10,
   "id": "126d03f4",
   "metadata": {},
   "outputs": [
    {
     "name": "stdout",
     "output_type": "stream",
     "text": [
      "[88, 'none', 'none', 'none', 26, 93, 17, 'none', 'none', 31, 54]\n"
     ]
    }
   ],
   "source": [
    "data=[54,26,93,17,77,88,31]\n",
    "create=createHashTable(11)\n",
    "penerapan=(putData(data,create))\n",
    "print(penerapan)"
   ]
  },
  {
   "cell_type": "code",
   "execution_count": 4,
   "id": "fd58190a",
   "metadata": {},
   "outputs": [
    {
     "name": "stdout",
     "output_type": "stream",
     "text": [
      "[77, 'none', 'none', 'none', 26, 93, 17, 'none', 'none', 31, 54]\n"
     ]
    }
   ],
   "source": [
    "hashTable=putData(a,hashTable)\n",
    "print(hashTable)"
   ]
  },
  {
   "cell_type": "code",
   "execution_count": 3,
   "id": "0a182c8d",
   "metadata": {},
   "outputs": [
    {
     "name": "stdout",
     "output_type": "stream",
     "text": [
      "['none', 'none', 'none', 'none', 'none', 'none', 'none', 'none', 'none', 'none', 'none']\n"
     ]
    }
   ],
   "source": [
    "a=[54, 26, 93, 17, 77, 31]\n",
    "hashTable=createHashTable(11)\n",
    "print(hashTable)"
   ]
  },
  {
   "cell_type": "code",
   "execution_count": 5,
   "id": "1bfbf3ca",
   "metadata": {},
   "outputs": [
    {
     "data": {
      "text/plain": [
       "True"
      ]
     },
     "execution_count": 5,
     "metadata": {},
     "output_type": "execute_result"
    }
   ],
   "source": [
    "searchHash(93,hashTable)"
   ]
  },
  {
   "cell_type": "code",
   "execution_count": 6,
   "id": "7c57ca2a",
   "metadata": {},
   "outputs": [
    {
     "data": {
      "text/plain": [
       "954"
      ]
     },
     "execution_count": 6,
     "metadata": {},
     "output_type": "execute_result"
    }
   ],
   "source": [
    "def strVal(strData):\n",
    "    temp=0\n",
    "    for i in range (len(strData)):\n",
    "        temp=temp+ord(strData[i])\n",
    "    return(temp)\n",
    "strVal('indonesia')"
   ]
  },
  {
   "cell_type": "code",
   "execution_count": 7,
   "id": "3ca0cfab",
   "metadata": {},
   "outputs": [
    {
     "name": "stdout",
     "output_type": "stream",
     "text": [
      "302\n",
      "302\n"
     ]
    }
   ],
   "source": [
    "print(strVal('dia'))\n",
    "print(strVal('adi'))"
   ]
  },
  {
   "cell_type": "code",
   "execution_count": 1,
   "id": "866760a2",
   "metadata": {},
   "outputs": [],
   "source": [
    "def linearProbing(ind,hashTable,data):\n",
    "    count=ind\n",
    "    found=False\n",
    "    while (count!=ind-1) and not(found):\n",
    "        if hashTable[count]=='none':\n",
    "            found=True\n",
    "            hashTable[count]=data\n",
    "        else:\n",
    "            count=count+1\n",
    "            if count==len(hashTable)-1:\n",
    "                count=0\n",
    "    return(hashTable)\n",
    "\n",
    "\n",
    "\n",
    "\n",
    "def putData3(a,hashTable,functionName):\n",
    "    for i in range(len(a)):\n",
    "        if functionName=='reminder':\n",
    "            ind=remainderFunction(a[i],len(hashTable))\n",
    "        elif functionName=='midSq':\n",
    "            ind=midSqFunction(a[i],len(hashTable))\n",
    "            \n",
    "        if hashTable[ind]=='none':\n",
    "            hashTable[ind]=a[i]\n",
    "        else:\n",
    "            hashTable=linearProbing(ind,hashTable,a[i])\n",
    "    return(hashTable)"
   ]
  },
  {
   "cell_type": "code",
   "execution_count": 9,
   "id": "bf5e0ea1",
   "metadata": {},
   "outputs": [
    {
     "name": "stdout",
     "output_type": "stream",
     "text": [
      "['none', 'none', 'none', 'none', 'none', 'none', 'none', 'none', 'none', 'none', 'none']\n",
      "[77, 'none', 'none', 'none', 26, 93, 17, 'none', 'none', 31, 54]\n"
     ]
    }
   ],
   "source": [
    "a=[54, 26, 93, 17, 77, 31]\n",
    "hashTable=createHashTable(11)\n",
    "print(hashTable)\n",
    "hashTable=putData3(a,hashTable,'reminder')\n",
    "print(hashTable)"
   ]
  },
  {
   "cell_type": "code",
   "execution_count": 12,
   "id": "01f088d1",
   "metadata": {},
   "outputs": [
    {
     "name": "stdout",
     "output_type": "stream",
     "text": [
      "[]\n"
     ]
    },
    {
     "ename": "ZeroDivisionError",
     "evalue": "integer division or modulo by zero",
     "output_type": "error",
     "traceback": [
      "\u001b[1;31m---------------------------------------------------------------------------\u001b[0m",
      "\u001b[1;31mZeroDivisionError\u001b[0m                         Traceback (most recent call last)",
      "Input \u001b[1;32mIn [12]\u001b[0m, in \u001b[0;36m<cell line: 18>\u001b[1;34m()\u001b[0m\n\u001b[0;32m     16\u001b[0m dataHash\u001b[38;5;241m=\u001b[39m[]\n\u001b[0;32m     17\u001b[0m \u001b[38;5;28mprint\u001b[39m(dataHash)\n\u001b[1;32m---> 18\u001b[0m \u001b[43mputData\u001b[49m\u001b[43m(\u001b[49m\u001b[43mdata\u001b[49m\u001b[43m,\u001b[49m\u001b[43mdataHash\u001b[49m\u001b[43m)\u001b[49m\n\u001b[0;32m     19\u001b[0m \u001b[38;5;28mprint\u001b[39m(dataHash)\n",
      "Input \u001b[1;32mIn [2]\u001b[0m, in \u001b[0;36mputData\u001b[1;34m(data, table)\u001b[0m\n\u001b[0;32m      8\u001b[0m \u001b[38;5;28;01mdef\u001b[39;00m \u001b[38;5;21mputData\u001b[39m(data,table):\n\u001b[0;32m      9\u001b[0m     \u001b[38;5;28;01mfor\u001b[39;00m i \u001b[38;5;129;01min\u001b[39;00m \u001b[38;5;28mrange\u001b[39m(\u001b[38;5;28mlen\u001b[39m(data)):\n\u001b[1;32m---> 10\u001b[0m         ind\u001b[38;5;241m=\u001b[39m\u001b[43mremainderFunction\u001b[49m\u001b[43m(\u001b[49m\u001b[43mdata\u001b[49m\u001b[43m[\u001b[49m\u001b[43mi\u001b[49m\u001b[43m]\u001b[49m\u001b[43m,\u001b[49m\u001b[38;5;28;43mlen\u001b[39;49m\u001b[43m(\u001b[49m\u001b[43mtable\u001b[49m\u001b[43m)\u001b[49m\u001b[43m)\u001b[49m\n\u001b[0;32m     11\u001b[0m         table[ind]\u001b[38;5;241m=\u001b[39mdata[i]\n\u001b[0;32m     12\u001b[0m     \u001b[38;5;28;01mreturn\u001b[39;00m(table)\n",
      "Input \u001b[1;32mIn [2]\u001b[0m, in \u001b[0;36mremainderFunction\u001b[1;34m(data, num)\u001b[0m\n\u001b[0;32m      1\u001b[0m \u001b[38;5;28;01mdef\u001b[39;00m \u001b[38;5;21mremainderFunction\u001b[39m (data,num):\n\u001b[1;32m----> 2\u001b[0m     \u001b[38;5;28;01mreturn\u001b[39;00m (\u001b[43mdata\u001b[49m\u001b[38;5;241;43m%\u001b[39;49m\u001b[43mnum\u001b[49m)\n",
      "\u001b[1;31mZeroDivisionError\u001b[0m: integer division or modulo by zero"
     ]
    }
   ],
   "source": [
    "def createHastable(hashTable,n):\n",
    "    for i in range(n):\n",
    "        hashTable.append(None)\n",
    "def remainder(data,n):\n",
    "    return data%n\n",
    "\n",
    "def midSquare(data,n):\n",
    "    data=data**2\n",
    "    data=str(data)\n",
    "    if len(data)%2==0:\n",
    "        data=data[len(data)//2+1]\n",
    "    else:\n",
    "        data=data[len(data)//2]\n",
    "    return remainder\n",
    "data=[54, 26, 93, 17, 77, 31]\n",
    "dataHash=[]\n",
    "print(dataHash)\n",
    "putData(data,dataHash)\n",
    "print(dataHash)"
   ]
  },
  {
   "cell_type": "code",
   "execution_count": 37,
   "id": "5f227eba",
   "metadata": {},
   "outputs": [
    {
     "data": {
      "text/plain": [
       "[None,\n",
       " None,\n",
       " None,\n",
       " None,\n",
       " None,\n",
       " None,\n",
       " None,\n",
       " None,\n",
       " None,\n",
       " None,\n",
       " None,\n",
       " None,\n",
       " None,\n",
       " None]"
      ]
     },
     "execution_count": 37,
     "metadata": {},
     "output_type": "execute_result"
    }
   ],
   "source": [
    "data=[1,4,15,12,51,44,2,124,14,8100]\n",
    "def createHash(data):\n",
    "    jumlah=len(data)\n",
    "    hs=jumlah//0.7\n",
    "    temp=[]\n",
    "    for i in range(int(hs)):\n",
    "        temp.append(None)\n",
    "    return temp\n",
    "loaadVektor(data)"
   ]
  },
  {
   "cell_type": "code",
   "execution_count": 39,
   "id": "4bbcd9ab",
   "metadata": {},
   "outputs": [],
   "source": [
    "def putData(dataList,hashTable):\n",
    "    for dt in dataList:\n",
    "        hashTable[remainderFn(dt,len(hashTable))]=dt"
   ]
  },
  {
   "cell_type": "code",
   "execution_count": 34,
   "id": "9fc3d836",
   "metadata": {},
   "outputs": [],
   "source": [
    "def remainderFn(data,n):\n",
    "    return data%len(data)"
   ]
  },
  {
   "cell_type": "code",
   "execution_count": 38,
   "id": "10802746",
   "metadata": {},
   "outputs": [
    {
     "ename": "TypeError",
     "evalue": "object of type 'NoneType' has no len()",
     "output_type": "error",
     "traceback": [
      "\u001b[1;31m---------------------------------------------------------------------------\u001b[0m",
      "\u001b[1;31mTypeError\u001b[0m                                 Traceback (most recent call last)",
      "Input \u001b[1;32mIn [38]\u001b[0m, in \u001b[0;36m<cell line: 2>\u001b[1;34m()\u001b[0m\n\u001b[0;32m      1\u001b[0m hashT\u001b[38;5;241m=\u001b[39mcreateHash(data)\n\u001b[1;32m----> 2\u001b[0m \u001b[43mputData\u001b[49m\u001b[43m(\u001b[49m\u001b[43mhashTable\u001b[49m\u001b[43m,\u001b[49m\u001b[43mdata\u001b[49m\u001b[43m)\u001b[49m\n",
      "Input \u001b[1;32mIn [30]\u001b[0m, in \u001b[0;36mputData\u001b[1;34m(dataList, hashTable)\u001b[0m\n\u001b[0;32m      1\u001b[0m \u001b[38;5;28;01mdef\u001b[39;00m \u001b[38;5;21mputData\u001b[39m(dataList,hashTable):\n\u001b[0;32m      2\u001b[0m     \u001b[38;5;28;01mfor\u001b[39;00m dt \u001b[38;5;129;01min\u001b[39;00m dataList:\n\u001b[1;32m----> 3\u001b[0m         hashTable[\u001b[43mremainderFn\u001b[49m\u001b[43m(\u001b[49m\u001b[43mdt\u001b[49m\u001b[43m,\u001b[49m\u001b[38;5;28;43mlen\u001b[39;49m\u001b[43m(\u001b[49m\u001b[43mhashTable\u001b[49m\u001b[43m)\u001b[49m\u001b[43m)\u001b[49m]\u001b[38;5;241m=\u001b[39mdt\n",
      "Input \u001b[1;32mIn [34]\u001b[0m, in \u001b[0;36mremainderFn\u001b[1;34m(data, n)\u001b[0m\n\u001b[0;32m      1\u001b[0m \u001b[38;5;28;01mdef\u001b[39;00m \u001b[38;5;21mremainderFn\u001b[39m(data,n):\n\u001b[1;32m----> 2\u001b[0m     \u001b[38;5;28;01mreturn\u001b[39;00m data\u001b[38;5;241m%\u001b[39m\u001b[38;5;28;43mlen\u001b[39;49m\u001b[43m(\u001b[49m\u001b[43mdata\u001b[49m\u001b[43m)\u001b[49m\n",
      "\u001b[1;31mTypeError\u001b[0m: object of type 'NoneType' has no len()"
     ]
    }
   ],
   "source": [
    "hashT=createHash(data)\n",
    "putData(hashTable,data)"
   ]
  },
  {
   "cell_type": "code",
   "execution_count": 70,
   "id": "de645c31",
   "metadata": {},
   "outputs": [],
   "source": [
    "def createHash(data):\n",
    "    return [None for i in range(data)]\n",
    "\n",
    "def reminder(data, table):\n",
    "    return data% table #tanpa csv\n",
    "#     return data[kolom yang ingin diurutkan dalam csv]% table ketika ingin memakai csv.\n",
    "\n",
    "def putData(data, table):\n",
    "    for datas in data:\n",
    "        \n",
    "        ind= reminder(datas, len(table))\n",
    "        if table[ind] != None:\n",
    "            if type(table[ind]) != list:\n",
    "                table[ind]= [table[ind]]\n",
    "            table[ind].append(datas)\n",
    "        else:\n",
    "            table[ind]= datas\n",
    "            \n",
    "def searchHash(cari, data):\n",
    "    ind= reminder(cari, data)\n",
    "    if kata in data[ind]:\n",
    "        return [f'{cari} index {kata[ind].inex(kata)}']\n",
    "    elif data[ind] == cari:\n",
    "        return [f\"{cari} index ke {ind}\"]"
   ]
  },
  {
   "cell_type": "code",
   "execution_count": 71,
   "id": "9d1f3ca3",
   "metadata": {},
   "outputs": [
    {
     "name": "stdout",
     "output_type": "stream",
     "text": [
      "[None, [1, 19], 2, 3, 4, None]\n"
     ]
    }
   ],
   "source": [
    "data=[2,1,3,4,19]\n",
    "tableHash= createHash(6)\n",
    "p=putData(data, tableHash)\n",
    "print(tableHash)"
   ]
  },
  {
   "cell_type": "code",
   "execution_count": 72,
   "id": "4c09a9c2",
   "metadata": {},
   "outputs": [
    {
     "name": "stdout",
     "output_type": "stream",
     "text": [
      "[[220411100002, 'Adika Habibi', '68,27'], [220411100003, 'Mala Titin Kusmawati', '58,81'], [220411100004, 'Paris Anita Wijayanti', '83,6'], [220411100005, 'Lintang Mila Suryatmi', '86,86'], [220411100006, 'Diana Dina Pudjiastuti', '60,75'], [220411100007, 'Devi Handayani', '92,82'], [220411100008, 'Edison Karsa Adriansyah', '50,6'], [220411100009, 'Zelaya Talia Farida', '96,66'], [220411100010, 'Darman Endra Thamrin', '60,84'], [220411100011, 'Galur Kamal Saputra', '58,44'], [220411100012, 'Daruna Permadi', '59,67'], [220411100013, 'Kairav Mahendra', '79,63'], [220411100014, 'Kamila Widiastuti', '70,14'], [220411100015, 'Hasim Waluyo', '97,70'], [220411100016, 'Vera Aryani', '51,53'], [220411100017, 'Respati Maheswara', '80,46'], [220411100018, 'Sarah Yuliarti', '57,55'], [220411100019, 'Anastasia Padmasari', '58,33'], [220411100020, 'Yessi Hariyah', '74,87'], [220411100021, 'Darmanto Iswahyudi', '87,16'], [220411100022, 'Ilsa Gasti Susanti', '72,53'], [220411100023, 'Emil Gunawan', '51,84'], [220411100024, 'Tomi Soleh Suwarno', '52,73'], [220411100025, 'Hasim Luluh Kuswoyo', '92,32'], [220411100026, 'Laras Astuti', '93,3'], [220411100027, 'Puti Hassanah', '60,86'], [220411100028, 'Dasa Waluyo', '53,90'], [220411100029, 'Eluh Damu Prasetyo', '71,7'], [220411100030, 'Endra Maryadi', '85,61'], [220411100031, 'Purwadi Timbul Simbolon', '72,33'], [220411100032, 'Karsana Waluyo Santoso', '58,15'], [220411100033, 'Nyoman Hutapea', '58,1'], [220411100034, 'Irma Nasyidah', '73,59'], [220411100035, 'Cemani Situmorang', '90,32'], [220411100036, 'Aurora Maryati', '76,85'], [220411100037, 'Siti Suartini', '69,74'], [220411100038, 'Padmi Laras Maryati', '83,13'], [220411100039, 'Prakosa Upik Najmudin', '70,14'], [220411100040, 'Kemba Maryadi Budiyanto', '70,71'], [220411100041, 'Asmadi Saefullah', '97,17'], [220411100042, 'Zelda Astuti', '60,23'], [220411100043, 'Syahrini Tira Pratiwi', '88,89'], [220411100044, 'Ganjaran Bagas Firgantoro', '67,19'], [220411100045, 'Emin Wacana', '88,28'], [220411100046, 'Septi Rahimah', '72,82'], [220411100047, 'Sarah Nurul Pertiwi', '98,0'], [220411100048, 'Endah Ciaobella Usamah', '67,47'], [220411100049, 'Makara Kajen Nainggolan', '66,50'], [220411100050, 'Winda Pratiwi', '81,75'], [220411100051, 'Hendra Mulyono Jailani', '87,81'], [220411100052, 'Unggul Mahendra', '99,22'], [220411100053, 'Surya Prasetyo', '53,43'], [220411100054, 'Emas Mumpuni Prasetya', '57,78'], [220411100055, 'Jayadi Adriansyah', '79,75'], [220411100056, 'Okta Hutagalung', '83,21'], [220411100057, 'Martaka Mansur', '68,52'], [220411100058, 'Kasiran Oskar Hardiansyah', '85,45'], [220411100059, 'Laila Lailasari', '73,26'], [220411100060, 'Samiah Utami', '50,74'], [220411100061, 'Ilsa Fathonah Pudjiastuti', '60,85'], [220411100062, 'Bahuraksa Hidayanto', '66,15'], [220411100063, 'Eka Suryatmi', '85,10'], [220411100064, 'Bajragin Sitompul', '98,65'], [220411100065, 'Ika Safitri', '83,69'], [220411100066, 'Karta Suwarno', '85,58'], [220411100067, 'Ifa Ifa Yolanda', '94,24'], [220411100068, 'Puspa Maryati', '79,45'], [220411100069, 'Zahra Agustina', '76,43'], [220411100070, 'Ajiman Bala Gunawan', '61,29'], [220411100071, 'Ulya Usamah', '70,2'], [220411100072, 'Bakiono Mustofa', '90,13'], [220411100073, 'Rachel Zizi Yulianti', '94,44'], [220411100074, 'Kamila Aryani', '78,84'], [220411100075, 'Yani Susanti', '63,67'], [220411100076, 'Vivi Prastuti', '82,37'], [220411100077, 'Okto Raihan Sirait', '69,10'], [220411100078, 'Kadir Santoso', '82,60'], [220411100079, 'Bambang Uwais', '86,55'], [220411100080, 'Diah Siska Nasyidah', '86,78'], [220411100081, 'Asman Jarwi Ardianto', '91,70'], [220411100082, 'Laras Ifa Anggraini', '85,13'], [220411100083, 'Adiarja Januar', '74,25'], [220411100084, 'Paulin Winarsih', '64,27'], [220411100085, 'Martana Dabukke', '67,63'], [220411100086, 'Malika Yance Purnawati', '93,0'], [220411100087, 'Ani Rahmawati', '64,28'], [220411100088, 'Yuni Mulyani', '72,90'], [220411100089, 'Virman Simbolon', '96,67'], [220411100090, 'Lurhur Wibisono', '79,57'], [220411100091, 'Vanesa Fujiati', '55,76'], [220411100092, 'Malik Lasmanto Simanjuntak', '95,31'], [220411100093, 'Oni Prastuti', '68,3'], [220411100094, 'Belinda Raina Mandasari', '99,26'], [220411100095, 'Ratna Fitriani Suartini', '53,23'], [220411100096, 'Fitriani Agustina', '84,88'], [220411100097, 'Cemani Damu Waluyo', '90,45'], [220411100098, 'Laila Lalita Astuti', '97,46'], [220411100099, 'Kajen Pangestu', '57,1'], [220411100100, 'Yani Hesti Hassanah', '61,5']]\n"
     ]
    }
   ],
   "source": [
    "import pandas as pd\n",
    "data=(\"D:\\catatan Bu Dosen Indah\\struktur data\\modul\\dataModul5.csv\")\n",
    "df= pd.read_csv(data, delimiter=\";\")\n",
    "datalis= [list(dt) for dt in df.values]\n",
    "print(datalis)\n",
    "lis1= df.values.tolist"
   ]
  }
 ],
 "metadata": {
  "kernelspec": {
   "display_name": "Python 3 (ipykernel)",
   "language": "python",
   "name": "python3"
  },
  "language_info": {
   "codemirror_mode": {
    "name": "ipython",
    "version": 3
   },
   "file_extension": ".py",
   "mimetype": "text/x-python",
   "name": "python",
   "nbconvert_exporter": "python",
   "pygments_lexer": "ipython3",
   "version": "3.9.12"
  }
 },
 "nbformat": 4,
 "nbformat_minor": 5
}
