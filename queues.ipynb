{
 "cells": [
  {
   "cell_type": "code",
   "execution_count": 1,
   "id": "cc39f866",
   "metadata": {},
   "outputs": [],
   "source": [
    "def createQueue():\n",
    "    q=[]\n",
    "    return (q)\n",
    "def enqueue(q,data):\n",
    "    q.insert(0,data)\n",
    "    return(q)\n",
    "def dequeue(q):\n",
    "    data=q.pop()\n",
    "    return(data)\n",
    "def isEmpty(q):\n",
    "    return (q==[])\n",
    "def size(q):\n",
    "    return (len(q))"
   ]
  },
  {
   "cell_type": "code",
   "execution_count": null,
   "id": "7d78e9ed",
   "metadata": {},
   "outputs": [],
   "source": []
  },
  {
   "cell_type": "code",
   "execution_count": 16,
   "id": "b885d3dd",
   "metadata": {},
   "outputs": [],
   "source": [
    "q=createQueue()"
   ]
  },
  {
   "cell_type": "code",
   "execution_count": 18,
   "id": "1d6c4da5",
   "metadata": {},
   "outputs": [
    {
     "name": "stdout",
     "output_type": "stream",
     "text": [
      "['pemrograman web', 'bahasa inggris', 'struktur data', 'matematika', 'pemrograman web', 'bahasa inggris', 'struktur data', 'matematika']\n"
     ]
    }
   ],
   "source": [
    "enqueue(q,'matematika')\n",
    "enqueue(q,'struktur data')\n",
    "enqueue(q,'bahasa inggris')\n",
    "enqueue(q,'pemrograman web')\n",
    "print(q)"
   ]
  },
  {
   "cell_type": "code",
   "execution_count": 4,
   "id": "720ad780",
   "metadata": {},
   "outputs": [
    {
     "name": "stdout",
     "output_type": "stream",
     "text": [
      "['pemrograman web', 'bahasa inggris', 'struktur data']\n",
      "matematika\n"
     ]
    }
   ],
   "source": [
    "temp=dequeue(q)\n",
    "print(q)\n",
    "print(temp)"
   ]
  },
  {
   "cell_type": "code",
   "execution_count": 5,
   "id": "a6d9505b",
   "metadata": {},
   "outputs": [
    {
     "name": "stdout",
     "output_type": "stream",
     "text": [
      "['struktur data', 'pemrograman web', 'bahasa inggris']\n"
     ]
    }
   ],
   "source": [
    "enqueue(q,dequeue(q))\n",
    "print(q)"
   ]
  },
  {
   "cell_type": "code",
   "execution_count": 6,
   "id": "c83c5297",
   "metadata": {},
   "outputs": [
    {
     "name": "stdout",
     "output_type": "stream",
     "text": [
      "bahasa inggris ['struktur data', 'pemrograman web']\n"
     ]
    }
   ],
   "source": [
    "a=dequeue(q)\n",
    "print(a,q)"
   ]
  },
  {
   "cell_type": "code",
   "execution_count": 4,
   "id": "0b94cff5",
   "metadata": {
    "scrolled": true
   },
   "outputs": [
    {
     "data": {
      "text/plain": [
       "['new', 'pemrograman web', 'bahasa inggris', 'struktur data', 'matematika']"
      ]
     },
     "execution_count": 4,
     "metadata": {},
     "output_type": "execute_result"
    }
   ],
   "source": [
    "enqueue(q,'new')"
   ]
  },
  {
   "cell_type": "code",
   "execution_count": 8,
   "id": "a49d27dd",
   "metadata": {},
   "outputs": [
    {
     "data": {
      "text/plain": [
       "False"
      ]
     },
     "execution_count": 8,
     "metadata": {},
     "output_type": "execute_result"
    }
   ],
   "source": [
    "isEmpty(q)"
   ]
  },
  {
   "cell_type": "code",
   "execution_count": 9,
   "id": "20024c39",
   "metadata": {},
   "outputs": [
    {
     "data": {
      "text/plain": [
       "3"
      ]
     },
     "execution_count": 9,
     "metadata": {},
     "output_type": "execute_result"
    }
   ],
   "source": [
    "size(q)"
   ]
  },
  {
   "cell_type": "code",
   "execution_count": 10,
   "id": "b76a41e7",
   "metadata": {},
   "outputs": [],
   "source": [
    "def ularNaga(nama, hitungan):\n",
    "    gameQueue = createQueue()\n",
    "    for namaAnak in nama:\n",
    "        enqueue(gameQueue,namaAnak)\n",
    "    print('Peserta Permainan=',gameQueue)\n",
    "    while size(gameQueue) > 1:\n",
    "        for i in range(hitungan):\n",
    "            enqueue(gameQueue,dequeue(gameQueue))\n",
    "            print('hitungan ke-',i,'=',gameQueue)\n",
    "        dequeue(gameQueue)\n",
    "        print('Peserta Permainan=',gameQueue)\n",
    "    return dequeue(gameQueue)"
   ]
  },
  {
   "cell_type": "code",
   "execution_count": 12,
   "id": "db7058cc",
   "metadata": {},
   "outputs": [
    {
     "name": "stdout",
     "output_type": "stream",
     "text": [
      "Peserta Permainan= ['zaki', 'diana', 'rafa', 'anton', 'sari', 'rita', 'andi']\n",
      "hitungan ke- 0 = ['andi', 'zaki', 'diana', 'rafa', 'anton', 'sari', 'rita']\n",
      "hitungan ke- 1 = ['rita', 'andi', 'zaki', 'diana', 'rafa', 'anton', 'sari']\n",
      "Peserta Permainan= ['rita', 'andi', 'zaki', 'diana', 'rafa', 'anton']\n",
      "hitungan ke- 0 = ['anton', 'rita', 'andi', 'zaki', 'diana', 'rafa']\n",
      "hitungan ke- 1 = ['rafa', 'anton', 'rita', 'andi', 'zaki', 'diana']\n",
      "Peserta Permainan= ['rafa', 'anton', 'rita', 'andi', 'zaki']\n",
      "hitungan ke- 0 = ['zaki', 'rafa', 'anton', 'rita', 'andi']\n",
      "hitungan ke- 1 = ['andi', 'zaki', 'rafa', 'anton', 'rita']\n",
      "Peserta Permainan= ['andi', 'zaki', 'rafa', 'anton']\n",
      "hitungan ke- 0 = ['anton', 'andi', 'zaki', 'rafa']\n",
      "hitungan ke- 1 = ['rafa', 'anton', 'andi', 'zaki']\n",
      "Peserta Permainan= ['rafa', 'anton', 'andi']\n",
      "hitungan ke- 0 = ['andi', 'rafa', 'anton']\n",
      "hitungan ke- 1 = ['anton', 'andi', 'rafa']\n",
      "Peserta Permainan= ['anton', 'andi']\n",
      "hitungan ke- 0 = ['andi', 'anton']\n",
      "hitungan ke- 1 = ['anton', 'andi']\n",
      "Peserta Permainan= ['anton']\n"
     ]
    },
    {
     "data": {
      "text/plain": [
       "'anton'"
      ]
     },
     "execution_count": 12,
     "metadata": {},
     "output_type": "execute_result"
    }
   ],
   "source": [
    "ularNaga(['andi','rita','sari','anton','rafa','diana','zaki'],2)"
   ]
  },
  {
   "cell_type": "markdown",
   "id": "19e20fe3",
   "metadata": {},
   "source": [
    "# contoh sceduling dengan queue"
   ]
  },
  {
   "cell_type": "code",
   "execution_count": 1,
   "id": "d80899d4",
   "metadata": {},
   "outputs": [],
   "source": []
  },
  {
   "cell_type": "code",
   "execution_count": 47,
   "id": "a269c5e7",
   "metadata": {},
   "outputs": [
    {
     "name": "stdout",
     "output_type": "stream",
     "text": [
      "Nama Task = A\n",
      "Waktu Task = 5\n",
      "Nama Task = B\n",
      "Waktu Task = 4\n",
      "Nama Task = C\n",
      "Waktu Task = 2\n",
      "{'A': [5, 0], 'B': [4, 0], 'C': [2, 0]}\n"
     ]
    }
   ],
   "source": [
    "Task=inputTask(3)\n",
    "print(Task)"
   ]
  },
  {
   "cell_type": "code",
   "execution_count": 14,
   "id": "70e88532",
   "metadata": {},
   "outputs": [],
   "source": [
    "def createQueue():\n",
    "    q=[]\n",
    "    return (q)\n",
    "def enqueue(q,data):\n",
    "    q.insert(0,data)\n",
    "    return(q)\n",
    "def dequeue(q):\n",
    "    data=q.pop()\n",
    "    return(data)\n",
    "def isEmpty(q):\n",
    "    return (q==[])\n",
    "def size(q):\n",
    "    return (len(q))"
   ]
  },
  {
   "cell_type": "code",
   "execution_count": 36,
   "id": "7a1c83ea",
   "metadata": {},
   "outputs": [],
   "source": [
    "def sceduling(limitTime,task):\n",
    "    taskQueue=createQueue()\n",
    "    for nama in task.keys():\n",
    "        enqueue(taskQueue,nama)\n",
    "    #penjadwalan sampai keys habis\n",
    "    total=0\n",
    "    while not(isEmpty(taskQueue)):\n",
    "        temp=dequeue(taskQueue)\n",
    "        remainTime=task[temp][0]-limitTime\n",
    "        \n",
    "        if remainTime>0:\n",
    "            enqueue(taskQueue,temp)\n",
    "            procTime=limitTime\n",
    "        else:\n",
    "            procTime=task[temp][0]\n",
    "            remainTime=0\n",
    "        total=total+procTime\n",
    "        task[temp][0]=remainTime\n",
    "        task[temp][1]=total\n",
    "        \n",
    "        print(taskQueue)\n",
    "        \n",
    "    return task\n",
    "    "
   ]
  },
  {
   "cell_type": "code",
   "execution_count": 48,
   "id": "54a894c4",
   "metadata": {},
   "outputs": [
    {
     "name": "stdout",
     "output_type": "stream",
     "text": [
      "['A', 'C', 'B']\n",
      "['B', 'A', 'C']\n",
      "['B', 'A']\n",
      "['B']\n",
      "[]\n",
      "{'A': [0, 10], 'B': [0, 11], 'C': [0, 8]}\n"
     ]
    }
   ],
   "source": [
    "newTask=sceduling(3,Task)\n",
    "print(newTask)"
   ]
  },
  {
   "cell_type": "code",
   "execution_count": null,
   "id": "30004d81",
   "metadata": {},
   "outputs": [],
   "source": [
    "#double ended queue=bisa remove/insertdata pada kedua ujungnya\n"
   ]
  },
  {
   "cell_type": "code",
   "execution_count": 7,
   "id": "b485fb86",
   "metadata": {
    "scrolled": true
   },
   "outputs": [
    {
     "name": "stdout",
     "output_type": "stream",
     "text": [
      "Jumlah proses yang akan di jadwal di CPU = 3\n",
      "Nama proses ke-0 : A\n",
      "waktu proses : 5\n",
      "Nama proses ke-1 : B\n",
      "waktu proses : 9\n",
      "Nama proses ke-2 : C\n",
      "waktu proses : 2\n",
      "Antrian Proses : \n",
      " [['C', 2], ['B', 9], ['A', 5]]\n",
      "waktu proses CPU = 3\n",
      "Iterasi ke-  1\n",
      "\tProses A sedang diproses, dan sisa waktu proses A = 2\n",
      "\tData proses tersisa :  [['A', 2], ['C', 2], ['B', 9]]\n",
      "Iterasi ke-  2\n",
      "\tProses B sedang diproses, dan sisa waktu proses B = 6\n",
      "\tData proses tersisa :  [['B', 6], ['A', 2], ['C', 2]]\n",
      "Iterasi ke-  3\n",
      "\tProses C telah selesai diproses\n",
      "\tData proses tersisa :  [['B', 6], ['A', 2]]\n",
      "Iterasi ke-  4\n",
      "\tProses A telah selesai diproses\n",
      "\tData proses tersisa :  [['B', 6]]\n",
      "Iterasi ke-  5\n",
      "\tProses B sedang diproses, dan sisa waktu proses B = 3\n",
      "\tData proses tersisa :  [['B', 3]]\n",
      "Iterasi ke-  6\n",
      "\tProses B telah selesai diproses\n",
      "\tData proses tersisa :  []\n"
     ]
    }
   ],
   "source": [
    "def createQueue():\n",
    "    q=[]\n",
    "    return (q)\n",
    "def enqueue(q,data):\n",
    "    q.insert(0,data)\n",
    "    return(q)\n",
    "def dequeue(q):\n",
    "    data=q.pop()\n",
    "    return(data)\n",
    "def isEmpty(q):\n",
    "    return (q==[])\n",
    "def size(q):\n",
    "    return (len(q))\n",
    "\n",
    "def inputTask():\n",
    "    task ={}\n",
    "    jmlh = int(input(\"Jumlah proses yang akan di jadwal di CPU = \"))\n",
    "    for i in range(jmlh):\n",
    "        nama = input(f\"Nama proses ke-{i} : \")\n",
    "        waktu =  int(input(\"waktu proses : \"))\n",
    "        task[nama]=[waktu,0]\n",
    "    return task\n",
    "\n",
    "def penjadwalanCPU(task):\n",
    "    taskQueue = createQueue()\n",
    "    for i in task:\n",
    "        enqueue(taskQueue,[i,task[i][0]])\n",
    "    print(\"Antrian Proses : \\n\",taskQueue)\n",
    "        \n",
    "    limitTime = int(input(\"waktu proses CPU = \"))\n",
    "    count=0\n",
    "    hasil= 0\n",
    "    while not isEmpty(taskQueue):\n",
    "        count+=1\n",
    "        print(\"Iterasi ke- \",count)\n",
    "        temp = dequeue(taskQueue)\n",
    "        prosesWait = temp[1] - limitTime\n",
    "        if prosesWait > 0 :\n",
    "            enqueue(taskQueue,temp)\n",
    "            waktu = limitTime\n",
    "            print(f'\\tProses {temp[0]} sedang diproses, dan sisa waktu proses {temp[0]} = {prosesWait}')\n",
    "        else:\n",
    "            waktu = temp[1]\n",
    "            prosesWait = 0\n",
    "            print(f'\\tProses {temp[0]} telah selesai diproses')\n",
    "            \n",
    "        hasil+=waktu\n",
    "        temp[1] = prosesWait\n",
    "        task[temp[0]][0] = hasil\n",
    "        print(\"\\tData proses tersisa : \",taskQueue)\n",
    "        \n",
    "Task= inputTask()\n",
    "penjadwalanCPU(Task)"
   ]
  },
  {
   "cell_type": "code",
   "execution_count": null,
   "id": "c4195f18",
   "metadata": {},
   "outputs": [],
   "source": []
  },
  {
   "cell_type": "code",
   "execution_count": null,
   "id": "719386b6",
   "metadata": {},
   "outputs": [],
   "source": []
  },
  {
   "cell_type": "code",
   "execution_count": null,
   "id": "0ade25f4",
   "metadata": {},
   "outputs": [],
   "source": []
  },
  {
   "cell_type": "code",
   "execution_count": null,
   "id": "e6736295",
   "metadata": {},
   "outputs": [],
   "source": []
  }
 ],
 "metadata": {
  "kernelspec": {
   "display_name": "Python 3 (ipykernel)",
   "language": "python",
   "name": "python3"
  },
  "language_info": {
   "codemirror_mode": {
    "name": "ipython",
    "version": 3
   },
   "file_extension": ".py",
   "mimetype": "text/x-python",
   "name": "python",
   "nbconvert_exporter": "python",
   "pygments_lexer": "ipython3",
   "version": "3.9.12"
  }
 },
 "nbformat": 4,
 "nbformat_minor": 5
}
