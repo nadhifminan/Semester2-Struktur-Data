{
 "cells": [
  {
   "cell_type": "code",
   "execution_count": 1,
   "id": "6c6b5cce",
   "metadata": {
    "scrolled": true
   },
   "outputs": [
    {
     "name": "stdout",
     "output_type": "stream",
     "text": [
      "masukkan nilai n= 4\n"
     ]
    },
    {
     "data": {
      "text/plain": [
       "40"
      ]
     },
     "execution_count": 1,
     "metadata": {},
     "output_type": "execute_result"
    }
   ],
   "source": [
    "#buat fungsi menghitung persamaan sigma berikut:\n",
    "\n",
    "def sigma(n):\n",
    "    total=0\n",
    "    for i in range(1,n+1):\n",
    "        total+=(4*i)\n",
    "    return total\n",
    "n=int(input('masukkan nilai n= '))\n",
    "sigma(n)"
   ]
  },
  {
   "cell_type": "code",
   "execution_count": 9,
   "id": "8ad8e07a",
   "metadata": {},
   "outputs": [
    {
     "name": "stdout",
     "output_type": "stream",
     "text": [
      "masukkan : 3\n",
      "14.0\n"
     ]
    }
   ],
   "source": [
    "def uts(n,xi):\n",
    "    x=[]\n",
    "    for i in xi:\n",
    "        if i>=10:\n",
    "            x.append(1)\n",
    "        else:\n",
    "            x.append(0)\n",
    "    hasil=0\n",
    "    for ii in range(n):\n",
    "        hasil+=x[ii]*xi[ii]\n",
    "    return 1/n*(hasil)\n",
    "n=int(input('masukkan : '))\n",
    "xi=[1,12,30,7,2,90,25]\n",
    "print(uts(n,xi))"
   ]
  },
  {
   "cell_type": "code",
   "execution_count": 10,
   "id": "dae04d20",
   "metadata": {},
   "outputs": [
    {
     "name": "stdout",
     "output_type": "stream",
     "text": [
      "9\n"
     ]
    }
   ],
   "source": [
    "def nganu(n):\n",
    "    for i in range(n):\n",
    "        if i%2==0:\n",
    "            hasil=2*i\n",
    "        else:\n",
    "            hasil=3*i\n",
    "    return hasil\n",
    "print(nganu(4))"
   ]
  },
  {
   "cell_type": "code",
   "execution_count": 10,
   "id": "03368d6e",
   "metadata": {
    "scrolled": true
   },
   "outputs": [
    {
     "name": "stdout",
     "output_type": "stream",
     "text": [
      "44\n"
     ]
    }
   ],
   "source": [
    "s=[[2,3,5,5,10],[4,5,3,4,3]]\n",
    "def sigmadobel(x):\n",
    "    total=0\n",
    "    for i in range(len(x)):\n",
    "        for j in range(len(x[0])):\n",
    "            total+=x[i][j]\n",
    "    return total\n",
    "print(sigmadobel(s))\n",
    "# def sigma2(n):\n",
    "#     total2=0\n",
    "#     for i in range(n):\n",
    "#         total2=1/n*(sigmadobel(s))\n",
    "#     return total2\n",
    "# print(sigmadobel(s))"
   ]
  },
  {
   "cell_type": "code",
   "execution_count": 3,
   "id": "b18f8095",
   "metadata": {},
   "outputs": [
    {
     "name": "stdout",
     "output_type": "stream",
     "text": [
      "hasil= 44\n",
      "1.0\n"
     ]
    }
   ],
   "source": [
    "s=[[2,3,5,5,10],[4,5,3,4,3]]\n",
    "def sigma_x (lis):\n",
    "    x=0\n",
    "    for i in range (len(lis)):\n",
    "        for w in range (len(lis[0])):\n",
    "            x+=lis[i][w]\n",
    "    print(\"hasil=\",x)\n",
    "    return 1/x*x\n",
    "\n",
    "print(sigma_x(s))"
   ]
  },
  {
   "cell_type": "code",
   "execution_count": 12,
   "id": "e7617543",
   "metadata": {},
   "outputs": [
    {
     "name": "stdout",
     "output_type": "stream",
     "text": [
      "[3, 4, 3, 5, 4, 10, 5, 5, 3, 2]\n",
      "[3, 4, 3, 5, 4, 10, 5, 5, 3, 2]\n"
     ]
    }
   ],
   "source": [
    "def reverseWord(lst):\n",
    "    return lst[::-1]\n",
    "s=[2,3,5,5,10,4,5,3,4,3]\n",
    "print(reverseWord(s))\n",
    "print(s[::-1])"
   ]
  },
  {
   "cell_type": "code",
   "execution_count": 3,
   "id": "a4f6d9f4",
   "metadata": {},
   "outputs": [
    {
     "ename": "NameError",
     "evalue": "name 'reverse' is not defined",
     "output_type": "error",
     "traceback": [
      "\u001b[1;31m---------------------------------------------------------------------------\u001b[0m",
      "\u001b[1;31mNameError\u001b[0m                                 Traceback (most recent call last)",
      "Input \u001b[1;32mIn [3]\u001b[0m, in \u001b[0;36m<cell line: 7>\u001b[1;34m()\u001b[0m\n\u001b[0;32m      5\u001b[0m     \u001b[38;5;28;01mreturn\u001b[39;00m reverse\u001b[38;5;241m.\u001b[39mtemp\n\u001b[0;32m      6\u001b[0m s\u001b[38;5;241m=\u001b[39m[\u001b[38;5;241m2\u001b[39m,\u001b[38;5;241m3\u001b[39m,\u001b[38;5;241m5\u001b[39m,\u001b[38;5;241m5\u001b[39m,\u001b[38;5;241m10\u001b[39m,\u001b[38;5;241m4\u001b[39m,\u001b[38;5;241m5\u001b[39m,\u001b[38;5;241m3\u001b[39m,\u001b[38;5;241m4\u001b[39m,\u001b[38;5;241m3\u001b[39m]\n\u001b[1;32m----> 7\u001b[0m \u001b[38;5;28mprint\u001b[39m(\u001b[43mreferseWord\u001b[49m\u001b[43m(\u001b[49m\u001b[43ms\u001b[49m\u001b[43m)\u001b[49m)\n",
      "Input \u001b[1;32mIn [3]\u001b[0m, in \u001b[0;36mreferseWord\u001b[1;34m(lis)\u001b[0m\n\u001b[0;32m      3\u001b[0m \u001b[38;5;28;01mfor\u001b[39;00m i \u001b[38;5;129;01min\u001b[39;00m lis:\n\u001b[0;32m      4\u001b[0m     temp\u001b[38;5;241m.\u001b[39mappend(i)\n\u001b[1;32m----> 5\u001b[0m \u001b[38;5;28;01mreturn\u001b[39;00m \u001b[43mreverse\u001b[49m\u001b[38;5;241m.\u001b[39mtemp\n",
      "\u001b[1;31mNameError\u001b[0m: name 'reverse' is not defined"
     ]
    }
   ],
   "source": [
    "def referseWord(lis):\n",
    "    temp=[]\n",
    "    for i in lis:\n",
    "        temp.append(i)\n",
    "    return reverse.temp\n",
    "s=[2,3,5,5,10,4,5,3,4,3]\n",
    "print(referseWord(s))"
   ]
  },
  {
   "cell_type": "code",
   "execution_count": 26,
   "id": "d8cd7c60",
   "metadata": {},
   "outputs": [
    {
     "name": "stdout",
     "output_type": "stream",
     "text": [
      "[25, 19]\n"
     ]
    }
   ],
   "source": [
    "x=[[2,3,5,5,10],[4,5,3,4,3]]\n",
    "def sigmadobel(s):\n",
    "    temp=[]\n",
    "    for i in range(len(s)):\n",
    "        temp1=0\n",
    "        for j in range(len(s[0])):\n",
    "            temp1+=x[i][j]\n",
    "        temp.append(temp1)\n",
    "    return temp\n",
    "print(sigmadobel(s))"
   ]
  },
  {
   "cell_type": "code",
   "execution_count": 8,
   "id": "4b1c3b5b",
   "metadata": {},
   "outputs": [
    {
     "name": "stdout",
     "output_type": "stream",
     "text": [
      "masukkan angka=3\n",
      "masukkan angka=7\n",
      "masukkan angka=1\n",
      "masukkan angka=12\n",
      "masukkan angka=5\n",
      "masukkan angka=2\n"
     ]
    }
   ],
   "source": [
    "def createListX(ukuran):\n",
    "    x=[]\n",
    "    for i in range(ukuran):\n",
    "        inp=int(input('masukkan angka='))\n",
    "        x.append(inp)\n",
    "    return x\n",
    "x=(createListX(6))"
   ]
  },
  {
   "cell_type": "code",
   "execution_count": 17,
   "id": "309bcbbf",
   "metadata": {},
   "outputs": [
    {
     "name": "stdout",
     "output_type": "stream",
     "text": [
      "30\n"
     ]
    }
   ],
   "source": [
    "def sigma_y(n):\n",
    "    temp=0\n",
    "    for i in range(len(n)):\n",
    "        temp+=x[i]\n",
    "    return temp\n",
    "\n",
    "y=sigma_y(x)\n",
    "print(y)"
   ]
  },
  {
   "cell_type": "code",
   "execution_count": 55,
   "id": "02afa0ba",
   "metadata": {
    "scrolled": true
   },
   "outputs": [
    {
     "name": "stdout",
     "output_type": "stream",
     "text": [
      "[0.1, 0.23333333333333334, 0.03333333333333333, 0.4, 0.16666666666666666, 0.06666666666666667]\n"
     ]
    }
   ],
   "source": [
    "def probabilitas(x,y):\n",
    "    proba=[]\n",
    "    for i in range(0,len(x)):\n",
    "        proba.append(float(1/y)*x[i])\n",
    "    return proba\n",
    "print(probabilitas(x,y))"
   ]
  },
  {
   "cell_type": "code",
   "execution_count": 58,
   "id": "07e22c31",
   "metadata": {},
   "outputs": [
    {
     "name": "stdout",
     "output_type": "stream",
     "text": [
      "masukkan angka=3\n",
      "masukkan angka=7\n",
      "masukkan angka=1\n",
      "masukkan angka=12\n",
      "masukkan angka=5\n",
      "masukkan angka=2\n",
      "x =[3, 7, 1, 12, 5, 2] ; y =30\n",
      "Probabilitas =[0.1, 0.23333333333333334, 0.03333333333333333, 0.4, 0.16666666666666666, 0.06666666666666667]\n"
     ]
    }
   ],
   "source": [
    "def createListX(ukuran):\n",
    "    x=[]\n",
    "    for i in range(ukuran):\n",
    "        inp=int(input('masukkan angka='))\n",
    "        x.append(inp)\n",
    "    return x\n",
    "x=(createListX(6))\n",
    "\n",
    "def sigma_y(n):\n",
    "    temp=0\n",
    "    for i in range(len(n)):\n",
    "        temp+=x[i]\n",
    "    return temp\n",
    "y=sigma_y(x)\n",
    "\n",
    "\n",
    "def probabilitas(x,y):\n",
    "    proba=[]\n",
    "    for i in range(0,len(x)):\n",
    "        proba.append(float(1/y)*x[i])\n",
    "    return proba\n",
    "print(f'x ={x} ; y ={y}')\n",
    "Pi=probabilitas(x,y)\n",
    "print(f'Probabilitas ={Pi}')"
   ]
  },
  {
   "cell_type": "code",
   "execution_count": 62,
   "id": "1d51b877",
   "metadata": {},
   "outputs": [
    {
     "name": "stdout",
     "output_type": "stream",
     "text": [
      "0.7422222222222222\n"
     ]
    }
   ],
   "source": [
    "def sigmaGini(Pi):\n",
    "    temp=0\n",
    "    for i in range(len(Pi)):\n",
    "        temp=temp+(Pi[i]**2)\n",
    "    return (1-temp)\n",
    "print(sigmaGini(Pi))"
   ]
  },
  {
   "cell_type": "code",
   "execution_count": 24,
   "id": "2d17bb26",
   "metadata": {},
   "outputs": [
    {
     "name": "stdout",
     "output_type": "stream",
     "text": [
      "masukkan angka= 4\n",
      "masukkan angka= 1\n",
      "masukkan angka= 9\n",
      "masukkan angka= 10\n",
      "masukkan angka= 5\n",
      "masukkan angka= 2\n",
      "masukkan angka= 3\n",
      "masukkan angka= 6\n",
      "masukkan angka= 5\n",
      "masukkan angka= 1\n",
      "masukkan angka= 4\n"
     ]
    }
   ],
   "source": [
    "def pembuatMatriks_1D(ukuran):\n",
    "    temp=[]\n",
    "    for i in range(ukuran):\n",
    "        inp=int(input('masukkan angka= '))\n",
    "        temp.append(inp)\n",
    "    return temp\n",
    "a=pembuatMatriks_1D(4)\n",
    "b=pembuatMatriks_1D(3)\n",
    "c=pembuatMatriks_1D(4)"
   ]
  },
  {
   "cell_type": "code",
   "execution_count": 30,
   "id": "631a9f9c",
   "metadata": {},
   "outputs": [],
   "source": [
    "def penjumlahanMatriks1D(a,b):\n",
    "    temp=[]\n",
    "    if len(a)==len(b):\n",
    "        for i in range(len(a)):\n",
    "            jumlah=a[i] + b[i]\n",
    "            temp.append(jumlah)\n",
    "        hasil=temp\n",
    "    else:\n",
    "        hasil='ukuran Matriks tidak sama'\n",
    "    return hasil"
   ]
  },
  {
   "cell_type": "code",
   "execution_count": 31,
   "id": "b533832b",
   "metadata": {},
   "outputs": [],
   "source": [
    "def perkalianSkalar(angka,lis):\n",
    "    temp=[]\n",
    "    for i in range(len(lis)):\n",
    "        temp.append(angka*lis[i])\n",
    "    return temp"
   ]
  },
  {
   "cell_type": "code",
   "execution_count": 32,
   "id": "0d590d35",
   "metadata": {},
   "outputs": [],
   "source": [
    "def perkalianMatriks1D(a,b):\n",
    "    sama= len(a)==len(b)\n",
    "    if sama:\n",
    "        temp=[]\n",
    "        for i in range(len(a)):\n",
    "            hasil=a[i]*b[i]\n",
    "            temp.append(hasil)\n",
    "        return temp\n",
    "    else:\n",
    "        return 'ukuran tidak sama'"
   ]
  },
  {
   "cell_type": "code",
   "execution_count": 33,
   "id": "d9d0514e",
   "metadata": {},
   "outputs": [
    {
     "name": "stdout",
     "output_type": "stream",
     "text": [
      "matriks 1 = [4, 1, 9, 10]\n",
      "matriks 2 = [5, 2, 3]\n",
      "matriks 3 = [6, 5, 1, 4]\n",
      "Hasil Penjumlahan = ukuran Matriks tidak sama\n",
      "matriks 1 =  [4, 1, 9, 10]\n",
      "matriks 3 =  [6, 5, 1, 4]\n",
      "Hasil penjumlahan =  [10, 6, 10, 14]\n",
      "Hasil perkalian Skalar =  [30, 18, 30, 42]\n",
      "Hasil perkalian Matriks = [120, 18, 270, 420]\n"
     ]
    }
   ],
   "source": [
    "print('matriks 1 =',a)\n",
    "print('matriks 2 =',b)\n",
    "print('matriks 3 =',c)\n",
    "jumlah1=penjumlahanMatriks1D(a,b)\n",
    "print('Hasil Penjumlahan =',jumlah1)\n",
    "print('matriks 1 = ',a)\n",
    "print('matriks 3 = ',c)\n",
    "jumlah2=penjumlahanMatriks1D(a,c)\n",
    "print('Hasil penjumlahan = ',jumlah2)\n",
    "perkalian1=perkalianSkalar(3,jumlah2)\n",
    "print('Hasil perkalian Skalar = ',perkalian1)\n",
    "perkalian2=perkalianMatriks1D(perkalian1,a)\n",
    "print('Hasil perkalian Matriks =',perkalian2)"
   ]
  },
  {
   "cell_type": "markdown",
   "id": "e295a262",
   "metadata": {},
   "source": [
    "# 2.4 matriks 2d"
   ]
  },
  {
   "cell_type": "code",
   "execution_count": 48,
   "id": "4be3dedd",
   "metadata": {},
   "outputs": [
    {
     "name": "stdout",
     "output_type": "stream",
     "text": [
      "mat[1,1]= 3\n",
      "mat[1,2]= 1\n",
      "mat[1,3]= 5\n",
      "mat[2,1]= 9\n",
      "mat[2,2]= 1\n",
      "mat[2,3]= 4\n",
      "mat[1,1]= 1\n",
      "mat[1,2]= 4\n",
      "mat[1,3]= 7\n",
      "mat[2,1]= 8\n",
      "mat[2,2]= 0\n",
      "mat[2,3]= 2\n",
      "mat[1,1]= 2\n",
      "mat[1,2]= 1\n",
      "mat[2,1]= 4\n",
      "mat[2,2]= 8\n",
      "[[3, 1, 5], [9, 1, 4]]\n",
      "[[1, 4, 7], [8, 0, 2]]\n",
      "[[2, 1], [4, 8]]\n"
     ]
    }
   ],
   "source": [
    "def createMatrix(mat1,mat2):\n",
    "    temp1=[]\n",
    "    for i in range(1,mat1+1):\n",
    "        temp2=[]\n",
    "        for j in range(1,mat2+1):\n",
    "            inp=int(input(f'mat[{i},{j}]= '))\n",
    "            temp2.append(inp)\n",
    "        temp1.append(temp2)\n",
    "    return temp1\n",
    "mat1=createMatrix(2,3)\n",
    "mat2=createMatrix(2,3)\n",
    "mat3=createMatrix(2,2)\n",
    "print(mat1)\n",
    "print(mat2)\n",
    "print(mat3)"
   ]
  },
  {
   "cell_type": "code",
   "execution_count": 49,
   "id": "8a0658b9",
   "metadata": {},
   "outputs": [],
   "source": [
    "def addMatrix(mat1,mat2):\n",
    "    if len (mat1)==len(mat2) and len(mat1[0])==len(mat2[0]):\n",
    "        baris=[]\n",
    "        for i in range(len(mat1)):\n",
    "            kolom=[]\n",
    "            for j in range (len((mat1[0]))):\n",
    "                kolom.append(mat1[i][j]+mat2[i][j])\n",
    "            baris.append(kolom)\n",
    "        return baris\n",
    "    else:\n",
    "        return \"ukuran tidak sama\""
   ]
  },
  {
   "cell_type": "code",
   "execution_count": null,
   "id": "0fcc7b5c",
   "metadata": {},
   "outputs": [],
   "source": [
    "def addMatrix(s):\n",
    "    if len (s)==len(s) and len(mat1[0])==len(mat2[0]):\n",
    "        baris=[]\n",
    "        for i in range(len(mat1)):\n",
    "            kolom=[]\n",
    "            for j in range (len((mat1[0]))):\n",
    "                kolom.append(mat1[i][j]+mat2[i][j])\n",
    "            baris.append(kolom)\n",
    "        return baris\n",
    "    else:\n",
    "        return \"ukuran tidak sama\""
   ]
  },
  {
   "cell_type": "code",
   "execution_count": null,
   "id": "d6cf4d78",
   "metadata": {},
   "outputs": [],
   "source": []
  },
  {
   "cell_type": "code",
   "execution_count": null,
   "id": "d686695d",
   "metadata": {},
   "outputs": [],
   "source": []
  },
  {
   "cell_type": "code",
   "execution_count": 1,
   "id": "e0f76a6e",
   "metadata": {},
   "outputs": [],
   "source": [
    "def multMat(mat1,mat2):\n",
    "    baris=len(mat1[0])==len(mat2)\n",
    "    if baris:\n",
    "        temp=[]\n",
    "        for a in range(len(mat1)):\n",
    "            temp1=[]\n",
    "            for b in range(len(mat2[0])):\n",
    "                total=0\n",
    "                for c in range(len(mat1)):\n",
    "                    total+=mat1[a][c]*mat2[c][b]\n",
    "                temp1.append(total)\n",
    "            temp.append(temp1)\n",
    "        return temp\n",
    "    else:\n",
    "        return 'Ukuran Tidak Memenuhi'"
   ]
  },
  {
   "cell_type": "code",
   "execution_count": 50,
   "id": "a66d063b",
   "metadata": {},
   "outputs": [
    {
     "name": "stdout",
     "output_type": "stream",
     "text": [
      "mat1=  [[3, 1, 5], [9, 1, 4]]\n",
      "mat2=  [[1, 4, 7], [8, 0, 2]]\n",
      "mat3=  [[2, 1], [4, 8]]\n",
      "mat1+mat2= [[4, 5, 12], [17, 1, 6]]\n",
      "mat1+mat3= ukuran tidak sama\n"
     ]
    }
   ],
   "source": [
    "jumlah1=addMatrix(mat1,mat2)\n",
    "jumlah2=addMatrix(mat1,mat3)\n",
    "print('mat1= ',mat1)\n",
    "print('mat2= ',mat2)\n",
    "print('mat3= ',mat3)\n",
    "print('mat1+mat2=',jumlah1)\n",
    "print('mat1+mat3=',jumlah2)"
   ]
  },
  {
   "cell_type": "code",
   "execution_count": 54,
   "id": "d2d9aae5",
   "metadata": {},
   "outputs": [
    {
     "name": "stdout",
     "output_type": "stream",
     "text": [
      "mat1=  [[3, 1, 5], [9, 1, 4]]\n",
      "mat2=  [[1, 4, 7], [8, 0, 2]]\n",
      "mat3=  [[2, 1], [4, 8]]\n",
      "mat1*mat2 = Ukuran Tidak Memenuhi\n",
      "mat1*mat3 = Ukuran Tidak Memenuhi\n",
      "mat3*mat2 = [[10, 8, 16], [68, 16, 44]]\n"
     ]
    }
   ],
   "source": [
    "kali1=multMat(mat1,mat2)\n",
    "kali2=multMat(mat1,mat3)\n",
    "kali3=multMat(mat3,mat2)\n",
    "print('mat1= ',mat1)\n",
    "print('mat2= ',mat2)\n",
    "print('mat3= ',mat3)\n",
    "print('mat1*mat2 =',kali1)\n",
    "print('mat1*mat3 =',kali2)\n",
    "print('mat3*mat2 =',kali3)"
   ]
  },
  {
   "cell_type": "code",
   "execution_count": 4,
   "id": "9163cd73",
   "metadata": {},
   "outputs": [
    {
     "name": "stdout",
     "output_type": "stream",
     "text": [
      "31\n"
     ]
    }
   ],
   "source": [
    "#PR\n",
    "nx=[[4,7,9,2],[3,1,5,0]]\n",
    "def sigmaPR(nx):\n",
    "    t=0\n",
    "    for i in range(len(nx)):\n",
    "        for j in range(len(nx[0])):\n",
    "            t+=nx[i][j]\n",
    "    return t\n",
    "print(sigmaPR(nx))"
   ]
  },
  {
   "cell_type": "code",
   "execution_count": 29,
   "id": "b2192c90",
   "metadata": {},
   "outputs": [
    {
     "name": "stdout",
     "output_type": "stream",
     "text": [
      "[25, 19]\n"
     ]
    }
   ],
   "source": [
    "x=[[2,3,5,5,10],[4,5,3,4,3]]\n",
    "def sigmadobel(s):\n",
    "    temp=[]\n",
    "    for i in range(len(s)):\n",
    "        temp1=0\n",
    "        for j in range(len(s[0])):\n",
    "            temp1+=x[i][j]\n",
    "        temp.append(temp1)\n",
    "    return temp\n",
    "print(sigmadobel(s))"
   ]
  },
  {
   "cell_type": "code",
   "execution_count": 9,
   "id": "8ae55fda",
   "metadata": {},
   "outputs": [
    {
     "name": "stdout",
     "output_type": "stream",
     "text": [
      "masukkan nilai n= 5\n"
     ]
    },
    {
     "data": {
      "text/plain": [
       "220"
      ]
     },
     "execution_count": 9,
     "metadata": {},
     "output_type": "execute_result"
    }
   ],
   "source": [
    "def sigmax(n):\n",
    "    total=0\n",
    "    for i in range(1,n+1):\n",
    "        total+=(i**2)\n",
    "    return 4*total\n",
    "n=int(input('masukkan nilai n= '))\n",
    "sigmax(n)"
   ]
  },
  {
   "cell_type": "code",
   "execution_count": 1,
   "id": "bad26f4d",
   "metadata": {},
   "outputs": [
    {
     "name": "stdout",
     "output_type": "stream",
     "text": [
      "masukkan nilai n= 5\n"
     ]
    },
    {
     "data": {
      "text/plain": [
       "220"
      ]
     },
     "execution_count": 1,
     "metadata": {},
     "output_type": "execute_result"
    }
   ],
   "source": [
    "def sigmax(n):\n",
    "    total=0\n",
    "    for i in range(1,n+1):\n",
    "        total+=4*(i**2)\n",
    "    return total\n",
    "n=int(input('masukkan nilai n= '))\n",
    "sigmax(n)"
   ]
  },
  {
   "cell_type": "code",
   "execution_count": 27,
   "id": "5c1bf98c",
   "metadata": {},
   "outputs": [
    {
     "name": "stdout",
     "output_type": "stream",
     "text": [
      "6.0\n"
     ]
    }
   ],
   "source": [
    "def shortSigma(n,x):\n",
    "    xi = [1 if i >= 10 else 0 for i in x]\n",
    "    wi = [xi[j]*x[j] for j in range(n)]\n",
    "    return sum(wi)/n\n",
    "print(shortSigma(inp,x))"
   ]
  },
  {
   "cell_type": "code",
   "execution_count": 36,
   "id": "6ac8c544",
   "metadata": {},
   "outputs": [
    {
     "name": "stdout",
     "output_type": "stream",
     "text": [
      "masukkan nilai n :3\n",
      "14.0\n"
     ]
    }
   ],
   "source": [
    "inp=int(input('masukkan nilai n :'))\n",
    "x = [1,12,30,7,2,90,25]\n",
    "def sigma2(n,x):\n",
    "    xi = []\n",
    "    for i in x:\n",
    "        if i >= 10:\n",
    "            xi.append(1)\n",
    "        else:\n",
    "            xi.append(0)\n",
    "    hasil=0\n",
    "    for j in range(n):\n",
    "        hasil+=x[j]*xi[j]\n",
    "    return (1/n)*hasil\n",
    "print(sigma2(inp,x))\n",
    "#print(shortSigma(inp,x))sigma i=0 ,to n-1 sampai xi"
   ]
  },
  {
   "cell_type": "code",
   "execution_count": 41,
   "id": "846e7099",
   "metadata": {},
   "outputs": [
    {
     "ename": "TypeError",
     "evalue": "'>' not supported between instances of 'list' and 'int'",
     "output_type": "error",
     "traceback": [
      "\u001b[1;31m---------------------------------------------------------------------------\u001b[0m",
      "\u001b[1;31mTypeError\u001b[0m                                 Traceback (most recent call last)",
      "Input \u001b[1;32mIn [41]\u001b[0m, in \u001b[0;36m<cell line: 11>\u001b[1;34m()\u001b[0m\n\u001b[0;32m      9\u001b[0m     b\u001b[38;5;241m+\u001b[39m\u001b[38;5;241m=\u001b[39mi\u001b[38;5;241m*\u001b[39mw\n\u001b[0;32m     10\u001b[0m     \u001b[38;5;28;01mreturn\u001b[39;00m \u001b[38;5;241m1\u001b[39m\u001b[38;5;241m/\u001b[39mn\u001b[38;5;241m*\u001b[39mb\n\u001b[1;32m---> 11\u001b[0m \u001b[43msigmaunik\u001b[49m\u001b[43m(\u001b[49m\u001b[38;5;241;43m34\u001b[39;49m\u001b[43m)\u001b[49m\n",
      "Input \u001b[1;32mIn [41]\u001b[0m, in \u001b[0;36msigmaunik\u001b[1;34m(a)\u001b[0m\n\u001b[0;32m      3\u001b[0m \u001b[38;5;28;01mdef\u001b[39;00m \u001b[38;5;21msigmaunik\u001b[39m(a):\n\u001b[0;32m      4\u001b[0m     b\u001b[38;5;241m=\u001b[39m\u001b[38;5;241m0\u001b[39m\n\u001b[1;32m----> 5\u001b[0m     \u001b[38;5;28;01mif\u001b[39;00m \u001b[43mi\u001b[49m\u001b[38;5;241;43m>\u001b[39;49m\u001b[38;5;241;43m0\u001b[39;49m:\n\u001b[0;32m      6\u001b[0m         w\u001b[38;5;241m=\u001b[39m\u001b[38;5;241m1\u001b[39m\n\u001b[0;32m      7\u001b[0m     \u001b[38;5;28;01melse\u001b[39;00m:\n",
      "\u001b[1;31mTypeError\u001b[0m: '>' not supported between instances of 'list' and 'int'"
     ]
    }
   ],
   "source": [
    "i=[4,6,2,7,9]\n",
    "b=0\n",
    "def sigmaunik(a):\n",
    "    b=0\n",
    "    if i>0:\n",
    "        w=1\n",
    "    else:\n",
    "        w=0\n",
    "    b+=i*w\n",
    "    return 1/n*b\n",
    "sigmaunik(34)"
   ]
  },
  {
   "cell_type": "code",
   "execution_count": null,
   "id": "4fa3fea3",
   "metadata": {},
   "outputs": [],
   "source": []
  },
  {
   "cell_type": "code",
   "execution_count": 47,
   "id": "f2d06cd9",
   "metadata": {},
   "outputs": [
    {
     "name": "stdout",
     "output_type": "stream",
     "text": [
      "1\n",
      "2\n",
      "3\n",
      "4\n",
      "10 4\n"
     ]
    }
   ],
   "source": [
    "a=[1,2,3,4]\n",
    "total=0\n",
    "for i in a:\n",
    "    print(i)\n",
    "    total+=i\n",
    "print(total,len(a))"
   ]
  },
  {
   "cell_type": "code",
   "execution_count": null,
   "id": "75f615f0",
   "metadata": {},
   "outputs": [],
   "source": []
  },
  {
   "cell_type": "code",
   "execution_count": 15,
   "id": "3cf3705b",
   "metadata": {},
   "outputs": [
    {
     "name": "stdout",
     "output_type": "stream",
     "text": [
      "masukkan nilai n : 4\n",
      "[0, 3, 4, 9]\n"
     ]
    }
   ],
   "source": [
    "a = int(input('masukkan nilai n : '))\n",
    "b = [x*2 if x%2 == 0 else x*3 for x in range(a)]\n",
    "print(b)"
   ]
  },
  {
   "cell_type": "code",
   "execution_count": 7,
   "id": "db286691",
   "metadata": {},
   "outputs": [
    {
     "data": {
      "text/plain": [
       "24"
      ]
     },
     "execution_count": 7,
     "metadata": {},
     "output_type": "execute_result"
    }
   ],
   "source": [
    "def sigmayaa(n):\n",
    "    total=0\n",
    "    for i in range(1,n+1):\n",
    "        total+=4*i\n",
    "    return total\n",
    "sigmayaa(3)"
   ]
  },
  {
   "cell_type": "code",
   "execution_count": 8,
   "id": "f2667bb1",
   "metadata": {},
   "outputs": [
    {
     "data": {
      "text/plain": [
       "56"
      ]
     },
     "execution_count": 8,
     "metadata": {},
     "output_type": "execute_result"
    }
   ],
   "source": [
    "def sigma2yaa(n):\n",
    "    hasil=0\n",
    "    for i in range(1,n+1):\n",
    "        hasil=hasil+4*(i**2)\n",
    "    return hasil\n",
    "sigma2yaa(3)"
   ]
  },
  {
   "cell_type": "code",
   "execution_count": 42,
   "id": "f0d36a43",
   "metadata": {},
   "outputs": [],
   "source": [
    "def stack():\n",
    "    s=[]\n",
    "    return (s)\n",
    "def push(s,data):\n",
    "    s.append(data)\n",
    "def pop(s):\n",
    "    data=s.pop()\n",
    "    return(data)\n",
    "def peek(s):\n",
    "    return(s[len(s)-1])\n",
    "def isEmpty(s):\n",
    "    return (s==[])\n",
    "def size(s):\n",
    "    return(len(s))"
   ]
  },
  {
   "cell_type": "code",
   "execution_count": 8,
   "id": "f1498cd6",
   "metadata": {},
   "outputs": [
    {
     "name": "stdout",
     "output_type": "stream",
     "text": [
      "[9, 9, 8]\n",
      "[9, 9]\n"
     ]
    }
   ],
   "source": [
    "stak=stack()\n",
    "push(stak,9)\n",
    "push(stak,9)\n",
    "push(stak,8)\n",
    "print(stak)\n",
    "pop(stak)\n",
    "print(stak)"
   ]
  },
  {
   "cell_type": "code",
   "execution_count": 18,
   "id": "0b472bd9",
   "metadata": {},
   "outputs": [],
   "source": [
    "import stack as st"
   ]
  },
  {
   "cell_type": "code",
   "execution_count": 23,
   "id": "5d4db6cf",
   "metadata": {},
   "outputs": [
    {
     "data": {
      "text/plain": [
       "True"
      ]
     },
     "execution_count": 23,
     "metadata": {},
     "output_type": "execute_result"
    }
   ],
   "source": [
    "data=st.stack()\n",
    "st.isEmpty(data)"
   ]
  },
  {
   "cell_type": "code",
   "execution_count": 4,
   "id": "0eebec2b",
   "metadata": {},
   "outputs": [
    {
     "name": "stdout",
     "output_type": "stream",
     "text": [
      "[100, 23]\n"
     ]
    }
   ],
   "source": [
    "st.push(data,100)\n",
    "st.push(data,23)\n",
    "st.push(data,34)\n",
    "st.pop(data)\n",
    "st.push(data,56)\n",
    "st.pop(data)\n",
    "print(data)"
   ]
  },
  {
   "cell_type": "code",
   "execution_count": 3,
   "id": "2fdd9b82",
   "metadata": {},
   "outputs": [
    {
     "name": "stdout",
     "output_type": "stream",
     "text": [
      "[4, 1, 2, 3]\n"
     ]
    }
   ],
   "source": [
    "#insert dan remove\n",
    "data=[1,2,3]\n",
    "#print((data[-1]))\n",
    "data.insert(0,4)\n",
    "print(data)\n",
    "data.remove((data[-1]))"
   ]
  },
  {
   "cell_type": "code",
   "execution_count": 28,
   "id": "a4929988",
   "metadata": {},
   "outputs": [],
   "source": [
    "#menghapus data dari index ke 0\n",
    "def stack():\n",
    "    s=[]\n",
    "    return (s)\n",
    "def push(s,data):\n",
    "    s.insert(0,data)\n",
    "def pop(s):\n",
    "    s.remove(data[0])\n",
    "    return(data)\n",
    "def peek(s):\n",
    "    return(s[0])\n",
    "def isEmpty(s):\n",
    "    return (s==[])\n",
    "def size(s):\n",
    "    return(len(s))"
   ]
  },
  {
   "cell_type": "code",
   "execution_count": 5,
   "id": "831abe5d",
   "metadata": {},
   "outputs": [],
   "source": [
    "def stack():\n",
    "    s=[]\n",
    "    return (s)\n",
    "def push(s,data):\n",
    "    s.insert(0,data)\n",
    "def pop(s):\n",
    "    data=s[0]\n",
    "    s.remove(s[0])\n",
    "    return(data)\n",
    "def peek(s):\n",
    "    return(s[0])\n",
    "def isEmpty(s):\n",
    "    return (s==[])\n",
    "def size(s):\n",
    "    return(len(s))"
   ]
  },
  {
   "cell_type": "code",
   "execution_count": 19,
   "id": "3b887b13",
   "metadata": {},
   "outputs": [
    {
     "name": "stdout",
     "output_type": "stream",
     "text": [
      "total baris ke- 0 = 7\n",
      "total baris ke- 1 = 19\n",
      "Total : 26\n",
      "----------------------------------------\n",
      "total baris ke- 0 = 9\n",
      "total baris ke- 1 = 9\n",
      "total baris ke- 2 = 8\n",
      "Total : 26\n"
     ]
    }
   ],
   "source": [
    "#menambahkan kolom\n",
    "x=[[2,7],[5,4],[0,8]]\n",
    "temp=0\n",
    "for i in range(len(x[0])):\n",
    "    tempBaris=0\n",
    "    for j in range(len(x)):\n",
    "        tempBaris+=x[j][i]\n",
    "    print('total baris ke-',i,'=',tempBaris)\n",
    "    temp+=tempBaris\n",
    "print('Total :',temp)\n",
    "\n",
    "\n",
    "print(40*'-')\n",
    "#menambahkan baris\n",
    "x=[[2,7],[5,4],[0,8]]\n",
    "temp=0\n",
    "for i in range(len(x)):\n",
    "    tempBaris=0\n",
    "    for j in range(len(x[0])):\n",
    "        tempBaris+=x[i][j]\n",
    "    print('total baris ke-',i,'=',tempBaris)\n",
    "    temp+=tempBaris\n",
    "print('Total :',temp)\n"
   ]
  },
  {
   "cell_type": "code",
   "execution_count": 46,
   "id": "231e6773",
   "metadata": {
    "scrolled": true
   },
   "outputs": [
    {
     "name": "stdout",
     "output_type": "stream",
     "text": [
      "total baris ke- 0 = 9\n",
      "9\n",
      "total baris ke- 1 = 9\n",
      "18\n",
      "total baris ke- 2 = 17\n",
      "35\n",
      "35\n"
     ]
    }
   ],
   "source": [
    "x=[[2,7],[5,4],[9,8]]\n",
    "temp=0\n",
    "for i in range(len(x)):\n",
    "    tmp2=0\n",
    "    for j in range(len(x[0])):\n",
    "        tmp2+=x[i][j]\n",
    "    print('total baris ke-',i,'=',tmp2)\n",
    "    temp+=tmp2\n",
    "    print(temp)\n",
    "print(temp)"
   ]
  },
  {
   "cell_type": "code",
   "execution_count": 13,
   "id": "459c753b",
   "metadata": {},
   "outputs": [
    {
     "name": "stdout",
     "output_type": "stream",
     "text": [
      "total kolom ke- 0 = 7\n",
      "total kolom ke- 1 = 19\n",
      "hasil =26\n"
     ]
    }
   ],
   "source": [
    "x=[[2,7],[5,4],[0,8]]\n",
    "count=0\n",
    "for i in range(len(x[0])):\n",
    "    temp=0\n",
    "    for j in range(len(x)):\n",
    "        temp+=x[j][i]\n",
    "    print('total kolom ke-',i,'=',temp)\n",
    "    count+=temp\n",
    "print(f'hasil ={count}')"
   ]
  },
  {
   "cell_type": "code",
   "execution_count": 21,
   "id": "f167483d",
   "metadata": {},
   "outputs": [
    {
     "name": "stdout",
     "output_type": "stream",
     "text": [
      "('nadhif', 'dibalik menjadi', 'fihdan')\n"
     ]
    }
   ],
   "source": [
    "# membalik kata \n",
    "def reverse_Kalimat(word):\n",
    "    dataStack=st.stack()\n",
    "    for huruf in word:\n",
    "        st.push(dataStack,huruf)\n",
    "    hasil=''\n",
    "    while not(st.isEmpty(dataStack)):\n",
    "        hasil+=st.pop(dataStack)\n",
    "        #print(hasil)\n",
    "    return word,'dibalik menjadi',haasil\n",
    "print(reverse_Kalimat('nadhif'))"
   ]
  },
  {
   "cell_type": "code",
   "execution_count": null,
   "id": "a3e8267d",
   "metadata": {},
   "outputs": [],
   "source": []
  },
  {
   "cell_type": "code",
   "execution_count": 24,
   "id": "9518a413",
   "metadata": {},
   "outputs": [
    {
     "name": "stdout",
     "output_type": "stream",
     "text": [
      "('minan', 'nanim')\n"
     ]
    }
   ],
   "source": [
    "def balikKata(kata):\n",
    "    dataStack=st.stack()\n",
    "    for i in kata:\n",
    "        st.push(dataStack,i)\n",
    "        hasil=''\n",
    "    while not(isEmpty(dataStack)):\n",
    "        hasil+=st.pop(dataStack)\n",
    "    return kata,hasil\n",
    "print(balikKata('minan'))"
   ]
  },
  {
   "cell_type": "code",
   "execution_count": 8,
   "id": "61b0e128",
   "metadata": {},
   "outputs": [
    {
     "name": "stdout",
     "output_type": "stream",
     "text": [
      "fila\n"
     ]
    }
   ],
   "source": [
    "def malek(kata):\n",
    "    data=stack()\n",
    "    for i in kata:\n",
    "        push(data,i)\n",
    "    temp=''\n",
    "    while not(isEmpty(data)):\n",
    "        temp+=pop(data)\n",
    "    return temp\n",
    "print(malek('alif'))"
   ]
  },
  {
   "cell_type": "code",
   "execution_count": 47,
   "id": "25dde84e",
   "metadata": {},
   "outputs": [
    {
     "name": "stdout",
     "output_type": "stream",
     "text": [
      "fihdan\n"
     ]
    }
   ],
   "source": [
    "def membalik(kalimat):\n",
    "    data=stack()\n",
    "    for i in kalimat:\n",
    "        push(data,i)\n",
    "    temp=''\n",
    "    while not(isEmpty(data)):\n",
    "        temp+=pop(data)\n",
    "    return temp\n",
    "print(membalik('nadhif'))"
   ]
  },
  {
   "cell_type": "code",
   "execution_count": 9,
   "id": "14f36dc3",
   "metadata": {},
   "outputs": [
    {
     "name": "stdout",
     "output_type": "stream",
     "text": [
      "fihdan\n"
     ]
    }
   ],
   "source": [
    "def membalik(kata):\n",
    "    stek=stack()\n",
    "    for i in kata:\n",
    "        push(stek,i)\n",
    "    temp=''\n",
    "    while not(isEmpty(stek)):\n",
    "        temp+=pop(stek)\n",
    "    return temp\n",
    "print(membalik('nadhif'))"
   ]
  },
  {
   "cell_type": "code",
   "execution_count": 8,
   "id": "1f7a5806",
   "metadata": {
    "scrolled": false
   },
   "outputs": [
    {
     "name": "stdout",
     "output_type": "stream",
     "text": [
      "u\n",
      "uk\n",
      "uka\n"
     ]
    },
    {
     "data": {
      "text/plain": [
       "'uka'"
      ]
     },
     "execution_count": 8,
     "metadata": {},
     "output_type": "execute_result"
    }
   ],
   "source": [
    "reverseWord('aku')"
   ]
  },
  {
   "cell_type": "code",
   "execution_count": 15,
   "id": "36e84a30",
   "metadata": {},
   "outputs": [
    {
     "name": "stdout",
     "output_type": "stream",
     "text": [
      "fihdan\n"
     ]
    }
   ],
   "source": [
    "def balik(kata):\n",
    "    stek=stack()\n",
    "    for i in kata:\n",
    "        push(stek,i)\n",
    "    temp=''\n",
    "    while not(isEmpty(stek)):\n",
    "        temp+=pop(stek)\n",
    "    return temp\n",
    "print(balik('nadhif'))"
   ]
  },
  {
   "cell_type": "code",
   "execution_count": 22,
   "id": "0871e240",
   "metadata": {},
   "outputs": [
    {
     "name": "stdout",
     "output_type": "stream",
     "text": [
      "True\n"
     ]
    }
   ],
   "source": [
    "def checkParentheses(strMat):\n",
    "    data=st.stack()\n",
    "    for ch in strMat:\n",
    "        if ch=='(':\n",
    "            st.push(data,ch)\n",
    "        elif ch==')':\n",
    "            if st.isEmpty(data):\n",
    "                return 'kelebihan kurung tutup'\n",
    "            else:\n",
    "                st.pop(data)\n",
    "    if st.isEmpty(data):\n",
    "        return True\n",
    "    else:\n",
    "        return 'Kelebihan kurung buka'\n",
    "print(checkParentheses('(5 x (4 + 5) / (3 + 2) x (10 - 8))'))"
   ]
  },
  {
   "cell_type": "code",
   "execution_count": 5,
   "id": "33e59ce7",
   "metadata": {},
   "outputs": [
    {
     "name": "stdout",
     "output_type": "stream",
     "text": [
      "kelebihan kurung buka\n"
     ]
    }
   ],
   "source": [
    "def parnteses(soal):\n",
    "    stek=stack()\n",
    "    for i in soal:\n",
    "        if i=='(':\n",
    "            push(stek,i)\n",
    "        elif i==')':\n",
    "            if not (isEmpty(stek)):\n",
    "                pop(stek)\n",
    "            else:\n",
    "                return 'kelebiha kurung tutup'\n",
    "            \n",
    "            \n",
    "            \n",
    "    if isEmpty(stek):\n",
    "        return True\n",
    "    else:\n",
    "        return 'kelebihan kurung buka'\n",
    "print(parnteses('((5 x (4 + 5) / (3 + 2) x (10 - 8))'))"
   ]
  },
  {
   "cell_type": "code",
   "execution_count": 10,
   "id": "c6315fb9",
   "metadata": {},
   "outputs": [
    {
     "name": "stdout",
     "output_type": "stream",
     "text": [
      "True\n"
     ]
    }
   ],
   "source": [
    "# soal='(5 x (4 + 5) / (3 + 2) x (10 - 8))'\n",
    "def deteksi(soal):\n",
    "    stek=stack()\n",
    "    for i in soal:\n",
    "        if i=='(':\n",
    "            push(stek,i)\n",
    "        elif i==\")\":\n",
    "            if isEmpty(stek):\n",
    "                return 'kelebihan kurung tutup'\n",
    "            else:\n",
    "                pop(stek)\n",
    "    if isEmpty(stek):\n",
    "        return True\n",
    "    else:\n",
    "        return 'kelebihan kurung buka'\n",
    "print(deteksi('(5 x (4 + 5) / (3 + 2) x (10 - 8))'))"
   ]
  },
  {
   "cell_type": "code",
   "execution_count": 11,
   "id": "c1381af2",
   "metadata": {},
   "outputs": [
    {
     "name": "stdout",
     "output_type": "stream",
     "text": [
      "data benar\n"
     ]
    }
   ],
   "source": [
    "def pendeteksi(kalimat):\n",
    "    data=stack()\n",
    "    for i in kalimat:\n",
    "        if i=='(':\n",
    "            push(data,i)\n",
    "        elif i==')':\n",
    "            if isEmpty(data):\n",
    "                return 'kelebihan kurung tutup'\n",
    "            else:\n",
    "                pop(data)\n",
    "    if isEmpty(data):\n",
    "        return 'data benar'\n",
    "    else:\n",
    "        return 'kelebihan kurung buka'\n",
    "print(pendeteksi('(5 x (4 + 5) / (3 + 2) x (10 - 8))'))"
   ]
  },
  {
   "cell_type": "code",
   "execution_count": 13,
   "id": "1cc43cd3",
   "metadata": {},
   "outputs": [
    {
     "name": "stdout",
     "output_type": "stream",
     "text": [
      "data kelebihan kurung buka\n"
     ]
    }
   ],
   "source": [
    "def parenteses(word):\n",
    "    dataS=stack()\n",
    "    for i in word:\n",
    "        if i=='(':\n",
    "            push(dataS,i)\n",
    "        elif i==')':\n",
    "            if isEmpty(dataS):\n",
    "                return \"kelebihan kurung tutup\"\n",
    "            else:\n",
    "                pop(dataS)\n",
    "    if isEmpty(dataS):\n",
    "        return 'data benar'\n",
    "    else:\n",
    "        return 'data kelebihan kurung buka'\n",
    "print(parenteses(\"5 x(( (4 + 5) / (3 + 2) x (10 - 8))\"))"
   ]
  },
  {
   "cell_type": "code",
   "execution_count": 28,
   "id": "246b2d58",
   "metadata": {},
   "outputs": [
    {
     "data": {
      "text/plain": [
       "'Kelebihan kurung buka'"
      ]
     },
     "execution_count": 28,
     "metadata": {},
     "output_type": "execute_result"
    }
   ],
   "source": [
    "checkParentheses('5 x(( (4 + 5) / (3 + 2) x (10 - 8))')"
   ]
  },
  {
   "cell_type": "code",
   "execution_count": 30,
   "id": "bf1618fd",
   "metadata": {},
   "outputs": [
    {
     "data": {
      "text/plain": [
       "True"
      ]
     },
     "execution_count": 30,
     "metadata": {},
     "output_type": "execute_result"
    }
   ],
   "source": [
    "a='5 x (4 + 5) / (3 + 2) x (10 - 8))'\n",
    "'/ (' in a"
   ]
  },
  {
   "cell_type": "code",
   "execution_count": 42,
   "id": "f31305e1",
   "metadata": {},
   "outputs": [
    {
     "data": {
      "text/plain": [
       "True"
      ]
     },
     "execution_count": 42,
     "metadata": {},
     "output_type": "execute_result"
    }
   ],
   "source": [
    "n='5 6 400'\n",
    "'400' in n"
   ]
  },
  {
   "cell_type": "code",
   "execution_count": 2,
   "id": "51f9d061",
   "metadata": {},
   "outputs": [],
   "source": [
    "def stack():\n",
    "    s=[]\n",
    "    return (s)\n",
    "def push(s,data):\n",
    "    s.append(data)\n",
    "def pop(s):\n",
    "    data=s.pop()\n",
    "    return(data)\n",
    "def peek(s):\n",
    "    return(s[len(s)-1])\n",
    "def isEmpty(s):\n",
    "    return (s==[])\n",
    "def size(s):\n",
    "    return(len(s))"
   ]
  },
  {
   "cell_type": "code",
   "execution_count": 6,
   "id": "69734b38",
   "metadata": {},
   "outputs": [
    {
     "data": {
      "text/plain": [
       "4"
      ]
     },
     "execution_count": 6,
     "metadata": {},
     "output_type": "execute_result"
    }
   ],
   "source": [
    "b=[2,3,4]\n",
    "peek(b)"
   ]
  },
  {
   "cell_type": "code",
   "execution_count": 7,
   "id": "79422026",
   "metadata": {},
   "outputs": [],
   "source": [
    "def parenthesesCheck(strMath):\n",
    "    kurung={')':'(','}':'{',']':'['}\n",
    "    kurungBuka=kurung.values()\n",
    "    kurungTutup=kurung.keys()\n",
    "    temp=stack()\n",
    "    matched=True\n",
    "    for ch in strMath:\n",
    "        if ch in kurungBuka: # if ch in kurung.values()\n",
    "            push(temp,ch)\n",
    "        if ch in kurungTutup: #if ch in kurung.keys()\n",
    "            if isEmpty(temp):\n",
    "                return 'Kelebihan kurung Tutup'\n",
    "            else:\n",
    "                tempKurung=pop(temp)\n",
    "                if tempKurung==kurung[ch]:\n",
    "                    matched=matched and True\n",
    "                else:\n",
    "                    matched=matched and False\n",
    "    if not(isEmpty(temp)):\n",
    "        return 'Kelebihan Kurung Buka'\n",
    "    if matched==True:\n",
    "        return 'OK'\n",
    "    else:\n",
    "        return 'Tidak Cocok kurungnya'"
   ]
  },
  {
   "cell_type": "code",
   "execution_count": 10,
   "id": "7365c9ee",
   "metadata": {},
   "outputs": [
    {
     "data": {
      "text/plain": [
       "'kurung tidak cocok'"
      ]
     },
     "execution_count": 10,
     "metadata": {},
     "output_type": "execute_result"
    }
   ],
   "source": [
    "def nganu(strmath):\n",
    "    kurung={')':'(','}':'{',']':'['}\n",
    "    kurungBuka=kurung.values()\n",
    "    kurungTutup=kurung.keys()\n",
    "    temp=stack()\n",
    "    cocok=True\n",
    "    for i in strmath:\n",
    "        if i in kurungBuka:\n",
    "            push(temp,i)\n",
    "        if i in kurungTutup:\n",
    "            if isEmpty(temp):\n",
    "                return 'kelebihan kurung tutup'\n",
    "            else:\n",
    "                tempkurung=pop(temp)\n",
    "                if tempkurung==kurung[i]:\n",
    "                    cocok=cocok and True\n",
    "                else:\n",
    "                    cocok=cocok and False\n",
    "    if not (isEmpty(temp)):\n",
    "        return 'krlrbihan kurung buka'\n",
    "    if cocok==True:\n",
    "        return 'Benar'\n",
    "    else:\n",
    "        return 'kurung tidak cocok'\n",
    "\n",
    "nganu('(2+3)=8(()}0')"
   ]
  },
  {
   "cell_type": "code",
   "execution_count": 10,
   "id": "908f5f90",
   "metadata": {},
   "outputs": [
    {
     "name": "stdout",
     "output_type": "stream",
     "text": [
      "OK\n"
     ]
    }
   ],
   "source": [
    "print(parenthesesCheck('(2+3)=8(())0'))"
   ]
  },
  {
   "cell_type": "code",
   "execution_count": 11,
   "id": "68ff6ee7",
   "metadata": {},
   "outputs": [
    {
     "name": "stdout",
     "output_type": "stream",
     "text": [
      ")\n",
      "}\n",
      "]\n",
      "dict_values(['(', '{', '['])\n"
     ]
    },
    {
     "data": {
      "text/plain": [
       "'('"
      ]
     },
     "execution_count": 11,
     "metadata": {},
     "output_type": "execute_result"
    }
   ],
   "source": [
    "kurung={')':'(','}':'{',']':'['}\n",
    "for i in kurung:\n",
    "    print(i)\n",
    "print(kurung.values())\n",
    "kurung[')']"
   ]
  },
  {
   "cell_type": "code",
   "execution_count": 21,
   "id": "7637c97d",
   "metadata": {},
   "outputs": [
    {
     "name": "stdout",
     "output_type": "stream",
     "text": [
      "OK\n"
     ]
    }
   ],
   "source": [
    "def chekringkas(strMath):\n",
    "    kurung = {')': '(', '}': '{', ']': '['}\n",
    "    stack = []\n",
    "    for ch in strMath:\n",
    "        if ch in kurung.values():\n",
    "            stack.append(ch)\n",
    "        elif ch in kurung.keys():\n",
    "            if not stack or stack.pop() != kurung[ch]:\n",
    "                return 'Tidak Cocok kurungnya'\n",
    "    if stack:\n",
    "        return 'Kelebihan Kurung Buka'\n",
    "    return 'OK'\n",
    "print(chekringkas('(2+3)=8{()}0'))"
   ]
  },
  {
   "cell_type": "code",
   "execution_count": null,
   "id": "7a93ccd6",
   "metadata": {},
   "outputs": [],
   "source": []
  },
  {
   "cell_type": "code",
   "execution_count": 56,
   "id": "c9215d8f",
   "metadata": {
    "scrolled": false
   },
   "outputs": [
    {
     "name": "stdout",
     "output_type": "stream",
     "text": [
      "OK\n"
     ]
    }
   ],
   "source": [
    "print(parenthesesCheck('(2+3)=8(())0'))"
   ]
  },
  {
   "cell_type": "code",
   "execution_count": 14,
   "id": "68e76af7",
   "metadata": {},
   "outputs": [
    {
     "name": "stdout",
     "output_type": "stream",
     "text": [
      "dict_values(['(', '{', '['])\n",
      "dict_keys([')', '}', ']'])\n"
     ]
    }
   ],
   "source": [
    "kurung={')':'(','}':'{',']':'['}\n",
    "kurungBuka=kurung.values()\n",
    "kurungTutup=kurung.keys()\n",
    "print(kurungBuka)\n",
    "print(kurungTutup)"
   ]
  },
  {
   "cell_type": "code",
   "execution_count": 2,
   "id": "765c9ba6",
   "metadata": {},
   "outputs": [
    {
     "name": "stdout",
     "output_type": "stream",
     "text": [
      "100\n"
     ]
    }
   ],
   "source": [
    "def convertBinary(num):\n",
    "    temp=stack()\n",
    "    divNum=num\n",
    "    while divNum>0:\n",
    "        push(temp,divNum%2)\n",
    "        divNum=divNum//2\n",
    "    tempStr=''\n",
    "    for i in range(size(temp)):\n",
    "        tempStr=tempStr+str(pop(temp))\n",
    "    return tempStr\n",
    "print(convertBinary(4))"
   ]
  },
  {
   "cell_type": "code",
   "execution_count": 3,
   "id": "1987525f",
   "metadata": {},
   "outputs": [
    {
     "name": "stdout",
     "output_type": "stream",
     "text": [
      "100\n"
     ]
    }
   ],
   "source": [
    "def konversiBiner(soal):\n",
    "    hasilbagi=soal\n",
    "    stak=stack()\n",
    "    while hasilbagi !=0:\n",
    "        mod=hasilbagi%2\n",
    "        push(stak,mod)\n",
    "        hasilbagi=hasilbagi//2\n",
    "    temp=''\n",
    "    for i in range(size(stak)):\n",
    "        temp=temp+str(pop(stak))\n",
    "    return temp\n",
    "print(konversiBiner(4))"
   ]
  },
  {
   "cell_type": "code",
   "execution_count": 6,
   "id": "a4c1ed73",
   "metadata": {},
   "outputs": [
    {
     "name": "stdout",
     "output_type": "stream",
     "text": [
      "1000\n"
     ]
    }
   ],
   "source": [
    "def konvert(soal):\n",
    "    hBagi=soal\n",
    "    stek=stack()\n",
    "    while hBagi !=0:\n",
    "        mod=hBagi%2\n",
    "        push(stek,mod)\n",
    "        hBagi=hBagi//2\n",
    "    temp=''\n",
    "    for i in range(size(stek)):\n",
    "        temp=temp+str(pop(stek))\n",
    "    return temp\n",
    "print(konvert(8))"
   ]
  },
  {
   "cell_type": "code",
   "execution_count": 2,
   "id": "5134217c",
   "metadata": {},
   "outputs": [],
   "source": [
    "def stack():\n",
    "    s=[]\n",
    "    return (s)\n",
    "def push(s,data):\n",
    "    s.append(data)\n",
    "def pop(s):\n",
    "    data=s.pop()\n",
    "    return(data)\n",
    "def peek(s):\n",
    "    return(s[len(s)-1])\n",
    "def isEmpty(s):\n",
    "    return (s==[])\n",
    "def size(s):\n",
    "    return(len(s))"
   ]
  },
  {
   "cell_type": "code",
   "execution_count": 26,
   "id": "1ad0d098",
   "metadata": {},
   "outputs": [
    {
     "data": {
      "text/plain": [
       "'Kelebihan kurung Tutup'"
      ]
     },
     "execution_count": 26,
     "metadata": {},
     "output_type": "execute_result"
    }
   ],
   "source": [
    "parenthesesCheck('{5+2}*3)')"
   ]
  },
  {
   "cell_type": "code",
   "execution_count": 14,
   "id": "13228170",
   "metadata": {},
   "outputs": [],
   "source": [
    "def paranthesesCheck(strMath):\n",
    "    operandStack=stack()\n",
    "    lenMath=len(strMath)\n",
    "    openOperand='({['\n",
    "    closeOperand=')}]'\n",
    "    #print(lenMath)\n",
    "    i=0\n",
    "    Matched=True;\n",
    "    while i<(lenMath):\n",
    "        #print(i,'=',strMath[i])\n",
    "        if strMath[i] in openOperand:\n",
    "            push(operandStack,strMath[i])\n",
    "            #print(operandStack)\n",
    "        elif strMath[i] in closeOperand:\n",
    "            if not (isEmpty(operandStack)):\n",
    "                top=pop(operandStack)\n",
    "                #print(\"top=\",top)\n",
    "                #print (operandStack)\n",
    "                if openOperand.index(top)==closeOperand.index(strMath[i]):\n",
    "                    Matched=Matched and True\n",
    "                else:\n",
    "                    Matched=Matched and False\n",
    "                    print ('Kurung Buka dan Kurang Tutup tidak Cocok')\n",
    "            else:\n",
    "                Matched=Matched and False\n",
    "                print('Jumlah Kurung Tutup lebih banyak')\n",
    "        i=i+1\n",
    "        #print(Matched)\n",
    "    if not(isEmpty(operandStack)):\n",
    "        Matched=False\n",
    "        print('Jumlah Kurung Buka Lebih banyak')\n",
    "    return(Matched)"
   ]
  },
  {
   "cell_type": "code",
   "execution_count": null,
   "id": "92f76ba7",
   "metadata": {},
   "outputs": [],
   "source": []
  },
  {
   "cell_type": "code",
   "execution_count": null,
   "id": "195942c7",
   "metadata": {},
   "outputs": [],
   "source": [
    "def lebihBahagia(soal):\n",
    "    data=stack()\n",
    "    kurungBuka='({['\n",
    "    kurungTutup=']})'\n",
    "    cocok=True\n",
    "    for i in soal:\n",
    "        if i in kurungBuka:\n",
    "            push(data,i)\n",
    "        elif i in kurungTutup:\n",
    "            if not isEmpty(data):\n",
    "                top=pop(data)\n",
    "            else:\n",
    "                if kurungBuka.index(top)==KurungTutup.index(top)"
   ]
  },
  {
   "cell_type": "code",
   "execution_count": 10,
   "id": "a6e9b795",
   "metadata": {},
   "outputs": [
    {
     "name": "stdout",
     "output_type": "stream",
     "text": [
      "((((3+5)))\n"
     ]
    }
   ],
   "source": [
    "ekpresiMatematika='((((3+5)))'\n",
    "print(ekpresiMatematika)"
   ]
  },
  {
   "cell_type": "code",
   "execution_count": 12,
   "id": "e3043ee1",
   "metadata": {},
   "outputs": [],
   "source": [
    "a='5 x (4 + 5) / ((3 + 2) x (10 - 8)'"
   ]
  },
  {
   "cell_type": "code",
   "execution_count": 13,
   "id": "7a164153",
   "metadata": {},
   "outputs": [
    {
     "name": "stdout",
     "output_type": "stream",
     "text": [
      "Jumlah Kurung Buka Lebih banyak\n",
      "False\n"
     ]
    }
   ],
   "source": [
    "isMatched=paranthesesCheck(a)\n",
    "print(isMatched)"
   ]
  },
  {
   "cell_type": "code",
   "execution_count": 15,
   "id": "d778409c",
   "metadata": {},
   "outputs": [
    {
     "data": {
      "text/plain": [
       "True"
      ]
     },
     "execution_count": 15,
     "metadata": {},
     "output_type": "execute_result"
    }
   ],
   "source": [
    "paranthesesCheck('5 x (4 + 5) / ((3 + 2) x (10 - 8))')"
   ]
  },
  {
   "cell_type": "code",
   "execution_count": 32,
   "id": "0e018d48",
   "metadata": {
    "scrolled": false
   },
   "outputs": [
    {
     "name": "stdout",
     "output_type": "stream",
     "text": [
      "Kurung Buka dan Kurang Tutup tidak Cocok\n"
     ]
    },
    {
     "data": {
      "text/plain": [
       "False"
      ]
     },
     "execution_count": 32,
     "metadata": {},
     "output_type": "execute_result"
    }
   ],
   "source": [
    "paranthesesCheck('5 x (4 + 5} / ((3 + 2) x (10 - 8))')"
   ]
  },
  {
   "cell_type": "code",
   "execution_count": 14,
   "id": "77eebfe6",
   "metadata": {},
   "outputs": [
    {
     "name": "stdout",
     "output_type": "stream",
     "text": [
      "0 : (\n",
      "0 ['('] False\n",
      "1 : (\n",
      "1 ['(', '('] False\n",
      "2 : (\n",
      "2 ['(', '(', '('] False\n",
      "3 : (\n",
      "3 ['(', '(', '(', '('] False\n",
      "4 : 3\n",
      "4 ['(', '(', '(', '('] False\n",
      "5 : +\n",
      "5 ['(', '(', '(', '('] False\n",
      "6 : 3\n",
      "6 ['(', '(', '(', '('] False\n",
      "7 : )\n",
      "pop\n",
      "7 ['(', '(', '('] False\n",
      "8 : )\n",
      "pop\n",
      "8 ['(', '('] False\n",
      "9 : )\n",
      "pop\n",
      "9 ['('] True\n",
      "kelebihan Kurung Buka\n"
     ]
    }
   ],
   "source": [
    "#pertemuan senin 27 februari\n",
    "ekspressiMatematika='((((3+3)))'\n",
    "kurungBuka=\"(\"\n",
    "kurungTutup=\")\"\n",
    "mathStack=stack()\n",
    "stop=False\n",
    "i=0\n",
    "while not(stop):\n",
    "    print(i,\":\",ekspressiMatematika[i])\n",
    "    if ekspressiMatematika[i]==kurungBuka:\n",
    "        push(mathStack,ekspressiMatematika[i])\n",
    "    elif (ekspressiMatematika[i]==kurungTutup)and not(isEmpty(mathStack)):\n",
    "        print('pop')\n",
    "        pop(mathStack)\n",
    "    elif (ekspressiMatematika[i]==kurungTutup) and isEmpty(mathStack):\n",
    "        print('kelebihan kurung tutup')\n",
    "        stop=True\n",
    "    if i==len(ekspressiMatematika)-1:\n",
    "        stop=True\n",
    "    print(i,mathStack,stop)\n",
    "    i+=1\n",
    "if isEmpty(mathStack)and i==len(ekspressiMatematika)-1:\n",
    "    print('Ekspressi Benar')\n",
    "elif not(isEmpty(mathStack)):\n",
    "    print('kelebihan Kurung Buka')"
   ]
  },
  {
   "cell_type": "code",
   "execution_count": 5,
   "id": "57649791",
   "metadata": {},
   "outputs": [
    {
     "name": "stdout",
     "output_type": "stream",
     "text": [
      "( --> []\n",
      "2 --> []\n",
      "+ --> []\n",
      "4 --> []\n",
      "kelebihan kurung tutup\n",
      ") --> []\n",
      "* --> []\n",
      "6 --> []\n",
      "stack terakhir =  []\n",
      "True\n"
     ]
    }
   ],
   "source": [
    "\n",
    "ekspr='(2+4))*6'\n",
    "kurungStack=stack()\n",
    "for i in range(len(ekspr)):\n",
    "    if ekspr=='(':\n",
    "        push(kurungStack,ekspr[i])\n",
    "    elif ekspr[i]==')':\n",
    "        if isEmpty(kurungStack):\n",
    "            print('kelebihan kurung tutup')\n",
    "        else:\n",
    "            pop(kurungStack)\n",
    "    print(ekspr[i],'-->',kurungStack)\n",
    "print('stack terakhir = ',kurungStack)\n",
    "if not(isEmpty(kurungStack)):\n",
    "    print('kelebian kurung buka')\n",
    "else:\n",
    "    print('True')"
   ]
  },
  {
   "cell_type": "code",
   "execution_count": 11,
   "id": "49b1696b",
   "metadata": {},
   "outputs": [
    {
     "name": "stdout",
     "output_type": "stream",
     "text": [
      "( --> ['(']\n",
      "( --> ['(', '(']\n",
      "2 --> ['(', '(']\n",
      "+ --> ['(', '(']\n",
      "4 --> ['(', '(']\n",
      ") --> ['(']\n",
      "* --> ['(']\n",
      "6 --> ['(']\n",
      "stack terakhir =  ['(']\n",
      "kelebian kurung buka\n"
     ]
    }
   ],
   "source": [
    "#pertemuan 3 februari\n",
    "ekspr='((2+4)*6'\n",
    "kurungStack=stack()\n",
    "errMsg=\"\"\n",
    "flag=True\n",
    "for i in range(len(ekspr)):\n",
    "    if ekspr[i]=='(':\n",
    "        push(kurungStack,ekspr[i])\n",
    "    elif ekspr[i]==')':\n",
    "        if isEmpty(kurungStack):\n",
    "             flag=False\n",
    "             errMsg='kelebihan kurung tutup'\n",
    "        else:\n",
    "            pop(kurungStack)\n",
    "    print(ekspr[i],'-->',kurungStack)\n",
    "             \n",
    "print('stack terakhir = ',kurungStack)\n",
    "             \n",
    "if not(isEmpty(kurungStack)):\n",
    "    errMsg='kelebian kurung buka'\n",
    "elif isEmpty(kurungStack)and flag:\n",
    "    errMsg='True' \n",
    "\n",
    "print(errMsg)"
   ]
  },
  {
   "cell_type": "code",
   "execution_count": null,
   "id": "f4550507",
   "metadata": {},
   "outputs": [],
   "source": [
    "# ekspressi matematika INFIX,POSTFIX,PREFIX\n",
    "# infix:operand,operator,operand -->A+B+C\n",
    "# postfix=operand,operand,opertaor -->AB+C-\n",
    "# prefix=operator,operand,operand -->-+ABC\n",
    "\n",
    "# contoh lain:\n",
    "# (A+B)*(C-D)\n",
    "\n",
    "# POSTFIX=\n",
    "def operasiPost(str):\n",
    "    operand_Stack=stack()\n",
    "    operator='+-/*'\n",
    "    for i in str:\n",
    "        if i not in operator:\n",
    "            push(operand_Stack,i)\n",
    "        else:\n",
    "            oprnd2=pop(operand_Stack)\n",
    "            oprnd1=pop(operand_Stack)\n",
    "            if i=='+':\n",
    "                hasil=int(oprnd1)+int(oprnd2)\n",
    "            elif i=='-':\n",
    "                hasil=int(oprnd1)-int(oprnd2)\n",
    "            elif i=='*':\n",
    "                hasil=int(oprnd1)*int(oprnd2)\n",
    "            else:\n",
    "                hasil=int(oprnd1)/int(oprnd2)\n",
    "            push(operand_Stack,hasil)\n",
    "    return(pop(operand_Stack))\n",
    "print(operasiPost('43+52-*'))AB+CD-*\n",
    "PREFIX=*+AB-CD\n",
    "\n"
   ]
  },
  {
   "cell_type": "code",
   "execution_count": 3,
   "id": "9d6d7e8e",
   "metadata": {},
   "outputs": [
    {
     "name": "stdout",
     "output_type": "stream",
     "text": [
      "21\n"
     ]
    }
   ],
   "source": [
    "def operasiPost(str):\n",
    "    operand_Stack=stack()\n",
    "    operator='+-/*'\n",
    "    for i in str:\n",
    "        if i not in operator:\n",
    "            push(operand_Stack,i)\n",
    "        else:\n",
    "            oprnd2=pop(operand_Stack)\n",
    "            oprnd1=pop(operand_Stack)\n",
    "            if i=='+':\n",
    "                hasil=int(oprnd1)+int(oprnd2)\n",
    "            elif i=='-':\n",
    "                hasil=int(oprnd1)-int(oprnd2)\n",
    "            elif i=='*':\n",
    "                hasil=int(oprnd1)*int(oprnd2)\n",
    "            else:\n",
    "                hasil=int(oprnd1)/int(oprnd2)\n",
    "            push(operand_Stack,hasil)\n",
    "    return(pop(operand_Stack))\n",
    "print(operasiPost('43+52-*'))"
   ]
  },
  {
   "cell_type": "markdown",
   "id": "3c7e54e2",
   "metadata": {},
   "source": [
    "PR\n",
    "43 + 52 4 "
   ]
  },
  {
   "cell_type": "code",
   "execution_count": 36,
   "id": "10768604",
   "metadata": {},
   "outputs": [],
   "source": [
    "def evaluatePost(postStr):\n",
    "    operandStack=stack()\n",
    "    operator='+-/*'\n",
    "    for i in postStr:\n",
    "        if i not in operator:\n",
    "            push(operandStack,i)\n",
    "        else:\n",
    "            oprnd2=pop(operandStack)\n",
    "            oprnd1=pop(operandStack)\n",
    "            if i=='+':\n",
    "                result=float(oprnd1)+float(oprnd2)\n",
    "            elif i=='-':\n",
    "                result=float(oprnd1)-float(oprnd2)\n",
    "            elif i=='*':\n",
    "                result=float(oprnd1)*float(oprnd2)\n",
    "            else:\n",
    "                result=float(oprnd1)/float(oprnd2)\n",
    "            push(operandStack,result)\n",
    "    return(pop(operandStack))"
   ]
  },
  {
   "cell_type": "code",
   "execution_count": 56,
   "id": "4d1f73d3",
   "metadata": {},
   "outputs": [
    {
     "name": "stdout",
     "output_type": "stream",
     "text": [
      "0.0\n"
     ]
    }
   ],
   "source": [
    "print(evaluatePost('45-10*'))"
   ]
  },
  {
   "cell_type": "code",
   "execution_count": 57,
   "id": "21ac048d",
   "metadata": {},
   "outputs": [
    {
     "name": "stdout",
     "output_type": "stream",
     "text": [
      "40.0\n"
     ]
    }
   ],
   "source": [
    "print(evaluatePost('67*2-'))"
   ]
  },
  {
   "cell_type": "code",
   "execution_count": 10,
   "id": "2cdfd4c8",
   "metadata": {},
   "outputs": [
    {
     "name": "stdout",
     "output_type": "stream",
     "text": [
      "total baris ke- 0 = 9\n",
      "total baris ke- 1 = 9\n",
      "total baris ke- 2 = 8\n",
      "total :  26\n"
     ]
    }
   ],
   "source": [
    "x=[[2,7],[5,4],[0,8]]\n",
    "temp=0\n",
    "for i in range(len(x)):\n",
    "    tempBar=0\n",
    "    for j in range(len(x[0])):\n",
    "        tempBar+=x[i][j]\n",
    "    print('total baris ke-',i,'=',tempBar)\n",
    "    temp+=tempBar\n",
    "print('total : ',temp)"
   ]
  },
  {
   "cell_type": "code",
   "execution_count": 3,
   "id": "5d0062ce",
   "metadata": {},
   "outputs": [
    {
     "name": "stdout",
     "output_type": "stream",
     "text": [
      ".\n",
      ".\n"
     ]
    }
   ],
   "source": [
    "#insert dan remove\n",
    "a='.\\n.'\n",
    "print(a)"
   ]
  }
 ],
 "metadata": {
  "kernelspec": {
   "display_name": "Python 3 (ipykernel)",
   "language": "python",
   "name": "python3"
  },
  "language_info": {
   "codemirror_mode": {
    "name": "ipython",
    "version": 3
   },
   "file_extension": ".py",
   "mimetype": "text/x-python",
   "name": "python",
   "nbconvert_exporter": "python",
   "pygments_lexer": "ipython3",
   "version": "3.9.12"
  }
 },
 "nbformat": 4,
 "nbformat_minor": 5
}
